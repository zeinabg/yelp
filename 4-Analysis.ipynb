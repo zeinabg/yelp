{
 "cells": [
  {
   "cell_type": "markdown",
   "id": "6be6b045",
   "metadata": {},
   "source": [
    "# Unlocking Business Potential: Leveraging Bias-Aware Hierarchical Clustering for Actionable Insights from Yelp Data\n",
    "\n",
    "### Zeinab Gaeini, Debbie Hernandez, Harper Strickland\n",
    "\n",
    "## Part 4 - Analysis"
   ]
  },
  {
   "cell_type": "markdown",
   "id": "a9c90eb0",
   "metadata": {},
   "source": [
    "### In-depth investigation of Selected Clusters, Leading to Specific Recommendations for Businesses"
   ]
  },
  {
   "cell_type": "markdown",
   "id": "5541074c",
   "metadata": {},
   "source": [
    "In this file, we will analyze the results of the clustering from the previous step. We will use the Top_Clusters.csv file, normalized business data (restaurants), normalized features (attributes of restaurants), and Reviews datasets. The goal is to conduct an in-depth analysis to provide specific recommendations for business owners."
   ]
  },
  {
   "cell_type": "code",
   "execution_count": 1,
   "id": "ebbe1638",
   "metadata": {
    "tags": []
   },
   "outputs": [],
   "source": [
    "import pyspark\n",
    "from pyspark.sql import SparkSession\n",
    "from pyspark.sql.functions import round as pyspark_round\n",
    "from pyspark.sql.functions import lower, split, explode, col, regexp_replace, trim\n",
    "from pyspark.sql.types import FloatType, StringType, StructType, StructField\n",
    "import matplotlib.pyplot as plt \n"
   ]
  },
  {
   "cell_type": "code",
   "execution_count": 2,
   "id": "f0ece898",
   "metadata": {
    "tags": []
   },
   "outputs": [],
   "source": [
    "# Suppress native-hadoop warning\n",
    "!sed -i '$a\\# Add the line for suppressing the NativeCodeLoader warning \\nlog4j.logger.org.apache.hadoop.util.NativeCodeLoader=ERROR,console' /$HADOOP_HOME/etc/hadoop/log4j.properties"
   ]
  },
  {
   "cell_type": "code",
   "execution_count": 3,
   "id": "83d3b6a1",
   "metadata": {},
   "outputs": [],
   "source": [
    "# make a directory on hdfs (repeated in case this notebook is used alone)\n",
    "! hdfs dfs -mkdir /Project/"
   ]
  },
  {
   "cell_type": "code",
   "execution_count": 4,
   "id": "c8369dbd",
   "metadata": {
    "tags": []
   },
   "outputs": [],
   "source": [
    "# copy files to hdfs (include repeats in case notebook used alone)\n",
    "! hdfs dfs -copyFromLocal yelp_academic_dataset_business.json /Project\n",
    "! hdfs dfs -copyFromLocal yelp_academic_dataset_review.json /Project\n",
    "! hdfs dfs -copyFromLocal Features.csv /Project\n",
    "! hdfs dfs -copyFromLocal Data.csv /Project\n",
    "! hdfs dfs -copyFromLocal Top_Clusters.csv /Project"
   ]
  },
  {
   "cell_type": "code",
   "execution_count": null,
   "id": "f4c7bf23",
   "metadata": {
    "tags": []
   },
   "outputs": [],
   "source": [
    "! hdfs dfs -ls /Project"
   ]
  },
  {
   "cell_type": "code",
   "execution_count": 4,
   "id": "8195e86c",
   "metadata": {
    "cell_id": "457245a7-a02e-462d-a565-7f90ba2a2c51",
    "id": "eIfVaCCqInfv",
    "outputId": "a57889ab-cd7f-4b3e-c505-1eb2e36a979d",
    "tags": []
   },
   "outputs": [
    {
     "data": {
      "text/plain": [
       "'3.5.0'"
      ]
     },
     "execution_count": 4,
     "metadata": {},
     "output_type": "execute_result"
    }
   ],
   "source": [
    "# Start Spark Session\n",
    "conf = pyspark.SparkConf().setAll([\n",
    "        ('spark.master',   'local[*]'),\n",
    "        ('spark.app.name', 'Analysis')])\n",
    "\n",
    "spark = SparkSession.builder.config(conf=conf).getOrCreate()\n",
    "spark.version"
   ]
  },
  {
   "cell_type": "markdown",
   "id": "0a5dd574",
   "metadata": {},
   "source": [
    "## 4.1. Inputs"
   ]
  },
  {
   "cell_type": "markdown",
   "id": "8897c3b1",
   "metadata": {},
   "source": [
    "#### 4.1.1. Import Data Files"
   ]
  },
  {
   "cell_type": "code",
   "execution_count": 5,
   "id": "c0279722",
   "metadata": {},
   "outputs": [
    {
     "name": "stderr",
     "output_type": "stream",
     "text": [
      "                                                                                \r"
     ]
    }
   ],
   "source": [
    "# Read data of Top Clusters (output of the clustering phase)\n",
    "clusters = spark.read.csv('hdfs:///Project/Top_Clusters.csv', header = True)\n"
   ]
  },
  {
   "cell_type": "code",
   "execution_count": 6,
   "id": "ba452cb0",
   "metadata": {},
   "outputs": [
    {
     "name": "stdout",
     "output_type": "stream",
     "text": [
      "+------------+-------+-------+--------------------+\n",
      "|Cluster_Name|K_Value|Cluster|         Business_ID|\n",
      "+------------+-------+-------+--------------------+\n",
      "|     Worst_1|   1000|    558|q8b9QZuB-s6mwr4E5...|\n",
      "|     Worst_1|   1000|    558|6kx5nIZh9bQ_02_GO...|\n",
      "|     Worst_1|   1000|    558|b0hSNSvD2evs_DEl8...|\n",
      "|     Worst_1|   1000|    558|W55GtTcl8tv564IZ1...|\n",
      "|     Worst_1|   1000|    558|XGy_KnoOX9Wkyjx8u...|\n",
      "+------------+-------+-------+--------------------+\n",
      "only showing top 5 rows\n",
      "\n"
     ]
    }
   ],
   "source": [
    "clusters.filter((clusters['Cluster_Name'] == 'Worst_1')).show(5)"
   ]
  },
  {
   "cell_type": "code",
   "execution_count": 7,
   "id": "3bb78b22",
   "metadata": {},
   "outputs": [
    {
     "name": "stderr",
     "output_type": "stream",
     "text": [
      "                                                                                \r"
     ]
    }
   ],
   "source": [
    "# Read the business data (the selected subset of businesses)\n",
    "businessDF = spark.read.csv('hdfs:///Project/Data.csv', header = True)\n",
    "# Read the review data\n",
    "reviewDF = spark.read.json('hdfs:///Project/yelp_academic_dataset_review.json')\n",
    "# Read the normalized business \n",
    "norm_business = spark.read.csv('hdfs:///Project/Features.csv', header = True)\n"
   ]
  },
  {
   "cell_type": "markdown",
   "id": "e9e4a003",
   "metadata": {},
   "source": [
    "#### 4.1.2. Merge DataFrames"
   ]
  },
  {
   "cell_type": "code",
   "execution_count": 8,
   "id": "64460060",
   "metadata": {},
   "outputs": [],
   "source": [
    "# Join with Business data frame\n",
    "cluster_business = clusters.join(businessDF, on = 'business_id', how = 'left')\n",
    "    \n",
    "# Join with Review data frame\n",
    "cluster_review = clusters.join(reviewDF, on = 'business_id', how = 'left')\n",
    "    \n",
    "# Join with normalized business data frame\n",
    "cluster_norm = clusters.join(norm_business, on = 'business_id', how = 'left')\n"
   ]
  },
  {
   "cell_type": "code",
   "execution_count": 9,
   "id": "5ebe5b30",
   "metadata": {},
   "outputs": [],
   "source": [
    "# Compute the number of unique clusters\n",
    "len_cluster = cluster_norm.select('Cluster').distinct().count()  \n",
    "    \n",
    "# Make a list of clusters \n",
    "cluster_list = [cluster_norm.select('Cluster_Name').distinct().collect()[i][0] for i in range(len_cluster)]\n",
    "cluster_list.sort()\n"
   ]
  },
  {
   "cell_type": "code",
   "execution_count": 10,
   "id": "cd43936f",
   "metadata": {},
   "outputs": [
    {
     "data": {
      "text/plain": [
       "['Best_1',\n",
       " 'Best_2',\n",
       " 'Best_3',\n",
       " 'Best_4',\n",
       " 'Worst_1',\n",
       " 'Worst_2',\n",
       " 'Worst_3',\n",
       " 'Worst_4']"
      ]
     },
     "execution_count": 10,
     "metadata": {},
     "output_type": "execute_result"
    }
   ],
   "source": [
    "cluster_list"
   ]
  },
  {
   "cell_type": "markdown",
   "id": "648aa6d9",
   "metadata": {},
   "source": [
    "## 4.2. Overview - All 'Best' and 'Worst' Clusters"
   ]
  },
  {
   "cell_type": "markdown",
   "id": "d40d8b5e",
   "metadata": {},
   "source": [
    "#### 4.1.1. Define Functions to Compare Clusters"
   ]
  },
  {
   "cell_type": "code",
   "execution_count": 11,
   "id": "2fb2d02f",
   "metadata": {},
   "outputs": [],
   "source": [
    "# Define a function to compare the characteristics of selected clusters and the main dataframe with all the data\n",
    "\n",
    "def compare(first_df, column, second_df):\n",
    "    first_df.cache()\n",
    "    first_df = first_df.withColumn(column, first_df[column].cast(FloatType()))  # Make sure about type to be float\n",
    "    second_df = second_df.withColumn(column, second_df[column].cast(FloatType()))\n",
    "    \n",
    "    # Compute the number of unique clusters\n",
    "    len_cluster = first_df.select('Cluster_Name').distinct().count()  \n",
    "    \n",
    "    # Make a list of clusters \n",
    "    cluster_list = [first_df.select('Cluster_Name').distinct().collect()[i][0] for i in range(len_cluster)]\n",
    " \n",
    "    data = []\n",
    "    for i in range(len_cluster):\n",
    "        cluster_stats = (\n",
    "            f'{cluster_list[i]}',\n",
    "            first_df.groupBy('Cluster_Name').agg({column: \"variance\"}).collect()[i][1],\n",
    "            first_df.groupBy('Cluster_Name').agg({column: \"min\"}).collect()[i][1],\n",
    "            first_df.groupBy('Cluster_Name').agg({column: \"max\"}).collect()[i][1],\n",
    "            first_df.groupBy('Cluster_Name').agg({column: \"mean\"}).collect()[i][1]\n",
    "        )\n",
    "        data.append(cluster_stats)\n",
    "\n",
    "    # Column names\n",
    "    columns_name = ['Source', 'Variance', 'Min', 'Max', 'Mean']\n",
    "\n",
    "    # DataFrame\n",
    "    new_df = spark.createDataFrame(data, columns_name)\n",
    "    \n",
    "    list_col = [ 'Variance', 'Min', 'Max', 'Mean']\n",
    "    for column in list_col:\n",
    "        new_df = new_df.withColumn(column, pyspark_round(col(column).cast(\"float\"),3))\n",
    "        \n",
    "    new_df = new_df.orderBy('Source')    \n",
    "    return new_df\n"
   ]
  },
  {
   "cell_type": "code",
   "execution_count": 12,
   "id": "3d613385",
   "metadata": {},
   "outputs": [],
   "source": [
    "def overview():\n",
    "    # Compare all clusters - stars\n",
    "    print('Clusters Overview: Stars')\n",
    "    compare(cluster_business, 'stars', norm_business).show()\n",
    "    \n",
    "    # Compare all clusters - review count\n",
    "    print('Clusters Overview: Review Count')\n",
    "    compare(cluster_business, 'review_count', businessDF).show()\n"
   ]
  },
  {
   "cell_type": "markdown",
   "id": "45182a22",
   "metadata": {},
   "source": [
    "#### 4.1.2. Compare Clusters"
   ]
  },
  {
   "cell_type": "code",
   "execution_count": 13,
   "id": "17db72db",
   "metadata": {},
   "outputs": [
    {
     "name": "stdout",
     "output_type": "stream",
     "text": [
      "Clusters Overview: Stars\n"
     ]
    },
    {
     "name": "stderr",
     "output_type": "stream",
     "text": [
      "                                                                                \r"
     ]
    },
    {
     "name": "stdout",
     "output_type": "stream",
     "text": [
      "+-------+--------+---+---+-----+\n",
      "| Source|Variance|Min|Max| Mean|\n",
      "+-------+--------+---+---+-----+\n",
      "| Best_1|   0.281|3.0|5.0|4.363|\n",
      "| Best_2|   0.312|3.0|5.0|4.323|\n",
      "| Best_3|    0.52|2.0|5.0|4.314|\n",
      "| Best_4|   0.345|2.5|5.0|4.295|\n",
      "|Worst_1|   0.279|1.0|3.5|1.877|\n",
      "|Worst_2|   0.463|1.0|4.0|1.982|\n",
      "|Worst_3|    0.38|1.0|3.5|1.991|\n",
      "|Worst_4|    0.44|1.0|3.5|  2.0|\n",
      "+-------+--------+---+---+-----+\n",
      "\n",
      "Clusters Overview: Review Count\n",
      "+-------+--------+---+-----+------+\n",
      "| Source|Variance|Min|  Max|  Mean|\n",
      "+-------+--------+---+-----+------+\n",
      "| Best_1|2816.372|5.0|240.0|62.294|\n",
      "| Best_2|2063.852|5.0|234.0|43.129|\n",
      "| Best_3| 990.667|5.0|171.0|25.333|\n",
      "| Best_4| 646.692|5.0|152.0|23.882|\n",
      "|Worst_1| 180.884|5.0| 74.0|21.614|\n",
      "|Worst_2| 211.143|7.0| 84.0|25.509|\n",
      "|Worst_3| 122.829|5.0| 51.0|19.547|\n",
      "|Worst_4| 181.474|7.0| 84.0|24.745|\n",
      "+-------+--------+---+-----+------+\n",
      "\n"
     ]
    }
   ],
   "source": [
    "# Take a look at the rating values and review counts for each cluster\n",
    "overview()\n"
   ]
  },
  {
   "cell_type": "markdown",
   "id": "9a252657",
   "metadata": {},
   "source": [
    "The results in these two tables, comparing **ratings** (number of stars) and **review counts** for businesses:\n",
    "\n",
    "- Stars:\n",
    "    - The top 4 clusters have better ratings, with an average of more than 4 stars in the Good clusters.\n",
    "    - Ratings in the Bad clusters are lower, with averages ranging between 1 and 3 stars.\n",
    "\n",
    "- Review Counts:\n",
    "    - The maximum number of reviews in the Good clusters is significantly higher than in the Bad clusters.\n",
    "    - In most cases, the average number of reviews in the Good clusters is higher than in the Bad clusters."
   ]
  },
  {
   "cell_type": "markdown",
   "id": "1fbcb402",
   "metadata": {},
   "source": [
    "## 4.3 Cluster-Level Analysis"
   ]
  },
  {
   "cell_type": "markdown",
   "id": "94dd3a13",
   "metadata": {},
   "source": [
    "#### 4.3.1. Define Functions to analyze a single cluster"
   ]
  },
  {
   "cell_type": "code",
   "execution_count": 14,
   "id": "55ef4dcb",
   "metadata": {},
   "outputs": [],
   "source": [
    "# Define a function to remove extra characters (from PA2 Starter)\n",
    "def removePunctuation(column):\n",
    "    \"\"\"Removes punctuation, changes to lower case, and strips leading and trailing spaces.\"\"\"\n",
    "    return trim(lower(regexp_replace(column, \"[^A-Za-z0-9 ]\", \"\"))).alias(\"sentence\")\n"
   ]
  },
  {
   "cell_type": "code",
   "execution_count": 15,
   "id": "cf6e5225",
   "metadata": {},
   "outputs": [],
   "source": [
    "def cl_word_count (name):\n",
    "    cluster_rev = cluster_review.filter(col('Cluster_Name') == name)\n",
    "    review_text = cluster_rev.select('text')\n",
    "    \n",
    "    #Remove punctuation\n",
    "    review_text = review_text.withColumn('sentence', removePunctuation(review_text.text))\n",
    "    \n",
    "    #Split-explode into words\n",
    "    wordDF = review_text.select(explode(split(review_text.sentence, ' ')).alias('word'))\n",
    "    \n",
    "    # Remove blank rows\n",
    "    wordDF = wordDF.filter(wordDF.word != '') \n",
    "    word_total = wordDF.count()\n",
    "    word_count = wordDF.count() / cluster_rev.count()\n",
    "    return word_count\n"
   ]
  },
  {
   "cell_type": "code",
   "execution_count": 16,
   "id": "5b09bef4",
   "metadata": {},
   "outputs": [],
   "source": [
    "# Combine into cluster_details function\n",
    "def cl_details (name):\n",
    "    print('Cluster_Name', name)\n",
    "    cluster_pandas = cluster_norm.filter(cluster_norm['Cluster_Name'] == name).select('stars').toPandas().sort_values(by = 'stars')\n",
    "\n",
    "    # Plot distribution of stars\n",
    "    plt.figure(figsize=(8, 6))\n",
    "    cluster_pandas['stars'].hist(bins=7, color='skyblue', edgecolor='black', alpha=0.7)\n",
    "    plt.title('Distribution of Number of Stars')\n",
    "    plt.xlabel('Stars')\n",
    "    plt.ylabel('Frequency')\n",
    "    plt.grid(False)\n",
    "    plt.show()\n",
    "    \n",
    "    # Show categories\n",
    "    cluster_bus = cluster_business.filter(col('Cluster_Name') == name)\n",
    "    cat_num = cluster_bus.select(split(cluster_bus[\"categories\"], ', ').alias('cat')) \\\n",
    "                        .select(explode('cat').alias('Category')) \\\n",
    "                        .groupBy('Category').count()\n",
    "    x = cluster_bus.count()\n",
    "    \n",
    "    # Calculate the percentage of each category\n",
    "    \n",
    "    cat_num = cat_num.withColumn('Percent', pyspark_round(cat_num['count'] / x * 100, 3))\n",
    "    \n",
    "    # Order by count in descending order and show the top 10 categories\n",
    "    cat_num_top = cat_num.orderBy('count', ascending=False).limit(10)\n",
    "    print(f\"Top Categories for Cluster {name}:\")\n",
    "    cat_num_top.show(truncate=False)\n",
    "    \n",
    "    # Show attributes statistics \n",
    "    one_cluster_norm = cluster_norm.filter(col('Cluster_Name') == name)\n",
    "    norm_cols = one_cluster_norm.columns[5:]\n",
    "    data = []\n",
    "    for i in range(len(norm_cols)):\n",
    "        att_stats = (\n",
    "            norm_cols[i],\n",
    "            one_cluster_norm.groupBy('Cluster').agg({norm_cols[i]: \"variance\"}).collect()[0][1],\n",
    "            one_cluster_norm.groupBy('Cluster').agg({norm_cols[i]: \"min\"}).collect()[0][1],\n",
    "            one_cluster_norm.groupBy('Cluster').agg({norm_cols[i]: \"max\"}).collect()[0][1],\n",
    "            one_cluster_norm.groupBy('Cluster').agg({norm_cols[i]: \"mean\"}).collect()[0][1]\n",
    "        )\n",
    "        data.append(att_stats)\n",
    "        \n",
    "        \n",
    "    columns_name = ['Feature', '  Variance ', '  Min  ', '  Max  ', '   Mean   ']\n",
    "    new_df = spark.createDataFrame(data, columns_name)\n",
    "    \n",
    "    \n",
    "    list_col = [ '  Variance ', '  Min  ', '  Max  ', '   Mean   ']\n",
    "    for column in list_col:\n",
    "        new_df = new_df.withColumn(column, pyspark_round(col(column).cast(\"float\"),3))\n",
    "    \n",
    "    new_df.orderBy('   Mean   ', ascending = False).show(new_df.count(), truncate=False)\n",
    "    \n",
    "    \n",
    "    # Average word count for reviews\n",
    "    wc = cl_word_count(name)\n",
    "    print('Average words per review:', wc)\n",
    "    "
   ]
  },
  {
   "cell_type": "markdown",
   "id": "6293bdcc",
   "metadata": {},
   "source": [
    "#### 4.3.2. Analyze individual clusters"
   ]
  },
  {
   "cell_type": "code",
   "execution_count": 17,
   "id": "d896963b",
   "metadata": {},
   "outputs": [
    {
     "name": "stdout",
     "output_type": "stream",
     "text": [
      "Cluster_Name Best_1\n"
     ]
    },
    {
     "data": {
      "image/png": "[encoded data removed]",
      "text/plain": [
       "<Figure size 800x600 with 1 Axes>"
      ]
     },
     "metadata": {},
     "output_type": "display_data"
    },
    {
     "name": "stdout",
     "output_type": "stream",
     "text": [
      "Top Categories for Cluster Best_1:\n",
      "+----------------------+-----+-------+\n",
      "|Category              |count|Percent|\n",
      "+----------------------+-----+-------+\n",
      "|Restaurants           |51   |100.0  |\n",
      "|Food                  |45   |88.235 |\n",
      "|Coffee & Tea          |35   |68.627 |\n",
      "|Cafes                 |27   |52.941 |\n",
      "|Coffee Roasteries     |15   |29.412 |\n",
      "|Breakfast & Brunch    |13   |25.49  |\n",
      "|Juice Bars & Smoothies|10   |19.608 |\n",
      "|Bakeries              |7    |13.725 |\n",
      "|Sandwiches            |6    |11.765 |\n",
      "|Desserts              |6    |11.765 |\n",
      "+----------------------+-----+-------+\n",
      "\n",
      "+--------------------------+-----------+-------+-------+----------+\n",
      "|Feature                   |  Variance |  Min  |  Max  |   Mean   |\n",
      "+--------------------------+-----------+-------+-------+----------+\n",
      "|WheelchairAccessible      |0.0        |1.0    |1.0    |1.0       |\n",
      "|BusinessAcceptsCreditCards|0.0        |1.0    |1.0    |1.0       |\n",
      "|BusinessParking_street    |0.02       |0.0    |1.0    |0.98      |\n",
      "|BikeParking               |0.02       |0.0    |1.0    |0.98      |\n",
      "|WiFi                      |0.056      |0.0    |1.0    |0.941     |\n",
      "|RestaurantsTakeOut        |0.074      |0.0    |1.0    |0.922     |\n",
      "|OutdoorSeating            |0.135      |0.0    |1.0    |0.843     |\n",
      "|DogsAllowed               |0.25       |0.0    |1.0    |0.569     |\n",
      "|NoiseLevel                |0.008      |0.0    |0.33   |0.304     |\n",
      "|Caters                    |0.203      |0.0    |1.0    |0.275     |\n",
      "|RestaurantsPriceRange2    |0.048      |0.0    |0.5    |0.238     |\n",
      "|Ambience_classy           |0.135      |0.0    |1.0    |0.157     |\n",
      "|BusinessParking_lot       |0.09       |0.0    |1.0    |0.098     |\n",
      "|Alcohol                   |0.044      |0.0    |1.0    |0.078     |\n",
      "|GoodForKids               |0.074      |0.0    |1.0    |0.078     |\n",
      "|RestaurantsDelivery       |0.056      |0.0    |1.0    |0.059     |\n",
      "|HappyHour                 |0.038      |0.0    |1.0    |0.039     |\n",
      "|HasTV                     |0.038      |0.0    |1.0    |0.039     |\n",
      "|Ambience_casual           |0.02       |0.0    |1.0    |0.02      |\n",
      "|DriveThru                 |0.02       |0.0    |1.0    |0.02      |\n",
      "|RestaurantsReservations   |0.02       |0.0    |1.0    |0.02      |\n",
      "|GoodForMeal_brunch        |0.02       |0.0    |1.0    |0.02      |\n",
      "|RestaurantsTableService   |0.02       |0.0    |1.0    |0.02      |\n",
      "|BestNights_friday         |0.0        |0.0    |0.0    |0.0       |\n",
      "|GoodForMeal_breakfast     |0.0        |0.0    |0.0    |0.0       |\n",
      "|BestNights_saturday       |0.0        |0.0    |0.0    |0.0       |\n",
      "|GoodForMeal_lunch         |0.0        |0.0    |0.0    |0.0       |\n",
      "|RestaurantsGoodForGroups  |0.0        |0.0    |0.0    |0.0       |\n",
      "|GoodForMeal_dinner        |0.0        |0.0    |0.0    |0.0       |\n",
      "+--------------------------+-----------+-------+-------+----------+\n",
      "\n"
     ]
    },
    {
     "name": "stderr",
     "output_type": "stream",
     "text": [
      "[Stage 1132:>                                                       (0 + 4) / 4]\r"
     ]
    },
    {
     "name": "stdout",
     "output_type": "stream",
     "text": [
      "Average words per review: 82.90189486552568\n"
     ]
    },
    {
     "name": "stderr",
     "output_type": "stream",
     "text": [
      "                                                                                \r"
     ]
    }
   ],
   "source": [
    "cl_details('Best_1')"
   ]
  },
  {
   "cell_type": "markdown",
   "id": "29050d7c",
   "metadata": {},
   "source": [
    "**For businesses in the same category as the Best_1 cluster, which includes Food, Coffee & Tea, and Breakfast & Brunch, we recommend prioritizing the following attributes based on this cluster's top features:**\n",
    "\n",
    "- Takeout options\n",
    "- Space for dogs"
   ]
  },
  {
   "cell_type": "code",
   "execution_count": 18,
   "id": "2f20432a",
   "metadata": {},
   "outputs": [
    {
     "name": "stdout",
     "output_type": "stream",
     "text": [
      "Cluster_Name Best_2\n"
     ]
    },
    {
     "data": {
      "image/png": "[encoded data removed]",
      "text/plain": [
       "<Figure size 800x600 with 1 Axes>"
      ]
     },
     "metadata": {},
     "output_type": "display_data"
    },
    {
     "name": "stdout",
     "output_type": "stream",
     "text": [
      "Top Categories for Cluster Best_2:\n",
      "+----------------------+-----+-------+\n",
      "|Category              |count|Percent|\n",
      "+----------------------+-----+-------+\n",
      "|Restaurants           |62   |100.0  |\n",
      "|Food                  |35   |56.452 |\n",
      "|Coffee & Tea          |17   |27.419 |\n",
      "|Breakfast & Brunch    |16   |25.806 |\n",
      "|Sandwiches            |12   |19.355 |\n",
      "|Desserts              |9    |14.516 |\n",
      "|Mexican               |7    |11.29  |\n",
      "|Juice Bars & Smoothies|6    |9.677  |\n",
      "|Bakeries              |6    |9.677  |\n",
      "|Chinese               |6    |9.677  |\n",
      "+----------------------+-----+-------+\n",
      "\n"
     ]
    },
    {
     "name": "stderr",
     "output_type": "stream",
     "text": [
      "                                                                                \r"
     ]
    },
    {
     "name": "stdout",
     "output_type": "stream",
     "text": [
      "+--------------------------+-----------+-------+-------+----------+\n",
      "|Feature                   |  Variance |  Min  |  Max  |   Mean   |\n",
      "+--------------------------+-----------+-------+-------+----------+\n",
      "|RestaurantsTableService   |0.0        |1.0    |1.0    |1.0       |\n",
      "|BusinessAcceptsCreditCards|0.0        |1.0    |1.0    |1.0       |\n",
      "|WheelchairAccessible      |0.016      |0.0    |1.0    |0.984     |\n",
      "|RestaurantsTakeOut        |0.032      |0.0    |1.0    |0.968     |\n",
      "|Caters                    |0.061      |0.0    |1.0    |0.935     |\n",
      "|RestaurantsDelivery       |0.075      |0.0    |1.0    |0.919     |\n",
      "|WiFi                      |0.075      |0.0    |1.0    |0.919     |\n",
      "|OutdoorSeating            |0.178      |0.0    |1.0    |0.774     |\n",
      "|BikeParking               |0.216      |0.0    |1.0    |0.694     |\n",
      "|BusinessParking_lot       |0.233      |0.0    |1.0    |0.645     |\n",
      "|RestaurantsPriceRange2    |0.021      |0.0    |0.5    |0.416     |\n",
      "|NoiseLevel                |0.005      |0.0    |0.33   |0.314     |\n",
      "|RestaurantsReservations   |0.216      |0.0    |1.0    |0.306     |\n",
      "|BusinessParking_street    |0.148      |0.0    |1.0    |0.177     |\n",
      "|Alcohol                   |0.073      |0.0    |1.0    |0.129     |\n",
      "|DogsAllowed               |0.114      |0.0    |1.0    |0.129     |\n",
      "|Ambience_classy           |0.114      |0.0    |1.0    |0.129     |\n",
      "|GoodForKids               |0.047      |0.0    |1.0    |0.048     |\n",
      "|Ambience_casual           |0.032      |0.0    |1.0    |0.032     |\n",
      "|HappyHour                 |0.016      |0.0    |1.0    |0.016     |\n",
      "|RestaurantsGoodForGroups  |0.016      |0.0    |1.0    |0.016     |\n",
      "|HasTV                     |0.016      |0.0    |1.0    |0.016     |\n",
      "|DriveThru                 |0.016      |0.0    |1.0    |0.016     |\n",
      "|GoodForMeal_brunch        |0.0        |0.0    |0.0    |0.0       |\n",
      "|BestNights_friday         |0.0        |0.0    |0.0    |0.0       |\n",
      "|GoodForMeal_lunch         |0.0        |0.0    |0.0    |0.0       |\n",
      "|GoodForMeal_breakfast     |0.0        |0.0    |0.0    |0.0       |\n",
      "|GoodForMeal_dinner        |0.0        |0.0    |0.0    |0.0       |\n",
      "|BestNights_saturday       |0.0        |0.0    |0.0    |0.0       |\n",
      "+--------------------------+-----------+-------+-------+----------+\n",
      "\n"
     ]
    },
    {
     "name": "stderr",
     "output_type": "stream",
     "text": [
      "[Stage 1643:>                                                       (0 + 4) / 4]\r"
     ]
    },
    {
     "name": "stdout",
     "output_type": "stream",
     "text": [
      "Average words per review: 88.08384754990925\n"
     ]
    },
    {
     "name": "stderr",
     "output_type": "stream",
     "text": [
      "                                                                                \r"
     ]
    }
   ],
   "source": [
    "cl_details('Best_2')"
   ]
  },
  {
   "cell_type": "markdown",
   "id": "b51b9d83",
   "metadata": {},
   "source": [
    "**In the second Good Cluster, businesses in similar categories such as Food, and Breakfast & Brunch, should focus more on providing ample parking space and maintaining a reasonable price range.**"
   ]
  },
  {
   "cell_type": "code",
   "execution_count": 19,
   "id": "523fcfe8",
   "metadata": {},
   "outputs": [
    {
     "name": "stdout",
     "output_type": "stream",
     "text": [
      "Cluster_Name Worst_1\n"
     ]
    },
    {
     "data": {
      "image/png": "[encoded data removed]",
      "text/plain": [
       "<Figure size 800x600 with 1 Axes>"
      ]
     },
     "metadata": {},
     "output_type": "display_data"
    },
    {
     "name": "stdout",
     "output_type": "stream",
     "text": [
      "Top Categories for Cluster Worst_1:\n",
      "+------------------+-----+-------+\n",
      "|Category          |count|Percent|\n",
      "+------------------+-----+-------+\n",
      "|Fast Food         |57   |100.0  |\n",
      "|Restaurants       |57   |100.0  |\n",
      "|Burgers           |48   |84.211 |\n",
      "|Mexican           |43   |75.439 |\n",
      "|Tacos             |43   |75.439 |\n",
      "|Breakfast & Brunch|42   |73.684 |\n",
      "|Tex-Mex           |6    |10.526 |\n",
      "|American (New)    |3    |5.263  |\n",
      "|Food              |3    |5.263  |\n",
      "|Chicken Wings     |2    |3.509  |\n",
      "+------------------+-----+-------+\n",
      "\n"
     ]
    },
    {
     "name": "stderr",
     "output_type": "stream",
     "text": [
      "                                                                                \r"
     ]
    },
    {
     "name": "stdout",
     "output_type": "stream",
     "text": [
      "+--------------------------+-----------+-------+-------+----------+\n",
      "|Feature                   |  Variance |  Min  |  Max  |   Mean   |\n",
      "+--------------------------+-----------+-------+-------+----------+\n",
      "|BusinessAcceptsCreditCards|0.0        |1.0    |1.0    |1.0       |\n",
      "|DriveThru                 |0.0        |1.0    |1.0    |1.0       |\n",
      "|GoodForKids               |0.018      |0.0    |1.0    |0.982     |\n",
      "|RestaurantsDelivery       |0.034      |0.0    |1.0    |0.965     |\n",
      "|RestaurantsGoodForGroups  |0.123      |0.0    |1.0    |0.86      |\n",
      "|HasTV                     |0.213      |0.0    |1.0    |0.702     |\n",
      "|BusinessParking_lot       |0.251      |0.0    |1.0    |0.561     |\n",
      "|NoiseLevel                |0.021      |0.0    |0.67   |0.302     |\n",
      "|OutdoorSeating            |0.066      |0.0    |1.0    |0.07      |\n",
      "|Ambience_casual           |0.034      |0.0    |1.0    |0.035     |\n",
      "|Caters                    |0.018      |0.0    |1.0    |0.018     |\n",
      "|GoodForMeal_brunch        |0.018      |0.0    |1.0    |0.018     |\n",
      "|WiFi                      |0.004      |0.0    |0.5    |0.009     |\n",
      "|BusinessParking_street    |0.0        |0.0    |0.0    |0.0       |\n",
      "|Alcohol                   |0.0        |0.0    |0.0    |0.0       |\n",
      "|DogsAllowed               |0.0        |0.0    |0.0    |0.0       |\n",
      "|GoodForMeal_lunch         |0.0        |0.0    |0.0    |0.0       |\n",
      "|GoodForMeal_breakfast     |0.0        |0.0    |0.0    |0.0       |\n",
      "|Ambience_classy           |0.0        |0.0    |0.0    |0.0       |\n",
      "|RestaurantsPriceRange2    |0.0        |0.0    |0.0    |0.0       |\n",
      "|BestNights_friday         |0.0        |0.0    |0.0    |0.0       |\n",
      "|GoodForMeal_dinner        |0.0        |0.0    |0.0    |0.0       |\n",
      "|BestNights_saturday       |0.0        |0.0    |0.0    |0.0       |\n",
      "|RestaurantsReservations   |0.0        |0.0    |0.0    |0.0       |\n",
      "|BikeParking               |0.0        |0.0    |0.0    |0.0       |\n",
      "|HappyHour                 |0.0        |0.0    |0.0    |0.0       |\n",
      "|RestaurantsTableService   |0.0        |0.0    |0.0    |0.0       |\n",
      "|RestaurantsTakeOut        |0.0        |0.0    |0.0    |0.0       |\n",
      "|WheelchairAccessible      |0.0        |0.0    |0.0    |0.0       |\n",
      "+--------------------------+-----------+-------+-------+----------+\n",
      "\n"
     ]
    },
    {
     "name": "stderr",
     "output_type": "stream",
     "text": [
      "[Stage 2154:==========================================>             (3 + 1) / 4]\r"
     ]
    },
    {
     "name": "stdout",
     "output_type": "stream",
     "text": [
      "Average words per review: 90.20964039785768\n"
     ]
    },
    {
     "name": "stderr",
     "output_type": "stream",
     "text": [
      "                                                                                \r"
     ]
    }
   ],
   "source": [
    "cl_details('Worst_1')"
   ]
  },
  {
   "cell_type": "code",
   "execution_count": 20,
   "id": "705192dc",
   "metadata": {},
   "outputs": [
    {
     "name": "stdout",
     "output_type": "stream",
     "text": [
      "Cluster_Name Worst_2\n"
     ]
    },
    {
     "data": {
      "image/png": "[encoded data removed]",
      "text/plain": [
       "<Figure size 800x600 with 1 Axes>"
      ]
     },
     "metadata": {},
     "output_type": "display_data"
    },
    {
     "name": "stdout",
     "output_type": "stream",
     "text": [
      "Top Categories for Cluster Worst_2:\n",
      "+------------------+-----+-------+\n",
      "|Category          |count|Percent|\n",
      "+------------------+-----+-------+\n",
      "|Fast Food         |55   |100.0  |\n",
      "|Restaurants       |55   |100.0  |\n",
      "|Burgers           |44   |80.0   |\n",
      "|Food              |39   |70.909 |\n",
      "|Coffee & Tea      |39   |70.909 |\n",
      "|Mexican           |7    |12.727 |\n",
      "|Tacos             |7    |12.727 |\n",
      "|Breakfast & Brunch|7    |12.727 |\n",
      "|Tex-Mex           |7    |12.727 |\n",
      "|Chicken Wings     |2    |3.636  |\n",
      "+------------------+-----+-------+\n",
      "\n",
      "+--------------------------+-----------+-------+-------+----------+\n",
      "|Feature                   |  Variance |  Min  |  Max  |   Mean   |\n",
      "+--------------------------+-----------+-------+-------+----------+\n",
      "|BusinessParking_lot       |0.0        |1.0    |1.0    |1.0       |\n",
      "|RestaurantsGoodForGroups  |0.0        |1.0    |1.0    |1.0       |\n",
      "|HasTV                     |0.0        |1.0    |1.0    |1.0       |\n",
      "|RestaurantsTakeOut        |0.0        |1.0    |1.0    |1.0       |\n",
      "|DriveThru                 |0.0        |1.0    |1.0    |1.0       |\n",
      "|WiFi                      |0.0        |1.0    |1.0    |1.0       |\n",
      "|GoodForKids               |0.0        |1.0    |1.0    |1.0       |\n",
      "|BusinessAcceptsCreditCards|0.018      |0.0    |1.0    |0.982     |\n",
      "|RestaurantsDelivery       |0.036      |0.0    |1.0    |0.964     |\n",
      "|NoiseLevel                |0.021      |0.0    |0.67   |0.319     |\n",
      "|RestaurantsTableService   |0.018      |0.0    |1.0    |0.018     |\n",
      "|RestaurantsPriceRange2    |0.002      |0.0    |0.33   |0.006     |\n",
      "|BusinessParking_street    |0.0        |0.0    |0.0    |0.0       |\n",
      "|RestaurantsReservations   |0.0        |0.0    |0.0    |0.0       |\n",
      "|GoodForMeal_brunch        |0.0        |0.0    |0.0    |0.0       |\n",
      "|WheelchairAccessible      |0.0        |0.0    |0.0    |0.0       |\n",
      "|Alcohol                   |0.0        |0.0    |0.0    |0.0       |\n",
      "|GoodForMeal_lunch         |0.0        |0.0    |0.0    |0.0       |\n",
      "|Caters                    |0.0        |0.0    |0.0    |0.0       |\n",
      "|GoodForMeal_dinner        |0.0        |0.0    |0.0    |0.0       |\n",
      "|Ambience_casual           |0.0        |0.0    |0.0    |0.0       |\n",
      "|HappyHour                 |0.0        |0.0    |0.0    |0.0       |\n",
      "|DogsAllowed               |0.0        |0.0    |0.0    |0.0       |\n",
      "|OutdoorSeating            |0.0        |0.0    |0.0    |0.0       |\n",
      "|Ambience_classy           |0.0        |0.0    |0.0    |0.0       |\n",
      "|GoodForMeal_breakfast     |0.0        |0.0    |0.0    |0.0       |\n",
      "|BestNights_friday         |0.0        |0.0    |0.0    |0.0       |\n",
      "|BestNights_saturday       |0.0        |0.0    |0.0    |0.0       |\n",
      "|BikeParking               |0.0        |0.0    |0.0    |0.0       |\n",
      "+--------------------------+-----------+-------+-------+----------+\n",
      "\n"
     ]
    },
    {
     "name": "stderr",
     "output_type": "stream",
     "text": [
      "[Stage 2665:>                                                       (0 + 4) / 4]\r"
     ]
    },
    {
     "name": "stdout",
     "output_type": "stream",
     "text": [
      "Average words per review: 84.46273712737127\n"
     ]
    },
    {
     "name": "stderr",
     "output_type": "stream",
     "text": [
      "                                                                                \r"
     ]
    }
   ],
   "source": [
    "cl_details('Worst_2')"
   ]
  },
  {
   "cell_type": "markdown",
   "id": "e0c0a9b2",
   "metadata": {},
   "source": [
    "**From the results for the two worst clusters. For businesses in the Fast Food or Burger category, it is recommended to avoid allocating resources to the following attributes:**\n",
    "\n",
    "- TV\n",
    "- WiFi\n",
    "- Accommodating Groups\n"
   ]
  },
  {
   "cell_type": "markdown",
   "id": "c4142609",
   "metadata": {},
   "source": [
    "#### End Spark Session"
   ]
  },
  {
   "cell_type": "code",
   "execution_count": 21,
   "id": "4b2fde6e",
   "metadata": {},
   "outputs": [],
   "source": [
    "# End Spark Session\n",
    "spark.stop()\n"
   ]
  },
  {
   "cell_type": "markdown",
   "id": "34dce069",
   "metadata": {},
   "source": [
    "\n",
    "**For future work:**\n",
    "- Exploring More Clusters:\n",
    "    - Different subsets of businesses, categories\n",
    "    - Additional features: normalized lat/long, other available business details\n",
    "    - Plotting cluster comparisons\n",
    "    - Feature variance, primary component analysis\n",
    "- Validation:\n",
    "    - Train/test split\n",
    "    - Regression \n",
    "- Detailed Text Analysis:\n",
    "    - Complexity & structure of reviews\n",
    "    - Extract features from review text using NLP techniques (sentiment analysis, topic modeling, keyword extraction)\n",
    "- Geospatial Analysis:\n",
    "    - Find location-based patterns through clustering\n",
    "    - Integrate external data sources (demographic information, neighborhood safety scores, proximity to points of interest)\n"
   ]
  },
  {
   "cell_type": "code",
   "execution_count": null,
   "id": "c0b714d8",
   "metadata": {},
   "outputs": [],
   "source": []
  }
 ],
 "metadata": {
  "kernelspec": {
   "display_name": "Python 3 (ipykernel)",
   "language": "python",
   "name": "python3"
  },
  "language_info": {
   "codemirror_mode": {
    "name": "ipython",
    "version": 3
   },
   "file_extension": ".py",
   "mimetype": "text/x-python",
   "name": "python",
   "nbconvert_exporter": "python",
   "pygments_lexer": "ipython3",
   "version": "3.10.12"
  }
 },
 "nbformat": 4,
 "nbformat_minor": 5
}
