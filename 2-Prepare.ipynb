{
 "cells": [
  {
   "cell_type": "markdown",
   "id": "a80e1699",
   "metadata": {},
   "source": [
    "# Unlocking Business Potential: Leveraging Bias-Aware Hierarchical Clustering for Actionable Insights from Yelp Data\n",
    "\n",
    "### Zeinab Gaeini, Debbie Hernandez, Harper Strickland\n",
    "\n",
    "## Part 2 - Prepare Data"
   ]
  },
  {
   "cell_type": "markdown",
   "id": "c97ec2ca",
   "metadata": {},
   "source": [
    "### Consolidate and Format Business Data into Usable Dataframe of Normalized Features"
   ]
  },
  {
   "cell_type": "markdown",
   "id": "bb3885d2",
   "metadata": {},
   "source": [
    "#### This notebook has 2 outputs:\n",
    "1. data csv file: all selected businesses, unpacked features in original format and scale\n",
    "2. features csv file: selected businesses ids, stars, attributes normalized (0-1)\n",
    "\n",
    "#### After running this notebook, get csv files from new local folders, rename, and move to local"
   ]
  },
  {
   "cell_type": "markdown",
   "id": "95b3c24a",
   "metadata": {},
   "source": [
    "---"
   ]
  },
  {
   "cell_type": "markdown",
   "id": "170cb24c",
   "metadata": {},
   "source": [
    "#### Location to save results as csv"
   ]
  },
  {
   "cell_type": "code",
   "execution_count": 1,
   "id": "3d0087a1",
   "metadata": {},
   "outputs": [],
   "source": [
    "# UPDATE WITH NEW FILE NAMES - this should match final cell\n",
    "save_features = 'hdfs:///Project/Features.csv'\n",
    "save_data = 'hdfs:///Project/Data.csv'"
   ]
  },
  {
   "cell_type": "code",
   "execution_count": 2,
   "id": "e4be9299",
   "metadata": {
    "tags": []
   },
   "outputs": [],
   "source": [
    "import pyspark\n",
    "from pyspark.sql import SparkSession\n",
    "from pyspark.sql.types import DoubleType\n",
    "from pyspark.sql.functions import col, split, when, coalesce   \n"
   ]
  },
  {
   "cell_type": "code",
   "execution_count": 3,
   "id": "c8da54a8",
   "metadata": {
    "tags": []
   },
   "outputs": [],
   "source": [
    "# Suppress native-hadoop warning\n",
    "!sed -i '$a\\# Add the line for suppressing the NativeCodeLoader warning \\nlog4j.logger.org.apache.hadoop.util.NativeCodeLoader=ERROR,console' /$HADOOP_HOME/etc/hadoop/log4j.properties"
   ]
  },
  {
   "cell_type": "markdown",
   "id": "53e94aee",
   "metadata": {},
   "source": [
    "#### Terminal commands, Upload Files to HDFS"
   ]
  },
  {
   "cell_type": "code",
   "execution_count": 3,
   "id": "88066d0a",
   "metadata": {},
   "outputs": [],
   "source": [
    "# make a directory on hdfs (repeated in case this notebook is used alone)\n",
    "! hdfs dfs -mkdir /Project/"
   ]
  },
  {
   "cell_type": "code",
   "execution_count": 4,
   "id": "406c1a47",
   "metadata": {
    "tags": []
   },
   "outputs": [],
   "source": [
    "# copy files to hdfs\n",
    "! hdfs dfs -copyFromLocal yelp_academic_dataset_business.json /Project\n",
    "! hdfs dfs -copyFromLocal USZIPCodes202403.csv /Project\n",
    "! hdfs dfs -copyFromLocal CanadianPostalCodes202403.csv /Project"
   ]
  },
  {
   "cell_type": "code",
   "execution_count": null,
   "id": "4da9fa0b",
   "metadata": {
    "tags": []
   },
   "outputs": [],
   "source": [
    "! hdfs dfs -ls /Project"
   ]
  },
  {
   "cell_type": "markdown",
   "id": "2b1a7343",
   "metadata": {},
   "source": [
    "#### Start Spark Session"
   ]
  },
  {
   "cell_type": "code",
   "execution_count": 5,
   "id": "414dcd14",
   "metadata": {
    "cell_id": "457245a7-a02e-462d-a565-7f90ba2a2c51",
    "id": "eIfVaCCqInfv",
    "outputId": "a57889ab-cd7f-4b3e-c505-1eb2e36a979d",
    "tags": []
   },
   "outputs": [
    {
     "data": {
      "text/plain": [
       "'3.5.0'"
      ]
     },
     "execution_count": 5,
     "metadata": {},
     "output_type": "execute_result"
    }
   ],
   "source": [
    "# Start Spark Session\n",
    "conf = pyspark.SparkConf().setAll([\n",
    "        ('spark.master',   'local[*]'),\n",
    "        ('spark.app.name', 'Prepare')])\n",
    "\n",
    "spark = SparkSession.builder.config(conf=conf).getOrCreate()\n",
    "\n",
    "spark.version\n"
   ]
  },
  {
   "cell_type": "markdown",
   "id": "1e798323",
   "metadata": {},
   "source": [
    "#### 2.1. Copy Yelp Business data file to PySpark dataframe"
   ]
  },
  {
   "cell_type": "code",
   "execution_count": 6,
   "id": "8a43e670",
   "metadata": {},
   "outputs": [
    {
     "name": "stderr",
     "output_type": "stream",
     "text": [
      "                                                                                \r"
     ]
    }
   ],
   "source": [
    "path = \"hdfs:///Project/yelp_academic_dataset_business.json\"\n",
    "businessDF = spark.read.json(path, primitivesAsString=False)\n"
   ]
  },
  {
   "cell_type": "markdown",
   "id": "fe777854",
   "metadata": {},
   "source": [
    "### 2.2. Select businesses to include \n",
    "#### filteredDF: only open businesses of selected category"
   ]
  },
  {
   "cell_type": "markdown",
   "id": "16fccdd2",
   "metadata": {},
   "source": [
    "##### 2.2.1. Select subset of businesses\n",
    "\n",
    "#### *UPDATE HERE:*\n"
   ]
  },
  {
   "cell_type": "code",
   "execution_count": 7,
   "id": "3db0f63b",
   "metadata": {},
   "outputs": [],
   "source": [
    "# SELECT DESIRED SUBSET OF BUSINESSES\n",
    "\n",
    "# all open businesses (119698):\n",
    "#filteredDF = businessDF.where(businessDF.is_open == 1)\n",
    "\n",
    "# open Restaurants (34987):\n",
    "filteredDF = businessDF.filter(businessDF.categories.contains('Restaurants')).where(businessDF.is_open == 1)\n",
    "\n",
    "# open Gastropubs (331):\n",
    "#filteredDF = businessDF.filter(businessDF.categories.contains('Gastropubs')).where(businessDF.is_open == 1)\n"
   ]
  },
  {
   "cell_type": "code",
   "execution_count": 9,
   "id": "23d4763f",
   "metadata": {},
   "outputs": [
    {
     "name": "stdout",
     "output_type": "stream",
     "text": [
      "All businesses: 150346 \n",
      "Filtered: 34987\n"
     ]
    }
   ],
   "source": [
    "print('All businesses:', businessDF.count(),\n",
    "      '\\nFiltered:', filteredDF.count())\n"
   ]
  },
  {
   "cell_type": "markdown",
   "id": "1e8c20b9",
   "metadata": {},
   "source": [
    "#### 2.2.2. Get latitude and longitude from reference dataset\n",
    "\n",
    "(original dataset includes lat and long data for each state, not business locations)"
   ]
  },
  {
   "cell_type": "code",
   "execution_count": 10,
   "id": "4d627322",
   "metadata": {},
   "outputs": [],
   "source": [
    "# drop original latitude and longitude columns and other columns not needed\n",
    "filteredDF = filteredDF.drop('latitude', 'longitude', 'address', 'is_open', 'hours').cache()\n"
   ]
  },
  {
   "cell_type": "code",
   "execution_count": 11,
   "id": "be5c0528",
   "metadata": {},
   "outputs": [],
   "source": [
    "path = \"hdfs:///Project/USZIPCodes202403.csv\"\n",
    "usa_ll = spark.read.csv(path, header=True) \n"
   ]
  },
  {
   "cell_type": "code",
   "execution_count": 12,
   "id": "81c211b6",
   "metadata": {},
   "outputs": [],
   "source": [
    "usa_ll = usa_ll.withColumn('ZipLatitude', usa_ll.ZipLatitude.cast(DoubleType()))\n",
    "usa_ll = usa_ll.withColumn('ZipLongitude', usa_ll.ZipLongitude.cast(DoubleType()))\n"
   ]
  },
  {
   "cell_type": "code",
   "execution_count": 13,
   "id": "ca1ddb38",
   "metadata": {},
   "outputs": [],
   "source": [
    "# Delete duplicate Zip Code rows\n",
    "usa_ll = usa_ll.dropDuplicates(['Zip Code'])\n"
   ]
  },
  {
   "cell_type": "code",
   "execution_count": 14,
   "id": "c000aaba",
   "metadata": {},
   "outputs": [],
   "source": [
    "# get USA latitude and longitude\n",
    "filteredDF = filteredDF.join(usa_ll.select('Zip Code', 'ZipLatitude', 'ZipLongitude'),\n",
    "                filteredDF.postal_code == usa_ll['Zip Code'], 'left')\n"
   ]
  },
  {
   "cell_type": "code",
   "execution_count": 15,
   "id": "63b0b8d5",
   "metadata": {},
   "outputs": [],
   "source": [
    "path = \"hdfs:///Project/CanadianPostalCodes202403.csv\"\n",
    "can_ll = spark.read.csv(path, header=True) \n"
   ]
  },
  {
   "cell_type": "code",
   "execution_count": 16,
   "id": "424d533d",
   "metadata": {},
   "outputs": [],
   "source": [
    "can_ll = can_ll.withColumn('LATITUDE', can_ll.LATITUDE.cast(DoubleType()))\n",
    "can_ll = can_ll.withColumn('LONGITUDE', can_ll.LONGITUDE.cast(DoubleType()))\n",
    "can_ll = can_ll.withColumnRenamed('POSTAL_CODE', 'CA_POSTAL_CODE')\n"
   ]
  },
  {
   "cell_type": "code",
   "execution_count": 17,
   "id": "92da1d55",
   "metadata": {},
   "outputs": [],
   "source": [
    "# get Canadian latitude and longitude\n",
    "filteredDF = filteredDF.join(can_ll.select('CA_POSTAL_CODE', 'LATITUDE', 'LONGITUDE'),\n",
    "                filteredDF.postal_code == can_ll.CA_POSTAL_CODE, 'left')\n"
   ]
  },
  {
   "cell_type": "code",
   "execution_count": 18,
   "id": "87537c4a",
   "metadata": {},
   "outputs": [
    {
     "name": "stderr",
     "output_type": "stream",
     "text": [
      "[Stage 32:>                                                         (0 + 4) / 4]\r"
     ]
    },
    {
     "name": "stdout",
     "output_type": "stream",
     "text": [
      "number of rows removed: 512\n"
     ]
    },
    {
     "name": "stderr",
     "output_type": "stream",
     "text": [
      "                                                                                \r"
     ]
    }
   ],
   "source": [
    "filteredDF = filteredDF.withColumn(\"lat\",coalesce(filteredDF.ZipLatitude,filteredDF.LATITUDE)) \n",
    "filteredDF = filteredDF.withColumn(\"lon\",coalesce(filteredDF.ZipLongitude,filteredDF.LONGITUDE)) \n",
    "# remove columns no longer needed\n",
    "filteredDF = filteredDF.drop('Zip Code', 'ZipLatitude', 'ZipLongitude', 'CA_POSTAL_CODE',\n",
    "                             'LATITUDE', 'LONGITUDE')\n",
    "# delete rows with no latitude/longitude available\n",
    "before = filteredDF.count()\n",
    "filteredDF = filteredDF.dropna()\n",
    "print('number of rows removed:', before - filteredDF.count())\n"
   ]
  },
  {
   "cell_type": "code",
   "execution_count": 19,
   "id": "7e6eb6b6",
   "metadata": {},
   "outputs": [],
   "source": [
    "# columns to be combined with normalized attributes\n",
    "bus_cols = filteredDF.select('business_id', 'stars')\n"
   ]
  },
  {
   "cell_type": "markdown",
   "id": "27b24e88",
   "metadata": {},
   "source": [
    "### 2.3. Unpack Attributes \n",
    "#### New DataFrame: attributesDF"
   ]
  },
  {
   "cell_type": "markdown",
   "id": "7278185b",
   "metadata": {},
   "source": [
    "**2.3.1.** Original format of attributes all in one column: StructField object, 39 elements, not all boolean\n"
   ]
  },
  {
   "cell_type": "code",
   "execution_count": 20,
   "id": "21cf6768",
   "metadata": {},
   "outputs": [],
   "source": [
    "attributesDF = filteredDF.select(filteredDF.business_id, filteredDF.attributes)\n",
    "for i in range (39):\n",
    "    attributesDF = attributesDF.withColumn(filteredDF.schema['attributes'].dataType.names[i], \n",
    "                col('attributes.{}'.format(filteredDF.schema['attributes'].dataType.names[i])))\n",
    "attributesDF = attributesDF.drop('attributes')"
   ]
  },
  {
   "cell_type": "code",
   "execution_count": 21,
   "id": "38e27889",
   "metadata": {},
   "outputs": [],
   "source": [
    "# drop columns with insignificant usage in any category:\n",
    "#    AgesAllowed: 0.03% of all open businesses labeled over18 or over21\n",
    "#    Open24Hours: 0.01% of all open businesses labeled true\n",
    "#    RestaurantsCounterService: 0.01% of all open businesses labeled true\n",
    "#    DietaryRestrictions: 0.01% of all open businesses used any available labels\n",
    "\n",
    "attributesDF = attributesDF.drop('AgesAllowed', 'Open24Hours',\n",
    "                                 'RestaurantsCounterService', 'DietaryRestrictions').cache()\n"
   ]
  },
  {
   "cell_type": "markdown",
   "id": "bab2d4dc",
   "metadata": {},
   "source": [
    "**2.3.2.** Attributes to subdivide: Ambience, BestNights, BusinessParking, GoodForMeal, HairSpecializesIn, Music\n"
   ]
  },
  {
   "cell_type": "code",
   "execution_count": 22,
   "id": "ea66b41b",
   "metadata": {},
   "outputs": [],
   "source": [
    "# function to flatten attributes that have sub-attributes (stored as strings in varying orders)\n",
    "def split_attribute(df, attr_name, attr_list):\n",
    "    for i in range (len(attr_list)):\n",
    "        # for each label, find string after label and before comma\n",
    "        name = attr_name + '_' + attr_list[i]\n",
    "        spl = \"'\" + attr_list[i] + \"': \"\n",
    "        df = df.withColumn(name, split(split(split(attributesDF[attr_name], spl)[1], \",\")[0], \"}\")[0])\n",
    "    return df\n",
    "    "
   ]
  },
  {
   "cell_type": "code",
   "execution_count": 23,
   "id": "73241aff",
   "metadata": {},
   "outputs": [],
   "source": [
    "ambience = ['divey', 'touristy', 'hipster', 'romantic', 'intimate', 'trendy', 'upscale', 'classy', 'casual']\n",
    "attributesDF = split_attribute(attributesDF, 'Ambience', ambience)"
   ]
  },
  {
   "cell_type": "code",
   "execution_count": 24,
   "id": "187f9088",
   "metadata": {},
   "outputs": [],
   "source": [
    "bestnights = ['monday', 'tuesday', 'wednesday', 'thursday', 'friday', 'saturday', 'sunday']\n",
    "attributesDF = split_attribute(attributesDF, 'BestNights', bestnights)\n"
   ]
  },
  {
   "cell_type": "code",
   "execution_count": 25,
   "id": "564f6336",
   "metadata": {},
   "outputs": [],
   "source": [
    "businessparking = ['garage', 'street', 'validated', 'lot', 'valet']\n",
    "attributesDF = split_attribute(attributesDF, 'BusinessParking', businessparking)\n"
   ]
  },
  {
   "cell_type": "code",
   "execution_count": 26,
   "id": "3444688b",
   "metadata": {},
   "outputs": [],
   "source": [
    "goodformeal = ['breakfast', 'brunch', 'lunch', 'dinner', 'latenight', 'dessert']\n",
    "attributesDF = split_attribute(attributesDF, 'GoodForMeal', goodformeal)\n"
   ]
  },
  {
   "cell_type": "code",
   "execution_count": 27,
   "id": "1cb574b6",
   "metadata": {},
   "outputs": [],
   "source": [
    "hairspecializesin = ['straightperms', 'coloring', 'extensions', 'africanamerican', 'curly', 'kids', 'perms', 'asian']\n",
    "attributesDF = split_attribute(attributesDF, 'HairSpecializesIn', hairspecializesin)\n"
   ]
  },
  {
   "cell_type": "code",
   "execution_count": 28,
   "id": "bff0b46e",
   "metadata": {},
   "outputs": [],
   "source": [
    "# not including 'no_music' option- zero businesses\n",
    "# not including 'video' option- only 0.005% of open businesses\n",
    "music = ['background_music', 'jukebox', 'dj', 'live', 'karaoke']\n",
    "attributesDF = split_attribute(attributesDF, 'Music', music)\n"
   ]
  },
  {
   "cell_type": "code",
   "execution_count": 29,
   "id": "6530a4e3",
   "metadata": {},
   "outputs": [],
   "source": [
    "# remove columns no longer needed after flattening\n",
    "attributesDF = attributesDF.drop('Ambience', 'BestNights', 'BusinessParking',\n",
    "                                 'GoodForMeal', 'HairSpecializesIn', 'Music')\n"
   ]
  },
  {
   "cell_type": "markdown",
   "id": "cf0ccb71",
   "metadata": {},
   "source": [
    "#### 2.3.3. New DF: Quantify and Normalize Attributes\n"
   ]
  },
  {
   "cell_type": "code",
   "execution_count": 30,
   "id": "7596089f",
   "metadata": {},
   "outputs": [],
   "source": [
    "# list of attributes with true,false values (to be normalized to 1,0)\n",
    "true_cols = ['AcceptsInsurance', 'BYOB', 'BikeParking', 'BusinessAcceptsBitcoin',\n",
    "             'BusinessAcceptsCreditCards', 'ByAppointmentOnly', 'Caters', 'CoatCheck', 'Corkage',\n",
    "             'DogsAllowed', 'DriveThru', 'GoodForDancing', 'GoodForKids', 'HappyHour', 'HasTV',\n",
    "             'OutdoorSeating', 'RestaurantsDelivery', 'RestaurantsGoodForGroups',\n",
    "             'RestaurantsReservations', 'RestaurantsTableService', 'RestaurantsTakeOut',\n",
    "             'WheelchairAccessible', 'Ambience_divey', 'Ambience_touristy', 'Ambience_hipster',\n",
    "             'Ambience_romantic', 'Ambience_intimate', 'Ambience_trendy', 'Ambience_upscale',\n",
    "             'Ambience_classy', 'Ambience_casual', 'BestNights_monday', 'BestNights_tuesday',\n",
    "             'BestNights_wednesday', 'BestNights_thursday', 'BestNights_friday', 'BestNights_saturday',\n",
    "             'BestNights_sunday', 'BusinessParking_garage', 'BusinessParking_street',\n",
    "             'BusinessParking_validated', 'BusinessParking_lot', 'BusinessParking_valet',\n",
    "             'GoodForMeal_breakfast', 'GoodForMeal_brunch', 'GoodForMeal_lunch', 'GoodForMeal_dinner',\n",
    "             'GoodForMeal_latenight', 'GoodForMeal_dessert', 'HairSpecializesIn_straightperms',\n",
    "             'HairSpecializesIn_coloring', 'HairSpecializesIn_extensions',\n",
    "             'HairSpecializesIn_africanamerican', 'HairSpecializesIn_curly', 'HairSpecializesIn_kids',\n",
    "             'HairSpecializesIn_perms', 'HairSpecializesIn_asian', 'Music_background_music',\n",
    "             'Music_jukebox', 'Music_dj', 'Music_live', 'Music_karaoke'] \n"
   ]
  },
  {
   "cell_type": "code",
   "execution_count": 31,
   "id": "0b10643d",
   "metadata": {
    "tags": []
   },
   "outputs": [],
   "source": [
    "# values for columns other than true/false\n",
    "def normalize_column (df, col_name):\n",
    "    name_list = ['Alcohol', 'BYOBCorkage', 'NoiseLevel', 'RestaurantsAttire',\n",
    "                'RestaurantsPriceRange2', 'Smoking', 'WiFi']\n",
    "    labels = [['beer_and_wine', 'full_bar'],\n",
    "              ['yes_corkage', 'yes_free'],\n",
    "              ['quiet', 'loud', 'very_loud'], # no need to check for average, same value as null\n",
    "              ['dressy', 'formal'], # no need to check for casual, same value as null\n",
    "              ['1', '2', '3', '4'],\n",
    "              ['outdoor', 'yes'], # no need to check for no, same as null\n",
    "              ['paid', 'free']] # no need to check for no, same as null\n",
    "    # final in each list is value for otherwise:\n",
    "    values = [[0.5, 1.0, 0.0],\n",
    "              [0.5, 1.0, 0.0],\n",
    "              [0.0, 0.67, 1.0, 0.33], # null noise level = average\n",
    "              [0.5, 1.0, 0.0], # null attire = casual\n",
    "              [0.0, 0.33, 0.67, 1.0, 0.5], # null price range = median of range\n",
    "              [0.5, 1.0, 0.0], # null smoking = no\n",
    "              [0.5, 1.0, 0.0]] # null wifi = no\n",
    "    j = name_list.index(col_name)\n",
    "    if j == 4: # RestaurantsPriceRange2: 4 labels\n",
    "        df = df.withColumn(name_list[j], when(df[name_list[j]].contains(labels[j][0]), values[j][0]) \\\n",
    "                .when(df[name_list[j]].contains(labels[j][1]), values[j][1]) \\\n",
    "                .when(df[name_list[j]].contains(labels[j][2]), values[j][2]) \\\n",
    "                .when(df[name_list[j]].contains(labels[j][3]), values[j][3]).otherwise(values[j][4]))\n",
    "    elif j == 2: # NoiseLevel: 3 labels\n",
    "        df = df.withColumn(name_list[j], when(df[name_list[j]].contains(labels[j][0]), values[j][0]) \\\n",
    "                .when(df[name_list[j]].contains(labels[j][1]), values[j][1]) \\\n",
    "                .when(df[name_list[j]].contains(labels[j][2]), values[j][2]).otherwise(values[j][3]))\n",
    "    else: # all others: 2 labels\n",
    "        df = df.withColumn(name_list[j], when(df[name_list[j]].contains(labels[j][0]), values[j][0]) \\\n",
    "                .when(df[name_list[j]].contains(labels[j][1]), values[j][1]).otherwise(values[j][2]))\n",
    "    return df\n"
   ]
  },
  {
   "cell_type": "code",
   "execution_count": 32,
   "id": "f1e3ace8",
   "metadata": {
    "tags": []
   },
   "outputs": [],
   "source": [
    "def normalize_attributes (df, true_list):\n",
    "    for i in range (len(df.columns)):\n",
    "        # business_id column untouched\n",
    "        if (df.columns[i] == 'business_id'):\n",
    "            pass\n",
    "        # replace column values for true/false columns\n",
    "        elif (df.columns[i] in true_list):\n",
    "            df = df.withColumn(df.columns[i], when(df[df.columns[i]].like('True'), 1).otherwise(0))\n",
    "        else:\n",
    "            df = normalize_column(df, df.columns[i])\n",
    "    return df"
   ]
  },
  {
   "cell_type": "code",
   "execution_count": 33,
   "id": "779081e5",
   "metadata": {},
   "outputs": [],
   "source": [
    "attr_norm = normalize_attributes(attributesDF, true_cols)\n"
   ]
  },
  {
   "cell_type": "markdown",
   "id": "1c1f3f2a",
   "metadata": {},
   "source": [
    "#### 2.4. Create Combined Dataframes: Business Data, and Normalized Features"
   ]
  },
  {
   "cell_type": "markdown",
   "id": "606e933c",
   "metadata": {},
   "source": [
    "**2.4.1.** Join business data dataframes and reorder columns"
   ]
  },
  {
   "cell_type": "code",
   "execution_count": 34,
   "id": "2bba0b2d",
   "metadata": {},
   "outputs": [],
   "source": [
    "# join filteredDF and attributesDF\n",
    "dataDF = filteredDF.join(attributesDF, filteredDF.business_id == attributesDF.business_id).drop(attributesDF.business_id)\n",
    "dataDF = dataDF.drop('attributes')\n"
   ]
  },
  {
   "cell_type": "code",
   "execution_count": 35,
   "id": "7ccca52c",
   "metadata": {},
   "outputs": [],
   "source": [
    "# reorder columns\n",
    "df_cols = ['business_id',\n",
    " 'name',\n",
    " 'stars',\n",
    " 'review_count',\n",
    " 'categories',\n",
    " 'city',\n",
    " 'state',\n",
    " 'postal_code',\n",
    " 'lat',\n",
    " 'lon',\n",
    " 'AcceptsInsurance',\n",
    " 'Alcohol',\n",
    " 'Ambience_casual',\n",
    " 'Ambience_classy',\n",
    " 'Ambience_divey',\n",
    " 'Ambience_hipster',\n",
    " 'Ambience_intimate',\n",
    " 'Ambience_romantic',\n",
    " 'Ambience_touristy',\n",
    " 'Ambience_trendy',\n",
    " 'Ambience_upscale',\n",
    " 'BYOB',\n",
    " 'BYOBCorkage',\n",
    " 'BestNights_monday',\n",
    " 'BestNights_tuesday',\n",
    " 'BestNights_wednesday',\n",
    " 'BestNights_thursday',\n",
    " 'BestNights_friday',\n",
    " 'BestNights_saturday',\n",
    " 'BestNights_sunday',\n",
    " 'BikeParking',\n",
    " 'BusinessAcceptsBitcoin',\n",
    " 'BusinessAcceptsCreditCards',\n",
    " 'BusinessParking_garage',\n",
    " 'BusinessParking_lot',\n",
    " 'BusinessParking_street',\n",
    " 'BusinessParking_valet',\n",
    " 'BusinessParking_validated',\n",
    " 'ByAppointmentOnly',\n",
    " 'Caters',\n",
    " 'CoatCheck',\n",
    " 'Corkage',\n",
    " 'DogsAllowed',\n",
    " 'DriveThru',\n",
    " 'GoodForDancing',\n",
    " 'GoodForKids',\n",
    " 'GoodForMeal_breakfast',\n",
    " 'GoodForMeal_brunch',\n",
    " 'GoodForMeal_lunch',\n",
    " 'GoodForMeal_dinner',\n",
    " 'GoodForMeal_dessert',\n",
    " 'GoodForMeal_latenight',\n",
    " 'HairSpecializesIn_africanamerican',\n",
    " 'HairSpecializesIn_asian',\n",
    " 'HairSpecializesIn_coloring',\n",
    " 'HairSpecializesIn_curly',\n",
    " 'HairSpecializesIn_extensions',\n",
    " 'HairSpecializesIn_kids',\n",
    " 'HairSpecializesIn_perms',\n",
    " 'HairSpecializesIn_straightperms',\n",
    " 'HappyHour',\n",
    " 'HasTV',\n",
    " 'Music_background_music',\n",
    " 'Music_dj',\n",
    " 'Music_jukebox',\n",
    " 'Music_karaoke',\n",
    " 'Music_live',\n",
    " 'NoiseLevel',\n",
    " 'OutdoorSeating',\n",
    " 'RestaurantsAttire',\n",
    " 'RestaurantsDelivery',\n",
    " 'RestaurantsGoodForGroups',\n",
    " 'RestaurantsPriceRange2',\n",
    " 'RestaurantsReservations',\n",
    " 'RestaurantsTableService',\n",
    " 'RestaurantsTakeOut',\n",
    " 'Smoking',\n",
    " 'WheelchairAccessible',\n",
    " 'WiFi']\n"
   ]
  },
  {
   "cell_type": "code",
   "execution_count": 36,
   "id": "24003719",
   "metadata": {},
   "outputs": [],
   "source": [
    "dataDF = dataDF.select(df_cols)\n"
   ]
  },
  {
   "cell_type": "markdown",
   "id": "215900a7",
   "metadata": {},
   "source": [
    "**2.4.2.** Join normalized features dataframes and reorder columns"
   ]
  },
  {
   "cell_type": "code",
   "execution_count": 37,
   "id": "08c83d0d",
   "metadata": {},
   "outputs": [],
   "source": [
    "# join bus_cols and attr_norm\n",
    "featuresDF = bus_cols.join(attr_norm, bus_cols.business_id == attr_norm.business_id).drop(attr_norm.business_id)\n"
   ]
  },
  {
   "cell_type": "code",
   "execution_count": 38,
   "id": "ad770a9c",
   "metadata": {},
   "outputs": [],
   "source": [
    "# remove columns from order that are not included in normalized attributes dataframe\n",
    "remove = ['name', 'categories', 'city', 'state', 'postal_code', 'lat', 'lon', 'review_count']\n",
    "df_cols = list(filter(lambda item: item not in remove, df_cols))\n"
   ]
  },
  {
   "cell_type": "code",
   "execution_count": 39,
   "id": "4f127ce6",
   "metadata": {},
   "outputs": [],
   "source": [
    "featuresDF = featuresDF.select(df_cols).cache()\n"
   ]
  },
  {
   "cell_type": "markdown",
   "id": "0a7df568",
   "metadata": {},
   "source": [
    "**2.4.3.** Remove columns greater than 95% homogenous"
   ]
  },
  {
   "cell_type": "code",
   "execution_count": 40,
   "id": "f8d89980",
   "metadata": {},
   "outputs": [
    {
     "name": "stderr",
     "output_type": "stream",
     "text": [
      "                                                                                \r"
     ]
    }
   ],
   "source": [
    "# Delete columns over homogeneity threshold\n",
    "# min different values required per column:\n",
    "threshold = 0.05\n",
    "num_rows = featuresDF.count()\n",
    "# number of columns before removal:\n",
    "before = len(featuresDF.columns)\n"
   ]
  },
  {
   "cell_type": "code",
   "execution_count": 41,
   "id": "921803a5",
   "metadata": {},
   "outputs": [],
   "source": [
    "# this step takes significant time to run (checking values of every row and column)\n",
    "drop_cols = []\n",
    "\n",
    "for i in range (1, len(featuresDF.columns)):\n",
    "\n",
    "    count = featuresDF.groupBy(featuresDF[featuresDF.columns[i]]).count().orderBy('count', ascending=False).first()\n",
    "    percent_same = count[1]/num_rows\n",
    "\n",
    "    if (percent_same > 1 - threshold):\n",
    "        drop_cols.append(featuresDF.columns[i])\n"
   ]
  },
  {
   "cell_type": "code",
   "execution_count": 42,
   "id": "d136a9fe",
   "metadata": {},
   "outputs": [
    {
     "name": "stdout",
     "output_type": "stream",
     "text": [
      "number of columns removed: 40\n"
     ]
    }
   ],
   "source": [
    "featuresDF = featuresDF.drop(*drop_cols)\n",
    "print('number of columns removed:', before - len(featuresDF.columns))\n",
    "    "
   ]
  },
  {
   "cell_type": "markdown",
   "id": "c9764a1f",
   "metadata": {},
   "source": [
    "#### 2.5. Describe Features Dataframe"
   ]
  },
  {
   "cell_type": "markdown",
   "id": "b4cdf188",
   "metadata": {},
   "source": [
    "**2.5.1.** Display for all normalized attributes: possible values with counts of each"
   ]
  },
  {
   "cell_type": "code",
   "execution_count": 43,
   "id": "da07dcad",
   "metadata": {},
   "outputs": [
    {
     "name": "stdout",
     "output_type": "stream",
     "text": [
      "+-----+-----+\n",
      "|stars|count|\n",
      "+-----+-----+\n",
      "|  4.0| 9077|\n",
      "|  3.5| 7248|\n",
      "|  4.5| 5953|\n",
      "|  3.0| 4526|\n",
      "|  2.5| 3109|\n",
      "|  2.0| 2126|\n",
      "|  1.5| 1177|\n",
      "|  5.0| 1075|\n",
      "|  1.0|  184|\n",
      "+-----+-----+\n",
      "\n",
      "+-------+-----+\n",
      "|Alcohol|count|\n",
      "+-------+-----+\n",
      "|    0.0|22482|\n",
      "|    1.0| 8398|\n",
      "|    0.5| 3595|\n",
      "+-------+-----+\n",
      "\n",
      "+---------------+-----+\n",
      "|Ambience_casual|count|\n",
      "+---------------+-----+\n",
      "|              0|20804|\n",
      "|              1|13671|\n",
      "+---------------+-----+\n",
      "\n",
      "+---------------+-----+\n",
      "|Ambience_classy|count|\n",
      "+---------------+-----+\n",
      "|              0|29815|\n",
      "|              1| 4660|\n",
      "+---------------+-----+\n",
      "\n",
      "+-----------------+-----+\n",
      "|BestNights_friday|count|\n",
      "+-----------------+-----+\n",
      "|                0|32627|\n",
      "|                1| 1848|\n",
      "+-----------------+-----+\n",
      "\n",
      "+-------------------+-----+\n",
      "|BestNights_saturday|count|\n",
      "+-------------------+-----+\n",
      "|                  0|32654|\n",
      "|                  1| 1821|\n",
      "+-------------------+-----+\n",
      "\n",
      "+-----------+-----+\n",
      "|BikeParking|count|\n",
      "+-----------+-----+\n",
      "|          1|18357|\n",
      "|          0|16118|\n",
      "+-----------+-----+\n",
      "\n",
      "+--------------------------+-----+\n",
      "|BusinessAcceptsCreditCards|count|\n",
      "+--------------------------+-----+\n",
      "|                         1|28837|\n",
      "|                         0| 5638|\n",
      "+--------------------------+-----+\n",
      "\n",
      "+-------------------+-----+\n",
      "|BusinessParking_lot|count|\n",
      "+-------------------+-----+\n",
      "|                  0|18221|\n",
      "|                  1|16254|\n",
      "+-------------------+-----+\n",
      "\n",
      "+----------------------+-----+\n",
      "|BusinessParking_street|count|\n",
      "+----------------------+-----+\n",
      "|                     0|26891|\n",
      "|                     1| 7584|\n",
      "+----------------------+-----+\n",
      "\n",
      "+------+-----+\n",
      "|Caters|count|\n",
      "+------+-----+\n",
      "|     0|20506|\n",
      "|     1|13969|\n",
      "+------+-----+\n",
      "\n",
      "+-----------+-----+\n",
      "|DogsAllowed|count|\n",
      "+-----------+-----+\n",
      "|          0|32311|\n",
      "|          1| 2164|\n",
      "+-----------+-----+\n",
      "\n",
      "+---------+-----+\n",
      "|DriveThru|count|\n",
      "+---------+-----+\n",
      "|        0|31188|\n",
      "|        1| 3287|\n",
      "+---------+-----+\n",
      "\n",
      "+-----------+-----+\n",
      "|GoodForKids|count|\n",
      "+-----------+-----+\n",
      "|          1|22611|\n",
      "|          0|11864|\n",
      "+-----------+-----+\n",
      "\n",
      "+---------------------+-----+\n",
      "|GoodForMeal_breakfast|count|\n",
      "+---------------------+-----+\n",
      "|                    0|32120|\n",
      "|                    1| 2355|\n",
      "+---------------------+-----+\n",
      "\n",
      "+------------------+-----+\n",
      "|GoodForMeal_brunch|count|\n",
      "+------------------+-----+\n",
      "|                 0|32362|\n",
      "|                 1| 2113|\n",
      "+------------------+-----+\n",
      "\n",
      "+-----------------+-----+\n",
      "|GoodForMeal_lunch|count|\n",
      "+-----------------+-----+\n",
      "|                0|23596|\n",
      "|                1|10879|\n",
      "+-----------------+-----+\n",
      "\n",
      "+------------------+-----+\n",
      "|GoodForMeal_dinner|count|\n",
      "+------------------+-----+\n",
      "|                 0|24225|\n",
      "|                 1|10250|\n",
      "+------------------+-----+\n",
      "\n",
      "+---------+-----+\n",
      "|HappyHour|count|\n",
      "+---------+-----+\n",
      "|        0|28720|\n",
      "|        1| 5755|\n",
      "+---------+-----+\n",
      "\n",
      "+-----+-----+\n",
      "|HasTV|count|\n",
      "+-----+-----+\n",
      "|    1|22785|\n",
      "|    0|11690|\n",
      "+-----+-----+\n",
      "\n",
      "+----------+-----+\n",
      "|NoiseLevel|count|\n",
      "+----------+-----+\n",
      "|      0.33|28532|\n",
      "|       0.0| 3827|\n",
      "|      0.67| 2116|\n",
      "+----------+-----+\n",
      "\n",
      "+--------------+-----+\n",
      "|OutdoorSeating|count|\n",
      "+--------------+-----+\n",
      "|             0|21767|\n",
      "|             1|12708|\n",
      "+--------------+-----+\n",
      "\n",
      "+-------------------+-----+\n",
      "|RestaurantsDelivery|count|\n",
      "+-------------------+-----+\n",
      "|                  1|22141|\n",
      "|                  0|12334|\n",
      "+-------------------+-----+\n",
      "\n",
      "+------------------------+-----+\n",
      "|RestaurantsGoodForGroups|count|\n",
      "+------------------------+-----+\n",
      "|                       1|22408|\n",
      "|                       0|12067|\n",
      "+------------------------+-----+\n",
      "\n",
      "+----------------------+-----+\n",
      "|RestaurantsPriceRange2|count|\n",
      "+----------------------+-----+\n",
      "|                  0.33|14189|\n",
      "|                   0.0|13580|\n",
      "|                   0.5| 5712|\n",
      "|                  0.67|  881|\n",
      "|                   1.0|  113|\n",
      "+----------------------+-----+\n",
      "\n",
      "+-----------------------+-----+\n",
      "|RestaurantsReservations|count|\n",
      "+-----------------------+-----+\n",
      "|                      0|26168|\n",
      "|                      1| 8307|\n",
      "+-----------------------+-----+\n",
      "\n",
      "+-----------------------+-----+\n",
      "|RestaurantsTableService|count|\n",
      "+-----------------------+-----+\n",
      "|                      0|25088|\n",
      "|                      1| 9387|\n",
      "+-----------------------+-----+\n",
      "\n",
      "+------------------+-----+\n",
      "|RestaurantsTakeOut|count|\n",
      "+------------------+-----+\n",
      "|                 1|30514|\n",
      "|                 0| 3961|\n",
      "+------------------+-----+\n",
      "\n",
      "+--------------------+-----+\n",
      "|WheelchairAccessible|count|\n",
      "+--------------------+-----+\n",
      "|                   0|24853|\n",
      "|                   1| 9622|\n",
      "+--------------------+-----+\n",
      "\n",
      "+----+-----+\n",
      "|WiFi|count|\n",
      "+----+-----+\n",
      "| 0.0|20155|\n",
      "| 1.0|14161|\n",
      "| 0.5|  159|\n",
      "+----+-----+\n",
      "\n"
     ]
    }
   ],
   "source": [
    "# Show counts of all values for features columns\n",
    "for i in range (1, len(featuresDF.columns)):\n",
    "    featuresDF.groupBy(featuresDF.columns[i]).count().orderBy('count', ascending=False).show(10)\n",
    "    "
   ]
  },
  {
   "cell_type": "markdown",
   "id": "3530c76a",
   "metadata": {},
   "source": [
    "**2.5.2.** Both Dataframes: size and schema "
   ]
  },
  {
   "cell_type": "code",
   "execution_count": 44,
   "id": "4ba7c25d",
   "metadata": {},
   "outputs": [
    {
     "data": {
      "text/plain": [
       "(34475, 31)"
      ]
     },
     "execution_count": 44,
     "metadata": {},
     "output_type": "execute_result"
    }
   ],
   "source": [
    "# result dataframe size\n",
    "(featuresDF.count(), len(featuresDF.columns))\n",
    "# columns: id, stars = target/label, plus: of 72 features, all over threshold"
   ]
  },
  {
   "cell_type": "code",
   "execution_count": 45,
   "id": "bef3e3d7",
   "metadata": {},
   "outputs": [
    {
     "name": "stdout",
     "output_type": "stream",
     "text": [
      "root\n",
      " |-- business_id: string (nullable = true)\n",
      " |-- stars: double (nullable = true)\n",
      " |-- Alcohol: double (nullable = false)\n",
      " |-- Ambience_casual: integer (nullable = false)\n",
      " |-- Ambience_classy: integer (nullable = false)\n",
      " |-- BestNights_friday: integer (nullable = false)\n",
      " |-- BestNights_saturday: integer (nullable = false)\n",
      " |-- BikeParking: integer (nullable = false)\n",
      " |-- BusinessAcceptsCreditCards: integer (nullable = false)\n",
      " |-- BusinessParking_lot: integer (nullable = false)\n",
      " |-- BusinessParking_street: integer (nullable = false)\n",
      " |-- Caters: integer (nullable = false)\n",
      " |-- DogsAllowed: integer (nullable = false)\n",
      " |-- DriveThru: integer (nullable = false)\n",
      " |-- GoodForKids: integer (nullable = false)\n",
      " |-- GoodForMeal_breakfast: integer (nullable = false)\n",
      " |-- GoodForMeal_brunch: integer (nullable = false)\n",
      " |-- GoodForMeal_lunch: integer (nullable = false)\n",
      " |-- GoodForMeal_dinner: integer (nullable = false)\n",
      " |-- HappyHour: integer (nullable = false)\n",
      " |-- HasTV: integer (nullable = false)\n",
      " |-- NoiseLevel: double (nullable = false)\n",
      " |-- OutdoorSeating: integer (nullable = false)\n",
      " |-- RestaurantsDelivery: integer (nullable = false)\n",
      " |-- RestaurantsGoodForGroups: integer (nullable = false)\n",
      " |-- RestaurantsPriceRange2: double (nullable = false)\n",
      " |-- RestaurantsReservations: integer (nullable = false)\n",
      " |-- RestaurantsTableService: integer (nullable = false)\n",
      " |-- RestaurantsTakeOut: integer (nullable = false)\n",
      " |-- WheelchairAccessible: integer (nullable = false)\n",
      " |-- WiFi: double (nullable = false)\n",
      "\n"
     ]
    }
   ],
   "source": [
    "featuresDF.printSchema()\n"
   ]
  },
  {
   "cell_type": "code",
   "execution_count": 46,
   "id": "5cd1a84d",
   "metadata": {},
   "outputs": [
    {
     "name": "stderr",
     "output_type": "stream",
     "text": [
      "                                                                                \r"
     ]
    },
    {
     "data": {
      "text/plain": [
       "(34475, 79)"
      ]
     },
     "execution_count": 46,
     "metadata": {},
     "output_type": "execute_result"
    }
   ],
   "source": [
    "# result dataframe size\n",
    "(dataDF.count(), len(dataDF.columns))\n"
   ]
  },
  {
   "cell_type": "code",
   "execution_count": 47,
   "id": "eea124cc",
   "metadata": {},
   "outputs": [
    {
     "name": "stdout",
     "output_type": "stream",
     "text": [
      "root\n",
      " |-- business_id: string (nullable = true)\n",
      " |-- name: string (nullable = true)\n",
      " |-- stars: double (nullable = true)\n",
      " |-- review_count: long (nullable = true)\n",
      " |-- categories: string (nullable = true)\n",
      " |-- city: string (nullable = true)\n",
      " |-- state: string (nullable = true)\n",
      " |-- postal_code: string (nullable = true)\n",
      " |-- lat: double (nullable = true)\n",
      " |-- lon: double (nullable = true)\n",
      " |-- AcceptsInsurance: string (nullable = true)\n",
      " |-- Alcohol: string (nullable = true)\n",
      " |-- Ambience_casual: string (nullable = true)\n",
      " |-- Ambience_classy: string (nullable = true)\n",
      " |-- Ambience_divey: string (nullable = true)\n",
      " |-- Ambience_hipster: string (nullable = true)\n",
      " |-- Ambience_intimate: string (nullable = true)\n",
      " |-- Ambience_romantic: string (nullable = true)\n",
      " |-- Ambience_touristy: string (nullable = true)\n",
      " |-- Ambience_trendy: string (nullable = true)\n",
      " |-- Ambience_upscale: string (nullable = true)\n",
      " |-- BYOB: string (nullable = true)\n",
      " |-- BYOBCorkage: string (nullable = true)\n",
      " |-- BestNights_monday: string (nullable = true)\n",
      " |-- BestNights_tuesday: string (nullable = true)\n",
      " |-- BestNights_wednesday: string (nullable = true)\n",
      " |-- BestNights_thursday: string (nullable = true)\n",
      " |-- BestNights_friday: string (nullable = true)\n",
      " |-- BestNights_saturday: string (nullable = true)\n",
      " |-- BestNights_sunday: string (nullable = true)\n",
      " |-- BikeParking: string (nullable = true)\n",
      " |-- BusinessAcceptsBitcoin: string (nullable = true)\n",
      " |-- BusinessAcceptsCreditCards: string (nullable = true)\n",
      " |-- BusinessParking_garage: string (nullable = true)\n",
      " |-- BusinessParking_lot: string (nullable = true)\n",
      " |-- BusinessParking_street: string (nullable = true)\n",
      " |-- BusinessParking_valet: string (nullable = true)\n",
      " |-- BusinessParking_validated: string (nullable = true)\n",
      " |-- ByAppointmentOnly: string (nullable = true)\n",
      " |-- Caters: string (nullable = true)\n",
      " |-- CoatCheck: string (nullable = true)\n",
      " |-- Corkage: string (nullable = true)\n",
      " |-- DogsAllowed: string (nullable = true)\n",
      " |-- DriveThru: string (nullable = true)\n",
      " |-- GoodForDancing: string (nullable = true)\n",
      " |-- GoodForKids: string (nullable = true)\n",
      " |-- GoodForMeal_breakfast: string (nullable = true)\n",
      " |-- GoodForMeal_brunch: string (nullable = true)\n",
      " |-- GoodForMeal_lunch: string (nullable = true)\n",
      " |-- GoodForMeal_dinner: string (nullable = true)\n",
      " |-- GoodForMeal_dessert: string (nullable = true)\n",
      " |-- GoodForMeal_latenight: string (nullable = true)\n",
      " |-- HairSpecializesIn_africanamerican: string (nullable = true)\n",
      " |-- HairSpecializesIn_asian: string (nullable = true)\n",
      " |-- HairSpecializesIn_coloring: string (nullable = true)\n",
      " |-- HairSpecializesIn_curly: string (nullable = true)\n",
      " |-- HairSpecializesIn_extensions: string (nullable = true)\n",
      " |-- HairSpecializesIn_kids: string (nullable = true)\n",
      " |-- HairSpecializesIn_perms: string (nullable = true)\n",
      " |-- HairSpecializesIn_straightperms: string (nullable = true)\n",
      " |-- HappyHour: string (nullable = true)\n",
      " |-- HasTV: string (nullable = true)\n",
      " |-- Music_background_music: string (nullable = true)\n",
      " |-- Music_dj: string (nullable = true)\n",
      " |-- Music_jukebox: string (nullable = true)\n",
      " |-- Music_karaoke: string (nullable = true)\n",
      " |-- Music_live: string (nullable = true)\n",
      " |-- NoiseLevel: string (nullable = true)\n",
      " |-- OutdoorSeating: string (nullable = true)\n",
      " |-- RestaurantsAttire: string (nullable = true)\n",
      " |-- RestaurantsDelivery: string (nullable = true)\n",
      " |-- RestaurantsGoodForGroups: string (nullable = true)\n",
      " |-- RestaurantsPriceRange2: string (nullable = true)\n",
      " |-- RestaurantsReservations: string (nullable = true)\n",
      " |-- RestaurantsTableService: string (nullable = true)\n",
      " |-- RestaurantsTakeOut: string (nullable = true)\n",
      " |-- Smoking: string (nullable = true)\n",
      " |-- WheelchairAccessible: string (nullable = true)\n",
      " |-- WiFi: string (nullable = true)\n",
      "\n"
     ]
    }
   ],
   "source": [
    "dataDF.printSchema()\n"
   ]
  },
  {
   "cell_type": "markdown",
   "id": "c4a1deab",
   "metadata": {},
   "source": [
    "#### 2.6. Save final dataframes as CSV files"
   ]
  },
  {
   "cell_type": "code",
   "execution_count": 48,
   "id": "b03663a8",
   "metadata": {},
   "outputs": [
    {
     "name": "stderr",
     "output_type": "stream",
     "text": [
      "                                                                                \r"
     ]
    }
   ],
   "source": [
    "featuresDF.coalesce(1).write.csv(save_features, mode='overwrite', header='true')\n",
    "dataDF.coalesce(1).write.csv(save_data, mode='overwrite', header='true')\n",
    "\n"
   ]
  },
  {
   "cell_type": "markdown",
   "id": "0bc2d1d4",
   "metadata": {},
   "source": [
    "#### End Spark Session"
   ]
  },
  {
   "cell_type": "code",
   "execution_count": 49,
   "id": "3ff3cb28",
   "metadata": {},
   "outputs": [],
   "source": [
    "# End Spark Session\n",
    "spark.stop()\n"
   ]
  },
  {
   "cell_type": "markdown",
   "id": "cd5d36e8",
   "metadata": {},
   "source": [
    "Copy csv file from HDFS to local"
   ]
  },
  {
   "cell_type": "markdown",
   "id": "b7290ce9",
   "metadata": {},
   "source": [
    "#### *UPDATE HERE:*\n",
    "\n",
    "##### (both lines filename in Project folder should match name of .csv folders where file was saved in HDFS at top of notebook)\n"
   ]
  },
  {
   "cell_type": "code",
   "execution_count": 50,
   "id": "a8c73288",
   "metadata": {
    "id": "9i_FdeZVInfz"
   },
   "outputs": [],
   "source": [
    "# UPDATE with folder name in HDFS (see output above)\n",
    "! hdfs dfs -copyToLocal /Project/Features.csv Features_CSV_Folder\n",
    "! hdfs dfs -copyToLocal /Project/Data.csv Data_CSV_Folder\n"
   ]
  },
  {
   "cell_type": "markdown",
   "id": "c97c6c1f",
   "metadata": {},
   "source": [
    "##### After notebook runs, find the new file named “part-00000-…” in folder named “Features_CSV_Folder” Rename the “part-…” file as “Features.csv” and move it into local folder.\n",
    "\n",
    "##### Similarly, find the new file named “part-00000-…” in folder named “Data_CSV_Folder” Rename the “part-…” file as “Data.csv” and move it into local folder.\n",
    "\n",
    "##### Proceed to next notebook (3-Clustering.ipynb)\n",
    "\n"
   ]
  },
  {
   "cell_type": "code",
   "execution_count": null,
   "id": "da2be028",
   "metadata": {},
   "outputs": [],
   "source": []
  }
 ],
 "metadata": {
  "kernelspec": {
   "display_name": "Python 3 (ipykernel)",
   "language": "python",
   "name": "python3"
  },
  "language_info": {
   "codemirror_mode": {
    "name": "ipython",
    "version": 3
   },
   "file_extension": ".py",
   "mimetype": "text/x-python",
   "name": "python",
   "nbconvert_exporter": "python",
   "pygments_lexer": "ipython3",
   "version": "3.10.12"
  }
 },
 "nbformat": 4,
 "nbformat_minor": 5
}
