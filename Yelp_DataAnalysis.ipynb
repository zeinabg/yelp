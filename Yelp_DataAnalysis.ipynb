{
 "cells": [
  {
   "cell_type": "markdown",
   "id": "5db25dd9-fe0a-450f-ab1a-889aa7d6aef2",
   "metadata": {},
   "source": [
    "<br><center><h1 style=\"font-size:2em\"> Yelp Data Analysis</h1></center>\n",
    "<br>\n",
    "<br> **Zeinab Gaeini**"
   ]
  },
  {
   "cell_type": "markdown",
   "id": "e6d71897-3818-49ab-b750-9f02c6676f78",
   "metadata": {
    "tags": []
   },
   "source": [
    "The Yelp dataset is a collection of data provided by Yelp, an online platform that allows users to discover and review businesses, particularly those in the restaurant and hospitality industry. The dataset includes a diverse set of information related to businesses, user reviews, user profiles, and more. Here's a brief overview of the key components of the Yelp dataset:\n",
    "\n",
    "- **Review Data**: User-generated reviews for businesses on Yelp.\n",
    "Includes information such as user ID, business ID, review text, user ratings, and the time the review was posted.\n",
    "\n",
    "- **User Data**: User profiles and activity on Yelp. \n",
    "Includes details such as user ID, name, review count, friend connections, and the date the user joined Yelp.\n",
    "\n",
    "- **Business Data**: Information about various businesses listed on Yelp.\n",
    "Includes details such as business ID, name, location (address, city, state, postal code), categories, and overall rating.\n",
    "\n",
    "In this project, our goal is to delve into the dataset through the integration of tables and statistical analysis to provide an answer for a research question. While numerous evaluations can be conducted on this extensive dataset, we have narrowed our focus to address one specific question."
   ]
  },
  {
   "cell_type": "markdown",
   "id": "72a00d48-c6ee-493a-abb0-d794cb630b69",
   "metadata": {},
   "source": [
    "**Data Source**: https://www.yelp.com/dataset/download"
   ]
  },
  {
   "cell_type": "code",
   "execution_count": 771,
   "id": "b628abc3-446b-404a-9fac-b4a023914b4e",
   "metadata": {
    "tags": []
   },
   "outputs": [],
   "source": [
    "import pandas as pd\n",
    "import json\n",
    "import numpy as np\n",
    "import matplotlib.pyplot as plt\n",
    "import seaborn as sns\n",
    "import nltk\n",
    "from nltk.tokenize import word_tokenize\n",
    "import geopandas as gpd\n",
    "from shapely.geometry import Point\n",
    "from transformers import pipeline\n",
    "from transformers import TFAutoModelForSequenceClassification, AutoTokenizer\n",
    "from pyabsa import ATEPCCheckpointManager\n",
    "from pyabsa import available_checkpoints\n",
    "import warnings \n",
    "from sklearn.model_selection import train_test_split\n",
    "from sklearn.linear_model import LinearRegression\n",
    "from sklearn.metrics import mean_squared_error\n",
    "from sklearn.preprocessing import MultiLabelBinarizer"
   ]
  },
  {
   "cell_type": "markdown",
   "id": "c5cb4f25-0769-4cb3-9cbb-0ba481c8294d",
   "metadata": {},
   "source": [
    "# Step 1: Exploring the dataset"
   ]
  },
  {
   "cell_type": "markdown",
   "id": "60cbfdf4-a557-49a7-8fe2-43645bc585f9",
   "metadata": {},
   "source": [
    "## 1.1. Reading and Storing data\n",
    "In this step, we read each table and save them as individual dataframes. Initially stored as JSON, the process became time-consuming during kernel restarts. To address this, I've stored the data as a CSV file for faster retrieval. "
   ]
  },
  {
   "cell_type": "markdown",
   "id": "9d56b1dd-0531-4fb9-b2ff-fbd4d01a9cb3",
   "metadata": {},
   "source": [
    "### 1.1.1. Review Table"
   ]
  },
  {
   "cell_type": "markdown",
   "id": "679b6188-50de-46ec-94f1-cac936d54726",
   "metadata": {},
   "source": [
    "**User-generated reviews for businesses on Yelp.**"
   ]
  },
  {
   "cell_type": "markdown",
   "id": "27e91c09-807a-467b-8edf-1560566bd38c",
   "metadata": {},
   "source": [
    "**Importing data**"
   ]
  },
  {
   "cell_type": "code",
   "execution_count": null,
   "id": "1e01f5f9-ae63-41d9-a864-2d06ab198299",
   "metadata": {
    "tags": []
   },
   "outputs": [],
   "source": [
    "#read json file of 'reviews' and store it as a data frame \n",
    "\n",
    "# Initialize an empty list to store individual JSON objects\n",
    "data_list = []\n",
    "\n",
    "# Open the file and read JSON lines\n",
    "with open('yelp_academic_dataset_review.json', 'r') as file:\n",
    "    for line in file:\n",
    "        try:\n",
    "            # Attempt to load the JSON from each line\n",
    "            data = json.loads(line)\n",
    "            data_list.append(data)\n",
    "        except json.JSONDecodeError as e:\n",
    "            print(f\"Error decoding JSON: {e}\")\n",
    "\n",
    "# Convert the list of JSON objects to a DataFrame\n",
    "review = pd.DataFrame(data_list)\n",
    "review.to_csv('yelp_academic_dataset_review.csv', index=False)"
   ]
  },
  {
   "cell_type": "markdown",
   "id": "616e3793-4f82-4ef9-9e57-33516a5aee23",
   "metadata": {},
   "source": [
    "**Save it as a CSV file for saving the runnig time**"
   ]
  },
  {
   "cell_type": "code",
   "execution_count": 92,
   "id": "5939391d-28a1-4aa3-be14-46c1e56d7bf5",
   "metadata": {
    "tags": []
   },
   "outputs": [],
   "source": [
    "review = pd.read_csv('yelp_academic_dataset_review.csv')"
   ]
  },
  {
   "cell_type": "markdown",
   "id": "5210f158-940c-4177-a9db-dee7fce582ad",
   "metadata": {},
   "source": [
    "**Quick look into dataset**"
   ]
  },
  {
   "cell_type": "code",
   "execution_count": 825,
   "id": "bcdf4b0e-73da-453e-849a-3c54b5e71ab8",
   "metadata": {
    "tags": []
   },
   "outputs": [
    {
     "data": {
      "text/html": [
       "<div>\n",
       "<style scoped>\n",
       "    .dataframe tbody tr th:only-of-type {\n",
       "        vertical-align: middle;\n",
       "    }\n",
       "\n",
       "    .dataframe tbody tr th {\n",
       "        vertical-align: top;\n",
       "    }\n",
       "\n",
       "    .dataframe thead th {\n",
       "        text-align: right;\n",
       "    }\n",
       "</style>\n",
       "<table border=\"1\" class=\"dataframe\">\n",
       "  <thead>\n",
       "    <tr style=\"text-align: right;\">\n",
       "      <th></th>\n",
       "      <th>review_id</th>\n",
       "      <th>user_id</th>\n",
       "      <th>business_id</th>\n",
       "      <th>stars</th>\n",
       "      <th>useful</th>\n",
       "      <th>funny</th>\n",
       "      <th>cool</th>\n",
       "      <th>text</th>\n",
       "      <th>date</th>\n",
       "      <th>date_format</th>\n",
       "    </tr>\n",
       "  </thead>\n",
       "  <tbody>\n",
       "    <tr>\n",
       "      <th>0</th>\n",
       "      <td>KU_O5udG6zpxOg-VcAEodg</td>\n",
       "      <td>mh_-eMZ6K5RLWhZyISBhwA</td>\n",
       "      <td>XQfwVwDr-v0ZS3_CbbE5Xw</td>\n",
       "      <td>3.0</td>\n",
       "      <td>0.0</td>\n",
       "      <td>0.0</td>\n",
       "      <td>0.0</td>\n",
       "      <td>If you decide to eat here, just be aware it is...</td>\n",
       "      <td>2018-07-07 22:09:11</td>\n",
       "      <td>2018-07-07 22:09:11</td>\n",
       "    </tr>\n",
       "    <tr>\n",
       "      <th>1</th>\n",
       "      <td>BiTunyQ73aT9WBnpR9DZGw</td>\n",
       "      <td>OyoGAe7OKpv6SyGZT5g77Q</td>\n",
       "      <td>7ATYjTIgM3jUlt4UM3IypQ</td>\n",
       "      <td>5.0</td>\n",
       "      <td>1.0</td>\n",
       "      <td>0.0</td>\n",
       "      <td>1.0</td>\n",
       "      <td>I've taken a lot of spin classes over the year...</td>\n",
       "      <td>2012-01-03 15:28:18</td>\n",
       "      <td>2012-01-03 15:28:18</td>\n",
       "    </tr>\n",
       "  </tbody>\n",
       "</table>\n",
       "</div>"
      ],
      "text/plain": [
       "                review_id                 user_id             business_id  \\\n",
       "0  KU_O5udG6zpxOg-VcAEodg  mh_-eMZ6K5RLWhZyISBhwA  XQfwVwDr-v0ZS3_CbbE5Xw   \n",
       "1  BiTunyQ73aT9WBnpR9DZGw  OyoGAe7OKpv6SyGZT5g77Q  7ATYjTIgM3jUlt4UM3IypQ   \n",
       "\n",
       "   stars  useful  funny  cool  \\\n",
       "0    3.0     0.0    0.0   0.0   \n",
       "1    5.0     1.0    0.0   1.0   \n",
       "\n",
       "                                                text                 date  \\\n",
       "0  If you decide to eat here, just be aware it is...  2018-07-07 22:09:11   \n",
       "1  I've taken a lot of spin classes over the year...  2012-01-03 15:28:18   \n",
       "\n",
       "          date_format  \n",
       "0 2018-07-07 22:09:11  \n",
       "1 2012-01-03 15:28:18  "
      ]
     },
     "execution_count": 825,
     "metadata": {},
     "output_type": "execute_result"
    }
   ],
   "source": [
    "#explor the variables of dataset\n",
    "review.head(2)"
   ]
  },
  {
   "cell_type": "code",
   "execution_count": 760,
   "id": "6d105f10-972c-47be-ae4b-cfb1c0e54b1b",
   "metadata": {
    "tags": []
   },
   "outputs": [
    {
     "name": "stdout",
     "output_type": "stream",
     "text": [
      "<class 'pandas.core.frame.DataFrame'>\n",
      "RangeIndex: 6990282 entries, 0 to 6990281\n",
      "Data columns (total 10 columns):\n",
      " #   Column       Dtype         \n",
      "---  ------       -----         \n",
      " 0   review_id    object        \n",
      " 1   user_id      object        \n",
      " 2   business_id  object        \n",
      " 3   stars        float64       \n",
      " 4   useful       float64       \n",
      " 5   funny        float64       \n",
      " 6   cool         float64       \n",
      " 7   text         object        \n",
      " 8   date         object        \n",
      " 9   date_format  datetime64[ns]\n",
      "dtypes: datetime64[ns](1), float64(4), object(5)\n",
      "memory usage: 533.3+ MB\n"
     ]
    }
   ],
   "source": [
    "review.info()"
   ]
  },
  {
   "cell_type": "code",
   "execution_count": 7,
   "id": "69f2a61f-4e55-41d6-a571-9c026354d8d9",
   "metadata": {
    "tags": []
   },
   "outputs": [
    {
     "data": {
      "text/plain": [
       "6990282"
      ]
     },
     "execution_count": 7,
     "metadata": {},
     "output_type": "execute_result"
    }
   ],
   "source": [
    "#number of rows\n",
    "len(review)"
   ]
  },
  {
   "cell_type": "markdown",
   "id": "efcd78d4-093a-4489-bfad-a054cfac51c9",
   "metadata": {},
   "source": [
    "**Is there any null values in each column?**"
   ]
  },
  {
   "cell_type": "code",
   "execution_count": 58,
   "id": "c49fed6f-e007-4015-b517-8e8582a2d1b3",
   "metadata": {
    "tags": []
   },
   "outputs": [
    {
     "data": {
      "text/plain": [
       "review_id      0.0\n",
       "user_id        0.0\n",
       "business_id    0.0\n",
       "stars          0.0\n",
       "useful         0.0\n",
       "funny          0.0\n",
       "cool           0.0\n",
       "text           0.0\n",
       "date           0.0\n",
       "dtype: float64"
      ]
     },
     "execution_count": 58,
     "metadata": {},
     "output_type": "execute_result"
    }
   ],
   "source": [
    "review.isna().mean()"
   ]
  },
  {
   "cell_type": "markdown",
   "id": "4ff4dfb8-81f8-4dab-bc33-0dce67b755d9",
   "metadata": {},
   "source": [
    "**Now we have these information:**\n",
    "- We have about 7 million rows of data\n",
    "- No missing values in this table.\n",
    "- String: user ID and business ID\n",
    "- Text: review text\n",
    "- Numeric: user ratings (stars)\n",
    "- Other numerics: rating attributes (useful, funny, cool)\n",
    "- Date: Date and time the review was posted"
   ]
  },
  {
   "cell_type": "markdown",
   "id": "67e4e1c9-fb5f-46a0-87d5-bb76d2b16b72",
   "metadata": {},
   "source": [
    "According to the info table, we need to change the format of date variable from string to datatime for further analysis."
   ]
  },
  {
   "cell_type": "code",
   "execution_count": 93,
   "id": "71dcea79-6465-48b8-b51b-97cddb29d4b4",
   "metadata": {
    "tags": []
   },
   "outputs": [],
   "source": [
    "# change the format of str to date\n",
    "review['date_format'] = pd.to_datetime(review.date)"
   ]
  },
  {
   "cell_type": "markdown",
   "id": "3f68f4ec-518a-4b26-a3b6-01a6d76079d2",
   "metadata": {
    "tags": []
   },
   "source": [
    "### 1.1.2. User Table"
   ]
  },
  {
   "cell_type": "markdown",
   "id": "41ef5045-6eea-4bdf-a489-3332ec2c71e6",
   "metadata": {},
   "source": [
    "**User profiles and activity on Yelp**"
   ]
  },
  {
   "cell_type": "markdown",
   "id": "cc8197aa-a160-4b00-8021-e5631a4e59f6",
   "metadata": {},
   "source": [
    "**Importing data**"
   ]
  },
  {
   "cell_type": "code",
   "execution_count": 3,
   "id": "e77ef98d-d2b5-47f5-b191-6c91982f13a3",
   "metadata": {
    "tags": []
   },
   "outputs": [],
   "source": [
    "#read json file of 'user' and store it as a data frame\n",
    "\n",
    "# Initialize an empty list to store individual JSON objects\n",
    "data_list = []\n",
    "\n",
    "# Open the file and read JSON lines\n",
    "with open('yelp_academic_dataset_user.json', 'r') as file:\n",
    "    for line in file:\n",
    "        try:\n",
    "            # Attempt to load the JSON from each line\n",
    "            data = json.loads(line)\n",
    "            data_list.append(data)\n",
    "        except json.JSONDecodeError as e:\n",
    "            print(f\"Error decoding JSON: {e}\")\n",
    "\n",
    "# Convert the list of JSON objects to a DataFrame\n",
    "user = pd.DataFrame(data_list)\n",
    "user.to_csv('yelp_academic_dataset_user.csv', index=False)"
   ]
  },
  {
   "cell_type": "markdown",
   "id": "b1b1af2a-496b-4638-a313-df3ea314cd4f",
   "metadata": {
    "tags": []
   },
   "source": [
    "**Saving the file as csv for faster loading**"
   ]
  },
  {
   "cell_type": "code",
   "execution_count": 94,
   "id": "91e1e4d3-7767-4c93-8c47-f666f066c462",
   "metadata": {
    "tags": []
   },
   "outputs": [],
   "source": [
    "user = pd.read_csv('yelp_academic_dataset_user.csv')"
   ]
  },
  {
   "cell_type": "markdown",
   "id": "367ccea6-08fc-4a75-aa5a-98696344c86e",
   "metadata": {},
   "source": [
    "**Look into data table**"
   ]
  },
  {
   "cell_type": "code",
   "execution_count": 823,
   "id": "a60b893d-4caa-48fd-97ce-1fc94ced3024",
   "metadata": {
    "tags": []
   },
   "outputs": [],
   "source": [
    "pd.set_option('display.max_colwidth', 50)"
   ]
  },
  {
   "cell_type": "code",
   "execution_count": 824,
   "id": "9bd9ccad-e10d-47d8-bb00-999e563b8834",
   "metadata": {
    "tags": []
   },
   "outputs": [
    {
     "data": {
      "text/html": [
       "<div>\n",
       "<style scoped>\n",
       "    .dataframe tbody tr th:only-of-type {\n",
       "        vertical-align: middle;\n",
       "    }\n",
       "\n",
       "    .dataframe tbody tr th {\n",
       "        vertical-align: top;\n",
       "    }\n",
       "\n",
       "    .dataframe thead th {\n",
       "        text-align: right;\n",
       "    }\n",
       "</style>\n",
       "<table border=\"1\" class=\"dataframe\">\n",
       "  <thead>\n",
       "    <tr style=\"text-align: right;\">\n",
       "      <th></th>\n",
       "      <th>user_id</th>\n",
       "      <th>name</th>\n",
       "      <th>review_count</th>\n",
       "      <th>yelping_since</th>\n",
       "      <th>useful</th>\n",
       "      <th>funny</th>\n",
       "      <th>cool</th>\n",
       "      <th>elite</th>\n",
       "      <th>friends</th>\n",
       "      <th>fans</th>\n",
       "      <th>...</th>\n",
       "      <th>compliment_profile</th>\n",
       "      <th>compliment_cute</th>\n",
       "      <th>compliment_list</th>\n",
       "      <th>compliment_note</th>\n",
       "      <th>compliment_plain</th>\n",
       "      <th>compliment_cool</th>\n",
       "      <th>compliment_funny</th>\n",
       "      <th>compliment_writer</th>\n",
       "      <th>compliment_photos</th>\n",
       "      <th>date_format_yelping</th>\n",
       "    </tr>\n",
       "  </thead>\n",
       "  <tbody>\n",
       "    <tr>\n",
       "      <th>0</th>\n",
       "      <td>qVc8ODYU5SZjKXVBgXdI7w</td>\n",
       "      <td>Walker</td>\n",
       "      <td>585</td>\n",
       "      <td>2007-01-25 16:47:26</td>\n",
       "      <td>7217</td>\n",
       "      <td>1259</td>\n",
       "      <td>5994</td>\n",
       "      <td>2007</td>\n",
       "      <td>NSCy54eWehBJyZdG2iE84w, pe42u7DcCH2QmI81NX-8qA...</td>\n",
       "      <td>267</td>\n",
       "      <td>...</td>\n",
       "      <td>55</td>\n",
       "      <td>56</td>\n",
       "      <td>18</td>\n",
       "      <td>232</td>\n",
       "      <td>844</td>\n",
       "      <td>467</td>\n",
       "      <td>467</td>\n",
       "      <td>239</td>\n",
       "      <td>180</td>\n",
       "      <td>2007-01-25 16:47:26</td>\n",
       "    </tr>\n",
       "    <tr>\n",
       "      <th>1</th>\n",
       "      <td>j14WgRoU_-2ZE1aw1dXrJg</td>\n",
       "      <td>Daniel</td>\n",
       "      <td>4333</td>\n",
       "      <td>2009-01-25 04:35:42</td>\n",
       "      <td>43091</td>\n",
       "      <td>13066</td>\n",
       "      <td>27281</td>\n",
       "      <td>2009,2010,2011,2012,2013,2014,2015,2016,2017,2...</td>\n",
       "      <td>ueRPE0CX75ePGMqOFVj6IQ, 52oH4DrRvzzl8wh5UXyU0A...</td>\n",
       "      <td>3138</td>\n",
       "      <td>...</td>\n",
       "      <td>184</td>\n",
       "      <td>157</td>\n",
       "      <td>251</td>\n",
       "      <td>1847</td>\n",
       "      <td>7054</td>\n",
       "      <td>3131</td>\n",
       "      <td>3131</td>\n",
       "      <td>1521</td>\n",
       "      <td>1946</td>\n",
       "      <td>2009-01-25 04:35:42</td>\n",
       "    </tr>\n",
       "  </tbody>\n",
       "</table>\n",
       "<p>2 rows × 23 columns</p>\n",
       "</div>"
      ],
      "text/plain": [
       "                  user_id    name  review_count        yelping_since  useful  \\\n",
       "0  qVc8ODYU5SZjKXVBgXdI7w  Walker           585  2007-01-25 16:47:26    7217   \n",
       "1  j14WgRoU_-2ZE1aw1dXrJg  Daniel          4333  2009-01-25 04:35:42   43091   \n",
       "\n",
       "   funny   cool                                              elite  \\\n",
       "0   1259   5994                                               2007   \n",
       "1  13066  27281  2009,2010,2011,2012,2013,2014,2015,2016,2017,2...   \n",
       "\n",
       "                                             friends  fans  ...  \\\n",
       "0  NSCy54eWehBJyZdG2iE84w, pe42u7DcCH2QmI81NX-8qA...   267  ...   \n",
       "1  ueRPE0CX75ePGMqOFVj6IQ, 52oH4DrRvzzl8wh5UXyU0A...  3138  ...   \n",
       "\n",
       "   compliment_profile  compliment_cute  compliment_list  compliment_note  \\\n",
       "0                  55               56               18              232   \n",
       "1                 184              157              251             1847   \n",
       "\n",
       "   compliment_plain  compliment_cool  compliment_funny  compliment_writer  \\\n",
       "0               844              467               467                239   \n",
       "1              7054             3131              3131               1521   \n",
       "\n",
       "   compliment_photos  date_format_yelping  \n",
       "0                180  2007-01-25 16:47:26  \n",
       "1               1946  2009-01-25 04:35:42  \n",
       "\n",
       "[2 rows x 23 columns]"
      ]
     },
     "execution_count": 824,
     "metadata": {},
     "output_type": "execute_result"
    }
   ],
   "source": [
    "user.head(2)"
   ]
  },
  {
   "cell_type": "code",
   "execution_count": 334,
   "id": "76dc71c8-be6b-47e4-a3b9-9acde9a2894d",
   "metadata": {
    "tags": []
   },
   "outputs": [
    {
     "name": "stdout",
     "output_type": "stream",
     "text": [
      "<class 'pandas.core.frame.DataFrame'>\n",
      "RangeIndex: 1987897 entries, 0 to 1987896\n",
      "Data columns (total 24 columns):\n",
      " #   Column               Dtype         \n",
      "---  ------               -----         \n",
      " 0   user_id              object        \n",
      " 1   name                 object        \n",
      " 2   review_count         int64         \n",
      " 3   yelping_since        object        \n",
      " 4   useful               int64         \n",
      " 5   funny                int64         \n",
      " 6   cool                 int64         \n",
      " 7   elite                object        \n",
      " 8   friends              object        \n",
      " 9   fans                 int64         \n",
      " 10  average_stars        float64       \n",
      " 11  compliment_hot       int64         \n",
      " 12  compliment_more      int64         \n",
      " 13  compliment_profile   int64         \n",
      " 14  compliment_cute      int64         \n",
      " 15  compliment_list      int64         \n",
      " 16  compliment_note      int64         \n",
      " 17  compliment_plain     int64         \n",
      " 18  compliment_cool      int64         \n",
      " 19  compliment_funny     int64         \n",
      " 20  compliment_writer    int64         \n",
      " 21  compliment_photos    int64         \n",
      " 22  date_format_yelping  datetime64[ns]\n",
      " 23  year_yelping         int32         \n",
      "dtypes: datetime64[ns](1), float64(1), int32(1), int64(16), object(5)\n",
      "memory usage: 356.4+ MB\n"
     ]
    }
   ],
   "source": [
    "user.info()"
   ]
  },
  {
   "cell_type": "code",
   "execution_count": 12,
   "id": "14f6581e-8a0f-4f45-a7c1-54f77fcdc881",
   "metadata": {
    "tags": []
   },
   "outputs": [
    {
     "data": {
      "text/plain": [
       "1987897"
      ]
     },
     "execution_count": 12,
     "metadata": {},
     "output_type": "execute_result"
    }
   ],
   "source": [
    "len(user)"
   ]
  },
  {
   "cell_type": "markdown",
   "id": "98f10445-08d5-4360-bbff-3bca741dc263",
   "metadata": {},
   "source": [
    "**Any Null?**"
   ]
  },
  {
   "cell_type": "code",
   "execution_count": 353,
   "id": "47cc99e2-cf53-4660-ae92-0914cac9146e",
   "metadata": {
    "tags": []
   },
   "outputs": [
    {
     "data": {
      "text/plain": [
       "user_id                0.00\n",
       "name                   0.00\n",
       "review_count           0.00\n",
       "yelping_since          0.00\n",
       "useful                 0.00\n",
       "funny                  0.00\n",
       "cool                   0.00\n",
       "elite                  0.95\n",
       "friends                0.44\n",
       "fans                   0.00\n",
       "average_stars          0.00\n",
       "compliment_hot         0.00\n",
       "compliment_more        0.00\n",
       "compliment_profile     0.00\n",
       "compliment_cute        0.00\n",
       "compliment_list        0.00\n",
       "compliment_note        0.00\n",
       "compliment_plain       0.00\n",
       "compliment_cool        0.00\n",
       "compliment_funny       0.00\n",
       "compliment_writer      0.00\n",
       "compliment_photos      0.00\n",
       "date_format_yelping    0.00\n",
       "year_yelping           0.00\n",
       "dtype: float64"
      ]
     },
     "execution_count": 353,
     "metadata": {},
     "output_type": "execute_result"
    }
   ],
   "source": [
    "user.isna().mean().round(2)"
   ]
  },
  {
   "cell_type": "code",
   "execution_count": 95,
   "id": "5994ebf6-2dcb-4914-9d0d-c1d82b91e970",
   "metadata": {
    "tags": []
   },
   "outputs": [],
   "source": [
    "# change the format of str to date\n",
    "user['date_format_yelping'] = pd.to_datetime(user.yelping_since)"
   ]
  },
  {
   "cell_type": "markdown",
   "id": "4e7c52d5-0365-4f87-afd2-56b8ee27a2ef",
   "metadata": {
    "tags": []
   },
   "source": [
    "**Now we have this information about user dataset:**\n",
    "- We have about 2 million rows of data\n",
    "- Missing values in the \"elite\" and \"friends\" columns in the users table\n",
    "- String: user_id, name\n",
    "- Numeric: review_count and average_stars\n",
    "- Date: yelping_since \n",
    "- Other variables: \n",
    "    - useful, funny, cool: The number of related votes the user has received from other users.\n",
    "    - elite: Indicates whether the user is part of the Yelp Elite Squad. This variable may contain the year(s) the user achieved elite status.\n",
    "    - friends: A list of user_ids of friends the user has on Yelp.\n",
    "    - fans: The number of users who have marked this user as a fan.\n",
    "    - compliment variables: The number of compliments the user has received for the related content.\n"
   ]
  },
  {
   "cell_type": "markdown",
   "id": "d73280f8-5f89-4be7-adb7-882faa1b06e0",
   "metadata": {
    "tags": []
   },
   "source": [
    "### 1.1.3. Exploring Business table"
   ]
  },
  {
   "cell_type": "markdown",
   "id": "80999376-fdf4-4c2e-a205-fe463a35228b",
   "metadata": {},
   "source": [
    "**Information about various businesses listed on Yelp.**"
   ]
  },
  {
   "cell_type": "markdown",
   "id": "bb2a2711-b758-4826-a22b-ea0f2dc42042",
   "metadata": {},
   "source": [
    "**Reading data**"
   ]
  },
  {
   "cell_type": "code",
   "execution_count": 3,
   "id": "273d2332-6267-4be4-bb43-63d5a57b49b5",
   "metadata": {
    "tags": []
   },
   "outputs": [],
   "source": [
    "#read json file of 'business' and store it as a data frame\n",
    "\n",
    "# Initialize an empty list to store individual JSON objects\n",
    "data_list = []\n",
    "\n",
    "# Open the file and read JSON lines\n",
    "with open('yelp_academic_dataset_business.json', 'r') as file:\n",
    "    for line in file:\n",
    "        try:\n",
    "            # Attempt to load the JSON from each line\n",
    "            data = json.loads(line)\n",
    "            data_list.append(data)\n",
    "        except json.JSONDecodeError as e:\n",
    "            print(f\"Error decoding JSON: {e}\")\n",
    "\n",
    "# Convert the list of JSON objects to a DataFrame\n",
    "business = pd.DataFrame(data_list)\n",
    "business.to_csv('yelp_academic_dataset_business.csv', index=False)"
   ]
  },
  {
   "cell_type": "markdown",
   "id": "71c7cc6b-bb47-438e-b99e-f750170a18c2",
   "metadata": {},
   "source": [
    "**Saving the file a csv for faster loading**"
   ]
  },
  {
   "cell_type": "code",
   "execution_count": 96,
   "id": "a330997c-aba2-43f1-9ef6-5d24854eb3d0",
   "metadata": {
    "tags": []
   },
   "outputs": [],
   "source": [
    "business = pd.read_csv('yelp_academic_dataset_business.csv')"
   ]
  },
  {
   "cell_type": "markdown",
   "id": "abd6019b-aaa1-4195-9789-f3719fc33476",
   "metadata": {},
   "source": [
    "**looking into dataset**"
   ]
  },
  {
   "cell_type": "code",
   "execution_count": 826,
   "id": "49d7aa12-9be8-41cb-8ca4-a29d8681738f",
   "metadata": {
    "tags": []
   },
   "outputs": [
    {
     "data": {
      "text/html": [
       "<div>\n",
       "<style scoped>\n",
       "    .dataframe tbody tr th:only-of-type {\n",
       "        vertical-align: middle;\n",
       "    }\n",
       "\n",
       "    .dataframe tbody tr th {\n",
       "        vertical-align: top;\n",
       "    }\n",
       "\n",
       "    .dataframe thead th {\n",
       "        text-align: right;\n",
       "    }\n",
       "</style>\n",
       "<table border=\"1\" class=\"dataframe\">\n",
       "  <thead>\n",
       "    <tr style=\"text-align: right;\">\n",
       "      <th></th>\n",
       "      <th>business_id</th>\n",
       "      <th>name</th>\n",
       "      <th>address</th>\n",
       "      <th>city</th>\n",
       "      <th>state</th>\n",
       "      <th>postal_code</th>\n",
       "      <th>latitude</th>\n",
       "      <th>longitude</th>\n",
       "      <th>stars</th>\n",
       "      <th>review_count</th>\n",
       "      <th>is_open</th>\n",
       "      <th>attributes</th>\n",
       "      <th>categories</th>\n",
       "      <th>hours</th>\n",
       "    </tr>\n",
       "  </thead>\n",
       "  <tbody>\n",
       "    <tr>\n",
       "      <th>0</th>\n",
       "      <td>Pns2l4eNsfO8kk83dixA6A</td>\n",
       "      <td>Abby Rappoport, LAC, CMQ</td>\n",
       "      <td>1616 Chapala St, Ste 2</td>\n",
       "      <td>Santa Barbara</td>\n",
       "      <td>CA</td>\n",
       "      <td>93101</td>\n",
       "      <td>34.426679</td>\n",
       "      <td>-119.711197</td>\n",
       "      <td>5.0</td>\n",
       "      <td>7</td>\n",
       "      <td>0</td>\n",
       "      <td>{'ByAppointmentOnly': 'True'}</td>\n",
       "      <td>Doctors, Traditional Chinese Medicine, Naturop...</td>\n",
       "      <td>NaN</td>\n",
       "    </tr>\n",
       "    <tr>\n",
       "      <th>1</th>\n",
       "      <td>mpf3x-BjTdTEA3yCZrAYPw</td>\n",
       "      <td>The UPS Store</td>\n",
       "      <td>87 Grasso Plaza Shopping Center</td>\n",
       "      <td>Affton</td>\n",
       "      <td>MO</td>\n",
       "      <td>63123</td>\n",
       "      <td>38.551126</td>\n",
       "      <td>-90.335695</td>\n",
       "      <td>3.0</td>\n",
       "      <td>15</td>\n",
       "      <td>1</td>\n",
       "      <td>{'BusinessAcceptsCreditCards': 'True'}</td>\n",
       "      <td>Shipping Centers, Local Services, Notaries, Ma...</td>\n",
       "      <td>{'Monday': '0:0-0:0', 'Tuesday': '8:0-18:30', ...</td>\n",
       "    </tr>\n",
       "  </tbody>\n",
       "</table>\n",
       "</div>"
      ],
      "text/plain": [
       "              business_id                      name  \\\n",
       "0  Pns2l4eNsfO8kk83dixA6A  Abby Rappoport, LAC, CMQ   \n",
       "1  mpf3x-BjTdTEA3yCZrAYPw             The UPS Store   \n",
       "\n",
       "                           address           city state postal_code  \\\n",
       "0           1616 Chapala St, Ste 2  Santa Barbara    CA       93101   \n",
       "1  87 Grasso Plaza Shopping Center         Affton    MO       63123   \n",
       "\n",
       "    latitude   longitude  stars  review_count  is_open  \\\n",
       "0  34.426679 -119.711197    5.0             7        0   \n",
       "1  38.551126  -90.335695    3.0            15        1   \n",
       "\n",
       "                               attributes  \\\n",
       "0           {'ByAppointmentOnly': 'True'}   \n",
       "1  {'BusinessAcceptsCreditCards': 'True'}   \n",
       "\n",
       "                                          categories  \\\n",
       "0  Doctors, Traditional Chinese Medicine, Naturop...   \n",
       "1  Shipping Centers, Local Services, Notaries, Ma...   \n",
       "\n",
       "                                               hours  \n",
       "0                                                NaN  \n",
       "1  {'Monday': '0:0-0:0', 'Tuesday': '8:0-18:30', ...  "
      ]
     },
     "execution_count": 826,
     "metadata": {},
     "output_type": "execute_result"
    }
   ],
   "source": [
    "business.head(2)"
   ]
  },
  {
   "cell_type": "code",
   "execution_count": 386,
   "id": "3b563ceb-8c20-4ff4-b38b-5cd9a630600c",
   "metadata": {
    "tags": []
   },
   "outputs": [
    {
     "name": "stdout",
     "output_type": "stream",
     "text": [
      "<class 'pandas.core.frame.DataFrame'>\n",
      "RangeIndex: 150346 entries, 0 to 150345\n",
      "Data columns (total 15 columns):\n",
      " #   Column          Non-Null Count   Dtype  \n",
      "---  ------          --------------   -----  \n",
      " 0   business_id     150346 non-null  object \n",
      " 1   name            150346 non-null  object \n",
      " 2   address         145219 non-null  object \n",
      " 3   city            150346 non-null  object \n",
      " 4   state           150346 non-null  object \n",
      " 5   postal_code     150273 non-null  object \n",
      " 6   latitude        150346 non-null  float64\n",
      " 7   longitude       150346 non-null  float64\n",
      " 8   stars           150346 non-null  float64\n",
      " 9   review_count    150346 non-null  int64  \n",
      " 10  is_open         150346 non-null  int64  \n",
      " 11  attributes      136602 non-null  object \n",
      " 12  categories      150243 non-null  object \n",
      " 13  hours           127123 non-null  object \n",
      " 14  new_categories  150346 non-null  object \n",
      "dtypes: float64(3), int64(2), object(10)\n",
      "memory usage: 17.2+ MB\n"
     ]
    }
   ],
   "source": [
    "business.info()"
   ]
  },
  {
   "cell_type": "code",
   "execution_count": 132,
   "id": "4bbccc6e-c0cb-46c2-b6e8-417a3fb32174",
   "metadata": {
    "tags": []
   },
   "outputs": [
    {
     "data": {
      "text/plain": [
       "150346"
      ]
     },
     "execution_count": 132,
     "metadata": {},
     "output_type": "execute_result"
    }
   ],
   "source": [
    "len(business)"
   ]
  },
  {
   "cell_type": "markdown",
   "id": "769b26ea-ad4d-420e-92ec-5ff0e322a000",
   "metadata": {},
   "source": [
    "**Any missing value?**"
   ]
  },
  {
   "cell_type": "code",
   "execution_count": 429,
   "id": "2694d4ce-6491-41eb-a497-64d8e4f9a9ee",
   "metadata": {
    "tags": []
   },
   "outputs": [
    {
     "data": {
      "text/plain": [
       "business_id       0.00\n",
       "name              0.00\n",
       "address           0.03\n",
       "city              0.00\n",
       "state             0.00\n",
       "postal_code       0.00\n",
       "latitude          0.00\n",
       "longitude         0.00\n",
       "stars             0.00\n",
       "review_count      0.00\n",
       "is_open           0.00\n",
       "attributes        0.09\n",
       "categories        0.00\n",
       "hours             0.15\n",
       "new_categories    0.00\n",
       "dtype: float64"
      ]
     },
     "execution_count": 429,
     "metadata": {},
     "output_type": "execute_result"
    }
   ],
   "source": [
    "business.isna().mean().round(2)"
   ]
  },
  {
   "cell_type": "markdown",
   "id": "1ab57895-835c-421c-b183-8f2cee01bd0e",
   "metadata": {},
   "source": [
    "**Now we have this information about business dataset:**\n",
    "\n",
    "- We have about 150 thousand rows of data\n",
    "- There are some null values for businesses, including 3% of addresses, 9% of attributes, and 15% of hours are missing. \n",
    "- String: business_id, name, address, city, state, postal_code \n",
    "- Numeric: latitude, longitude, review_count, and stars\n",
    "- Boolean: is_open (open: 1, close: 0)\n",
    "- Other variables:\n",
    "    - Attributes: A collection of business-specific features or characteristics such as whether a business offers Wi-Fi, accepts credit cards, has outdoor seating, etc.\n",
    "    - Categories: The categorization of the business into one or more predefined groups or types such as \"Restaurants,\" \"Coffee Shops,\" \"Hair Salons,\" etc.\n",
    "    - Hours: Information about the operating hours of the business."
   ]
  },
  {
   "cell_type": "markdown",
   "id": "d3f2fe83-501c-483e-8f63-ccb4b68b29b9",
   "metadata": {
    "tags": []
   },
   "source": [
    "# Step 2: Merging tables and create a new dataframe"
   ]
  },
  {
   "cell_type": "markdown",
   "id": "0e5b34da-35f6-46c0-90ce-e98e0caa0adb",
   "metadata": {},
   "source": [
    "In this step, I integrated these datasets to facilitate a comprehensive data analysis. **Business_id** and **user_id** are the common features.\n"
   ]
  },
  {
   "cell_type": "code",
   "execution_count": 97,
   "id": "089298f0-a17d-4e26-800b-6c45f5863dcc",
   "metadata": {
    "tags": []
   },
   "outputs": [],
   "source": [
    "# Create a new dataframe with required variables of user table \n",
    "user_new = user[['user_id','name','review_count','date_format_yelping','average_stars']]"
   ]
  },
  {
   "cell_type": "code",
   "execution_count": 98,
   "id": "85fe170f-3820-4ef1-8093-75f8cdc1f70b",
   "metadata": {
    "tags": []
   },
   "outputs": [],
   "source": [
    "# Create a new dataframe with required variables of review table \n",
    "review_new = review[['review_id','user_id','business_id','stars','text','date_format']]"
   ]
  },
  {
   "cell_type": "code",
   "execution_count": 99,
   "id": "0d1d5fd8-bc80-41ea-9f8b-514272e97c70",
   "metadata": {
    "tags": []
   },
   "outputs": [],
   "source": [
    "# Merge business and review table based on business_id\n",
    "review_business = pd.merge(review_new, business, on='business_id')"
   ]
  },
  {
   "cell_type": "code",
   "execution_count": 100,
   "id": "2ee10220-1e38-4252-807f-e6247c481bbf",
   "metadata": {
    "tags": []
   },
   "outputs": [],
   "source": [
    "review_business = review_business.rename(columns={'stars_x': 'stars_review', 'stars_y': 'stars_business'})"
   ]
  },
  {
   "cell_type": "code",
   "execution_count": 143,
   "id": "d9deb63b-9099-4c47-b62b-463a4933e24e",
   "metadata": {
    "tags": []
   },
   "outputs": [],
   "source": [
    "# Merge business with two other tables and create the final dataframe\n",
    "yelp = pd.merge(review_business, user_new, on = 'user_id')"
   ]
  },
  {
   "cell_type": "code",
   "execution_count": 144,
   "id": "0c661321-7de1-4e02-92f2-69f21bde48be",
   "metadata": {
    "tags": []
   },
   "outputs": [],
   "source": [
    "# Rename columns with similar tags\n",
    "yelp = yelp.rename(columns={'name_x': 'name_business', 'review_count_x': 'review_count_business',\n",
    "                            'name_y': 'name_user', 'review_count_y': 'review_count_user',\n",
    "                           'date': 'date_review'})"
   ]
  },
  {
   "cell_type": "markdown",
   "id": "adef9482-4e2f-4633-b97b-cb50cbd1a95f",
   "metadata": {},
   "source": [
    "**Let's take a look at our new dataframe, yelp**"
   ]
  },
  {
   "cell_type": "code",
   "execution_count": 829,
   "id": "03142362-0ef1-4963-ab52-dd8c5c6e3d37",
   "metadata": {
    "tags": []
   },
   "outputs": [
    {
     "data": {
      "text/html": [
       "<div>\n",
       "<style scoped>\n",
       "    .dataframe tbody tr th:only-of-type {\n",
       "        vertical-align: middle;\n",
       "    }\n",
       "\n",
       "    .dataframe tbody tr th {\n",
       "        vertical-align: top;\n",
       "    }\n",
       "\n",
       "    .dataframe thead th {\n",
       "        text-align: right;\n",
       "    }\n",
       "</style>\n",
       "<table border=\"1\" class=\"dataframe\">\n",
       "  <thead>\n",
       "    <tr style=\"text-align: right;\">\n",
       "      <th></th>\n",
       "      <th>review_id</th>\n",
       "      <th>user_id</th>\n",
       "      <th>business_id</th>\n",
       "      <th>stars_review</th>\n",
       "      <th>text</th>\n",
       "      <th>date_format</th>\n",
       "      <th>name_business</th>\n",
       "      <th>address</th>\n",
       "      <th>city</th>\n",
       "      <th>state</th>\n",
       "      <th>...</th>\n",
       "      <th>is_open</th>\n",
       "      <th>attributes</th>\n",
       "      <th>categories</th>\n",
       "      <th>hours</th>\n",
       "      <th>name_user</th>\n",
       "      <th>review_count_user</th>\n",
       "      <th>date_format_yelping</th>\n",
       "      <th>average_stars</th>\n",
       "      <th>day_of_week</th>\n",
       "      <th>month</th>\n",
       "    </tr>\n",
       "  </thead>\n",
       "  <tbody>\n",
       "    <tr>\n",
       "      <th>0</th>\n",
       "      <td>KU_O5udG6zpxOg-VcAEodg</td>\n",
       "      <td>mh_-eMZ6K5RLWhZyISBhwA</td>\n",
       "      <td>XQfwVwDr-v0ZS3_CbbE5Xw</td>\n",
       "      <td>3.0</td>\n",
       "      <td>If you decide to eat here, just be aware it is...</td>\n",
       "      <td>2018-07-07 22:09:11</td>\n",
       "      <td>Turning Point of North Wales</td>\n",
       "      <td>1460 Bethlehem Pike</td>\n",
       "      <td>North Wales</td>\n",
       "      <td>PA</td>\n",
       "      <td>...</td>\n",
       "      <td>1</td>\n",
       "      <td>{'NoiseLevel': \"u'average'\", 'HasTV': 'False',...</td>\n",
       "      <td>Restaurants, Breakfast &amp; Brunch, Food, Juice B...</td>\n",
       "      <td>{'Monday': '7:30-15:0', 'Tuesday': '7:30-15:0'...</td>\n",
       "      <td>Melanie</td>\n",
       "      <td>33</td>\n",
       "      <td>2016-01-13 17:20:44</td>\n",
       "      <td>4.06</td>\n",
       "      <td>Saturday</td>\n",
       "      <td>July</td>\n",
       "    </tr>\n",
       "    <tr>\n",
       "      <th>1</th>\n",
       "      <td>Bqn8psEmvYTO7izrnGNgqg</td>\n",
       "      <td>mh_-eMZ6K5RLWhZyISBhwA</td>\n",
       "      <td>8eDkw7CE0NKqMknPIu26fw</td>\n",
       "      <td>5.0</td>\n",
       "      <td>We tried this place on our first trip to New O...</td>\n",
       "      <td>2018-04-25 17:04:09</td>\n",
       "      <td>Two Chicks Cafe</td>\n",
       "      <td>901 Convention Center Blvd, Ste 109</td>\n",
       "      <td>New Orleans</td>\n",
       "      <td>LA</td>\n",
       "      <td>...</td>\n",
       "      <td>1</td>\n",
       "      <td>{'Ambience': \"{'touristy': False, 'hipster': T...</td>\n",
       "      <td>Breakfast &amp; Brunch, Juice Bars &amp; Smoothies, Re...</td>\n",
       "      <td>{'Monday': '0:0-0:0', 'Tuesday': '8:0-14:0', '...</td>\n",
       "      <td>Melanie</td>\n",
       "      <td>33</td>\n",
       "      <td>2016-01-13 17:20:44</td>\n",
       "      <td>4.06</td>\n",
       "      <td>Wednesday</td>\n",
       "      <td>April</td>\n",
       "    </tr>\n",
       "    <tr>\n",
       "      <th>2</th>\n",
       "      <td>PBIeDysdBxwY53IFnOPyUw</td>\n",
       "      <td>mh_-eMZ6K5RLWhZyISBhwA</td>\n",
       "      <td>d_tRshM-w6S4QxE4VVi8tQ</td>\n",
       "      <td>3.0</td>\n",
       "      <td>Jones is definitely average quality, not many ...</td>\n",
       "      <td>2017-03-05 14:26:14</td>\n",
       "      <td>Jones</td>\n",
       "      <td>700 Chestnut St</td>\n",
       "      <td>Philadelphia</td>\n",
       "      <td>PA</td>\n",
       "      <td>...</td>\n",
       "      <td>0</td>\n",
       "      <td>{'BusinessAcceptsCreditCards': 'True', 'Restau...</td>\n",
       "      <td>American (New), Restaurants, Southern, Diners,...</td>\n",
       "      <td>{'Monday': '16:0-21:0', 'Tuesday': '16:0-21:0'...</td>\n",
       "      <td>Melanie</td>\n",
       "      <td>33</td>\n",
       "      <td>2016-01-13 17:20:44</td>\n",
       "      <td>4.06</td>\n",
       "      <td>Sunday</td>\n",
       "      <td>March</td>\n",
       "    </tr>\n",
       "    <tr>\n",
       "      <th>3</th>\n",
       "      <td>78MWkzX8uQz0kDnhlhwAAg</td>\n",
       "      <td>mh_-eMZ6K5RLWhZyISBhwA</td>\n",
       "      <td>mOk3D7VczrDapNuUgLxUQw</td>\n",
       "      <td>4.0</td>\n",
       "      <td>So glad we stumbled upon this restaurant! It i...</td>\n",
       "      <td>2018-10-29 21:54:59</td>\n",
       "      <td>Noodle Eighty Eight</td>\n",
       "      <td>664 E Broad St</td>\n",
       "      <td>Souderton</td>\n",
       "      <td>PA</td>\n",
       "      <td>...</td>\n",
       "      <td>1</td>\n",
       "      <td>{'BikeParking': 'False', 'Alcohol': \"u'none'\",...</td>\n",
       "      <td>Asian Fusion, Noodles, Restaurants, Pan Asian,...</td>\n",
       "      <td>{'Monday': '11:0-21:0', 'Wednesday': '11:30-20...</td>\n",
       "      <td>Melanie</td>\n",
       "      <td>33</td>\n",
       "      <td>2016-01-13 17:20:44</td>\n",
       "      <td>4.06</td>\n",
       "      <td>Monday</td>\n",
       "      <td>October</td>\n",
       "    </tr>\n",
       "    <tr>\n",
       "      <th>4</th>\n",
       "      <td>krpCZHUj222Ha7AffGUZHQ</td>\n",
       "      <td>mh_-eMZ6K5RLWhZyISBhwA</td>\n",
       "      <td>L4kfcADLCU4T33i7Z0CkuA</td>\n",
       "      <td>2.0</td>\n",
       "      <td>I was looking forward to a romantic dinner her...</td>\n",
       "      <td>2018-02-11 03:07:30</td>\n",
       "      <td>Bistro Romano</td>\n",
       "      <td>120 Lombard St</td>\n",
       "      <td>Philadelphia</td>\n",
       "      <td>PA</td>\n",
       "      <td>...</td>\n",
       "      <td>1</td>\n",
       "      <td>{'RestaurantsAttire': \"u'dressy'\", 'Restaurant...</td>\n",
       "      <td>Restaurants, Bars, Wine Bars, Mediterranean, I...</td>\n",
       "      <td>{'Monday': '0:0-0:0', 'Tuesday': '15:0-1:0', '...</td>\n",
       "      <td>Melanie</td>\n",
       "      <td>33</td>\n",
       "      <td>2016-01-13 17:20:44</td>\n",
       "      <td>4.06</td>\n",
       "      <td>Sunday</td>\n",
       "      <td>February</td>\n",
       "    </tr>\n",
       "  </tbody>\n",
       "</table>\n",
       "<p>5 rows × 25 columns</p>\n",
       "</div>"
      ],
      "text/plain": [
       "                review_id                 user_id             business_id  \\\n",
       "0  KU_O5udG6zpxOg-VcAEodg  mh_-eMZ6K5RLWhZyISBhwA  XQfwVwDr-v0ZS3_CbbE5Xw   \n",
       "1  Bqn8psEmvYTO7izrnGNgqg  mh_-eMZ6K5RLWhZyISBhwA  8eDkw7CE0NKqMknPIu26fw   \n",
       "2  PBIeDysdBxwY53IFnOPyUw  mh_-eMZ6K5RLWhZyISBhwA  d_tRshM-w6S4QxE4VVi8tQ   \n",
       "3  78MWkzX8uQz0kDnhlhwAAg  mh_-eMZ6K5RLWhZyISBhwA  mOk3D7VczrDapNuUgLxUQw   \n",
       "4  krpCZHUj222Ha7AffGUZHQ  mh_-eMZ6K5RLWhZyISBhwA  L4kfcADLCU4T33i7Z0CkuA   \n",
       "\n",
       "   stars_review                                               text  \\\n",
       "0           3.0  If you decide to eat here, just be aware it is...   \n",
       "1           5.0  We tried this place on our first trip to New O...   \n",
       "2           3.0  Jones is definitely average quality, not many ...   \n",
       "3           4.0  So glad we stumbled upon this restaurant! It i...   \n",
       "4           2.0  I was looking forward to a romantic dinner her...   \n",
       "\n",
       "          date_format                 name_business  \\\n",
       "0 2018-07-07 22:09:11  Turning Point of North Wales   \n",
       "1 2018-04-25 17:04:09               Two Chicks Cafe   \n",
       "2 2017-03-05 14:26:14                         Jones   \n",
       "3 2018-10-29 21:54:59           Noodle Eighty Eight   \n",
       "4 2018-02-11 03:07:30                 Bistro Romano   \n",
       "\n",
       "                               address          city state  ... is_open  \\\n",
       "0                  1460 Bethlehem Pike   North Wales    PA  ...       1   \n",
       "1  901 Convention Center Blvd, Ste 109   New Orleans    LA  ...       1   \n",
       "2                      700 Chestnut St  Philadelphia    PA  ...       0   \n",
       "3                       664 E Broad St     Souderton    PA  ...       1   \n",
       "4                       120 Lombard St  Philadelphia    PA  ...       1   \n",
       "\n",
       "                                          attributes  \\\n",
       "0  {'NoiseLevel': \"u'average'\", 'HasTV': 'False',...   \n",
       "1  {'Ambience': \"{'touristy': False, 'hipster': T...   \n",
       "2  {'BusinessAcceptsCreditCards': 'True', 'Restau...   \n",
       "3  {'BikeParking': 'False', 'Alcohol': \"u'none'\",...   \n",
       "4  {'RestaurantsAttire': \"u'dressy'\", 'Restaurant...   \n",
       "\n",
       "                                          categories  \\\n",
       "0  Restaurants, Breakfast & Brunch, Food, Juice B...   \n",
       "1  Breakfast & Brunch, Juice Bars & Smoothies, Re...   \n",
       "2  American (New), Restaurants, Southern, Diners,...   \n",
       "3  Asian Fusion, Noodles, Restaurants, Pan Asian,...   \n",
       "4  Restaurants, Bars, Wine Bars, Mediterranean, I...   \n",
       "\n",
       "                                               hours  name_user  \\\n",
       "0  {'Monday': '7:30-15:0', 'Tuesday': '7:30-15:0'...    Melanie   \n",
       "1  {'Monday': '0:0-0:0', 'Tuesday': '8:0-14:0', '...    Melanie   \n",
       "2  {'Monday': '16:0-21:0', 'Tuesday': '16:0-21:0'...    Melanie   \n",
       "3  {'Monday': '11:0-21:0', 'Wednesday': '11:30-20...    Melanie   \n",
       "4  {'Monday': '0:0-0:0', 'Tuesday': '15:0-1:0', '...    Melanie   \n",
       "\n",
       "   review_count_user date_format_yelping average_stars day_of_week     month  \n",
       "0                 33 2016-01-13 17:20:44          4.06    Saturday      July  \n",
       "1                 33 2016-01-13 17:20:44          4.06   Wednesday     April  \n",
       "2                 33 2016-01-13 17:20:44          4.06      Sunday     March  \n",
       "3                 33 2016-01-13 17:20:44          4.06      Monday   October  \n",
       "4                 33 2016-01-13 17:20:44          4.06      Sunday  February  \n",
       "\n",
       "[5 rows x 25 columns]"
      ]
     },
     "execution_count": 829,
     "metadata": {},
     "output_type": "execute_result"
    }
   ],
   "source": [
    "yelp.head(5)"
   ]
  },
  {
   "cell_type": "code",
   "execution_count": 145,
   "id": "1b7f7e38-89d1-413d-b9d6-29be0a443397",
   "metadata": {
    "tags": []
   },
   "outputs": [
    {
     "name": "stdout",
     "output_type": "stream",
     "text": [
      "<class 'pandas.core.frame.DataFrame'>\n",
      "RangeIndex: 6990247 entries, 0 to 6990246\n",
      "Data columns (total 23 columns):\n",
      " #   Column                 Dtype         \n",
      "---  ------                 -----         \n",
      " 0   review_id              object        \n",
      " 1   user_id                object        \n",
      " 2   business_id            object        \n",
      " 3   stars_review           float64       \n",
      " 4   text                   object        \n",
      " 5   date_format            datetime64[ns]\n",
      " 6   name_business          object        \n",
      " 7   address                object        \n",
      " 8   city                   object        \n",
      " 9   state                  object        \n",
      " 10  postal_code            object        \n",
      " 11  latitude               float64       \n",
      " 12  longitude              float64       \n",
      " 13  stars_business         float64       \n",
      " 14  review_count_business  int64         \n",
      " 15  is_open                int64         \n",
      " 16  attributes             object        \n",
      " 17  categories             object        \n",
      " 18  hours                  object        \n",
      " 19  name_user              object        \n",
      " 20  review_count_user      int64         \n",
      " 21  date_format_yelping    datetime64[ns]\n",
      " 22  average_stars          float64       \n",
      "dtypes: datetime64[ns](2), float64(5), int64(3), object(13)\n",
      "memory usage: 1.2+ GB\n"
     ]
    }
   ],
   "source": [
    "yelp.info()"
   ]
  },
  {
   "cell_type": "markdown",
   "id": "abeeff05-f95e-4c3a-b483-c76603edfef3",
   "metadata": {
    "tags": []
   },
   "source": [
    "# Step 3. Exploratory Data Analysis (EDA) "
   ]
  },
  {
   "cell_type": "markdown",
   "id": "4d858d25-13a0-46f5-8c5c-f8a30302539b",
   "metadata": {},
   "source": [
    "In this section, I have systematically categorized variables based on their types and applications, facilitating a comprehensive data analysis. The distinct categories are as follows:\n",
    "\n",
    "- **Distribution of Stars**: Encompassing business stars, review stars, and average stars per user.\n",
    "\n",
    "- **Temporal Analysis**: Including variables related to the date of reviews and the duration since a user started using Yelp.\n",
    "\n",
    "- **Text Analysis**: Focused on variables associated with textual data.\n",
    "\n",
    "- **Review Count Analysis**: Covering counts related to both users and businesses.\n",
    "\n",
    "- **Geographical Insights**: Encompassing state, city, latitude, and longitude information.\n",
    "\n",
    "- **Attributes and Categories Analysis**: Incorporating data related to various attributes and categories associated with businesses.\n",
    "\n",
    "- **Correlation Analysis**:Investigate correlations between different variables, such as review counts and star ratings. \n",
    "\n",
    "This structured approach allows for a more detailed exploration and interpretation of the dataset, providing valuable insights into each aspect of the data.\n"
   ]
  },
  {
   "cell_type": "markdown",
   "id": "d31c254f-809a-4921-9961-75ad33f4c656",
   "metadata": {
    "tags": []
   },
   "source": [
    "## 3.1. Know more about Star variable"
   ]
  },
  {
   "cell_type": "markdown",
   "id": "52803f90-dcd6-40f0-8fe1-ea20ea57d058",
   "metadata": {},
   "source": [
    "We encounter three distinct types of star ratings within this dataset:\n",
    "\n",
    "- Review Ratings: The number of stars assigned to individual reviews by users.\n",
    "- Business Ratings: The average number of stars received by businesses based on all reviews.\n",
    "- User Ratings: The average number of stars given by each user across all their reviews.\n",
    "\n",
    "<br>These three dimensions of star ratings provide a comprehensive view of user sentiments, business performance, and individual user preferences within the dataset."
   ]
  },
  {
   "cell_type": "code",
   "execution_count": 445,
   "id": "8c8b1f75-2ced-4ce1-a836-5ef9872605b2",
   "metadata": {
    "tags": []
   },
   "outputs": [
    {
     "data": {
      "image/png": "[encoded data removed]",
      "text/plain": [
       "<Figure size 1200x500 with 3 Axes>"
      ]
     },
     "metadata": {},
     "output_type": "display_data"
    }
   ],
   "source": [
    "plt.figure(figsize = (12, 5))\n",
    "\n",
    "# 1. Bar chart for ratings (number of stars) for reviews   \n",
    "plt.subplot(1, 3, 1)\n",
    "yelp.stars_review.value_counts().sort_index().plot.bar(color = 'green')\n",
    "\n",
    "# Add percentage labels on top of the bars\n",
    "values = yelp.stars_review.value_counts().sort_index()\n",
    "total = yelp.stars_review.value_counts().sum()\n",
    "percentages = [(value / total) * 100 for value in values]\n",
    "for i, value in enumerate(values):\n",
    "    plt.text(i, value + 1, f'{percentages[i]:.1f}%', ha='center')\n",
    "\n",
    "# Add labels and title  \n",
    "plt.xlabel('Stars')\n",
    "plt.ylabel('Number of Reviews')\n",
    "plt.title('Number of stars for reviews')\n",
    "\n",
    "# 2. Bar chart for average rating of business\n",
    "plt.subplot(1,3,2)\n",
    "yelp.stars_business.value_counts().sort_index().plot.bar(color = 'red')\n",
    "\n",
    "# Add percentage labels on top of the bars\n",
    "values = yelp.stars_review.value_counts().sort_index()\n",
    "total = yelp.stars_review.value_counts().sum()\n",
    "percentages = [(value / total) * 100 for value in values]\n",
    "for i, value in enumerate(values_1):\n",
    "    plt.text(i, value + 1, f'{percentages_1[i]:.1f}%', ha='center')\n",
    "    \n",
    "# Add labels and title \n",
    "plt.xlabel('Stars')\n",
    "plt.ylabel('Number of Businesses')\n",
    "plt.title('Number of businesses with star values')\n",
    "\n",
    "# 3. Histogram for average stars by each user \n",
    "plt.subplot(1,3,3)\n",
    "user.average_stars.plot.hist(bins = 15)\n",
    "\n",
    "# Add labels and title\n",
    "plt.xlabel('Stars')\n",
    "plt.ylabel('Frequency')\n",
    "plt.title('Frequency of average stars by users')\n",
    "\n",
    "\n",
    "# Adjust layout to prevent overlapping\n",
    "plt.tight_layout()\n",
    "\n",
    "# Show the subplots\n",
    "plt.show()"
   ]
  },
  {
   "cell_type": "markdown",
   "id": "b9642d9c-df31-42cd-a7c3-038ab4077cf6",
   "metadata": {
    "tags": []
   },
   "source": [
    "- The first plot reveals that a significant portion, precisely 46.2%, of the reviews received the highest rating of 5 stars.\n",
    "- In the second plot, it becomes evident that 33% of businesses recieved 4-star rating on Yelp.\n",
    "- In the histogram, there is a prominent concentration of ratings observed within the range of 4 to 5 stars. \n",
    "<br>\n",
    "\n",
    "**An overall observation indicates a higher frequency of star ratings falling within the range of 4 to 5 stars.**"
   ]
  },
  {
   "cell_type": "markdown",
   "id": "7cacdc1b-26f6-4b26-82f2-89546bd33662",
   "metadata": {
    "tags": []
   },
   "source": [
    "## 3.2. During the time"
   ]
  },
  {
   "cell_type": "markdown",
   "id": "6b084ca9-f570-42c7-882d-416ee94f18ea",
   "metadata": {},
   "source": [
    "To visualize trends spanning from 2005 to 2022, examine the data on a yearly basis."
   ]
  },
  {
   "cell_type": "code",
   "execution_count": 460,
   "id": "a1834472-643d-43e0-b5af-681206606565",
   "metadata": {
    "tags": []
   },
   "outputs": [],
   "source": [
    "# add a new column with only year value\n",
    "yelp['year_review'] = yelp['date_format'].dt.year\n",
    "\n",
    "\n",
    "# add a new column with only year value\n",
    "yelp['year_yelping'] = yelp['date_format_yelping'].dt.year"
   ]
  },
  {
   "cell_type": "markdown",
   "id": "2fcf830e-d6af-4767-a137-fb1991aa475a",
   "metadata": {},
   "source": [
    "### Review and new users during the years"
   ]
  },
  {
   "cell_type": "code",
   "execution_count": 481,
   "id": "4701977b-fe04-48e9-a2be-1f80a96181d9",
   "metadata": {
    "tags": []
   },
   "outputs": [
    {
     "data": {
      "image/png": "[encoded data removed]",
      "text/plain": [
       "<Figure size 1200x500 with 2 Axes>"
      ]
     },
     "metadata": {},
     "output_type": "display_data"
    }
   ],
   "source": [
    "plt.figure(figsize=(12,5))\n",
    "\n",
    "# plot a bar chart for presenting the number of reviews in each year\n",
    "plt.subplot(1,2,1)\n",
    "yelp['year_review'].value_counts().sort_index().plot.bar(color = 'green')\n",
    "\n",
    "# Title and labels\n",
    "plt.xlabel('Year')\n",
    "plt.ylabel('Number of Reviews')\n",
    "plt.title('Review counts per year')\n",
    "\n",
    "\n",
    "# Plot a bar chart to visualize the number of users who joined Yelp in each year \n",
    "plt.subplot(1,2,2)\n",
    "user.year_yelping.value_counts().sort_index().plot.bar(color = 'navy')\n",
    "\n",
    "# Title and labels\n",
    "plt.title('Number of users joined Yelp each year')\n",
    "plt.xlabel('Year')\n",
    "plt.ylabel('Number of Users')\n",
    "\n",
    "# Adjust layout to prevent overlapping\n",
    "plt.tight_layout()\n",
    "\n",
    "# Show the subplots\n",
    "plt.show()"
   ]
  },
  {
   "cell_type": "markdown",
   "id": "49a34d1c-2bfd-4bd1-b5ba-1e619333b531",
   "metadata": {},
   "source": [
    "- These bar charts indicate the trend of the number of reviews and new users on Yelp between 2005 to 2022.\n",
    "- The first chart highlights a significant decrease in 2020, likely due to the COVID-19 pandemic."
   ]
  },
  {
   "cell_type": "markdown",
   "id": "ecd8a8b7-ce1a-4d57-94d8-8d37791004ca",
   "metadata": {},
   "source": [
    "### Distribution of Reviews by Month and Day of the Week"
   ]
  },
  {
   "cell_type": "code",
   "execution_count": 770,
   "id": "a86feac0-ba96-473c-836e-101bb2fc07c7",
   "metadata": {
    "tags": []
   },
   "outputs": [
    {
     "data": {
      "image/png": "[encoded data removed]",
      "text/plain": [
       "<Figure size 1200x600 with 2 Axes>"
      ]
     },
     "metadata": {},
     "output_type": "display_data"
    }
   ],
   "source": [
    "# Extract day of the week and month\n",
    "yelp['day_of_week'] = yelp['date_format'].dt.day_name()\n",
    "yelp['month'] = yelp['date_format'].dt.month_name()\n",
    "\n",
    "# Set the order of days and months for proper plotting\n",
    "days_order = ['Monday', 'Tuesday', 'Wednesday', 'Thursday', 'Friday', 'Saturday', 'Sunday']\n",
    "months_order = ['January', 'February', 'March', 'April', 'May', 'June', 'July', 'August', 'September', 'October', 'November', 'December']\n",
    "\n",
    "plt.figure(figsize=(12, 6))\n",
    "# Plot for day of the week\n",
    "plt.subplot(1,2,1)\n",
    "sns.countplot(x='day_of_week', data=yelp, order=days_order)\n",
    "plt.title('Distribution of Reviews by Day of the Week')\n",
    "plt.xlabel('Day of the Week')\n",
    "plt.ylabel('Number of Reviews')\n",
    "plt.xticks(rotation=45)\n",
    "\n",
    "\n",
    "# Plot for month\n",
    "plt.subplot(1,2,2)\n",
    "sns.countplot(x='month', data=yelp, order=months_order)\n",
    "plt.title('Distribution of Reviews by Month')\n",
    "plt.xlabel('Month')\n",
    "plt.ylabel('Number of Reviews')\n",
    "plt.xticks(rotation=45)\n",
    "\n",
    "# Adjust layout to prevent overlapping\n",
    "plt.tight_layout()\n",
    "\n",
    "# Show the subplots\n",
    "plt.show()"
   ]
  },
  {
   "cell_type": "markdown",
   "id": "aed8aadb-b553-44a7-a7b4-df39509811fa",
   "metadata": {},
   "source": [
    "These plots illustrate the distribution of reviews based on both months and days of the week, aiming to unveil any discernible patterns. However, with the existing dataset, it appears that there is no prominent trend in the number of reviews across days or months."
   ]
  },
  {
   "cell_type": "markdown",
   "id": "76930eb7-38c8-4d47-967b-bcf5c64665e3",
   "metadata": {
    "tags": []
   },
   "source": [
    "## 3.3. Explore the text column"
   ]
  },
  {
   "cell_type": "markdown",
   "id": "0221bd98-fd6d-4d3b-8a0e-a74fda7e2205",
   "metadata": {
    "tags": []
   },
   "source": [
    "In this section, we exemplify the counting of words in the text columns for the initial 5,000 reviews. We present the distribution of word counts per review as a means of assessing the textual volume in our dataset."
   ]
  },
  {
   "cell_type": "code",
   "execution_count": 475,
   "id": "1aca01ae-f61c-4fe6-acf6-9905431064a2",
   "metadata": {
    "tags": []
   },
   "outputs": [],
   "source": [
    "# Function to count words using nltk word_tokenize\n",
    "def count_words_nlp(text):\n",
    "    tokens = word_tokenize(text)\n",
    "    return len(tokens)\n",
    "\n",
    "# Apply the function\n",
    "word_conut_5000 = yelp['text'][:5000].apply(count_words_nlp).sort_values(ascending= False)\n",
    "\n",
    "# Create a dataframe with word counts \n",
    "df_word_5000 = pd.DataFrame(word_conut_5000)\n",
    "df_word_5000.rename(columns={'text': 'word_count'}, inplace=True)"
   ]
  },
  {
   "cell_type": "markdown",
   "id": "d2b3a352-cc68-4de9-8a20-4253401e804f",
   "metadata": {
    "tags": []
   },
   "source": [
    "Some statstics:"
   ]
  },
  {
   "cell_type": "code",
   "execution_count": 476,
   "id": "56dec57f-af76-4210-95cc-36ddf4481c03",
   "metadata": {
    "tags": []
   },
   "outputs": [
    {
     "data": {
      "text/html": [
       "<div>\n",
       "<style scoped>\n",
       "    .dataframe tbody tr th:only-of-type {\n",
       "        vertical-align: middle;\n",
       "    }\n",
       "\n",
       "    .dataframe tbody tr th {\n",
       "        vertical-align: top;\n",
       "    }\n",
       "\n",
       "    .dataframe thead th {\n",
       "        text-align: right;\n",
       "    }\n",
       "</style>\n",
       "<table border=\"1\" class=\"dataframe\">\n",
       "  <thead>\n",
       "    <tr style=\"text-align: right;\">\n",
       "      <th></th>\n",
       "      <th>word_count</th>\n",
       "    </tr>\n",
       "  </thead>\n",
       "  <tbody>\n",
       "    <tr>\n",
       "      <th>min</th>\n",
       "      <td>5.00</td>\n",
       "    </tr>\n",
       "    <tr>\n",
       "      <th>max</th>\n",
       "      <td>1018.00</td>\n",
       "    </tr>\n",
       "    <tr>\n",
       "      <th>mean</th>\n",
       "      <td>110.77</td>\n",
       "    </tr>\n",
       "  </tbody>\n",
       "</table>\n",
       "</div>"
      ],
      "text/plain": [
       "      word_count\n",
       "min         5.00\n",
       "max      1018.00\n",
       "mean      110.77"
      ]
     },
     "execution_count": 476,
     "metadata": {},
     "output_type": "execute_result"
    }
   ],
   "source": [
    "df_word_5000.agg(['min', 'max', 'mean']).round(2)"
   ]
  },
  {
   "cell_type": "markdown",
   "id": "70edcbc9-d80e-441e-837b-cca8c347ddfa",
   "metadata": {
    "tags": []
   },
   "source": [
    "Plot a histgram to visualize the ditribution of word counts:"
   ]
  },
  {
   "cell_type": "code",
   "execution_count": 482,
   "id": "4794c91d-2a8c-4f41-b708-9e3266f099bc",
   "metadata": {
    "tags": []
   },
   "outputs": [
    {
     "data": {
      "image/png": "[encoded data removed]",
      "text/plain": [
       "<Figure size 1200x500 with 1 Axes>"
      ]
     },
     "metadata": {},
     "output_type": "display_data"
    }
   ],
   "source": [
    "# Plot a histogram to show the distribution of number of words per review\n",
    "plt.figure(figsize = (12,5))\n",
    "plt.hist(df_word_5000['word_count'], bins = 20, color = 'purple')\n",
    "\n",
    "# Titles and labels\n",
    "plt.title('Histogram of Number of Words in each Review')\n",
    "plt.xlabel('Reviews')\n",
    "plt.ylabel('Number of Words')\n",
    "\n",
    "#Showing the histogram\n",
    "plt.show()"
   ]
  },
  {
   "cell_type": "markdown",
   "id": "036ff0d1-f667-4c39-900c-133b2627513e",
   "metadata": {
    "tags": []
   },
   "source": [
    "- The majority of reviews contain fewer than 400 words, indicating a trend towards concise feedback.\n",
    "- Notably, there is a particularly extensive review with 1,129 words, which piques our curiosity. <br>\n",
    "Let's explore that review!"
   ]
  },
  {
   "cell_type": "code",
   "execution_count": 298,
   "id": "d6012b6e-99a8-47ac-99f9-4a329cdfbb0c",
   "metadata": {
    "tags": []
   },
   "outputs": [
    {
     "name": "stdout",
     "output_type": "stream",
     "text": [
      "Unfortunately, I'm NOT happy after coming to this salon yet again. I got a message from the owner saying he'd like to have me come in to receive a FREE service because they previously ruined my hair. So, I thought since he's the owner my hair would turn out good but I was wrong. I'm really unhappy with this whole experience. I showed him multiple photos on google of what I wanted done to my hair which was a lot of blonde. I told him I do not want any ORANGE in my hair as I wanted a \"white blonde\". He said you won't have any orange in your hair. I have a message from him the OWNER saying I would receive a FREE service if I deleted my previous review. He should of NEVER offered a free service if it wasn't really free! So, I said how much because I thought I was getting my hair done for free. He said since your hair is long and thick you'll have to pay for the hair color and \"medicine\" but he won't charge me for his time. I said ok how much he said $80. He said it would cost me $180 if he didn't give me a discount which is very pricey. He put a lot of highlights on my hair and worked quickly as he seemed to want to rush on my hair which I do not like. My hair is important to me, I don't want my hair to fall out. He said this medicine he's gonna put on my hair is $50 for a treatment and that I needed it because of the blonde going on my hair which I know any coloring is damaging and blonde is very damaging but he said he charges everyone who gets hair color for this so called medicine which they mix into the color you dye your hair. You can purchase the entire set online (3 bottles) for $75 which is supposed to give you like 15 applications so he's definitely charging a lot of money! He only put No.1 on my hair and not No.2 or No.3. He also had a lady (the receptionist) wash out my hair? Ok, even though she was nice why would he have her do that when she said she knows nothing about hair because I asked if she's styling my hair and she said she doesn't do hair and I wouldn't want her to do my hair. As I was waiting there was a lady next to me, she got her hair cut and a perm. She was done but she wasn't happy, she told the lady she didn't like the hair cut and she had her style it more and trim off a little more but the lady still wasn't happy. The girl told the client when she washes her hair it will be better.. um how? I know she left very unhappy! Also the lady behind me was getting her hair cut and when he (the owner) was done cutting her hair she looked in the mirror and wanted it different and styled different so that made me have to wait longer but 2 clients were not happy and also myself. That's not a good look TJ nail and spa! I had a towel on my head and waited about 30 mins just to get my hair blow dried because he was cutting another clients hair. I seen orange roots, I was mad!!! He finally came over and I said I don't like the orange color on my roots, can you put a toner on my hair and he said it's not orange it's the lighting. The lighting?! It wasn't the lighting! He proceeds to blow dry hair and then starts straighten it without asking me if I wanted it straightened or curled, you are supposed to pick how you want your hair styled. At that point I knew my hair wasn't what I wanted and it wasn't gonna be fixed even if I wanted it too. I just sat there in the hair, mad and yet again very disappointed! I looked in the mirror and seen my hair damaged and brittle, orange and brassy and not even close to what I wanted. There goes my money down the drain, yet again. I will not be back to get my hair ruined and he made me delete my previous review which was also 0-1 stars before I left his salon but I had to write this one, this is real, this is honest, beware of getting your hair completely ruined and nothing close to what you want! Like I said I showed the OWNER multiple photos and I stated I did NOT want any orange on my hair but I did have orange on my hair, I didn't get what I wanted like he said, he said he doesn't mess up, he's been doing hair for years. As a salon owner I think he should take the time to really do what the client wants and achieve what the client wants done to their hair, if the workersowner would do that then there shouldn't be any bad reviews but there is so that shows you they do not care, not even the owner cares. They just want to rush and get done to get paid, they don't care if the customer is happy or not. There are more bad reviews from people going to this salon and having horrible experiences but he is bribing people to delete their bad reviews because he told me the bad reviews is hurting his business which is why people do reviews, to let people know this place is awesome or this place is horrible, beware, stay away. I do reviews to let people know the good, the bad and the ugly. I do reviews anywhere and I'm always 100% honest. So, if bad reviews hurt his business that is all on him and his employees not me or anyone else.\n"
     ]
    }
   ],
   "source": [
    "# pd.set_option('display.max_colwidth', None)\n",
    "print(review.text[df_word_1000['text'].index[0]])"
   ]
  },
  {
   "cell_type": "markdown",
   "id": "12d7d536-53a8-4b64-b568-223be01af815",
   "metadata": {
    "tags": []
   },
   "source": [
    "## 3.4. Review count by users"
   ]
  },
  {
   "cell_type": "markdown",
   "id": "a04d1d10-fb36-472a-8327-1322164ee937",
   "metadata": {},
   "source": [
    "<br>Considering the minimum and average review counts per user and businesses, it's evident that some users or businesses have significantly high review numbers. To better capture the distribution, we opt for the mean plus the standard deviation as a threshold for the maximum count. Subsequently, we'll visualize the distribution of review counts per user and businesses through two histograms.<br>"
   ]
  },
  {
   "cell_type": "code",
   "execution_count": 528,
   "id": "c1d7526f-8107-48e2-81d3-7c9e979f8356",
   "metadata": {
    "tags": []
   },
   "outputs": [
    {
     "data": {
      "text/plain": [
       "max     17473.00\n",
       "min         0.00\n",
       "mean      123.83\n",
       "std       363.43\n",
       "Name: review_count_user, dtype: float64"
      ]
     },
     "execution_count": 528,
     "metadata": {},
     "output_type": "execute_result"
    }
   ],
   "source": [
    "yelp.review_count_user.agg(['max', 'min', 'mean', 'std']).round(2)"
   ]
  },
  {
   "cell_type": "code",
   "execution_count": 529,
   "id": "436cd6a9-efea-4a20-a4c3-48f193845a4a",
   "metadata": {
    "tags": []
   },
   "outputs": [
    {
     "data": {
      "text/plain": [
       "max     7568.00\n",
       "min        5.00\n",
       "mean     369.17\n",
       "std      736.08\n",
       "Name: review_count_business, dtype: float64"
      ]
     },
     "execution_count": 529,
     "metadata": {},
     "output_type": "execute_result"
    }
   ],
   "source": [
    "yelp.review_count_business.agg(['max', 'min', 'mean', 'std']).round(2)"
   ]
  },
  {
   "cell_type": "code",
   "execution_count": 530,
   "id": "aeaef698-78fb-4d38-9f6c-bcec7fa9984b",
   "metadata": {
    "tags": []
   },
   "outputs": [],
   "source": [
    "# Set a threshold for review_counts\n",
    "user_reviews_less_150 = yelp.loc[yelp.review_count_user < (23.39+3*(82.57))]\n",
    "\n",
    "# Set a threshold for review_counts for businesses\n",
    "business_reviews_less_10 = yelp.loc[yelp.review_count_business < (370+3*(736))]"
   ]
  },
  {
   "cell_type": "code",
   "execution_count": 531,
   "id": "030a5dc9-82dc-484c-bf82-9c514ad9d540",
   "metadata": {
    "tags": []
   },
   "outputs": [
    {
     "data": {
      "image/png": "[encoded data removed]",
      "text/plain": [
       "<Figure size 1200x500 with 2 Axes>"
      ]
     },
     "metadata": {},
     "output_type": "display_data"
    }
   ],
   "source": [
    "plt.figure(figsize = (12,5))\n",
    "# Plot a histogram for review counts less than 150\n",
    "plt.subplot(1,2,1)\n",
    "user_reviews_less_150.review_count_user.plot.hist(bins = 10, color = 'green')\n",
    "\n",
    "# Title and labels\n",
    "plt.xlabel('Review count')\n",
    "plt.ylabel('Number of Users')\n",
    "plt.title('Number of Reviews by each User')\n",
    "\n",
    "# Plot review counts for businesses\n",
    "plt.subplot(1,2,2)\n",
    "business_reviews_less_10.review_count_business.plot.hist(bins = 10, color = 'gold')\n",
    "\n",
    "# Title and labels\n",
    "plt.xlabel('Review count')\n",
    "plt.ylabel('Number of Businesses')\n",
    "plt.title('Number of Reviews for each business')\n",
    "\n",
    "\n",
    "plt.show()"
   ]
  },
  {
   "cell_type": "markdown",
   "id": "0b0a07d5-42d4-4cf9-af8f-5deffe47b53e",
   "metadata": {},
   "source": [
    "- This distributions provides a snapshot of the diversity in user engagement levels on the platform.\n",
    "- The majority of users appear to have a relatively lower review count, with a gradual decrease in frequency as the review count increases. \n"
   ]
  },
  {
   "cell_type": "markdown",
   "id": "3860fbfe-f4f1-41fb-a4ab-528b43066533",
   "metadata": {
    "tags": []
   },
   "source": [
    "## 3.5. Geographical insights"
   ]
  },
  {
   "cell_type": "markdown",
   "id": "6affae91-4928-4bb7-890d-f4ba6d97edab",
   "metadata": {},
   "source": [
    "Within this dataset, numerous variables related to the geographical location of each business, encompassing details such as address, state, city, latitude, and longitude. Let's delve into a closer examination of some of these location-based attributes.<br>\n",
    "For a clearer representation, we trim our map data by excluding outliers with the lowest longitude values."
   ]
  },
  {
   "cell_type": "code",
   "execution_count": 97,
   "id": "6e03a1b6-0557-449b-bea2-c5703dd86eb3",
   "metadata": {
    "tags": []
   },
   "outputs": [],
   "source": [
    "us_map['min_longitude'] = us_map.geometry.get_coordinates().reset_index().groupby('index').x.min()"
   ]
  },
  {
   "cell_type": "code",
   "execution_count": 98,
   "id": "3a4cf480-283a-4ffc-a0f5-8147e1160786",
   "metadata": {
    "tags": []
   },
   "outputs": [
    {
     "data": {
      "text/plain": [
       "27            Alaska\n",
       "42            Hawaii\n",
       "37    American Samoa\n",
       "11        Washington\n",
       "50            Oregon\n",
       "Name: NAME, dtype: object"
      ]
     },
     "execution_count": 98,
     "metadata": {},
     "output_type": "execute_result"
    }
   ],
   "source": [
    "us_map.sort_values('min_longitude').NAME.head()"
   ]
  },
  {
   "cell_type": "code",
   "execution_count": 99,
   "id": "9e182c90-cbb4-459b-bb9f-6dd90bf89d4c",
   "metadata": {
    "tags": []
   },
   "outputs": [
    {
     "data": {
      "text/plain": [
       "41                                           Maine\n",
       "13                                     Puerto Rico\n",
       "38                    United States Virgin Islands\n",
       "44                                            Guam\n",
       "45    Commonwealth of the Northern Mariana Islands\n",
       "Name: NAME, dtype: object"
      ]
     },
     "execution_count": 99,
     "metadata": {},
     "output_type": "execute_result"
    }
   ],
   "source": [
    "us_map.sort_values('min_longitude').NAME.tail()"
   ]
  },
  {
   "cell_type": "markdown",
   "id": "6d57fa59-08b6-4922-a7b6-264c822c91a3",
   "metadata": {},
   "source": [
    "<br>**In this subplot featuring two distinct visualizations**:\n",
    "<br>\n",
    "- The first showcases a bar chart depicting the distribution of businesses across different states.\n",
    "- The second offers a geographical perspective, presenting a map of the United States with marked business locations."
   ]
  },
  {
   "cell_type": "code",
   "execution_count": 552,
   "id": "e84d9e0f-9a47-43ce-9e21-f658d532ae7a",
   "metadata": {
    "tags": []
   },
   "outputs": [
    {
     "data": {
      "image/png": "[encoded data removed]",
      "text/plain": [
       "<Figure size 1500x500 with 1 Axes>"
      ]
     },
     "metadata": {},
     "output_type": "display_data"
    },
    {
     "data": {
      "image/png": "[encoded data removed]",
      "text/plain": [
       "<Figure size 640x480 with 1 Axes>"
      ]
     },
     "metadata": {},
     "output_type": "display_data"
    }
   ],
   "source": [
    "plt.figure(figsize=(15,5))\n",
    "\n",
    "\n",
    "yelp.state.value_counts().sort_index().plot.bar()\n",
    "plt.show()\n",
    "\n",
    "\n",
    "# Create GeoDataFrame from latitude and longitude\n",
    "geometry = [Point(lon, lat) for lon, lat in zip(business['longitude'], business['latitude'])]\n",
    "gdf = gpd.GeoDataFrame(business, geometry=geometry, crs='EPSG:4326')\n",
    "\n",
    "# Load the US shapefile\n",
    "us_map = gpd.read_file('cb_2018_us_state_500k/cb_2018_us_state_500k.shp')\n",
    "\n",
    "# Plot the US map\n",
    "fig, ax = plt.subplots()\n",
    "us_map.loc[~us_map.NAME.isin(\n",
    "    ['Alaska', 'Hawaii', 'American Samoa', 'Puerto Rico',\n",
    "     'United States Virgin Islands', 'Guam',\n",
    "     'Commonwealth of the Northern Mariana Islands']\n",
    ")].plot(ax=ax, color='grey')\n",
    "for idx, row in us_map.iterrows():\n",
    "   plt.annotate(\n",
    "       text=row.STUSPS,\n",
    "       xy=row.geometry.representative_point().coords[:][0],\n",
    "       ha='center',\n",
    "       color='black',\n",
    "   )\n",
    "\n",
    "# Plot the points on the map\n",
    "gdf.plot(ax=ax, color='red', marker='o', markersize=50)\n",
    "\n",
    "# Adding labels and title\n",
    "plt.xlabel('Longitude')\n",
    "plt.ylabel('Latitude')\n",
    "plt.title('Points on US Map')\n",
    "\n",
    "\n",
    "# Adjust layout to prevent overlapping\n",
    "plt.tight_layout()\n",
    "\n",
    "# Show the plot\n",
    "plt.show()\n"
   ]
  },
  {
   "cell_type": "markdown",
   "id": "59360058-d30d-4fb2-afb9-95ed1df4ad7f",
   "metadata": {},
   "source": [
    "- These two plots affirm that the Yelp dataset available here represents only a subset of their comprehensive dataset.\n",
    "- The provided latitude and longitude values seem to be state-level approximations rather than precise coordinates.\n",
    "- It's noteworthy that Pennsylvania appears to be the most represented state, while certain states, like Texas, lack data in this subset."
   ]
  },
  {
   "cell_type": "markdown",
   "id": "a4a4efd0-17db-4ce9-8f35-79125ee892fe",
   "metadata": {
    "tags": []
   },
   "source": [
    "## 3.6. Attributes and Categories Analysis"
   ]
  },
  {
   "cell_type": "markdown",
   "id": "7dee076e-011b-47a4-96cf-297c5bae8c86",
   "metadata": {},
   "source": [
    "In the Yelp dataset, the \"categories\" variable typically refers to the type or genre of a business. It encompasses a range of business classifications, such as \"restaurants,\" \"shopping,\" \"nightlife,\" and more.\n",
    "<br>\n",
    "\n",
    "On the other hand, the \"attributes\" variable comprises a set of detailed characteristics or features associated with each business. These attributes can include specific amenities, service options, and other qualitative aspects of the business, often presented as a dictionary or key-value pairs. Examples include attributes like \"OutdoorSeating,\" \"GoodForKids,\" \"WiFi,\" and more, reflecting diverse aspects of a business's offerings."
   ]
  },
  {
   "cell_type": "code",
   "execution_count": 828,
   "id": "1d4357e7-5436-42b1-9609-ae4507e42a18",
   "metadata": {
    "tags": []
   },
   "outputs": [
    {
     "data": {
      "text/plain": [
       "'{\\'OutdoorSeating\\': \\'True\\', \\'RestaurantsPriceRange2\\': \\'2\\', \\'BusinessAcceptsCreditCards\\': \\'True\\', \\'DogsAllowed\\': \\'True\\', \\'Ambience\\': \"{\\'touristy\\': False, \\'hipster\\': False, \\'romantic\\': False, \\'divey\\': False, \\'intimate\\': False, \\'trendy\\': False, \\'upscale\\': False, \\'classy\\': True, \\'casual\\': False}\", \\'HappyHour\\': \\'True\\', \\'GoodForMeal\\': \"{\\'dessert\\': False, \\'latenight\\': False, \\'lunch\\': False, \\'dinner\\': False, \\'brunch\\': False, \\'breakfast\\': False}\", \\'RestaurantsDelivery\\': \\'True\\', \\'HasTV\\': \\'True\\', \\'BusinessParking\\': \"{\\'garage\\': False, \\'street\\': False, \\'validated\\': False, \\'lot\\': True, \\'valet\\': False}\", \\'RestaurantsTakeOut\\': \\'True\\', \\'GoodForKids\\': \\'True\\'}'"
      ]
     },
     "execution_count": 828,
     "metadata": {},
     "output_type": "execute_result"
    }
   ],
   "source": [
    "business.attributes[35]"
   ]
  },
  {
   "cell_type": "code",
   "execution_count": 772,
   "id": "115d22cb-b29d-405c-af52-ba91d931b418",
   "metadata": {
    "tags": []
   },
   "outputs": [
    {
     "data": {
      "text/plain": [
       "83160"
      ]
     },
     "execution_count": 772,
     "metadata": {},
     "output_type": "execute_result"
    }
   ],
   "source": [
    "len(business.categories.value_counts())"
   ]
  },
  {
   "cell_type": "code",
   "execution_count": 774,
   "id": "b191ecdc-89c5-42d9-bfae-bacde59a7706",
   "metadata": {
    "tags": []
   },
   "outputs": [
    {
     "data": {
      "text/plain": [
       "categories\n",
       "Beauty & Spas, Nail Salons    1012\n",
       "Restaurants, Pizza             935\n",
       "Nail Salons, Beauty & Spas     934\n",
       "Pizza, Restaurants             823\n",
       "Restaurants, Mexican           728\n",
       "Name: count, dtype: int64"
      ]
     },
     "execution_count": 774,
     "metadata": {},
     "output_type": "execute_result"
    }
   ],
   "source": [
    "business.categories.value_counts().head(5)"
   ]
  },
  {
   "cell_type": "markdown",
   "id": "a33ccd9f-1aa0-4f51-937a-f64481f23557",
   "metadata": {
    "tags": []
   },
   "source": [
    "## 3.7. Correlation"
   ]
  },
  {
   "cell_type": "code",
   "execution_count": 200,
   "id": "6a63f331-93bc-4a37-8e3d-3b6ee8f4c7ab",
   "metadata": {
    "tags": []
   },
   "outputs": [],
   "source": [
    "correlation_matrix = yelp[['stars_review',\n",
    " 'review_count_user',\n",
    " 'average_stars',\n",
    " 'stars_business',\n",
    " 'review_count_business']].corr()"
   ]
  },
  {
   "cell_type": "code",
   "execution_count": 201,
   "id": "85fe4e2f-c2f9-43ca-b635-5ae5f4470334",
   "metadata": {
    "tags": []
   },
   "outputs": [
    {
     "data": {
      "image/png": "[encoded data removed]",
      "text/plain": [
       "<Figure size 800x600 with 2 Axes>"
      ]
     },
     "metadata": {},
     "output_type": "display_data"
    }
   ],
   "source": [
    "plt.figure(figsize=(8, 6))\n",
    "\n",
    "# Create a heatmap using seaborn\n",
    "sns.heatmap(correlation_matrix, annot=True, cmap='coolwarm', fmt='.2f', linewidths=1, square=True)\n",
    "\n",
    "# Adding title\n",
    "plt.title('Correlation Heatmap')\n",
    "\n",
    "# Show the plot\n",
    "plt.show()"
   ]
  },
  {
   "cell_type": "markdown",
   "id": "2444416b-65a6-419d-8d4f-05484cfbf9fa",
   "metadata": {},
   "source": [
    "A correlation heatmap unveils connections, such as the correlation between user and average business ratings. However, it indicates that there isn't a highly significant relationship between numerical variables in this dataset."
   ]
  },
  {
   "cell_type": "markdown",
   "id": "b441ebe2-7e58-4207-8ef3-ed8d4b932e6c",
   "metadata": {
    "tags": []
   },
   "source": [
    "# 4. Research Question"
   ]
  },
  {
   "cell_type": "markdown",
   "id": "94f87a52-0ff2-4299-8c99-8d11ee6b0941",
   "metadata": {},
   "source": [
    "**Q: How can we assist business owners (particularly those with a Yelp profile) in identifying areas for improvement and gaining insights into their competitive landscape?** \n",
    "\n",
    "**Evaluate Weaknesses**:\n",
    "Help business owners understand their weaknesses by analyzing user reviews on Yelp. This involves identifying recurring themes and concerns raised by customers to pinpoint specific areas that may benefit from improvement.\n",
    "\n",
    "**Competitive Analysis**:\n",
    "Provide a comprehensive analysis of competitors based on both location and business type. This includes highlighting competitors' strengths and positive aspects to offer a comparative view. By understanding the competitive landscape, business owners can strategize and differentiate themselves effectively.\n",
    "\n",
    "**Attribute-Rating Relationship**:\n",
    "Establish a clear understanding of the relationship between various business attributes and the stars counts. This involves exploring how specific aspects of the business influence customer reviews. Furthermore, we aim to develop predictive models to estimate the potential impact on star values when introducing new services or making changes to existing ones.\n",
    "\n",
    "By addressing these aspects, my aim is to empower business owners with actionable insights, enabling them to enhance their operations, stand out in the market, and foster positive customer experiences on Yelp."
   ]
  },
  {
   "cell_type": "markdown",
   "id": "81db43fb-1671-4e32-b2d4-bb8ff50c10cc",
   "metadata": {},
   "source": [
    "To conduct this evaluation, I plan to select a sample of the data and observe the results. The findings and insights generated from this analysis are applicable and transferable to various businesses and locations with ease."
   ]
  },
  {
   "cell_type": "markdown",
   "id": "38b62c1c-6e34-4e4d-bbf5-8996e3a8cad2",
   "metadata": {},
   "source": [
    "In this step, we narrow down our focus by selecting a specific state and city for analysis. As an illustrative example, we choose **California** as the state of interest and **Santa Barbara** as the city for more in-depth exploration."
   ]
  },
  {
   "cell_type": "code",
   "execution_count": 776,
   "id": "28dafc24-23bd-49f2-9d75-45870ed97167",
   "metadata": {
    "collapsed": true,
    "jupyter": {
     "outputs_hidden": true
    },
    "tags": []
   },
   "outputs": [
    {
     "data": {
      "text/html": [
       "<div>\n",
       "<style scoped>\n",
       "    .dataframe tbody tr th:only-of-type {\n",
       "        vertical-align: middle;\n",
       "    }\n",
       "\n",
       "    .dataframe tbody tr th {\n",
       "        vertical-align: top;\n",
       "    }\n",
       "\n",
       "    .dataframe thead th {\n",
       "        text-align: right;\n",
       "    }\n",
       "</style>\n",
       "<table border=\"1\" class=\"dataframe\">\n",
       "  <thead>\n",
       "    <tr style=\"text-align: right;\">\n",
       "      <th></th>\n",
       "      <th>review_id</th>\n",
       "      <th>user_id</th>\n",
       "      <th>business_id</th>\n",
       "      <th>stars_review</th>\n",
       "      <th>text</th>\n",
       "      <th>date_format</th>\n",
       "      <th>name_business</th>\n",
       "      <th>address</th>\n",
       "      <th>city</th>\n",
       "      <th>state</th>\n",
       "      <th>...</th>\n",
       "      <th>is_open</th>\n",
       "      <th>attributes</th>\n",
       "      <th>categories</th>\n",
       "      <th>hours</th>\n",
       "      <th>name_user</th>\n",
       "      <th>review_count_user</th>\n",
       "      <th>date_format_yelping</th>\n",
       "      <th>average_stars</th>\n",
       "      <th>day_of_week</th>\n",
       "      <th>month</th>\n",
       "    </tr>\n",
       "  </thead>\n",
       "  <tbody>\n",
       "    <tr>\n",
       "      <th>839</th>\n",
       "      <td>6tCTQCuSJP1_qemJ-3sRgQ</td>\n",
       "      <td>NMLvjdY7IOdtfU0TepvUuA</td>\n",
       "      <td>U3grYFIeu6RgAAQgdriHww</td>\n",
       "      <td>4.0</td>\n",
       "      <td>You can't get much closer to your meal unless ...</td>\n",
       "      <td>2013-11-06 18:47:15</td>\n",
       "      <td>Brophy Bros - Santa Barbara</td>\n",
       "      <td>119 Harbor Way</td>\n",
       "      <td>Santa Barbara</td>\n",
       "      <td>CA</td>\n",
       "      <td>...</td>\n",
       "      <td>1</td>\n",
       "      <td>{'NoiseLevel': \"u'loud'\", 'RestaurantsReservat...</td>\n",
       "      <td>Cocktail Bars, Fish &amp; Chips, Nightlife, Seafoo...</td>\n",
       "      <td>{'Monday': '0:0-0:0', 'Tuesday': '11:0-22:0', ...</td>\n",
       "      <td>Zach</td>\n",
       "      <td>483</td>\n",
       "      <td>2011-01-30 22:05:52</td>\n",
       "      <td>3.46</td>\n",
       "      <td>Wednesday</td>\n",
       "      <td>November</td>\n",
       "    </tr>\n",
       "    <tr>\n",
       "      <th>1937</th>\n",
       "      <td>3lkKJlBG8RpIHJ3sh60DZQ</td>\n",
       "      <td>-V_gxe3Av93zpL2bFoqaKw</td>\n",
       "      <td>b7UPlhqUiliUy9vITKHGvQ</td>\n",
       "      <td>2.0</td>\n",
       "      <td>The price we paid for our room was not in line...</td>\n",
       "      <td>2018-06-04 14:26:10</td>\n",
       "      <td>The Wayfarer</td>\n",
       "      <td>12 E Montecito St</td>\n",
       "      <td>Santa Barbara</td>\n",
       "      <td>CA</td>\n",
       "      <td>...</td>\n",
       "      <td>0</td>\n",
       "      <td>{'RestaurantsPriceRange2': '2', 'WiFi': \"u'fre...</td>\n",
       "      <td>Venues &amp; Event Spaces, Hotels &amp; Travel, Event ...</td>\n",
       "      <td>{'Monday': '0:0-0:0', 'Tuesday': '0:0-0:0', 'W...</td>\n",
       "      <td>James</td>\n",
       "      <td>39</td>\n",
       "      <td>2012-06-03 15:31:32</td>\n",
       "      <td>3.62</td>\n",
       "      <td>Monday</td>\n",
       "      <td>June</td>\n",
       "    </tr>\n",
       "  </tbody>\n",
       "</table>\n",
       "<p>2 rows × 25 columns</p>\n",
       "</div>"
      ],
      "text/plain": [
       "                   review_id                 user_id             business_id  \\\n",
       "839   6tCTQCuSJP1_qemJ-3sRgQ  NMLvjdY7IOdtfU0TepvUuA  U3grYFIeu6RgAAQgdriHww   \n",
       "1937  3lkKJlBG8RpIHJ3sh60DZQ  -V_gxe3Av93zpL2bFoqaKw  b7UPlhqUiliUy9vITKHGvQ   \n",
       "\n",
       "      stars_review                                               text  \\\n",
       "839            4.0  You can't get much closer to your meal unless ...   \n",
       "1937           2.0  The price we paid for our room was not in line...   \n",
       "\n",
       "             date_format                name_business            address  \\\n",
       "839  2013-11-06 18:47:15  Brophy Bros - Santa Barbara     119 Harbor Way   \n",
       "1937 2018-06-04 14:26:10                 The Wayfarer  12 E Montecito St   \n",
       "\n",
       "               city state  ... is_open  \\\n",
       "839   Santa Barbara    CA  ...       1   \n",
       "1937  Santa Barbara    CA  ...       0   \n",
       "\n",
       "                                             attributes  \\\n",
       "839   {'NoiseLevel': \"u'loud'\", 'RestaurantsReservat...   \n",
       "1937  {'RestaurantsPriceRange2': '2', 'WiFi': \"u'fre...   \n",
       "\n",
       "                                             categories  \\\n",
       "839   Cocktail Bars, Fish & Chips, Nightlife, Seafoo...   \n",
       "1937  Venues & Event Spaces, Hotels & Travel, Event ...   \n",
       "\n",
       "                                                  hours  name_user  \\\n",
       "839   {'Monday': '0:0-0:0', 'Tuesday': '11:0-22:0', ...       Zach   \n",
       "1937  {'Monday': '0:0-0:0', 'Tuesday': '0:0-0:0', 'W...      James   \n",
       "\n",
       "      review_count_user date_format_yelping average_stars day_of_week  \\\n",
       "839                 483 2011-01-30 22:05:52          3.46   Wednesday   \n",
       "1937                 39 2012-06-03 15:31:32          3.62      Monday   \n",
       "\n",
       "         month  \n",
       "839   November  \n",
       "1937      June  \n",
       "\n",
       "[2 rows x 25 columns]"
      ]
     },
     "execution_count": 776,
     "metadata": {},
     "output_type": "execute_result"
    }
   ],
   "source": [
    "yelp_ca = yelp.loc[yelp.state == 'CA']\n",
    "\n",
    "#create a new dataframe for using all the data of Santa Barbara city\n",
    "santa_barbara = yelp_ca[yelp_ca.city.str.contains('santa' and 'barbara', case = False)]\n",
    "santa_barbara.head(2)"
   ]
  },
  {
   "cell_type": "markdown",
   "id": "c876ce3a-1b52-49c6-9540-38eee330292c",
   "metadata": {},
   "source": [
    "## 4.1. Evaluate weaknesses of businesses"
   ]
  },
  {
   "cell_type": "markdown",
   "id": "5e98124f-ca30-4871-855a-4bad7cbe9eb1",
   "metadata": {
    "jupyter": {
     "outputs_hidden": true
    },
    "tags": []
   },
   "source": [
    "In this section, our aim is to leverage sentiment analysis to categorize comments into negative and positive sentiments for each business. To enhance the utility and informativeness of this process, we've implemented aspect term extraction and sentiment classification. This enables us to provide business owners with valuable insights derived from the reviews, offering a nuanced understanding of customer sentiments and identifying key aspects that contribute to the overall sentiment of the reviews."
   ]
  },
  {
   "cell_type": "markdown",
   "id": "44192d55-ae2b-4854-9aa7-75be15b10c65",
   "metadata": {
    "tags": []
   },
   "source": [
    "#### Simple nltk application"
   ]
  },
  {
   "cell_type": "code",
   "execution_count": 18,
   "id": "b11de3e3-183b-41b8-b19a-60b8f5af7312",
   "metadata": {
    "collapsed": true,
    "jupyter": {
     "outputs_hidden": true
    },
    "tags": []
   },
   "outputs": [
    {
     "name": "stderr",
     "output_type": "stream",
     "text": [
      "[nltk_data] Downloading package vader_lexicon to\n",
      "[nltk_data]     /Users/zeinab/nltk_data...\n",
      "[nltk_data]   Package vader_lexicon is already up-to-date!\n"
     ]
    },
    {
     "data": {
      "text/plain": [
       "True"
      ]
     },
     "execution_count": 18,
     "metadata": {},
     "output_type": "execute_result"
    }
   ],
   "source": [
    "nltk.download(['vader_lexicon'])"
   ]
  },
  {
   "cell_type": "code",
   "execution_count": 119,
   "id": "d9679857-cb77-48f9-868f-862676aceb13",
   "metadata": {
    "tags": []
   },
   "outputs": [],
   "source": [
    "from nltk import sentiment\n",
    "import operator\n",
    "\n",
    "sia = sentiment.SentimentIntensityAnalyzer()\n",
    "find_sentiment_score = lambda x: sia.polarity_scores(x)['compound']"
   ]
  },
  {
   "cell_type": "code",
   "execution_count": 148,
   "id": "0ee2e18d-146a-475d-99ae-0a247b6d8b55",
   "metadata": {
    "tags": []
   },
   "outputs": [
    {
     "name": "stdout",
     "output_type": "stream",
     "text": [
      "2023-12-07 12:12:00.338663\n",
      "2023-12-07 12:13:42.433774\n"
     ]
    }
   ],
   "source": [
    "import datetime as dt\n",
    "#Using datetime for showing the start time of processing \n",
    "print(dt.datetime.now())\n",
    "\n",
    "#Save sentiment scores\n",
    "sentiment_scores = santa_barbara['text'].apply(find_sentiment_score)\n",
    "\n",
    "#Using datetime for showing the finish time of processing \n",
    "print(dt.datetime.now())"
   ]
  },
  {
   "cell_type": "code",
   "execution_count": 149,
   "id": "c0ec9409-e78c-4dcf-946b-2cd7101a2b7b",
   "metadata": {
    "tags": []
   },
   "outputs": [],
   "source": [
    "santa_barbara['sentiment_scores'] = sentiment_scores"
   ]
  },
  {
   "cell_type": "markdown",
   "id": "b87fc41c-1180-486a-abe6-a3199dd7c775",
   "metadata": {},
   "source": [
    "Now that we've completed sentiment analysis for all businesses in Santa Barbara on Yelp, let's proceed to the next phase, where we will specifically evaluate reviews for two selected businesses within the city. One of them is in businesses rated more than 4 stars and the other one is between businesses with rating less than 3 stars.\n",
    "<br>\n",
    "To optimize code execution time, given that processing 1000 reviews took approximately half an hour, we have strategically chosen businesses with fewer than 600 reviews for this analysis. This decision ensures a more efficient and manageable processing duration while still capturing meaningful insights from the selected businesses. "
   ]
  },
  {
   "cell_type": "markdown",
   "id": "2cca7853-4358-4132-a943-2edd47320893",
   "metadata": {},
   "source": [
    "**Business with rating more than 4 star**"
   ]
  },
  {
   "cell_type": "code",
   "execution_count": 333,
   "id": "af7685a6-7fce-46a1-afed-ab8b8e032176",
   "metadata": {
    "tags": []
   },
   "outputs": [],
   "source": [
    "# businesses in Santa Barbara with rating more than 4 stars and review count less than 600 \n",
    "sb_600_4 = santa_barbara[(santa_barbara.review_count_business < 600) & (santa_barbara.stars_business > 4) ]"
   ]
  },
  {
   "cell_type": "code",
   "execution_count": 342,
   "id": "70e0f0eb-2f60-4935-ade0-bea67a691f83",
   "metadata": {
    "tags": []
   },
   "outputs": [
    {
     "data": {
      "text/plain": [
       "business_id\n",
       "54oLdsGU9B8HxFTqCCqV-A    606\n",
       "hPzPpfSjgQkpWCD7YjcY-A    605\n",
       "BErYojCJSO959vzaz9JclQ    586\n",
       "r2IhvKZQ_wLR5mLBnPOilg    572\n",
       "bp482wqF6v80AltDNlPDfw    547\n",
       "Name: count, dtype: int64"
      ]
     },
     "execution_count": 342,
     "metadata": {},
     "output_type": "execute_result"
    }
   ],
   "source": [
    "sb_600_4.business_id.value_counts().head()"
   ]
  },
  {
   "cell_type": "code",
   "execution_count": 777,
   "id": "340051f3-f612-4ceb-81ff-fcab96695738",
   "metadata": {
    "tags": []
   },
   "outputs": [
    {
     "name": "stdout",
     "output_type": "stream",
     "text": [
      "name_business\n",
      "Savoy Cafe & Deli    586\n",
      "Name: count, dtype: int64\n",
      "['Restaurants, Delis, Coffee & Tea, Breakfast & Brunch, Food, Gluten-Free, Cafes, Beer, Wine & Spirits']\n",
      "[4.5]\n"
     ]
    }
   ],
   "source": [
    "print(santa_barbara.loc[santa_barbara.business_id == 'BErYojCJSO959vzaz9JclQ']['name_business'].value_counts())\n",
    "print(santa_barbara.loc[santa_barbara.business_id == 'BErYojCJSO959vzaz9JclQ']['categories'].unique())\n",
    "print(santa_barbara.loc[santa_barbara.business_id == 'BErYojCJSO959vzaz9JclQ']['stars_business'].unique())"
   ]
  },
  {
   "cell_type": "markdown",
   "id": "a8666f96-7386-43cb-bd4a-0ac954faa635",
   "metadata": {},
   "source": [
    "<br>**Business with rating less than 3 star**"
   ]
  },
  {
   "cell_type": "code",
   "execution_count": null,
   "id": "4cc9dcdc-15f2-464c-b53c-f1b528bd79a8",
   "metadata": {
    "tags": []
   },
   "outputs": [],
   "source": [
    "# businesses in Santa Barbara with rating less than 3 stars and review count less than 600 \n",
    "sb_600_3 = santa_barbara[(santa_barbara.review_count_business < 600) & (santa_barbara.stars_business < 3) ]"
   ]
  },
  {
   "cell_type": "code",
   "execution_count": null,
   "id": "938c40e8-407d-4e0d-a50d-290085bdfdf5",
   "metadata": {},
   "outputs": [
    {
     "data": {
      "text/plain": [
       "business_id\n",
       "TCWnTa69sJ3vGQsdEe3Esw    331\n",
       "MWKowhzHQ_scqnJEqAUYgA    290\n",
       "HrnSaz2f1WUEoAQQ6iD6gw    272\n",
       "yw3vRR7XLIjEnlhMnVzR7w    244\n",
       "KzzGpjfUs3DGkNGi46yoeA    240\n",
       "Name: count, dtype: int64"
      ]
     },
     "execution_count": 339,
     "metadata": {},
     "output_type": "execute_result"
    }
   ],
   "source": [
    "sb_600_3.business_id.value_counts().head()"
   ]
  },
  {
   "cell_type": "code",
   "execution_count": 778,
   "id": "fcdbc44a-b0ed-4c05-a3e8-2ff9a6907a20",
   "metadata": {},
   "outputs": [
    {
     "name": "stdout",
     "output_type": "stream",
     "text": [
      "name_business\n",
      "Uncle Roccos Famous NY Pizza    331\n",
      "Name: count, dtype: int64\n",
      "['Pizza, Italian, Fast Food, Restaurants']\n",
      "[2.5]\n"
     ]
    }
   ],
   "source": [
    "print(santa_barbara.loc[santa_barbara.business_id == 'TCWnTa69sJ3vGQsdEe3Esw']['name_business'].value_counts())\n",
    "print(santa_barbara.loc[santa_barbara.business_id == 'TCWnTa69sJ3vGQsdEe3Esw']['categories'].unique())\n",
    "print(santa_barbara.loc[santa_barbara.business_id == 'TCWnTa69sJ3vGQsdEe3Esw']['stars_business'].unique())"
   ]
  },
  {
   "cell_type": "markdown",
   "id": "4ea27b16-7fda-440c-b26f-57ae5aaa24fe",
   "metadata": {},
   "source": [
    "They are two restaurants: \n",
    "1. Savoy Cafe & Deli, restaurant with 4.5 stars and 586 review counts\n",
    "2. Uncle Roccos Famous NY Pizza, fastfood restaurant with 2.5 stars and 331 reviews\n",
    "\n",
    "<br>"
   ]
  },
  {
   "cell_type": "markdown",
   "id": "3c6bf07d-b2d3-4579-8b74-258a21419f58",
   "metadata": {},
   "source": [
    "### Savoy Cafe & Deli"
   ]
  },
  {
   "cell_type": "markdown",
   "id": "1f65995a-c8b0-4af1-93de-c823c1158e01",
   "metadata": {},
   "source": [
    "First we create a dataframe for this restaurant:"
   ]
  },
  {
   "cell_type": "code",
   "execution_count": 164,
   "id": "0e436f19-3f4e-46e2-8efe-2f293a180c1a",
   "metadata": {
    "tags": []
   },
   "outputs": [
    {
     "data": {
      "text/plain": [
       "51287      Great little breakfast or lunch spot where you...\n",
       "51355      Love this place! Their salads at the counter a...\n",
       "52443      Order the iced mocha! It has shaved chocolate ...\n",
       "54348      One of my favorites in all of Santa Barbara.  ...\n",
       "55334      First heard about savoy for their amazing sala...\n",
       "                                 ...                        \n",
       "6905103    This place has DELICIOUS food!\\n\\nI ordered th...\n",
       "6905104    Great food and service! I don't live in the ar...\n",
       "6905105    The food was good, a bit pricey but delicious....\n",
       "6905106    I tried Savoy because my friend Julie highly r...\n",
       "6905107    There are several of our favorites on Figueroa...\n",
       "Name: text, Length: 586, dtype: object"
      ]
     },
     "execution_count": 164,
     "metadata": {},
     "output_type": "execute_result"
    }
   ],
   "source": [
    "Savoy = santa_barbara.loc[santa_barbara['business_id'] == 'BErYojCJSO959vzaz9JclQ']\n",
    "Savoy.text"
   ]
  },
  {
   "cell_type": "markdown",
   "id": "4cce15f1-4373-47a3-8e4e-c3b17a43ee7b",
   "metadata": {},
   "source": [
    "<br><br>\n",
    "The initial sentiment analysis methods did not fully address the specificity required for my research question. In search of a more tailored approach to highlight specific aspects mentioned in reviews, I explored various NLP packages and libraries. Ultimately, the aspect extractor model proved to be the most suitable choice for extracting nuanced insights from the reviews by identifying and categorizing key aspects and associated sentiments."
   ]
  },
  {
   "cell_type": "markdown",
   "id": "95f89a3c-2664-4a4d-837a-a70d1f0b8456",
   "metadata": {},
   "source": [
    "- The aspect extractor model is designed to identify and extract specific aspects or features mentioned in textual data, particularly customer reviews. \n",
    "- It employs natural language processing techniques to recognize **key aspects** related to a given domain, such as aspects of a product or service in the context of reviews. \n",
    "- The model may also predict **sentiments** associated with each identified aspect, categorizing them as positive, negative, or neutral."
   ]
  },
  {
   "cell_type": "markdown",
   "id": "e58fca37-7baf-47de-89ef-c13aa5a611d0",
   "metadata": {},
   "source": [
    "Term extraction and sentiment classification:\n",
    "- Extract aspect terms and sentiments from the text reviews of a business named \"Savoy\" using a pre-trained aspect extraction model.\n",
    "- Create a DataFrame (aspect_sentiment_Savoy) to organize and display the extracted aspects and sentiments, converting the results into a tabular format for easier analysis and interpretation."
   ]
  },
  {
   "cell_type": "code",
   "execution_count": 225,
   "id": "55e0c997-1904-4840-9aa3-e4433e732e56",
   "metadata": {},
   "outputs": [],
   "source": [
    "warnings.filterwarnings(\"ignore\")"
   ]
  },
  {
   "cell_type": "code",
   "execution_count": 167,
   "id": "cf3846c2-2cb8-407c-aee8-ae10c5aa6ece",
   "metadata": {
    "collapsed": true,
    "jupyter": {
     "outputs_hidden": true
    },
    "tags": []
   },
   "outputs": [
    {
     "name": "stdout",
     "output_type": "stream",
     "text": [
      "[2023-12-07 12:53:45] (2.3.4) \u001b[32mDownloading checkpoint:english \u001b[0m\n",
      "[2023-12-07 12:53:45] (2.3.4) \u001b[31mNotice: The pretrained model are used for testing, it is recommended to train the model on your own custom datasets\u001b[0m\n",
      "[2023-12-07 12:53:45] (2.3.4) Checkpoint already downloaded, skip\n",
      "[2023-12-07 12:53:45] (2.3.4) Load aspect extractor from checkpoints/ATEPC_ENGLISH_CHECKPOINT/fast_lcf_atepc_English_cdw_apcacc_82.36_apcf1_81.89_atef1_75.43\n",
      "[2023-12-07 12:53:45] (2.3.4) config: checkpoints/ATEPC_ENGLISH_CHECKPOINT/fast_lcf_atepc_English_cdw_apcacc_82.36_apcf1_81.89_atef1_75.43/fast_lcf_atepc.config\n",
      "[2023-12-07 12:53:45] (2.3.4) state_dict: checkpoints/ATEPC_ENGLISH_CHECKPOINT/fast_lcf_atepc_English_cdw_apcacc_82.36_apcf1_81.89_atef1_75.43/fast_lcf_atepc.state_dict\n",
      "[2023-12-07 12:53:45] (2.3.4) model: None\n",
      "[2023-12-07 12:53:45] (2.3.4) tokenizer: checkpoints/ATEPC_ENGLISH_CHECKPOINT/fast_lcf_atepc_English_cdw_apcacc_82.36_apcf1_81.89_atef1_75.43/fast_lcf_atepc.tokenizer\n",
      "[2023-12-07 12:53:45] (2.3.4) Set Model Device: cpu\n",
      "[2023-12-07 12:53:45] (2.3.4) Device Name: Unknown\n"
     ]
    },
    {
     "name": "stderr",
     "output_type": "stream",
     "text": [
      "Special tokens have been added in the vocabulary, make sure the associated word embeddings are fine-tuned or trained.\n",
      "Special tokens have been added in the vocabulary, make sure the associated word embeddings are fine-tuned or trained.\n"
     ]
    }
   ],
   "source": [
    "aspect_extractor = ATEPCCheckpointManager.get_aspect_extractor(\n",
    "    checkpoint='english',\n",
    "     auto_device=True  # False means load model on CPU\n",
    ")"
   ]
  },
  {
   "cell_type": "code",
   "execution_count": 168,
   "id": "f918816f-89b4-4044-8dc4-b2ffb7c78445",
   "metadata": {
    "tags": []
   },
   "outputs": [
    {
     "name": "stdout",
     "output_type": "stream",
     "text": [
      "2023-12-07 12:54:18.235693\n"
     ]
    },
    {
     "name": "stderr",
     "output_type": "stream",
     "text": [
      "preparing ate inference dataloader: 100%|██████████| 586/586 [00:00<00:00, 905.49it/s]\n",
      "extracting aspect terms: 100%|██████████| 19/19 [01:10<00:00,  3.72s/it]\n",
      "preparing apc inference dataloader: 100%|██████████| 1899/1899 [00:02<00:00, 698.62it/s]\n",
      "classifying aspect sentiments: 100%|██████████| 60/60 [03:54<00:00,  3.92s/it]"
     ]
    },
    {
     "name": "stdout",
     "output_type": "stream",
     "text": [
      "2023-12-07 12:59:28.117816\n"
     ]
    },
    {
     "name": "stderr",
     "output_type": "stream",
     "text": [
      "\n"
     ]
    }
   ],
   "source": [
    "import datetime as dt\n",
    "\n",
    "print(dt.datetime.now())\n",
    "aspect_result = aspect_extractor.extract_aspect(\n",
    "    inference_source=list(Savoy.text),\n",
    "    pred_sentiment=True,\n",
    "    save_result=False,\n",
    "    print_result=False,\n",
    ")\n",
    "print(dt.datetime.now())"
   ]
  },
  {
   "cell_type": "code",
   "execution_count": 209,
   "id": "3235501b-2f1c-496f-a12f-9998a3156496",
   "metadata": {
    "collapsed": true,
    "jupyter": {
     "outputs_hidden": true
    },
    "tags": []
   },
   "outputs": [
    {
     "data": {
      "text/html": [
       "<div>\n",
       "<style scoped>\n",
       "    .dataframe tbody tr th:only-of-type {\n",
       "        vertical-align: middle;\n",
       "    }\n",
       "\n",
       "    .dataframe tbody tr th {\n",
       "        vertical-align: top;\n",
       "    }\n",
       "\n",
       "    .dataframe thead th {\n",
       "        text-align: right;\n",
       "    }\n",
       "</style>\n",
       "<table border=\"1\" class=\"dataframe\">\n",
       "  <thead>\n",
       "    <tr style=\"text-align: right;\">\n",
       "      <th></th>\n",
       "      <th>breakfast</th>\n",
       "      <th>lunch spot</th>\n",
       "      <th>coffee</th>\n",
       "      <th>food</th>\n",
       "      <th>location</th>\n",
       "      <th>salads</th>\n",
       "      <th>teas</th>\n",
       "      <th>prices</th>\n",
       "      <th>atmosphere</th>\n",
       "      <th>service</th>\n",
       "      <th>...</th>\n",
       "      <th>chili flavor</th>\n",
       "      <th>turkey posole</th>\n",
       "      <th>broccoli</th>\n",
       "      <th>kombucha</th>\n",
       "      <th>gal assisting</th>\n",
       "      <th>payed</th>\n",
       "      <th>red rice salad</th>\n",
       "      <th>person</th>\n",
       "      <th>handlebar roasters coffee</th>\n",
       "      <th>sub sandwich</th>\n",
       "    </tr>\n",
       "  </thead>\n",
       "  <tbody>\n",
       "    <tr>\n",
       "      <th>0</th>\n",
       "      <td>neutral</td>\n",
       "      <td>neutral</td>\n",
       "      <td>positive</td>\n",
       "      <td>positive</td>\n",
       "      <td>positive</td>\n",
       "      <td>NaN</td>\n",
       "      <td>NaN</td>\n",
       "      <td>NaN</td>\n",
       "      <td>NaN</td>\n",
       "      <td>NaN</td>\n",
       "      <td>...</td>\n",
       "      <td>NaN</td>\n",
       "      <td>NaN</td>\n",
       "      <td>NaN</td>\n",
       "      <td>NaN</td>\n",
       "      <td>NaN</td>\n",
       "      <td>NaN</td>\n",
       "      <td>NaN</td>\n",
       "      <td>NaN</td>\n",
       "      <td>NaN</td>\n",
       "      <td>NaN</td>\n",
       "    </tr>\n",
       "    <tr>\n",
       "      <th>1</th>\n",
       "      <td>NaN</td>\n",
       "      <td>NaN</td>\n",
       "      <td>NaN</td>\n",
       "      <td>positive</td>\n",
       "      <td>NaN</td>\n",
       "      <td>positive</td>\n",
       "      <td>positive</td>\n",
       "      <td>negative</td>\n",
       "      <td>positive</td>\n",
       "      <td>positive</td>\n",
       "      <td>...</td>\n",
       "      <td>NaN</td>\n",
       "      <td>NaN</td>\n",
       "      <td>NaN</td>\n",
       "      <td>NaN</td>\n",
       "      <td>NaN</td>\n",
       "      <td>NaN</td>\n",
       "      <td>NaN</td>\n",
       "      <td>NaN</td>\n",
       "      <td>NaN</td>\n",
       "      <td>NaN</td>\n",
       "    </tr>\n",
       "    <tr>\n",
       "      <th>2</th>\n",
       "      <td>NaN</td>\n",
       "      <td>NaN</td>\n",
       "      <td>positive</td>\n",
       "      <td>NaN</td>\n",
       "      <td>NaN</td>\n",
       "      <td>NaN</td>\n",
       "      <td>NaN</td>\n",
       "      <td>negative</td>\n",
       "      <td>NaN</td>\n",
       "      <td>NaN</td>\n",
       "      <td>...</td>\n",
       "      <td>NaN</td>\n",
       "      <td>NaN</td>\n",
       "      <td>NaN</td>\n",
       "      <td>NaN</td>\n",
       "      <td>NaN</td>\n",
       "      <td>NaN</td>\n",
       "      <td>NaN</td>\n",
       "      <td>NaN</td>\n",
       "      <td>NaN</td>\n",
       "      <td>NaN</td>\n",
       "    </tr>\n",
       "    <tr>\n",
       "      <th>3</th>\n",
       "      <td>NaN</td>\n",
       "      <td>NaN</td>\n",
       "      <td>NaN</td>\n",
       "      <td>positive</td>\n",
       "      <td>NaN</td>\n",
       "      <td>NaN</td>\n",
       "      <td>NaN</td>\n",
       "      <td>NaN</td>\n",
       "      <td>NaN</td>\n",
       "      <td>NaN</td>\n",
       "      <td>...</td>\n",
       "      <td>NaN</td>\n",
       "      <td>NaN</td>\n",
       "      <td>NaN</td>\n",
       "      <td>NaN</td>\n",
       "      <td>NaN</td>\n",
       "      <td>NaN</td>\n",
       "      <td>NaN</td>\n",
       "      <td>NaN</td>\n",
       "      <td>NaN</td>\n",
       "      <td>NaN</td>\n",
       "    </tr>\n",
       "    <tr>\n",
       "      <th>4</th>\n",
       "      <td>NaN</td>\n",
       "      <td>NaN</td>\n",
       "      <td>positive</td>\n",
       "      <td>NaN</td>\n",
       "      <td>NaN</td>\n",
       "      <td>NaN</td>\n",
       "      <td>NaN</td>\n",
       "      <td>NaN</td>\n",
       "      <td>NaN</td>\n",
       "      <td>NaN</td>\n",
       "      <td>...</td>\n",
       "      <td>NaN</td>\n",
       "      <td>NaN</td>\n",
       "      <td>NaN</td>\n",
       "      <td>NaN</td>\n",
       "      <td>NaN</td>\n",
       "      <td>NaN</td>\n",
       "      <td>NaN</td>\n",
       "      <td>NaN</td>\n",
       "      <td>NaN</td>\n",
       "      <td>NaN</td>\n",
       "    </tr>\n",
       "    <tr>\n",
       "      <th>...</th>\n",
       "      <td>...</td>\n",
       "      <td>...</td>\n",
       "      <td>...</td>\n",
       "      <td>...</td>\n",
       "      <td>...</td>\n",
       "      <td>...</td>\n",
       "      <td>...</td>\n",
       "      <td>...</td>\n",
       "      <td>...</td>\n",
       "      <td>...</td>\n",
       "      <td>...</td>\n",
       "      <td>...</td>\n",
       "      <td>...</td>\n",
       "      <td>...</td>\n",
       "      <td>...</td>\n",
       "      <td>...</td>\n",
       "      <td>...</td>\n",
       "      <td>...</td>\n",
       "      <td>...</td>\n",
       "      <td>...</td>\n",
       "      <td>...</td>\n",
       "    </tr>\n",
       "    <tr>\n",
       "      <th>581</th>\n",
       "      <td>NaN</td>\n",
       "      <td>NaN</td>\n",
       "      <td>NaN</td>\n",
       "      <td>positive</td>\n",
       "      <td>NaN</td>\n",
       "      <td>NaN</td>\n",
       "      <td>NaN</td>\n",
       "      <td>NaN</td>\n",
       "      <td>NaN</td>\n",
       "      <td>NaN</td>\n",
       "      <td>...</td>\n",
       "      <td>NaN</td>\n",
       "      <td>NaN</td>\n",
       "      <td>NaN</td>\n",
       "      <td>NaN</td>\n",
       "      <td>NaN</td>\n",
       "      <td>NaN</td>\n",
       "      <td>positive</td>\n",
       "      <td>NaN</td>\n",
       "      <td>NaN</td>\n",
       "      <td>NaN</td>\n",
       "    </tr>\n",
       "    <tr>\n",
       "      <th>582</th>\n",
       "      <td>NaN</td>\n",
       "      <td>NaN</td>\n",
       "      <td>NaN</td>\n",
       "      <td>positive</td>\n",
       "      <td>NaN</td>\n",
       "      <td>NaN</td>\n",
       "      <td>NaN</td>\n",
       "      <td>NaN</td>\n",
       "      <td>NaN</td>\n",
       "      <td>positive</td>\n",
       "      <td>...</td>\n",
       "      <td>NaN</td>\n",
       "      <td>NaN</td>\n",
       "      <td>NaN</td>\n",
       "      <td>NaN</td>\n",
       "      <td>NaN</td>\n",
       "      <td>NaN</td>\n",
       "      <td>NaN</td>\n",
       "      <td>NaN</td>\n",
       "      <td>NaN</td>\n",
       "      <td>NaN</td>\n",
       "    </tr>\n",
       "    <tr>\n",
       "      <th>583</th>\n",
       "      <td>NaN</td>\n",
       "      <td>NaN</td>\n",
       "      <td>negative</td>\n",
       "      <td>positive</td>\n",
       "      <td>NaN</td>\n",
       "      <td>NaN</td>\n",
       "      <td>NaN</td>\n",
       "      <td>NaN</td>\n",
       "      <td>NaN</td>\n",
       "      <td>NaN</td>\n",
       "      <td>...</td>\n",
       "      <td>NaN</td>\n",
       "      <td>NaN</td>\n",
       "      <td>NaN</td>\n",
       "      <td>NaN</td>\n",
       "      <td>NaN</td>\n",
       "      <td>NaN</td>\n",
       "      <td>NaN</td>\n",
       "      <td>positive</td>\n",
       "      <td>NaN</td>\n",
       "      <td>NaN</td>\n",
       "    </tr>\n",
       "    <tr>\n",
       "      <th>584</th>\n",
       "      <td>NaN</td>\n",
       "      <td>NaN</td>\n",
       "      <td>NaN</td>\n",
       "      <td>NaN</td>\n",
       "      <td>NaN</td>\n",
       "      <td>NaN</td>\n",
       "      <td>NaN</td>\n",
       "      <td>NaN</td>\n",
       "      <td>NaN</td>\n",
       "      <td>NaN</td>\n",
       "      <td>...</td>\n",
       "      <td>NaN</td>\n",
       "      <td>NaN</td>\n",
       "      <td>NaN</td>\n",
       "      <td>NaN</td>\n",
       "      <td>NaN</td>\n",
       "      <td>NaN</td>\n",
       "      <td>NaN</td>\n",
       "      <td>NaN</td>\n",
       "      <td>positive</td>\n",
       "      <td>NaN</td>\n",
       "    </tr>\n",
       "    <tr>\n",
       "      <th>585</th>\n",
       "      <td>NaN</td>\n",
       "      <td>NaN</td>\n",
       "      <td>NaN</td>\n",
       "      <td>NaN</td>\n",
       "      <td>NaN</td>\n",
       "      <td>NaN</td>\n",
       "      <td>NaN</td>\n",
       "      <td>NaN</td>\n",
       "      <td>NaN</td>\n",
       "      <td>positive</td>\n",
       "      <td>...</td>\n",
       "      <td>NaN</td>\n",
       "      <td>NaN</td>\n",
       "      <td>NaN</td>\n",
       "      <td>NaN</td>\n",
       "      <td>NaN</td>\n",
       "      <td>NaN</td>\n",
       "      <td>NaN</td>\n",
       "      <td>NaN</td>\n",
       "      <td>NaN</td>\n",
       "      <td>positive</td>\n",
       "    </tr>\n",
       "  </tbody>\n",
       "</table>\n",
       "<p>586 rows × 450 columns</p>\n",
       "</div>"
      ],
      "text/plain": [
       "    breakfast lunch spot    coffee      food  location    salads      teas  \\\n",
       "0     neutral    neutral  positive  positive  positive       NaN       NaN   \n",
       "1         NaN        NaN       NaN  positive       NaN  positive  positive   \n",
       "2         NaN        NaN  positive       NaN       NaN       NaN       NaN   \n",
       "3         NaN        NaN       NaN  positive       NaN       NaN       NaN   \n",
       "4         NaN        NaN  positive       NaN       NaN       NaN       NaN   \n",
       "..        ...        ...       ...       ...       ...       ...       ...   \n",
       "581       NaN        NaN       NaN  positive       NaN       NaN       NaN   \n",
       "582       NaN        NaN       NaN  positive       NaN       NaN       NaN   \n",
       "583       NaN        NaN  negative  positive       NaN       NaN       NaN   \n",
       "584       NaN        NaN       NaN       NaN       NaN       NaN       NaN   \n",
       "585       NaN        NaN       NaN       NaN       NaN       NaN       NaN   \n",
       "\n",
       "       prices atmosphere   service  ... chili flavor turkey posole broccoli  \\\n",
       "0         NaN        NaN       NaN  ...          NaN           NaN      NaN   \n",
       "1    negative   positive  positive  ...          NaN           NaN      NaN   \n",
       "2    negative        NaN       NaN  ...          NaN           NaN      NaN   \n",
       "3         NaN        NaN       NaN  ...          NaN           NaN      NaN   \n",
       "4         NaN        NaN       NaN  ...          NaN           NaN      NaN   \n",
       "..        ...        ...       ...  ...          ...           ...      ...   \n",
       "581       NaN        NaN       NaN  ...          NaN           NaN      NaN   \n",
       "582       NaN        NaN  positive  ...          NaN           NaN      NaN   \n",
       "583       NaN        NaN       NaN  ...          NaN           NaN      NaN   \n",
       "584       NaN        NaN       NaN  ...          NaN           NaN      NaN   \n",
       "585       NaN        NaN  positive  ...          NaN           NaN      NaN   \n",
       "\n",
       "    kombucha gal assisting payed red rice salad    person  \\\n",
       "0        NaN           NaN   NaN            NaN       NaN   \n",
       "1        NaN           NaN   NaN            NaN       NaN   \n",
       "2        NaN           NaN   NaN            NaN       NaN   \n",
       "3        NaN           NaN   NaN            NaN       NaN   \n",
       "4        NaN           NaN   NaN            NaN       NaN   \n",
       "..       ...           ...   ...            ...       ...   \n",
       "581      NaN           NaN   NaN       positive       NaN   \n",
       "582      NaN           NaN   NaN            NaN       NaN   \n",
       "583      NaN           NaN   NaN            NaN  positive   \n",
       "584      NaN           NaN   NaN            NaN       NaN   \n",
       "585      NaN           NaN   NaN            NaN       NaN   \n",
       "\n",
       "    handlebar roasters coffee sub sandwich  \n",
       "0                         NaN          NaN  \n",
       "1                         NaN          NaN  \n",
       "2                         NaN          NaN  \n",
       "3                         NaN          NaN  \n",
       "4                         NaN          NaN  \n",
       "..                        ...          ...  \n",
       "581                       NaN          NaN  \n",
       "582                       NaN          NaN  \n",
       "583                       NaN          NaN  \n",
       "584                  positive          NaN  \n",
       "585                       NaN     positive  \n",
       "\n",
       "[586 rows x 450 columns]"
      ]
     },
     "execution_count": 209,
     "metadata": {},
     "output_type": "execute_result"
    }
   ],
   "source": [
    "aspect_sentiment_Savoy = pd.DataFrame(\n",
    "    [\n",
    "        dict(zip(\n",
    "            [a.lower() for a in result['aspect']],\n",
    "            [s.lower() for s in result['sentiment']]\n",
    "        ))\n",
    "        for result in aspect_result\n",
    "    ]\n",
    ")\n",
    "aspect_sentiment_Savoy"
   ]
  },
  {
   "cell_type": "code",
   "execution_count": 276,
   "id": "5994a562-89a9-4d99-8447-dbea726ca50f",
   "metadata": {
    "tags": []
   },
   "outputs": [
    {
     "data": {
      "text/plain": [
       "array(['neutral', 'positive', '', 'negative'], dtype=object)"
      ]
     },
     "execution_count": 276,
     "metadata": {},
     "output_type": "execute_result"
    }
   ],
   "source": [
    "pd.unique(aspect_sentiment_Savoy.values.reshape(-1))"
   ]
  },
  {
   "cell_type": "code",
   "execution_count": 277,
   "id": "52192806-79fd-49e5-a8d8-d2ba33003492",
   "metadata": {
    "tags": []
   },
   "outputs": [],
   "source": [
    "# Save it as new df\n",
    "as_Savoy = aspect_sentiment_Savoy"
   ]
  },
  {
   "cell_type": "code",
   "execution_count": 279,
   "id": "767b7a55-87fe-4cd1-b65c-f508b0cdccab",
   "metadata": {
    "tags": []
   },
   "outputs": [],
   "source": [
    "# Clean the data\n",
    "columns_to_drop = ['people', 'it', 'everything', 'girl','folks', 'guys', 'guy','take','everyone','they', 'go']\n",
    "as_Savoy = as_Savoy.drop(columns=columns_to_drop)"
   ]
  },
  {
   "cell_type": "code",
   "execution_count": 414,
   "id": "4d280b4f-316e-49bb-8ccd-27c3e6057465",
   "metadata": {
    "tags": []
   },
   "outputs": [
    {
     "data": {
      "text/plain": [
       "food         15\n",
       "service       8\n",
       "staff         7\n",
       "bread         6\n",
       "coffee        6\n",
       "employees     4\n",
       "chairs        3\n",
       "salad         3\n",
       "wait          3\n",
       "order         3\n",
       "dtype: int64"
      ]
     },
     "execution_count": 414,
     "metadata": {},
     "output_type": "execute_result"
    }
   ],
   "source": [
    "# Finding the most frequent aspects in positive revews\n",
    "(as_Savoy == 'negative').sum().sort_values(ascending=False).head(10)"
   ]
  },
  {
   "cell_type": "code",
   "execution_count": 415,
   "id": "22a28f93-63c7-4a89-a91f-3e46bb35830f",
   "metadata": {
    "tags": []
   },
   "outputs": [
    {
     "data": {
      "text/plain": [
       "food          188\n",
       "staff          79\n",
       "service        67\n",
       "salad bar      60\n",
       "atmosphere     54\n",
       "place          42\n",
       "options        40\n",
       "coffee         32\n",
       "breakfast      26\n",
       "ambiance       20\n",
       "dtype: int64"
      ]
     },
     "execution_count": 415,
     "metadata": {},
     "output_type": "execute_result"
    }
   ],
   "source": [
    "# Finding the most frequent aspects in negative revews\n",
    "(as_Savoy == 'positive').sum().sort_values(ascending=False).head(10)"
   ]
  },
  {
   "cell_type": "code",
   "execution_count": 781,
   "id": "6e5240ea-a82d-480b-b391-7ffcf5613c30",
   "metadata": {
    "tags": []
   },
   "outputs": [
    {
     "data": {
      "image/png": "[encoded data removed]",
      "text/plain": [
       "<Figure size 1200x600 with 1 Axes>"
      ]
     },
     "metadata": {},
     "output_type": "display_data"
    }
   ],
   "source": [
    "negative_counts = (as_Savoy == 'negative').sum().sort_values(ascending=False).head(5)\n",
    "positive_counts = (as_Savoy == 'positive').sum().sort_values(ascending=False).head(5)\n",
    "\n",
    "# Plotting a grouped bar chart\n",
    "plt.figure(figsize=(12, 6))\n",
    "\n",
    "bar_width = 0.35\n",
    "index = range(len(negative_counts))\n",
    "\n",
    "plt.bar(index, negative_counts, width=bar_width, color='red', label='Negative')\n",
    "plt.bar([i + bar_width for i in index], positive_counts, width=bar_width, color='green', label='Positive')\n",
    "\n",
    "plt.xlabel('Categories')\n",
    "plt.ylabel('Counts')\n",
    "plt.title('Top 5 Negative and Positive Aspects from Reviews for Savoy')\n",
    "plt.xticks([i + bar_width/2 for i in index], negative_counts.index)\n",
    "plt.legend()\n",
    "\n",
    "# Display the chart\n",
    "plt.show()\n"
   ]
  },
  {
   "cell_type": "markdown",
   "id": "e600be25-3863-4687-a008-1d4f2f553d44",
   "metadata": {},
   "source": [
    "The bar chart highlights substantial differences in the number of mentions between positive and negative reviews. The analysis suggests that aspects related to food quality, service, and staff receive significant praise from reviewers, contributing to a positive sentiment overall."
   ]
  },
  {
   "cell_type": "markdown",
   "id": "0795c603-2f3c-4fc3-afcb-6fbf073ea61b",
   "metadata": {},
   "source": [
    "### Uncle Roccos Famous NY Pizza"
   ]
  },
  {
   "cell_type": "markdown",
   "id": "05ee5e8c-54c1-4230-8cae-d6e60d6c71cc",
   "metadata": {},
   "source": [
    "First we create a dataframe for this restaurant:"
   ]
  },
  {
   "cell_type": "code",
   "execution_count": 361,
   "id": "18abbca2-cc37-487d-b725-88ef89f95921",
   "metadata": {
    "tags": []
   },
   "outputs": [],
   "source": [
    "Roccos = santa_barbara.loc[santa_barbara['business_id'] == 'TCWnTa69sJ3vGQsdEe3Esw']"
   ]
  },
  {
   "cell_type": "markdown",
   "id": "526d9938-9aa6-4386-b9d5-5452ebbcbd79",
   "metadata": {},
   "source": [
    "Term extraction and sentiment classification:"
   ]
  },
  {
   "cell_type": "code",
   "execution_count": 167,
   "id": "30f022ea-4261-4f70-adb1-02f88a7d140d",
   "metadata": {
    "collapsed": true,
    "jupyter": {
     "outputs_hidden": true
    },
    "tags": []
   },
   "outputs": [
    {
     "name": "stdout",
     "output_type": "stream",
     "text": [
      "[2023-12-07 12:53:45] (2.3.4) \u001b[32mDownloading checkpoint:english \u001b[0m\n",
      "[2023-12-07 12:53:45] (2.3.4) \u001b[31mNotice: The pretrained model are used for testing, it is recommended to train the model on your own custom datasets\u001b[0m\n",
      "[2023-12-07 12:53:45] (2.3.4) Checkpoint already downloaded, skip\n",
      "[2023-12-07 12:53:45] (2.3.4) Load aspect extractor from checkpoints/ATEPC_ENGLISH_CHECKPOINT/fast_lcf_atepc_English_cdw_apcacc_82.36_apcf1_81.89_atef1_75.43\n",
      "[2023-12-07 12:53:45] (2.3.4) config: checkpoints/ATEPC_ENGLISH_CHECKPOINT/fast_lcf_atepc_English_cdw_apcacc_82.36_apcf1_81.89_atef1_75.43/fast_lcf_atepc.config\n",
      "[2023-12-07 12:53:45] (2.3.4) state_dict: checkpoints/ATEPC_ENGLISH_CHECKPOINT/fast_lcf_atepc_English_cdw_apcacc_82.36_apcf1_81.89_atef1_75.43/fast_lcf_atepc.state_dict\n",
      "[2023-12-07 12:53:45] (2.3.4) model: None\n",
      "[2023-12-07 12:53:45] (2.3.4) tokenizer: checkpoints/ATEPC_ENGLISH_CHECKPOINT/fast_lcf_atepc_English_cdw_apcacc_82.36_apcf1_81.89_atef1_75.43/fast_lcf_atepc.tokenizer\n",
      "[2023-12-07 12:53:45] (2.3.4) Set Model Device: cpu\n",
      "[2023-12-07 12:53:45] (2.3.4) Device Name: Unknown\n"
     ]
    },
    {
     "name": "stderr",
     "output_type": "stream",
     "text": [
      "Special tokens have been added in the vocabulary, make sure the associated word embeddings are fine-tuned or trained.\n",
      "Special tokens have been added in the vocabulary, make sure the associated word embeddings are fine-tuned or trained.\n"
     ]
    }
   ],
   "source": [
    "aspect_extractor = ATEPCCheckpointManager.get_aspect_extractor(\n",
    "    checkpoint='english',\n",
    "     auto_device=True  # False means load model on CPU\n",
    ")"
   ]
  },
  {
   "cell_type": "code",
   "execution_count": 346,
   "id": "dd50b5ed-d527-4f53-8e4e-13978206b794",
   "metadata": {
    "tags": []
   },
   "outputs": [
    {
     "name": "stdout",
     "output_type": "stream",
     "text": [
      "2023-12-07 17:10:45.229218\n"
     ]
    },
    {
     "name": "stderr",
     "output_type": "stream",
     "text": [
      "preparing ate inference dataloader: 100%|██████████| 331/331 [00:00<00:00, 812.22it/s]\n",
      "extracting aspect terms: 100%|██████████| 11/11 [00:40<00:00,  3.68s/it]\n",
      "preparing apc inference dataloader: 100%|██████████| 986/986 [00:01<00:00, 656.53it/s]\n",
      "classifying aspect sentiments: 100%|██████████| 31/31 [02:06<00:00,  4.08s/it]"
     ]
    },
    {
     "name": "stdout",
     "output_type": "stream",
     "text": [
      "2023-12-07 17:13:34.735716\n"
     ]
    },
    {
     "name": "stderr",
     "output_type": "stream",
     "text": [
      "\n"
     ]
    }
   ],
   "source": [
    "print(dt.datetime.now())\n",
    "aspect_result_Roccos = aspect_extractor.extract_aspect(\n",
    "    inference_source=list(Roccos.text),\n",
    "    pred_sentiment=True,\n",
    "    save_result=False,\n",
    "    print_result=False,\n",
    ")\n",
    "print(dt.datetime.now())"
   ]
  },
  {
   "cell_type": "code",
   "execution_count": 383,
   "id": "5dd0de7a-bc3f-4c00-946e-fd6b5a024ea1",
   "metadata": {
    "collapsed": true,
    "jupyter": {
     "outputs_hidden": true
    },
    "tags": []
   },
   "outputs": [
    {
     "data": {
      "text/html": [
       "<div>\n",
       "<style scoped>\n",
       "    .dataframe tbody tr th:only-of-type {\n",
       "        vertical-align: middle;\n",
       "    }\n",
       "\n",
       "    .dataframe tbody tr th {\n",
       "        vertical-align: top;\n",
       "    }\n",
       "\n",
       "    .dataframe thead th {\n",
       "        text-align: right;\n",
       "    }\n",
       "</style>\n",
       "<table border=\"1\" class=\"dataframe\">\n",
       "  <thead>\n",
       "    <tr style=\"text-align: right;\">\n",
       "      <th></th>\n",
       "      <th>counter</th>\n",
       "      <th>line</th>\n",
       "      <th>paid</th>\n",
       "      <th>minutes</th>\n",
       "      <th>pizza</th>\n",
       "      <th>water</th>\n",
       "      <th>service</th>\n",
       "      <th>crust</th>\n",
       "      <th>pepperoni</th>\n",
       "      <th>atmosphere</th>\n",
       "      <th>...</th>\n",
       "      <th>decor</th>\n",
       "      <th>wait time</th>\n",
       "      <th>premises</th>\n",
       "      <th>drink</th>\n",
       "      <th>restroom</th>\n",
       "      <th>house salad</th>\n",
       "      <th>serve</th>\n",
       "      <th>olive</th>\n",
       "      <th>bathroom</th>\n",
       "      <th>door</th>\n",
       "    </tr>\n",
       "  </thead>\n",
       "  <tbody>\n",
       "    <tr>\n",
       "      <th>0</th>\n",
       "      <td>negative</td>\n",
       "      <td>negative</td>\n",
       "      <td>NaN</td>\n",
       "      <td>NaN</td>\n",
       "      <td>NaN</td>\n",
       "      <td>NaN</td>\n",
       "      <td>NaN</td>\n",
       "      <td>NaN</td>\n",
       "      <td>NaN</td>\n",
       "      <td>NaN</td>\n",
       "      <td>...</td>\n",
       "      <td>NaN</td>\n",
       "      <td>NaN</td>\n",
       "      <td>NaN</td>\n",
       "      <td>NaN</td>\n",
       "      <td>NaN</td>\n",
       "      <td>NaN</td>\n",
       "      <td>NaN</td>\n",
       "      <td>NaN</td>\n",
       "      <td>NaN</td>\n",
       "      <td>NaN</td>\n",
       "    </tr>\n",
       "    <tr>\n",
       "      <th>1</th>\n",
       "      <td>NaN</td>\n",
       "      <td>negative</td>\n",
       "      <td>negative</td>\n",
       "      <td>negative</td>\n",
       "      <td>negative</td>\n",
       "      <td>positive</td>\n",
       "      <td>neutral</td>\n",
       "      <td>NaN</td>\n",
       "      <td>NaN</td>\n",
       "      <td>NaN</td>\n",
       "      <td>...</td>\n",
       "      <td>NaN</td>\n",
       "      <td>NaN</td>\n",
       "      <td>NaN</td>\n",
       "      <td>NaN</td>\n",
       "      <td>NaN</td>\n",
       "      <td>NaN</td>\n",
       "      <td>NaN</td>\n",
       "      <td>NaN</td>\n",
       "      <td>NaN</td>\n",
       "      <td>NaN</td>\n",
       "    </tr>\n",
       "    <tr>\n",
       "      <th>2</th>\n",
       "      <td>NaN</td>\n",
       "      <td>NaN</td>\n",
       "      <td>NaN</td>\n",
       "      <td>NaN</td>\n",
       "      <td>NaN</td>\n",
       "      <td>NaN</td>\n",
       "      <td>NaN</td>\n",
       "      <td>negative</td>\n",
       "      <td>neutral</td>\n",
       "      <td>NaN</td>\n",
       "      <td>...</td>\n",
       "      <td>NaN</td>\n",
       "      <td>NaN</td>\n",
       "      <td>NaN</td>\n",
       "      <td>NaN</td>\n",
       "      <td>NaN</td>\n",
       "      <td>NaN</td>\n",
       "      <td>NaN</td>\n",
       "      <td>NaN</td>\n",
       "      <td>NaN</td>\n",
       "      <td>NaN</td>\n",
       "    </tr>\n",
       "    <tr>\n",
       "      <th>3</th>\n",
       "      <td>NaN</td>\n",
       "      <td>NaN</td>\n",
       "      <td>NaN</td>\n",
       "      <td>NaN</td>\n",
       "      <td>positive</td>\n",
       "      <td>NaN</td>\n",
       "      <td>NaN</td>\n",
       "      <td>NaN</td>\n",
       "      <td>NaN</td>\n",
       "      <td>NaN</td>\n",
       "      <td>...</td>\n",
       "      <td>NaN</td>\n",
       "      <td>NaN</td>\n",
       "      <td>NaN</td>\n",
       "      <td>NaN</td>\n",
       "      <td>NaN</td>\n",
       "      <td>NaN</td>\n",
       "      <td>NaN</td>\n",
       "      <td>NaN</td>\n",
       "      <td>NaN</td>\n",
       "      <td>NaN</td>\n",
       "    </tr>\n",
       "    <tr>\n",
       "      <th>4</th>\n",
       "      <td>NaN</td>\n",
       "      <td>NaN</td>\n",
       "      <td>NaN</td>\n",
       "      <td>NaN</td>\n",
       "      <td>positive</td>\n",
       "      <td>NaN</td>\n",
       "      <td>NaN</td>\n",
       "      <td>NaN</td>\n",
       "      <td>NaN</td>\n",
       "      <td>positive</td>\n",
       "      <td>...</td>\n",
       "      <td>NaN</td>\n",
       "      <td>NaN</td>\n",
       "      <td>NaN</td>\n",
       "      <td>NaN</td>\n",
       "      <td>NaN</td>\n",
       "      <td>NaN</td>\n",
       "      <td>NaN</td>\n",
       "      <td>NaN</td>\n",
       "      <td>NaN</td>\n",
       "      <td>NaN</td>\n",
       "    </tr>\n",
       "    <tr>\n",
       "      <th>...</th>\n",
       "      <td>...</td>\n",
       "      <td>...</td>\n",
       "      <td>...</td>\n",
       "      <td>...</td>\n",
       "      <td>...</td>\n",
       "      <td>...</td>\n",
       "      <td>...</td>\n",
       "      <td>...</td>\n",
       "      <td>...</td>\n",
       "      <td>...</td>\n",
       "      <td>...</td>\n",
       "      <td>...</td>\n",
       "      <td>...</td>\n",
       "      <td>...</td>\n",
       "      <td>...</td>\n",
       "      <td>...</td>\n",
       "      <td>...</td>\n",
       "      <td>...</td>\n",
       "      <td>...</td>\n",
       "      <td>...</td>\n",
       "      <td>...</td>\n",
       "    </tr>\n",
       "    <tr>\n",
       "      <th>326</th>\n",
       "      <td>NaN</td>\n",
       "      <td>NaN</td>\n",
       "      <td>NaN</td>\n",
       "      <td>NaN</td>\n",
       "      <td>NaN</td>\n",
       "      <td>NaN</td>\n",
       "      <td>negative</td>\n",
       "      <td>NaN</td>\n",
       "      <td>NaN</td>\n",
       "      <td>NaN</td>\n",
       "      <td>...</td>\n",
       "      <td>NaN</td>\n",
       "      <td>NaN</td>\n",
       "      <td>NaN</td>\n",
       "      <td>NaN</td>\n",
       "      <td>NaN</td>\n",
       "      <td>NaN</td>\n",
       "      <td>NaN</td>\n",
       "      <td>NaN</td>\n",
       "      <td>NaN</td>\n",
       "      <td>NaN</td>\n",
       "    </tr>\n",
       "    <tr>\n",
       "      <th>327</th>\n",
       "      <td>NaN</td>\n",
       "      <td>NaN</td>\n",
       "      <td>NaN</td>\n",
       "      <td>NaN</td>\n",
       "      <td>NaN</td>\n",
       "      <td>NaN</td>\n",
       "      <td>negative</td>\n",
       "      <td>NaN</td>\n",
       "      <td>NaN</td>\n",
       "      <td>NaN</td>\n",
       "      <td>...</td>\n",
       "      <td>NaN</td>\n",
       "      <td>NaN</td>\n",
       "      <td>NaN</td>\n",
       "      <td>NaN</td>\n",
       "      <td>NaN</td>\n",
       "      <td>NaN</td>\n",
       "      <td>NaN</td>\n",
       "      <td>NaN</td>\n",
       "      <td>NaN</td>\n",
       "      <td>NaN</td>\n",
       "    </tr>\n",
       "    <tr>\n",
       "      <th>328</th>\n",
       "      <td>NaN</td>\n",
       "      <td>NaN</td>\n",
       "      <td>NaN</td>\n",
       "      <td>NaN</td>\n",
       "      <td>NaN</td>\n",
       "      <td>NaN</td>\n",
       "      <td>NaN</td>\n",
       "      <td>NaN</td>\n",
       "      <td>NaN</td>\n",
       "      <td>NaN</td>\n",
       "      <td>...</td>\n",
       "      <td>NaN</td>\n",
       "      <td>NaN</td>\n",
       "      <td>NaN</td>\n",
       "      <td>NaN</td>\n",
       "      <td>NaN</td>\n",
       "      <td>NaN</td>\n",
       "      <td>NaN</td>\n",
       "      <td>NaN</td>\n",
       "      <td>NaN</td>\n",
       "      <td>NaN</td>\n",
       "    </tr>\n",
       "    <tr>\n",
       "      <th>329</th>\n",
       "      <td>NaN</td>\n",
       "      <td>negative</td>\n",
       "      <td>NaN</td>\n",
       "      <td>NaN</td>\n",
       "      <td>positive</td>\n",
       "      <td>NaN</td>\n",
       "      <td>negative</td>\n",
       "      <td>NaN</td>\n",
       "      <td>NaN</td>\n",
       "      <td>NaN</td>\n",
       "      <td>...</td>\n",
       "      <td>NaN</td>\n",
       "      <td>NaN</td>\n",
       "      <td>NaN</td>\n",
       "      <td>NaN</td>\n",
       "      <td>NaN</td>\n",
       "      <td>NaN</td>\n",
       "      <td>NaN</td>\n",
       "      <td>NaN</td>\n",
       "      <td>NaN</td>\n",
       "      <td>NaN</td>\n",
       "    </tr>\n",
       "    <tr>\n",
       "      <th>330</th>\n",
       "      <td>NaN</td>\n",
       "      <td>NaN</td>\n",
       "      <td>NaN</td>\n",
       "      <td>NaN</td>\n",
       "      <td>positive</td>\n",
       "      <td>NaN</td>\n",
       "      <td>NaN</td>\n",
       "      <td>NaN</td>\n",
       "      <td>NaN</td>\n",
       "      <td>NaN</td>\n",
       "      <td>...</td>\n",
       "      <td>NaN</td>\n",
       "      <td>NaN</td>\n",
       "      <td>NaN</td>\n",
       "      <td>NaN</td>\n",
       "      <td>NaN</td>\n",
       "      <td>NaN</td>\n",
       "      <td>NaN</td>\n",
       "      <td>NaN</td>\n",
       "      <td>NaN</td>\n",
       "      <td>negative</td>\n",
       "    </tr>\n",
       "  </tbody>\n",
       "</table>\n",
       "<p>331 rows × 209 columns</p>\n",
       "</div>"
      ],
      "text/plain": [
       "      counter      line      paid   minutes     pizza     water   service  \\\n",
       "0    negative  negative       NaN       NaN       NaN       NaN       NaN   \n",
       "1         NaN  negative  negative  negative  negative  positive   neutral   \n",
       "2         NaN       NaN       NaN       NaN       NaN       NaN       NaN   \n",
       "3         NaN       NaN       NaN       NaN  positive       NaN       NaN   \n",
       "4         NaN       NaN       NaN       NaN  positive       NaN       NaN   \n",
       "..        ...       ...       ...       ...       ...       ...       ...   \n",
       "326       NaN       NaN       NaN       NaN       NaN       NaN  negative   \n",
       "327       NaN       NaN       NaN       NaN       NaN       NaN  negative   \n",
       "328       NaN       NaN       NaN       NaN       NaN       NaN       NaN   \n",
       "329       NaN  negative       NaN       NaN  positive       NaN  negative   \n",
       "330       NaN       NaN       NaN       NaN  positive       NaN       NaN   \n",
       "\n",
       "        crust pepperoni atmosphere  ... decor wait time premises drink  \\\n",
       "0         NaN       NaN        NaN  ...   NaN       NaN      NaN   NaN   \n",
       "1         NaN       NaN        NaN  ...   NaN       NaN      NaN   NaN   \n",
       "2    negative   neutral        NaN  ...   NaN       NaN      NaN   NaN   \n",
       "3         NaN       NaN        NaN  ...   NaN       NaN      NaN   NaN   \n",
       "4         NaN       NaN   positive  ...   NaN       NaN      NaN   NaN   \n",
       "..        ...       ...        ...  ...   ...       ...      ...   ...   \n",
       "326       NaN       NaN        NaN  ...   NaN       NaN      NaN   NaN   \n",
       "327       NaN       NaN        NaN  ...   NaN       NaN      NaN   NaN   \n",
       "328       NaN       NaN        NaN  ...   NaN       NaN      NaN   NaN   \n",
       "329       NaN       NaN        NaN  ...   NaN       NaN      NaN   NaN   \n",
       "330       NaN       NaN        NaN  ...   NaN       NaN      NaN   NaN   \n",
       "\n",
       "    restroom house salad serve olive bathroom      door  \n",
       "0        NaN         NaN   NaN   NaN      NaN       NaN  \n",
       "1        NaN         NaN   NaN   NaN      NaN       NaN  \n",
       "2        NaN         NaN   NaN   NaN      NaN       NaN  \n",
       "3        NaN         NaN   NaN   NaN      NaN       NaN  \n",
       "4        NaN         NaN   NaN   NaN      NaN       NaN  \n",
       "..       ...         ...   ...   ...      ...       ...  \n",
       "326      NaN         NaN   NaN   NaN      NaN       NaN  \n",
       "327      NaN         NaN   NaN   NaN      NaN       NaN  \n",
       "328      NaN         NaN   NaN   NaN      NaN       NaN  \n",
       "329      NaN         NaN   NaN   NaN      NaN       NaN  \n",
       "330      NaN         NaN   NaN   NaN      NaN  negative  \n",
       "\n",
       "[331 rows x 209 columns]"
      ]
     },
     "execution_count": 383,
     "metadata": {},
     "output_type": "execute_result"
    }
   ],
   "source": [
    "as_Roccos = pd.DataFrame(\n",
    "    [\n",
    "        dict(zip(\n",
    "            [a.lower() for a in result['aspect']],\n",
    "            [s.lower() for s in result['sentiment']]\n",
    "        ))\n",
    "        for result in aspect_result_Roccos\n",
    "    ]\n",
    ")\n",
    "as_Roccos"
   ]
  },
  {
   "cell_type": "code",
   "execution_count": 384,
   "id": "ab5f66f6-35bc-4faa-881e-b7dbd9bb6436",
   "metadata": {
    "tags": []
   },
   "outputs": [
    {
     "data": {
      "text/plain": [
       "array(['negative', nan, 'positive', 'neutral'], dtype=object)"
      ]
     },
     "execution_count": 384,
     "metadata": {},
     "output_type": "execute_result"
    }
   ],
   "source": [
    "pd.unique(as_Roccos.values.reshape(-1))"
   ]
  },
  {
   "cell_type": "code",
   "execution_count": 385,
   "id": "90fb1cad-e9a0-4994-ac4d-b59c5a8ad2e8",
   "metadata": {
    "tags": []
   },
   "outputs": [],
   "source": [
    "#Clean the data\n",
    "columns_to_drop = ['much', 'it', 'lady', 'guy','one guy', 'door', 'him','get','he','people', 'guys']\n",
    "as_Roccos = as_Roccos.drop(columns=columns_to_drop)"
   ]
  },
  {
   "cell_type": "code",
   "execution_count": 387,
   "id": "0fb2306a-5c1a-4de8-aff1-a9c22e73e9c6",
   "metadata": {
    "tags": []
   },
   "outputs": [
    {
     "data": {
      "text/plain": [
       "pizza         114\n",
       "service        23\n",
       "crust          23\n",
       "place          15\n",
       "atmosphere     14\n",
       "dtype: int64"
      ]
     },
     "execution_count": 387,
     "metadata": {},
     "output_type": "execute_result"
    }
   ],
   "source": [
    "# Finding the most frequent aspects in positive revews\n",
    "(as_Roccos == 'positive').sum().sort_values(ascending=False).head(5)"
   ]
  },
  {
   "cell_type": "code",
   "execution_count": 408,
   "id": "2e290a47-6a2a-455f-a24f-c153f637cb50",
   "metadata": {
    "tags": []
   },
   "outputs": [],
   "source": [
    "#solve the overlap\n",
    "neg_rac['price_agg'] = neg_rac['prices']+neg_rac['price']"
   ]
  },
  {
   "cell_type": "code",
   "execution_count": 407,
   "id": "a7762d73-f220-4e58-a566-b688af5ebc24",
   "metadata": {
    "tags": []
   },
   "outputs": [
    {
     "data": {
      "text/plain": [
       "pizza      74\n",
       "service    45\n",
       "food       17\n",
       "prices     14\n",
       "price      11\n",
       "place      10\n",
       "dtype: int64"
      ]
     },
     "execution_count": 407,
     "metadata": {},
     "output_type": "execute_result"
    }
   ],
   "source": [
    "# Finding the most frequent aspects in negative revews\n",
    "neg_rac = (as_Roccos == 'negative').sum().sort_values(ascending=False).head(6)\n",
    "neg_rac"
   ]
  },
  {
   "cell_type": "code",
   "execution_count": 412,
   "id": "f15b2229-aac5-4579-a65b-8a82bad4ba49",
   "metadata": {
    "tags": []
   },
   "outputs": [
    {
     "data": {
      "text/plain": [
       "pizza        74\n",
       "service      45\n",
       "food         17\n",
       "place        10\n",
       "price_agg    25\n",
       "dtype: int64"
      ]
     },
     "execution_count": 412,
     "metadata": {},
     "output_type": "execute_result"
    }
   ],
   "source": [
    "#Solving the overlap\n",
    "neg_rac = neg_rac.drop(index = ['prices', 'price'])\n",
    "neg_rac"
   ]
  },
  {
   "cell_type": "code",
   "execution_count": 782,
   "id": "aefe2bc6-9246-44e4-96c1-cc066842d283",
   "metadata": {
    "tags": []
   },
   "outputs": [
    {
     "data": {
      "image/png": "[encoded data removed]",
      "text/plain": [
       "<Figure size 1200x600 with 1 Axes>"
      ]
     },
     "metadata": {},
     "output_type": "display_data"
    }
   ],
   "source": [
    "negative_counts_roccos = neg_rac.sort_values(ascending=False)\n",
    "positive_counts_roccos = (as_Roccos == 'positive').sum().sort_values(ascending=False).head(5)\n",
    "\n",
    "# Plotting a grouped bar chart\n",
    "plt.figure(figsize=(12, 6))\n",
    "\n",
    "bar_width = 0.35\n",
    "index_roccos = range(len(negative_counts_roccos))\n",
    "\n",
    "plt.bar(index_roccos, negative_counts_roccos, width=bar_width, color='blue', label='Negative')\n",
    "plt.bar([i + bar_width for i in index_roccos], positive_counts_roccos, width=bar_width, color='orange', label='Positive')\n",
    "\n",
    "plt.xlabel('Categories')\n",
    "plt.ylabel('Counts')\n",
    "plt.title('Top 5 Negative and Positive Aspects from Reviews for Rocco\\'s')\n",
    "plt.xticks([i + bar_width/2 for i in index_roccos], negative_counts_roccos.index)\n",
    "plt.legend()\n",
    "\n",
    "# Display the chart\n",
    "plt.show()\n"
   ]
  },
  {
   "cell_type": "markdown",
   "id": "814ca90a-764b-4ea1-8b5b-3ff7b3a474b7",
   "metadata": {},
   "source": [
    "<br>This bar chart illustrates the balance between positive and negative aspects for Rocco's business. Despite a notable number of dissatisfied comments regarding its pizza, a larger proportion of users express appreciation for the pizza quality. Several speculations arise from the observed low rating:\n",
    "\n",
    "1. A larger dataset with more reviews is needed for a comprehensive understanding.\n",
    "2. Users might prefer rating with stars over providing written reviews.\n",
    "3. Focusing on addressing negative reviews could be crucial.\n",
    "4. Exploring alternative analyses may yield better insights."
   ]
  },
  {
   "cell_type": "markdown",
   "id": "9b48f596-c3ee-4fda-8c3e-4793922a6600",
   "metadata": {},
   "source": [
    "To delve deeper into this matter, I selected another business with low rating but a higher number of review counts."
   ]
  },
  {
   "cell_type": "code",
   "execution_count": 488,
   "id": "288a6fe0-a120-4219-bd7e-2ab892253822",
   "metadata": {
    "tags": []
   },
   "outputs": [],
   "source": [
    "# businesses in Santa Barbara with rating less than 3 stars and review count less than 800 \n",
    "sb_800_3 = santa_barbara[(santa_barbara.review_count_business < 800) & (santa_barbara.stars_business < 3) ]"
   ]
  },
  {
   "cell_type": "code",
   "execution_count": 489,
   "id": "d6d55665-a5c5-4ee3-b494-c446db7f7777",
   "metadata": {},
   "outputs": [
    {
     "data": {
      "text/plain": [
       "business_id\n",
       "v1Uesklh8DpEufYOhTq4iA    784\n",
       "TCWnTa69sJ3vGQsdEe3Esw    331\n",
       "MWKowhzHQ_scqnJEqAUYgA    290\n",
       "HrnSaz2f1WUEoAQQ6iD6gw    272\n",
       "yw3vRR7XLIjEnlhMnVzR7w    244\n",
       "Name: count, dtype: int64"
      ]
     },
     "execution_count": 489,
     "metadata": {},
     "output_type": "execute_result"
    }
   ],
   "source": [
    "sb_800_3.business_id.value_counts().head()"
   ]
  },
  {
   "cell_type": "code",
   "execution_count": 419,
   "id": "b165a964-187e-4be5-9a71-7961cb7ffdb7",
   "metadata": {},
   "outputs": [
    {
     "name": "stdout",
     "output_type": "stream",
     "text": [
      "name_business\n",
      "Mar Monte Hotel - Hyatt    784\n",
      "Name: count, dtype: int64\n",
      "['Hotels, Restaurants, Beauty & Spas, Hotels & Travel, Day Spas, Event Planning & Services']\n",
      "[2.5]\n"
     ]
    }
   ],
   "source": [
    "print(santa_barbara.loc[santa_barbara.business_id == 'v1Uesklh8DpEufYOhTq4iA']['name_business'].value_counts())\n",
    "print(santa_barbara.loc[santa_barbara.business_id == 'v1Uesklh8DpEufYOhTq4iA']['categories'].unique())\n",
    "print(santa_barbara.loc[santa_barbara.business_id == 'v1Uesklh8DpEufYOhTq4iA'].stars_business.unique())"
   ]
  },
  {
   "cell_type": "markdown",
   "id": "0f98ecc6-c5b9-4237-9533-5663c950ab7c",
   "metadata": {
    "tags": []
   },
   "source": [
    "### Mar Monte Hotel"
   ]
  },
  {
   "cell_type": "markdown",
   "id": "ecacb11d-15d6-47eb-ad1a-046a3f7a669d",
   "metadata": {},
   "source": [
    "First we create a dataframe for this restaurant:"
   ]
  },
  {
   "cell_type": "code",
   "execution_count": 420,
   "id": "69d9555e-4410-4d5a-a213-04091d3a6310",
   "metadata": {
    "tags": []
   },
   "outputs": [],
   "source": [
    "Monte = santa_barbara.loc[santa_barbara['business_id'] == 'v1Uesklh8DpEufYOhTq4iA']"
   ]
  },
  {
   "cell_type": "markdown",
   "id": "14ce06bf-72ce-46b8-8114-81f795dbf73d",
   "metadata": {},
   "source": [
    "Term extraction and sentiment classification:"
   ]
  },
  {
   "cell_type": "code",
   "execution_count": 167,
   "id": "20678c23-5baf-42d8-8c79-49b58fb3b8b5",
   "metadata": {
    "collapsed": true,
    "jupyter": {
     "outputs_hidden": true
    },
    "tags": []
   },
   "outputs": [
    {
     "name": "stdout",
     "output_type": "stream",
     "text": [
      "[2023-12-07 12:53:45] (2.3.4) \u001b[32mDownloading checkpoint:english \u001b[0m\n",
      "[2023-12-07 12:53:45] (2.3.4) \u001b[31mNotice: The pretrained model are used for testing, it is recommended to train the model on your own custom datasets\u001b[0m\n",
      "[2023-12-07 12:53:45] (2.3.4) Checkpoint already downloaded, skip\n",
      "[2023-12-07 12:53:45] (2.3.4) Load aspect extractor from checkpoints/ATEPC_ENGLISH_CHECKPOINT/fast_lcf_atepc_English_cdw_apcacc_82.36_apcf1_81.89_atef1_75.43\n",
      "[2023-12-07 12:53:45] (2.3.4) config: checkpoints/ATEPC_ENGLISH_CHECKPOINT/fast_lcf_atepc_English_cdw_apcacc_82.36_apcf1_81.89_atef1_75.43/fast_lcf_atepc.config\n",
      "[2023-12-07 12:53:45] (2.3.4) state_dict: checkpoints/ATEPC_ENGLISH_CHECKPOINT/fast_lcf_atepc_English_cdw_apcacc_82.36_apcf1_81.89_atef1_75.43/fast_lcf_atepc.state_dict\n",
      "[2023-12-07 12:53:45] (2.3.4) model: None\n",
      "[2023-12-07 12:53:45] (2.3.4) tokenizer: checkpoints/ATEPC_ENGLISH_CHECKPOINT/fast_lcf_atepc_English_cdw_apcacc_82.36_apcf1_81.89_atef1_75.43/fast_lcf_atepc.tokenizer\n",
      "[2023-12-07 12:53:45] (2.3.4) Set Model Device: cpu\n",
      "[2023-12-07 12:53:45] (2.3.4) Device Name: Unknown\n"
     ]
    },
    {
     "name": "stderr",
     "output_type": "stream",
     "text": [
      "Special tokens have been added in the vocabulary, make sure the associated word embeddings are fine-tuned or trained.\n",
      "Special tokens have been added in the vocabulary, make sure the associated word embeddings are fine-tuned or trained.\n"
     ]
    }
   ],
   "source": [
    "aspect_extractor = ATEPCCheckpointManager.get_aspect_extractor(\n",
    "    checkpoint='english',\n",
    "     auto_device=True  # False means load model on CPU\n",
    ")"
   ]
  },
  {
   "cell_type": "code",
   "execution_count": 421,
   "id": "74b6d4cc-7015-4f18-9d85-2300eca6e259",
   "metadata": {
    "tags": []
   },
   "outputs": [
    {
     "name": "stdout",
     "output_type": "stream",
     "text": [
      "2023-12-07 17:49:46.005557\n"
     ]
    },
    {
     "name": "stderr",
     "output_type": "stream",
     "text": [
      "preparing ate inference dataloader: 100%|██████████| 784/784 [00:01<00:00, 528.16it/s]\n",
      "extracting aspect terms: 100%|██████████| 25/25 [01:35<00:00,  3.81s/it]\n",
      "preparing apc inference dataloader: 100%|██████████| 2254/2254 [00:05<00:00, 386.73it/s]\n",
      "classifying aspect sentiments: 100%|██████████| 71/71 [04:51<00:00,  4.11s/it]"
     ]
    },
    {
     "name": "stdout",
     "output_type": "stream",
     "text": [
      "2023-12-07 17:56:20.993883\n"
     ]
    },
    {
     "name": "stderr",
     "output_type": "stream",
     "text": [
      "\n"
     ]
    }
   ],
   "source": [
    "print(dt.datetime.now())\n",
    "aspect_result_Monte = aspect_extractor.extract_aspect(\n",
    "    inference_source=list(Monte.text),\n",
    "    pred_sentiment=True,\n",
    "    save_result=False,\n",
    "    print_result=False,\n",
    ")\n",
    "print(dt.datetime.now())"
   ]
  },
  {
   "cell_type": "code",
   "execution_count": 442,
   "id": "cd55a093-f07a-47f2-abbe-2077d2eb4308",
   "metadata": {
    "tags": []
   },
   "outputs": [
    {
     "data": {
      "text/html": [
       "<div>\n",
       "<style scoped>\n",
       "    .dataframe tbody tr th:only-of-type {\n",
       "        vertical-align: middle;\n",
       "    }\n",
       "\n",
       "    .dataframe tbody tr th {\n",
       "        vertical-align: top;\n",
       "    }\n",
       "\n",
       "    .dataframe thead th {\n",
       "        text-align: right;\n",
       "    }\n",
       "</style>\n",
       "<table border=\"1\" class=\"dataframe\">\n",
       "  <thead>\n",
       "    <tr style=\"text-align: right;\">\n",
       "      <th></th>\n",
       "      <th>location</th>\n",
       "      <th>room</th>\n",
       "      <th>view</th>\n",
       "      <th>staff</th>\n",
       "      <th>management</th>\n",
       "      <th>carpets</th>\n",
       "      <th>bed</th>\n",
       "      <th>bath towels</th>\n",
       "      <th>sandwich</th>\n",
       "      <th>$</th>\n",
       "      <th>...</th>\n",
       "      <th>soap</th>\n",
       "      <th>reception clerk</th>\n",
       "      <th>machine</th>\n",
       "      <th>housekeeper</th>\n",
       "      <th>ice machine</th>\n",
       "      <th>spent</th>\n",
       "      <th>patio</th>\n",
       "      <th>pictures</th>\n",
       "      <th>line</th>\n",
       "      <th>ocean - view rooms</th>\n",
       "    </tr>\n",
       "  </thead>\n",
       "  <tbody>\n",
       "    <tr>\n",
       "      <th>0</th>\n",
       "      <td>NaN</td>\n",
       "      <td>NaN</td>\n",
       "      <td>NaN</td>\n",
       "      <td>NaN</td>\n",
       "      <td>NaN</td>\n",
       "      <td>NaN</td>\n",
       "      <td>NaN</td>\n",
       "      <td>NaN</td>\n",
       "      <td>NaN</td>\n",
       "      <td>NaN</td>\n",
       "      <td>...</td>\n",
       "      <td>NaN</td>\n",
       "      <td>NaN</td>\n",
       "      <td>NaN</td>\n",
       "      <td>NaN</td>\n",
       "      <td>NaN</td>\n",
       "      <td>NaN</td>\n",
       "      <td>NaN</td>\n",
       "      <td>NaN</td>\n",
       "      <td>NaN</td>\n",
       "      <td>NaN</td>\n",
       "    </tr>\n",
       "    <tr>\n",
       "      <th>1</th>\n",
       "      <td>positive</td>\n",
       "      <td>positive</td>\n",
       "      <td>positive</td>\n",
       "      <td>NaN</td>\n",
       "      <td>NaN</td>\n",
       "      <td>NaN</td>\n",
       "      <td>NaN</td>\n",
       "      <td>NaN</td>\n",
       "      <td>NaN</td>\n",
       "      <td>NaN</td>\n",
       "      <td>...</td>\n",
       "      <td>NaN</td>\n",
       "      <td>NaN</td>\n",
       "      <td>NaN</td>\n",
       "      <td>NaN</td>\n",
       "      <td>NaN</td>\n",
       "      <td>NaN</td>\n",
       "      <td>NaN</td>\n",
       "      <td>NaN</td>\n",
       "      <td>NaN</td>\n",
       "      <td>NaN</td>\n",
       "    </tr>\n",
       "    <tr>\n",
       "      <th>2</th>\n",
       "      <td>NaN</td>\n",
       "      <td>NaN</td>\n",
       "      <td>NaN</td>\n",
       "      <td>NaN</td>\n",
       "      <td>NaN</td>\n",
       "      <td>NaN</td>\n",
       "      <td>NaN</td>\n",
       "      <td>NaN</td>\n",
       "      <td>NaN</td>\n",
       "      <td>NaN</td>\n",
       "      <td>...</td>\n",
       "      <td>NaN</td>\n",
       "      <td>NaN</td>\n",
       "      <td>NaN</td>\n",
       "      <td>NaN</td>\n",
       "      <td>NaN</td>\n",
       "      <td>NaN</td>\n",
       "      <td>NaN</td>\n",
       "      <td>NaN</td>\n",
       "      <td>NaN</td>\n",
       "      <td>NaN</td>\n",
       "    </tr>\n",
       "    <tr>\n",
       "      <th>3</th>\n",
       "      <td>NaN</td>\n",
       "      <td>NaN</td>\n",
       "      <td>NaN</td>\n",
       "      <td>positive</td>\n",
       "      <td>negative</td>\n",
       "      <td>NaN</td>\n",
       "      <td>NaN</td>\n",
       "      <td>NaN</td>\n",
       "      <td>NaN</td>\n",
       "      <td>NaN</td>\n",
       "      <td>...</td>\n",
       "      <td>NaN</td>\n",
       "      <td>NaN</td>\n",
       "      <td>NaN</td>\n",
       "      <td>NaN</td>\n",
       "      <td>NaN</td>\n",
       "      <td>NaN</td>\n",
       "      <td>NaN</td>\n",
       "      <td>NaN</td>\n",
       "      <td>NaN</td>\n",
       "      <td>NaN</td>\n",
       "    </tr>\n",
       "    <tr>\n",
       "      <th>4</th>\n",
       "      <td>NaN</td>\n",
       "      <td>NaN</td>\n",
       "      <td>NaN</td>\n",
       "      <td>NaN</td>\n",
       "      <td>NaN</td>\n",
       "      <td>negative</td>\n",
       "      <td>positive</td>\n",
       "      <td>negative</td>\n",
       "      <td>NaN</td>\n",
       "      <td>NaN</td>\n",
       "      <td>...</td>\n",
       "      <td>NaN</td>\n",
       "      <td>NaN</td>\n",
       "      <td>NaN</td>\n",
       "      <td>NaN</td>\n",
       "      <td>NaN</td>\n",
       "      <td>NaN</td>\n",
       "      <td>NaN</td>\n",
       "      <td>NaN</td>\n",
       "      <td>NaN</td>\n",
       "      <td>NaN</td>\n",
       "    </tr>\n",
       "  </tbody>\n",
       "</table>\n",
       "<p>5 rows × 459 columns</p>\n",
       "</div>"
      ],
      "text/plain": [
       "   location      room      view     staff management   carpets       bed  \\\n",
       "0       NaN       NaN       NaN       NaN        NaN       NaN       NaN   \n",
       "1  positive  positive  positive       NaN        NaN       NaN       NaN   \n",
       "2       NaN       NaN       NaN       NaN        NaN       NaN       NaN   \n",
       "3       NaN       NaN       NaN  positive   negative       NaN       NaN   \n",
       "4       NaN       NaN       NaN       NaN        NaN  negative  positive   \n",
       "\n",
       "  bath towels sandwich    $  ... soap reception clerk machine housekeeper  \\\n",
       "0         NaN      NaN  NaN  ...  NaN             NaN     NaN         NaN   \n",
       "1         NaN      NaN  NaN  ...  NaN             NaN     NaN         NaN   \n",
       "2         NaN      NaN  NaN  ...  NaN             NaN     NaN         NaN   \n",
       "3         NaN      NaN  NaN  ...  NaN             NaN     NaN         NaN   \n",
       "4    negative      NaN  NaN  ...  NaN             NaN     NaN         NaN   \n",
       "\n",
       "  ice machine spent patio pictures line ocean - view rooms  \n",
       "0         NaN   NaN   NaN      NaN  NaN                NaN  \n",
       "1         NaN   NaN   NaN      NaN  NaN                NaN  \n",
       "2         NaN   NaN   NaN      NaN  NaN                NaN  \n",
       "3         NaN   NaN   NaN      NaN  NaN                NaN  \n",
       "4         NaN   NaN   NaN      NaN  NaN                NaN  \n",
       "\n",
       "[5 rows x 459 columns]"
      ]
     },
     "execution_count": 442,
     "metadata": {},
     "output_type": "execute_result"
    }
   ],
   "source": [
    "as_Monte = pd.DataFrame(\n",
    "    [\n",
    "        dict(zip(\n",
    "            [a.lower() for a in result['aspect']],\n",
    "            [s.lower() for s in result['sentiment']]\n",
    "        ))\n",
    "        for result in aspect_result_Monte\n",
    "    ]\n",
    ")\n",
    "as_Monte.head(5)"
   ]
  },
  {
   "cell_type": "code",
   "execution_count": 428,
   "id": "900e5612-c39a-440e-a212-f6ac6ccd18a7",
   "metadata": {
    "tags": []
   },
   "outputs": [
    {
     "data": {
      "text/plain": [
       "array([nan, 'positive', 'negative', 'neutral'], dtype=object)"
      ]
     },
     "execution_count": 428,
     "metadata": {},
     "output_type": "execute_result"
    }
   ],
   "source": [
    "pd.unique(as_Monte.values.reshape(-1))"
   ]
  },
  {
   "cell_type": "code",
   "execution_count": 431,
   "id": "14ee3912-b370-469c-88cd-62a2699fb14f",
   "metadata": {
    "tags": []
   },
   "outputs": [
    {
     "data": {
      "text/plain": [
       "room       129\n",
       "rooms       79\n",
       "service     64\n",
       "staff       41\n",
       "price       39\n",
       "$           29\n",
       "place       25\n",
       "dtype: int64"
      ]
     },
     "execution_count": 431,
     "metadata": {},
     "output_type": "execute_result"
    }
   ],
   "source": [
    "(as_Monte == 'negative').sum().sort_values(ascending=False).head(7)"
   ]
  },
  {
   "cell_type": "code",
   "execution_count": 792,
   "id": "c498441f-0497-4dcd-9355-37335c60c3e0",
   "metadata": {
    "tags": []
   },
   "outputs": [],
   "source": [
    "# solve the overlap\n",
    "neg_mon = (as_Monte == 'negative').sum().sort_values(ascending=False).head(7)"
   ]
  },
  {
   "cell_type": "code",
   "execution_count": 793,
   "id": "9a8f05a7-d996-4f73-9249-567e52799330",
   "metadata": {
    "tags": []
   },
   "outputs": [],
   "source": [
    "neg_mon['room_quality'] = neg_mon['room']+neg_mon['rooms']\n",
    "neg_mon['price_agg'] = neg_mon['price']+neg_mon['$']"
   ]
  },
  {
   "cell_type": "code",
   "execution_count": 794,
   "id": "ce5ef997-d791-4aec-b9b4-2ca96f686cc6",
   "metadata": {
    "tags": []
   },
   "outputs": [],
   "source": [
    "neg_mon = neg_mon.drop(index=['room', 'rooms', 'price', '$'])"
   ]
  },
  {
   "cell_type": "code",
   "execution_count": 795,
   "id": "250055e2-dafb-4a9d-bf90-6f5c68bbe961",
   "metadata": {
    "tags": []
   },
   "outputs": [
    {
     "data": {
      "text/plain": [
       "service          64\n",
       "staff            41\n",
       "place            25\n",
       "room_quality    208\n",
       "price_agg        68\n",
       "dtype: int64"
      ]
     },
     "execution_count": 795,
     "metadata": {},
     "output_type": "execute_result"
    }
   ],
   "source": [
    "neg_mon"
   ]
  },
  {
   "cell_type": "code",
   "execution_count": 785,
   "id": "d267be8e-e3f8-42f4-8869-12f4f2c98a47",
   "metadata": {
    "tags": []
   },
   "outputs": [
    {
     "data": {
      "text/plain": [
       "staff       137\n",
       "room         81\n",
       "service      70\n",
       "location     69\n",
       "rooms        40\n",
       "pool         34\n",
       "dtype: int64"
      ]
     },
     "execution_count": 785,
     "metadata": {},
     "output_type": "execute_result"
    }
   ],
   "source": [
    "(as_Monte == 'positive').sum().sort_values(ascending=False).head(6)"
   ]
  },
  {
   "cell_type": "code",
   "execution_count": 786,
   "id": "d0b08994-195c-4855-836d-89025b91fe7e",
   "metadata": {
    "tags": []
   },
   "outputs": [],
   "source": [
    "# solve the overlap\n",
    "pos_mon = (as_Monte == 'positive').sum().sort_values(ascending=False).head(6)"
   ]
  },
  {
   "cell_type": "code",
   "execution_count": 787,
   "id": "0bbe6af2-e121-4f45-b6a9-acb0ed704a50",
   "metadata": {
    "tags": []
   },
   "outputs": [],
   "source": [
    "pos_mon['room_quality'] =pos_mon['room']+pos_mon['rooms']"
   ]
  },
  {
   "cell_type": "code",
   "execution_count": 788,
   "id": "4371e7c1-0c5b-46b6-ad8a-2b47ec7eba94",
   "metadata": {
    "tags": []
   },
   "outputs": [],
   "source": [
    "pos_mon = pos_mon.drop(index=['room', 'rooms'])"
   ]
  },
  {
   "cell_type": "code",
   "execution_count": 789,
   "id": "2439ecae-c970-45d3-ae4b-ff65b24c1edb",
   "metadata": {
    "tags": []
   },
   "outputs": [
    {
     "data": {
      "text/plain": [
       "staff           137\n",
       "room_quality    121\n",
       "service          70\n",
       "location         69\n",
       "pool             34\n",
       "dtype: int64"
      ]
     },
     "execution_count": 789,
     "metadata": {},
     "output_type": "execute_result"
    }
   ],
   "source": [
    "pos_mon.sort_values(ascending=False)"
   ]
  },
  {
   "cell_type": "code",
   "execution_count": 796,
   "id": "72986050-fc79-4b20-ae82-e3f6c06bf433",
   "metadata": {
    "tags": []
   },
   "outputs": [
    {
     "data": {
      "image/png": "[encoded data removed]",
      "text/plain": [
       "<Figure size 1200x600 with 1 Axes>"
      ]
     },
     "metadata": {},
     "output_type": "display_data"
    }
   ],
   "source": [
    "negative_counts_monte = neg_mon\n",
    "positive_counts_monte = pos_mon\n",
    "\n",
    "# Plotting a grouped bar chart\n",
    "plt.figure(figsize=(12, 6))\n",
    "\n",
    "bar_width = 0.35\n",
    "index_monte = range(len(negative_counts_monte))\n",
    "\n",
    "plt.bar(index_monte, negative_counts_monte, width=bar_width, color='red', label='Negative')\n",
    "plt.bar([i + bar_width for i in index_monte], positive_counts_monte, width=bar_width, color='blue', label='Positive')\n",
    "\n",
    "plt.xlabel('Categories')\n",
    "plt.ylabel('Counts')\n",
    "plt.title('Top 5 Negative and Positive Aspects from Reviews for Mar Monte Hotel' )\n",
    "plt.xticks([i + bar_width/2 for i in index_monte], negative_counts_monte.index)\n",
    "plt.legend()\n",
    "\n",
    "# Display the chart\n",
    "plt.show()\n"
   ]
  },
  {
   "cell_type": "markdown",
   "id": "9271fd88-a8d1-4f2e-8f7b-3f32cb5876a8",
   "metadata": {},
   "source": [
    "The negative aspects exhibit substantial disparities from the positives, especially concerning the \"quality of room.\" However, other aspects do not display significant differences. Considering the impact of the number of reviews may provide a better insight."
   ]
  },
  {
   "cell_type": "markdown",
   "id": "7f4952b4-6f91-4a57-8354-2a43157169c2",
   "metadata": {},
   "source": [
    "## 4.2. Competitive Analysis"
   ]
  },
  {
   "cell_type": "markdown",
   "id": "355126b9-a48d-45dd-8c36-45ce6c35a1c9",
   "metadata": {},
   "source": [
    "Provide a comprehensive analysis of competitors based on both location and business type. This includes highlighting competitors' strengths and positive aspects to offer a comparative view. By understanding the competitive landscape, business owners can strategize and differentiate themselves effectively."
   ]
  },
  {
   "cell_type": "markdown",
   "id": "368de805-d75f-4861-83e9-95549b1759fc",
   "metadata": {},
   "source": [
    "In this section, our focus is on a specific business previously identified with a rating below 3 stars – The Uncle Roccos Famous NY Pizza. Our objective is to identify competitors within the same city, analyze their strengths, and provide valuable insights to the business owner of the low-rated restaurant. Let's start by exploring the business category of The Uncle Roccos Famous NY Pizza."
   ]
  },
  {
   "cell_type": "code",
   "execution_count": 565,
   "id": "adc63818-7fac-4a97-a4f9-08043065bd13",
   "metadata": {
    "tags": []
   },
   "outputs": [
    {
     "name": "stdout",
     "output_type": "stream",
     "text": [
      "name_business\n",
      "Uncle Roccos Famous NY Pizza    331\n",
      "Name: count, dtype: int64\n",
      "['Pizza, Italian, Fast Food, Restaurants']\n"
     ]
    }
   ],
   "source": [
    "print(santa_barbara.loc[santa_barbara.business_id == 'TCWnTa69sJ3vGQsdEe3Esw']['name_business'].value_counts())\n",
    "print(santa_barbara.loc[santa_barbara.business_id == 'TCWnTa69sJ3vGQsdEe3Esw']['categories'].unique())"
   ]
  },
  {
   "cell_type": "markdown",
   "id": "83b72355-5e3b-4920-8f04-58ab3febc5c6",
   "metadata": {
    "tags": []
   },
   "source": [
    "In order to conduct a comprehensive competitive analysis for Roccos, a fast-food restaurant in Santa Barbara, we follow these strategic steps:\n",
    "\n",
    "1. **Identify Successful Competitors**:\n",
    "- Separate fast-food restaurants in Santa Barbara with a high success rate, characterized by a rating exceeding 4 stars.\n",
    "2. **Evaluate User Engagement and Ratings**:\n",
    "\n",
    "- Calculate the average review_counts to gauge user engagement.\n",
    "- Determine the average stars (ratings) to assess overall customer satisfaction.\n",
    "3. **Attribute Comparison**:\n",
    "\n",
    "- Compare the attributes of these successful competitors with Roccos' active attributes.\n",
    "- Gain insights into common features contributing to their success.\n",
    "4. **Topic Sentiment Analysis**:\n",
    "\n",
    "- Apply advanced sentiment analysis on text reviews of these competitors.\n",
    "- Uncover points of strength mentioned in positive comments to understand what resonates well with customers.\n",
    "\n",
    "<br>By systematically analyzing these factors, we aim to provide valuable insights to Roccos, enabling them to enhance their competitive edge in the fast-food market of Santa Barbara."
   ]
  },
  {
   "cell_type": "markdown",
   "id": "13266f32-0436-4a70-b173-b519fa834f8a",
   "metadata": {},
   "source": [
    "### 1. Identify Successful Competitors"
   ]
  },
  {
   "cell_type": "code",
   "execution_count": 560,
   "id": "0811b384-66a6-40ad-b3d2-0a992fd4f8c5",
   "metadata": {
    "tags": []
   },
   "outputs": [],
   "source": [
    "santa_barbara = santa_barbara.dropna(subset=['categories'])"
   ]
  },
  {
   "cell_type": "code",
   "execution_count": 582,
   "id": "210787ac-9ec7-438d-a90e-4684a6db7594",
   "metadata": {
    "tags": []
   },
   "outputs": [],
   "source": [
    "santa_barbara_fastfoods = santa_barbara[santa_barbara.categories.str.contains('restaurants' and 'fast food', case = False)]"
   ]
  },
  {
   "cell_type": "code",
   "execution_count": 583,
   "id": "1d562cab-3aff-47ca-9af0-bfcfc0e5bce3",
   "metadata": {
    "tags": []
   },
   "outputs": [],
   "source": [
    "santa_barbara_fastfoods = santa_barbara_fastfoods[santa_barbara_fastfoods.stars_business >= 4]"
   ]
  },
  {
   "cell_type": "code",
   "execution_count": 682,
   "id": "f0bce4be-ac03-4ac7-b67a-d1e3d88b2247",
   "metadata": {
    "tags": []
   },
   "outputs": [
    {
     "data": {
      "text/plain": [
       "3961"
      ]
     },
     "execution_count": 682,
     "metadata": {},
     "output_type": "execute_result"
    }
   ],
   "source": [
    "len(santa_barbara_fastfoods)"
   ]
  },
  {
   "cell_type": "markdown",
   "id": "bc9f8c95-b1c1-4afd-a48a-8b10d84c876e",
   "metadata": {},
   "source": [
    "Rocco has **3961** competitors in food industry. "
   ]
  },
  {
   "cell_type": "markdown",
   "id": "2df495a2-5722-486c-aae4-47d66deb52bc",
   "metadata": {},
   "source": [
    "### 2. Evaluate User Engagement and Ratings"
   ]
  },
  {
   "cell_type": "code",
   "execution_count": 690,
   "id": "1526d41d-1f75-4b2f-9a08-0b83995ebded",
   "metadata": {
    "tags": []
   },
   "outputs": [
    {
     "name": "stdout",
     "output_type": "stream",
     "text": [
      "Rocco has 331 reviews on Yelp and the average of review count for similar businesses in Santa Barbara is 740.05\n"
     ]
    }
   ],
   "source": [
    "print('Rocco has', len(santa_barbara.loc[santa_barbara.business_id == 'TCWnTa69sJ3vGQsdEe3Esw']), 'reviews on Yelp', 'and the average', \n",
    "      'of review count for similar businesses in Santa Barbara is', santa_barbara_fastfoods.review_count_business.mean().round(2))"
   ]
  },
  {
   "cell_type": "code",
   "execution_count": 691,
   "id": "bce256ff-493b-400f-ad8c-b09dcc158696",
   "metadata": {
    "tags": []
   },
   "outputs": [
    {
     "name": "stdout",
     "output_type": "stream",
     "text": [
      "Rocco has [2.5] average rating on Yelp and the average of stars for similar businesses in Santa Barbara is 4.3\n"
     ]
    }
   ],
   "source": [
    "print('Rocco has', santa_barbara.loc[santa_barbara.business_id == 'TCWnTa69sJ3vGQsdEe3Esw'].stars_business.unique(), 'average rating on Yelp',\n",
    "      'and the average of stars for similar businesses in Santa Barbara is', santa_barbara_fastfoods.stars_business.mean().round(2))"
   ]
  },
  {
   "cell_type": "markdown",
   "id": "ed3cb1ef-9df8-4601-811b-16ea16c50d02",
   "metadata": {},
   "source": [
    "### 3. Attribute Comparison"
   ]
  },
  {
   "cell_type": "markdown",
   "id": "4fb468d5-077f-4367-99bc-b14044691f97",
   "metadata": {},
   "source": [
    "In Yelp's dataset, business attributes represent various characteristics and features associated with each business. These attributes provide detailed information about the establishment's amenities, services, and operational aspects. <br>Here we can see the Rocco's attributes:"
   ]
  },
  {
   "cell_type": "code",
   "execution_count": 678,
   "id": "32cdcbe6-d0a5-408c-97f1-8cbbdc189015",
   "metadata": {
    "tags": []
   },
   "outputs": [],
   "source": [
    "import ast\n",
    "\n",
    "# Your input string\n",
    "input_str = santa_barbara.loc[santa_barbara.business_id == 'TCWnTa69sJ3vGQsdEe3Esw']['attributes'][51272]\n",
    "\n",
    "# Convert the string to a dictionary\n",
    "attributes_dict = ast.literal_eval(input_str)\n",
    "\n",
    "# Identify keys with values set to \"True\"\n",
    "true_attributes_rocco = [key for key, value in attributes_dict.items() if value == 'True']\n",
    "true_attributes_rocco_df = pd.DataFrame(index = true_attributes_rocco)\n",
    "true_attributes_rocco_df['Count_Rocco'] = 1\n",
    "\n",
    "new_indices = ['OutdoorSeating', 'WheelchairAccessible', 'RestaurantsTableService', \n",
    "               'DogsAllowed', 'HappyHour', 'RestaurantsReservations', \n",
    "               'Corkage', 'DriveThru', 'BusinessAcceptsBitcoin']\n",
    "\n",
    "# Create a DataFrame for new rows\n",
    "new_rows = pd.DataFrame({'Count_Rocco': 0}, index=new_indices)\n",
    "\n",
    "true_attributes_rocco_df = pd.concat([true_attributes_rocco_df, new_rows])"
   ]
  },
  {
   "cell_type": "markdown",
   "id": "f74e74a8-dfa5-4e6c-b3fb-b47235639cfe",
   "metadata": {},
   "source": [
    "Find the available attributes of the successful fast food businesses in Sanata Barbara and make a data frame with the number of them. "
   ]
  },
  {
   "cell_type": "code",
   "execution_count": 799,
   "id": "efc5a446-9725-476d-9023-33b7c948281b",
   "metadata": {
    "tags": []
   },
   "outputs": [],
   "source": [
    "# Define a function to process each row\n",
    "def extract_true_attributes(row):\n",
    "    # Convert the string to a dictionary\n",
    "    attributes_dict = ast.literal_eval(row['attributes'])\n",
    "    \n",
    "    # Identify keys with values set to \"True\"\n",
    "    true_attributes = [key for key, value in attributes_dict.items() if value == 'True']\n",
    "    \n",
    "    return true_attributes\n",
    "\n",
    "# Apply the function to each row and store the result in a new column\n",
    "santa_barbara_fastfoods['True_Attributes'] = santa_barbara_fastfoods.apply(extract_true_attributes, axis=1)"
   ]
  },
  {
   "cell_type": "code",
   "execution_count": 800,
   "id": "fd7ad8a0-9c08-4982-819e-3458b92ab91a",
   "metadata": {
    "tags": []
   },
   "outputs": [],
   "source": [
    "from collections import Counter\n",
    "\n",
    "\n",
    "# Concatenate all lists in the 'True_Attributes' column\n",
    "all_attributes = [item for sublist in santa_barbara_fastfoods['True_Attributes'] for item in sublist]\n",
    "\n",
    "# Count occurrences of each attribute\n",
    "attribute_counts = Counter(all_attributes)\n",
    "\n",
    "# Convert the Counter to a DataFrame for better presentation\n",
    "attribute_counts_df = pd.DataFrame.from_dict(attribute_counts, orient='index', columns=['Count'])\n",
    "\n",
    "# Sort the DataFrame by counts in descending order\n",
    "attribute_counts_df = attribute_counts_df.sort_values(by='Count', ascending=False)\n",
    "\n",
    "attribute_counts_df['Percentage'] = ((attribute_counts_df.Count / len(santa_barbara_fastfoods)) * 100 ).round(2)"
   ]
  },
  {
   "cell_type": "markdown",
   "id": "d9e3afac-4aa0-4b2a-8876-1475ebc4c683",
   "metadata": {},
   "source": [
    "To conduct a comprehensive comparison between Rocco and similar businesses, we merge the relevant information from two tables. The merging process allows for a side-by-side analysis of key attributes, user engagement metrics, and other pertinent details."
   ]
  },
  {
   "cell_type": "code",
   "execution_count": 802,
   "id": "f43a62f3-b63b-4494-84d6-c05d28cdb977",
   "metadata": {
    "tags": []
   },
   "outputs": [
    {
     "data": {
      "text/html": [
       "<div>\n",
       "<style scoped>\n",
       "    .dataframe tbody tr th:only-of-type {\n",
       "        vertical-align: middle;\n",
       "    }\n",
       "\n",
       "    .dataframe tbody tr th {\n",
       "        vertical-align: top;\n",
       "    }\n",
       "\n",
       "    .dataframe thead th {\n",
       "        text-align: right;\n",
       "    }\n",
       "</style>\n",
       "<table border=\"1\" class=\"dataframe\">\n",
       "  <thead>\n",
       "    <tr style=\"text-align: right;\">\n",
       "      <th></th>\n",
       "      <th>Count</th>\n",
       "      <th>Percentage</th>\n",
       "      <th>Count_Rocco</th>\n",
       "    </tr>\n",
       "  </thead>\n",
       "  <tbody>\n",
       "    <tr>\n",
       "      <th>RestaurantsGoodForGroups</th>\n",
       "      <td>3961</td>\n",
       "      <td>100.00</td>\n",
       "      <td>1</td>\n",
       "    </tr>\n",
       "    <tr>\n",
       "      <th>BusinessAcceptsCreditCards</th>\n",
       "      <td>3961</td>\n",
       "      <td>100.00</td>\n",
       "      <td>1</td>\n",
       "    </tr>\n",
       "    <tr>\n",
       "      <th>GoodForKids</th>\n",
       "      <td>3774</td>\n",
       "      <td>95.28</td>\n",
       "      <td>1</td>\n",
       "    </tr>\n",
       "    <tr>\n",
       "      <th>BikeParking</th>\n",
       "      <td>3694</td>\n",
       "      <td>93.26</td>\n",
       "      <td>1</td>\n",
       "    </tr>\n",
       "    <tr>\n",
       "      <th>OutdoorSeating</th>\n",
       "      <td>3533</td>\n",
       "      <td>89.19</td>\n",
       "      <td>0</td>\n",
       "    </tr>\n",
       "    <tr>\n",
       "      <th>RestaurantsTakeOut</th>\n",
       "      <td>3094</td>\n",
       "      <td>78.11</td>\n",
       "      <td>1</td>\n",
       "    </tr>\n",
       "    <tr>\n",
       "      <th>WheelchairAccessible</th>\n",
       "      <td>2610</td>\n",
       "      <td>65.89</td>\n",
       "      <td>0</td>\n",
       "    </tr>\n",
       "    <tr>\n",
       "      <th>RestaurantsDelivery</th>\n",
       "      <td>2591</td>\n",
       "      <td>65.41</td>\n",
       "      <td>1</td>\n",
       "    </tr>\n",
       "    <tr>\n",
       "      <th>Caters</th>\n",
       "      <td>2586</td>\n",
       "      <td>65.29</td>\n",
       "      <td>1</td>\n",
       "    </tr>\n",
       "    <tr>\n",
       "      <th>RestaurantsTableService</th>\n",
       "      <td>1749</td>\n",
       "      <td>44.16</td>\n",
       "      <td>0</td>\n",
       "    </tr>\n",
       "    <tr>\n",
       "      <th>DogsAllowed</th>\n",
       "      <td>1702</td>\n",
       "      <td>42.97</td>\n",
       "      <td>0</td>\n",
       "    </tr>\n",
       "    <tr>\n",
       "      <th>HasTV</th>\n",
       "      <td>1564</td>\n",
       "      <td>39.48</td>\n",
       "      <td>1</td>\n",
       "    </tr>\n",
       "    <tr>\n",
       "      <th>HappyHour</th>\n",
       "      <td>1151</td>\n",
       "      <td>29.06</td>\n",
       "      <td>0</td>\n",
       "    </tr>\n",
       "    <tr>\n",
       "      <th>RestaurantsReservations</th>\n",
       "      <td>915</td>\n",
       "      <td>23.10</td>\n",
       "      <td>0</td>\n",
       "    </tr>\n",
       "    <tr>\n",
       "      <th>Corkage</th>\n",
       "      <td>648</td>\n",
       "      <td>16.36</td>\n",
       "      <td>0</td>\n",
       "    </tr>\n",
       "    <tr>\n",
       "      <th>DriveThru</th>\n",
       "      <td>430</td>\n",
       "      <td>10.86</td>\n",
       "      <td>0</td>\n",
       "    </tr>\n",
       "    <tr>\n",
       "      <th>BusinessAcceptsBitcoin</th>\n",
       "      <td>187</td>\n",
       "      <td>4.72</td>\n",
       "      <td>0</td>\n",
       "    </tr>\n",
       "  </tbody>\n",
       "</table>\n",
       "</div>"
      ],
      "text/plain": [
       "                            Count  Percentage  Count_Rocco\n",
       "RestaurantsGoodForGroups     3961      100.00            1\n",
       "BusinessAcceptsCreditCards   3961      100.00            1\n",
       "GoodForKids                  3774       95.28            1\n",
       "BikeParking                  3694       93.26            1\n",
       "OutdoorSeating               3533       89.19            0\n",
       "RestaurantsTakeOut           3094       78.11            1\n",
       "WheelchairAccessible         2610       65.89            0\n",
       "RestaurantsDelivery          2591       65.41            1\n",
       "Caters                       2586       65.29            1\n",
       "RestaurantsTableService      1749       44.16            0\n",
       "DogsAllowed                  1702       42.97            0\n",
       "HasTV                        1564       39.48            1\n",
       "HappyHour                    1151       29.06            0\n",
       "RestaurantsReservations       915       23.10            0\n",
       "Corkage                       648       16.36            0\n",
       "DriveThru                     430       10.86            0\n",
       "BusinessAcceptsBitcoin        187        4.72            0"
      ]
     },
     "execution_count": 802,
     "metadata": {},
     "output_type": "execute_result"
    }
   ],
   "source": [
    "merged_df = pd.merge(attribute_counts_df, true_attributes_rocco_df, left_index=True, right_index=True)\n",
    "merged_df"
   ]
  },
  {
   "cell_type": "markdown",
   "id": "3d237410-0167-4455-b4f2-d678b8be0a64",
   "metadata": {},
   "source": [
    "The dataframe provides insights into the percentage of businesses with each attribute, showcasing attribute availability in Rocco's restaurant. For instance, while 90% of competitors offer outdoor seating, Rocco's does not provide this feature."
   ]
  },
  {
   "cell_type": "markdown",
   "id": "c38a7cc2-9d7a-4122-8c8c-b6d11a5e365b",
   "metadata": {
    "tags": []
   },
   "source": [
    "### 4. Topic Sentiment Analysis"
   ]
  },
  {
   "cell_type": "markdown",
   "id": "25055f5f-f8ed-4dfc-bdcf-3fa926977a09",
   "metadata": {},
   "source": [
    "Leverage the previously employed model to conduct topic sentiment analysis on successful businesses in Santa Barbara"
   ]
  },
  {
   "cell_type": "code",
   "execution_count": 584,
   "id": "3efa108e-518b-4170-bfa3-2a0e72ad7ad6",
   "metadata": {
    "tags": []
   },
   "outputs": [
    {
     "name": "stdout",
     "output_type": "stream",
     "text": [
      "2023-12-07 21:52:29.635480\n"
     ]
    },
    {
     "name": "stderr",
     "output_type": "stream",
     "text": [
      "preparing ate inference dataloader: 100%|██████████| 3961/3961 [00:03<00:00, 1021.19it/s]\n",
      "extracting aspect terms: 100%|██████████| 124/124 [07:51<00:00,  3.80s/it]\n",
      "preparing apc inference dataloader: 100%|██████████| 12029/12029 [00:16<00:00, 738.45it/s]\n",
      "classifying aspect sentiments: 100%|██████████| 376/376 [26:47<00:00,  4.27s/it]\n"
     ]
    },
    {
     "name": "stdout",
     "output_type": "stream",
     "text": [
      "2023-12-07 22:27:30.565726\n"
     ]
    }
   ],
   "source": [
    "print(dt.datetime.now())\n",
    "aspect_result_ff = aspect_extractor.extract_aspect(\n",
    "    inference_source=list(santa_barbara_fastfoods.text),\n",
    "    pred_sentiment=True,\n",
    "    save_result=False,\n",
    "    print_result=False,\n",
    ")\n",
    "print(dt.datetime.now())"
   ]
  },
  {
   "cell_type": "code",
   "execution_count": 585,
   "id": "12e787bb-d268-42aa-b644-1159a6cc1a87",
   "metadata": {
    "tags": []
   },
   "outputs": [
    {
     "data": {
      "text/html": [
       "<div>\n",
       "<style scoped>\n",
       "    .dataframe tbody tr th:only-of-type {\n",
       "        vertical-align: middle;\n",
       "    }\n",
       "\n",
       "    .dataframe tbody tr th {\n",
       "        vertical-align: top;\n",
       "    }\n",
       "\n",
       "    .dataframe thead th {\n",
       "        text-align: right;\n",
       "    }\n",
       "</style>\n",
       "<table border=\"1\" class=\"dataframe\">\n",
       "  <thead>\n",
       "    <tr style=\"text-align: right;\">\n",
       "      <th></th>\n",
       "      <th>serve</th>\n",
       "      <th>pastrami sandwich</th>\n",
       "      <th>pastrami</th>\n",
       "      <th>they</th>\n",
       "      <th>sandwich</th>\n",
       "      <th>smoothie</th>\n",
       "      <th>carob</th>\n",
       "      <th>smoothies</th>\n",
       "      <th>specials</th>\n",
       "      <th>shop</th>\n",
       "      <th>...</th>\n",
       "      <th>spicy chop salad</th>\n",
       "      <th>brioche bread</th>\n",
       "      <th>waiting time</th>\n",
       "      <th>extra pickle spears</th>\n",
       "      <th>max</th>\n",
       "      <th>vegan mayo</th>\n",
       "      <th>+ pesto</th>\n",
       "      <th>malta</th>\n",
       "      <th>take</th>\n",
       "      <th>female</th>\n",
       "    </tr>\n",
       "  </thead>\n",
       "  <tbody>\n",
       "    <tr>\n",
       "      <th>0</th>\n",
       "      <td>negative</td>\n",
       "      <td>negative</td>\n",
       "      <td>negative</td>\n",
       "      <td>negative</td>\n",
       "      <td>negative</td>\n",
       "      <td>NaN</td>\n",
       "      <td>NaN</td>\n",
       "      <td>NaN</td>\n",
       "      <td>NaN</td>\n",
       "      <td>NaN</td>\n",
       "      <td>...</td>\n",
       "      <td>NaN</td>\n",
       "      <td>NaN</td>\n",
       "      <td>NaN</td>\n",
       "      <td>NaN</td>\n",
       "      <td>NaN</td>\n",
       "      <td>NaN</td>\n",
       "      <td>NaN</td>\n",
       "      <td>NaN</td>\n",
       "      <td>NaN</td>\n",
       "      <td>NaN</td>\n",
       "    </tr>\n",
       "    <tr>\n",
       "      <th>1</th>\n",
       "      <td>NaN</td>\n",
       "      <td>NaN</td>\n",
       "      <td>NaN</td>\n",
       "      <td>NaN</td>\n",
       "      <td>NaN</td>\n",
       "      <td>positive</td>\n",
       "      <td>positive</td>\n",
       "      <td>NaN</td>\n",
       "      <td>NaN</td>\n",
       "      <td>NaN</td>\n",
       "      <td>...</td>\n",
       "      <td>NaN</td>\n",
       "      <td>NaN</td>\n",
       "      <td>NaN</td>\n",
       "      <td>NaN</td>\n",
       "      <td>NaN</td>\n",
       "      <td>NaN</td>\n",
       "      <td>NaN</td>\n",
       "      <td>NaN</td>\n",
       "      <td>NaN</td>\n",
       "      <td>NaN</td>\n",
       "    </tr>\n",
       "    <tr>\n",
       "      <th>2</th>\n",
       "      <td>NaN</td>\n",
       "      <td>NaN</td>\n",
       "      <td>NaN</td>\n",
       "      <td>NaN</td>\n",
       "      <td>NaN</td>\n",
       "      <td>NaN</td>\n",
       "      <td>NaN</td>\n",
       "      <td>positive</td>\n",
       "      <td>NaN</td>\n",
       "      <td>NaN</td>\n",
       "      <td>...</td>\n",
       "      <td>NaN</td>\n",
       "      <td>NaN</td>\n",
       "      <td>NaN</td>\n",
       "      <td>NaN</td>\n",
       "      <td>NaN</td>\n",
       "      <td>NaN</td>\n",
       "      <td>NaN</td>\n",
       "      <td>NaN</td>\n",
       "      <td>NaN</td>\n",
       "      <td>NaN</td>\n",
       "    </tr>\n",
       "    <tr>\n",
       "      <th>3</th>\n",
       "      <td>NaN</td>\n",
       "      <td>NaN</td>\n",
       "      <td>NaN</td>\n",
       "      <td>NaN</td>\n",
       "      <td>NaN</td>\n",
       "      <td>NaN</td>\n",
       "      <td>NaN</td>\n",
       "      <td>NaN</td>\n",
       "      <td>positive</td>\n",
       "      <td>positive</td>\n",
       "      <td>...</td>\n",
       "      <td>NaN</td>\n",
       "      <td>NaN</td>\n",
       "      <td>NaN</td>\n",
       "      <td>NaN</td>\n",
       "      <td>NaN</td>\n",
       "      <td>NaN</td>\n",
       "      <td>NaN</td>\n",
       "      <td>NaN</td>\n",
       "      <td>NaN</td>\n",
       "      <td>NaN</td>\n",
       "    </tr>\n",
       "    <tr>\n",
       "      <th>4</th>\n",
       "      <td>NaN</td>\n",
       "      <td>NaN</td>\n",
       "      <td>NaN</td>\n",
       "      <td>NaN</td>\n",
       "      <td>NaN</td>\n",
       "      <td>NaN</td>\n",
       "      <td>NaN</td>\n",
       "      <td>NaN</td>\n",
       "      <td>NaN</td>\n",
       "      <td>NaN</td>\n",
       "      <td>...</td>\n",
       "      <td>NaN</td>\n",
       "      <td>NaN</td>\n",
       "      <td>NaN</td>\n",
       "      <td>NaN</td>\n",
       "      <td>NaN</td>\n",
       "      <td>NaN</td>\n",
       "      <td>NaN</td>\n",
       "      <td>NaN</td>\n",
       "      <td>NaN</td>\n",
       "      <td>NaN</td>\n",
       "    </tr>\n",
       "  </tbody>\n",
       "</table>\n",
       "<p>5 rows × 1637 columns</p>\n",
       "</div>"
      ],
      "text/plain": [
       "      serve pastrami sandwich  pastrami      they  sandwich  smoothie  \\\n",
       "0  negative          negative  negative  negative  negative       NaN   \n",
       "1       NaN               NaN       NaN       NaN       NaN  positive   \n",
       "2       NaN               NaN       NaN       NaN       NaN       NaN   \n",
       "3       NaN               NaN       NaN       NaN       NaN       NaN   \n",
       "4       NaN               NaN       NaN       NaN       NaN       NaN   \n",
       "\n",
       "      carob smoothies  specials      shop  ... spicy chop salad brioche bread  \\\n",
       "0       NaN       NaN       NaN       NaN  ...              NaN           NaN   \n",
       "1  positive       NaN       NaN       NaN  ...              NaN           NaN   \n",
       "2       NaN  positive       NaN       NaN  ...              NaN           NaN   \n",
       "3       NaN       NaN  positive  positive  ...              NaN           NaN   \n",
       "4       NaN       NaN       NaN       NaN  ...              NaN           NaN   \n",
       "\n",
       "  waiting time extra pickle spears  max vegan mayo + pesto malta take female  \n",
       "0          NaN                 NaN  NaN        NaN     NaN   NaN  NaN    NaN  \n",
       "1          NaN                 NaN  NaN        NaN     NaN   NaN  NaN    NaN  \n",
       "2          NaN                 NaN  NaN        NaN     NaN   NaN  NaN    NaN  \n",
       "3          NaN                 NaN  NaN        NaN     NaN   NaN  NaN    NaN  \n",
       "4          NaN                 NaN  NaN        NaN     NaN   NaN  NaN    NaN  \n",
       "\n",
       "[5 rows x 1637 columns]"
      ]
     },
     "execution_count": 585,
     "metadata": {},
     "output_type": "execute_result"
    }
   ],
   "source": [
    "as_fastfoods = pd.DataFrame(\n",
    "    [\n",
    "        dict(zip(\n",
    "            [a.lower() for a in result['aspect']],\n",
    "            [s.lower() for s in result['sentiment']]\n",
    "        ))\n",
    "        for result in aspect_result_ff\n",
    "    ]\n",
    ")\n",
    "as_fastfoods.head(5)"
   ]
  },
  {
   "cell_type": "code",
   "execution_count": 586,
   "id": "a034f6e7-4bb1-46c8-a7db-8d8f3101ac78",
   "metadata": {
    "tags": []
   },
   "outputs": [
    {
     "data": {
      "text/plain": [
       "array(['negative', nan, 'positive', 'neutral'], dtype=object)"
      ]
     },
     "execution_count": 586,
     "metadata": {},
     "output_type": "execute_result"
    }
   ],
   "source": [
    "pd.unique(as_fastfoods.values.reshape(-1))"
   ]
  },
  {
   "cell_type": "code",
   "execution_count": 590,
   "id": "c913ffeb-aa2e-40f5-982d-8370b5ccf1a6",
   "metadata": {
    "tags": []
   },
   "outputs": [
    {
     "data": {
      "text/plain": [
       "service        744\n",
       "food           681\n",
       "tacos          432\n",
       "staff          416\n",
       "pizza          303\n",
       "sandwiches     254\n",
       "place          164\n",
       "sandwich       163\n",
       "ingredients    154\n",
       "price          127\n",
       "dtype: int64"
      ]
     },
     "execution_count": 590,
     "metadata": {},
     "output_type": "execute_result"
    }
   ],
   "source": [
    "(as_fastfoods == 'positive').sum().sort_values(ascending=False).head(10)"
   ]
  },
  {
   "cell_type": "code",
   "execution_count": 610,
   "id": "9239e523-2bb0-4ef0-ad0a-2863e1806157",
   "metadata": {
    "tags": []
   },
   "outputs": [],
   "source": [
    "# solve the overlap\n",
    "pos_ff = (as_fastfoods == 'positive').sum().sort_values(ascending=False).head(10)"
   ]
  },
  {
   "cell_type": "code",
   "execution_count": 611,
   "id": "d93e890a-9fb0-44ca-8dc6-fabb2b30bbee",
   "metadata": {
    "tags": []
   },
   "outputs": [],
   "source": [
    "pos_ff['sandwich_g'] =pos_ff['sandwiches']+pos_ff['sandwich']"
   ]
  },
  {
   "cell_type": "code",
   "execution_count": 612,
   "id": "d028cfcd-ee77-4e8a-9b87-666eec10e580",
   "metadata": {
    "tags": []
   },
   "outputs": [],
   "source": [
    "pos_ff = pos_ff.drop(index=['sandwiches', 'sandwich'])"
   ]
  },
  {
   "cell_type": "code",
   "execution_count": 613,
   "id": "f76aea4c-29d1-4ce3-b1b2-43d889395021",
   "metadata": {
    "tags": []
   },
   "outputs": [],
   "source": [
    "pos_ff.index.values[8] = 'sandwich'"
   ]
  },
  {
   "cell_type": "code",
   "execution_count": 622,
   "id": "a31aa1c1-094e-49fb-8004-4e6311508222",
   "metadata": {
    "tags": []
   },
   "outputs": [],
   "source": [
    "pos_ff = pos_ff.sort_values(ascending=False).head(6)"
   ]
  },
  {
   "cell_type": "code",
   "execution_count": 803,
   "id": "0118e45d-39fd-405a-bf69-59288b14911b",
   "metadata": {
    "tags": []
   },
   "outputs": [
    {
     "data": {
      "image/png": "[encoded data removed]",
      "text/plain": [
       "<Figure size 1800x600 with 2 Axes>"
      ]
     },
     "metadata": {},
     "output_type": "display_data"
    }
   ],
   "source": [
    "# Data for Rocco's\n",
    "negative_counts_roccos = neg_rac.sort_values(ascending=False)\n",
    "positive_counts_roccos = (as_Roccos == 'positive').sum().sort_values(ascending=False).head(5)\n",
    "\n",
    "# Data for Santa Barbara fast foods'\n",
    "positive_counts_monte = pos_ff\n",
    "\n",
    "# Plotting subplots\n",
    "fig, axes = plt.subplots(nrows=1, ncols=2, figsize=(18, 6))\n",
    "\n",
    "# Plot for Rocco's\n",
    "bar_width = 0.35\n",
    "index_roccos = np.arange(len(negative_counts_roccos))\n",
    "\n",
    "axes[0].bar(index_roccos, negative_counts_roccos, width=bar_width, color='blue', label='Negative')\n",
    "axes[0].bar(index_roccos + bar_width, positive_counts_roccos, width=bar_width, color='orange', label='Positive')\n",
    "\n",
    "axes[0].set_xlabel('Categories')\n",
    "axes[0].set_ylabel('Counts')\n",
    "axes[0].set_title('Top 5 Negative and Positive Aspects from Reviews for Rocco\\'s')\n",
    "\n",
    "axes[0].set_xticks(index_roccos + bar_width/2)\n",
    "axes[0].set_xticklabels(negative_counts_roccos.index)\n",
    "axes[0].legend()\n",
    "\n",
    "# Plot for Santa Barbara fast foods'\n",
    "index_monte = np.arange(len(positive_counts_monte))\n",
    "\n",
    "# Calculate percentages\n",
    "total_counts = positive_counts_monte.sum()\n",
    "percentages = (positive_counts_monte / total_counts) * 100\n",
    "\n",
    "axes[1].bar(index_monte, positive_counts_monte, color='green', label='Positive')\n",
    "# Display percentages on the bars\n",
    "for i, value in enumerate(positive_counts_monte):\n",
    "    axes[1].text(i, value + 1, f'{percentages.iloc[i]:.2f}%', ha='center', va='bottom')\n",
    "\n",
    "axes[1].set_xlabel('Categories')\n",
    "axes[1].set_ylabel('Counts')\n",
    "axes[1].set_title('Top 6 Positive points for fast-food restaurants in Santa Barbara')\n",
    "axes[1].set_xticks(index_monte)\n",
    "axes[1].set_xticklabels(positive_counts_monte.index)\n",
    "axes[1].legend()\n",
    "\n",
    "# Display the subplots\n",
    "plt.tight_layout()\n",
    "plt.show()\n"
   ]
  },
  {
   "cell_type": "markdown",
   "id": "9239126e-f5da-4c99-8caf-0bdb5a70b919",
   "metadata": {},
   "source": [
    "Leveraging advanced sentiment analysis on text reviews from high-rated fast-food competitors in Santa Barbara, we aimed to identify strengths mentioned in positive comments. Comparing the results with Rocco's, we observed that the most frequently highlighted aspects in positive comments for competitors are service and food, which happen to be areas of improvement for Rocco's."
   ]
  },
  {
   "cell_type": "markdown",
   "id": "b0e681b0-f73d-468e-ad63-40fc89709a51",
   "metadata": {},
   "source": [
    "## 4.3. Attribute-Review Relationship"
   ]
  },
  {
   "cell_type": "markdown",
   "id": "99d2182b-fe4a-491c-9efc-027879984caf",
   "metadata": {},
   "source": [
    "Gain a comprehensive insight into the correlation between different business attributes and ratings. This entails investigating how specific aspects of a business can affect customer reviews. Additionally, our objective is to construct predictive models that can estimate the potential impact on ratings when introducing new services or modifying existing ones. In this section, we employ a Linear Regression model to examine the likelihood of any relationship and predictions."
   ]
  },
  {
   "cell_type": "code",
   "execution_count": 744,
   "id": "802cf60d-9d0f-47c8-82b5-c8809a3aaa7e",
   "metadata": {},
   "outputs": [
    {
     "data": {
      "text/plain": [
       "5686"
      ]
     },
     "execution_count": 744,
     "metadata": {},
     "output_type": "execute_result"
    }
   ],
   "source": [
    "#Any null?\n",
    "santa_barbara.attributes.isna().sum()"
   ]
  },
  {
   "cell_type": "code",
   "execution_count": 742,
   "id": "7fc29eec-2871-4b70-9ac5-de0f120d8116",
   "metadata": {
    "tags": []
   },
   "outputs": [],
   "source": [
    "#Drop missing values\n",
    "santa_barbara_at = santa_barbara.dropna(subset=['attributes'])"
   ]
  },
  {
   "cell_type": "code",
   "execution_count": 809,
   "id": "e798f8a3-5b64-4675-9a61-7aa25bdfbb93",
   "metadata": {
    "tags": []
   },
   "outputs": [],
   "source": [
    "# Define a function to process each row\n",
    "def extract_true_attributes(row):\n",
    "    # Convert the string to a dictionary\n",
    "    attributes_dict = ast.literal_eval(row['attributes'])\n",
    "    \n",
    "    # Identify keys with values set to \"True\"\n",
    "    true_attributes = [key for key, value in attributes_dict.items() if value == 'True']\n",
    "    \n",
    "    return true_attributes\n",
    "\n",
    "# Apply the function to each row and store the result in a new column\n",
    "santa_barbara_at['True_Attributes'] = santa_barbara_at.apply(extract_true_attributes, axis=1)"
   ]
  },
  {
   "cell_type": "code",
   "execution_count": 814,
   "id": "c9278395-c4a5-4e69-9083-a3aca5ea813d",
   "metadata": {
    "tags": []
   },
   "outputs": [],
   "source": [
    "attributes_to_remove = ['BusinessAcceptsCreditCards', 'RestaurantsGoodForGroups', 'GoodForKids']\n",
    "\n",
    "# Define a function to remove specified attributes from a list\n",
    "def remove_attributes(attribute_list):\n",
    "    return [attr for attr in attribute_list if attr not in attributes_to_remove]\n",
    "\n",
    "# Apply the function to the 'True_Attributes' column\n",
    "santa_barbara_at['True_Attributes'] = santa_barbara_at['True_Attributes'].apply(remove_attributes)"
   ]
  },
  {
   "cell_type": "code",
   "execution_count": 815,
   "id": "3eee3c7f-c970-410a-99e7-3e36073714c8",
   "metadata": {
    "tags": []
   },
   "outputs": [
    {
     "data": {
      "text/html": [
       "<div>\n",
       "<style scoped>\n",
       "    .dataframe tbody tr th:only-of-type {\n",
       "        vertical-align: middle;\n",
       "    }\n",
       "\n",
       "    .dataframe tbody tr th {\n",
       "        vertical-align: top;\n",
       "    }\n",
       "\n",
       "    .dataframe thead th {\n",
       "        text-align: right;\n",
       "    }\n",
       "</style>\n",
       "<table border=\"1\" class=\"dataframe\">\n",
       "  <thead>\n",
       "    <tr style=\"text-align: right;\">\n",
       "      <th></th>\n",
       "      <th>business_id</th>\n",
       "      <th>Business_Attributes</th>\n",
       "      <th>Total_Review_Count</th>\n",
       "      <th>Average_Stars</th>\n",
       "    </tr>\n",
       "  </thead>\n",
       "  <tbody>\n",
       "    <tr>\n",
       "      <th>0</th>\n",
       "      <td>--O3ip9NpXTKD4oBS1pY2A</td>\n",
       "      <td>[BikeParking, WheelchairAccessible]</td>\n",
       "      <td>65.0</td>\n",
       "      <td>4.5</td>\n",
       "    </tr>\n",
       "    <tr>\n",
       "      <th>1</th>\n",
       "      <td>-06ngMH_Ejkm_6HQBYxB7g</td>\n",
       "      <td>[ByAppointmentOnly]</td>\n",
       "      <td>25.0</td>\n",
       "      <td>4.0</td>\n",
       "    </tr>\n",
       "    <tr>\n",
       "      <th>2</th>\n",
       "      <td>-0hxpkIpBh2T0tvdM1mSIw</td>\n",
       "      <td>[BikeParking]</td>\n",
       "      <td>10.0</td>\n",
       "      <td>2.0</td>\n",
       "    </tr>\n",
       "    <tr>\n",
       "      <th>3</th>\n",
       "      <td>-3AooxIkg38UyUdlz5oXdw</td>\n",
       "      <td>[RestaurantsReservations, OutdoorSeating, Bike...</td>\n",
       "      <td>436.0</td>\n",
       "      <td>3.0</td>\n",
       "    </tr>\n",
       "    <tr>\n",
       "      <th>4</th>\n",
       "      <td>-6L_z3ftD1iepJb0FfJghw</td>\n",
       "      <td>[BikeParking, ByAppointmentOnly]</td>\n",
       "      <td>107.0</td>\n",
       "      <td>5.0</td>\n",
       "    </tr>\n",
       "  </tbody>\n",
       "</table>\n",
       "</div>"
      ],
      "text/plain": [
       "              business_id                                Business_Attributes  \\\n",
       "0  --O3ip9NpXTKD4oBS1pY2A                [BikeParking, WheelchairAccessible]   \n",
       "1  -06ngMH_Ejkm_6HQBYxB7g                                [ByAppointmentOnly]   \n",
       "2  -0hxpkIpBh2T0tvdM1mSIw                                      [BikeParking]   \n",
       "3  -3AooxIkg38UyUdlz5oXdw  [RestaurantsReservations, OutdoorSeating, Bike...   \n",
       "4  -6L_z3ftD1iepJb0FfJghw                   [BikeParking, ByAppointmentOnly]   \n",
       "\n",
       "   Total_Review_Count  Average_Stars  \n",
       "0                65.0            4.5  \n",
       "1                25.0            4.0  \n",
       "2                10.0            2.0  \n",
       "3               436.0            3.0  \n",
       "4               107.0            5.0  "
      ]
     },
     "execution_count": 815,
     "metadata": {},
     "output_type": "execute_result"
    }
   ],
   "source": [
    "# Group by 'business_id' and aggregate columns\n",
    "grouped_df = santa_barbara_at.groupby('business_id').agg({\n",
    "    'True_Attributes': 'first',  # Use 'first' to get the first value in each group\n",
    "    'review_count_business': 'mean',  \n",
    "    'stars_business': 'mean'  \n",
    "}).reset_index()\n",
    "\n",
    "# Rename columns for clarity (optional)\n",
    "grouped_df = grouped_df.rename(columns={\n",
    "    'True_Attributes': 'Business_Attributes',\n",
    "    'review_count_business': 'Total_Review_Count',\n",
    "    'stars_business': 'Average_Stars'\n",
    "})\n",
    "\n",
    "# Display the resulting DataFrame\n",
    "grouped_df.head()"
   ]
  },
  {
   "cell_type": "code",
   "execution_count": 818,
   "id": "9712e050-c276-45f9-8e14-094428818cc3",
   "metadata": {
    "tags": []
   },
   "outputs": [
    {
     "name": "stdout",
     "output_type": "stream",
     "text": [
      "MSE for AcceptsInsurance: 0.6647607800152003\n",
      "MSE for BYOB: 0.6645256389728951\n",
      "MSE for BikeParking: 0.6643105539921883\n",
      "MSE for BusinessAcceptsBitcoin: 0.6644348732870938\n",
      "MSE for ByAppointmentOnly: 0.6642864389600739\n",
      "MSE for Caters: 0.664429603276274\n",
      "MSE for CoatCheck: 0.6645336088995502\n",
      "MSE for Corkage: 0.6647783489312726\n",
      "MSE for DogsAllowed: 0.6636969149725791\n",
      "MSE for DriveThru: 0.6641134447024405\n",
      "MSE for GoodForDancing: 0.6632931214741434\n",
      "MSE for HappyHour: 0.6638360258005402\n",
      "MSE for HasTV: 0.6646114565296439\n",
      "MSE for OutdoorSeating: 0.6656220581669131\n",
      "MSE for RestaurantsDelivery: 0.6659231291574854\n",
      "MSE for RestaurantsReservations: 0.6650896533067638\n",
      "MSE for RestaurantsTableService: 0.6659596523187472\n",
      "MSE for RestaurantsTakeOut: 0.6663014137394054\n",
      "MSE for WheelchairAccessible: 0.6675584521132012\n",
      "Coefficient for AcceptsInsurance: 2465396499110.3413\n",
      "Coefficient for BYOB: 1858968878602.7166\n",
      "Coefficient for BikeParking: -869917477658.217\n",
      "Coefficient for BusinessAcceptsBitcoin: 639645708155.0906\n",
      "Coefficient for ByAppointmentOnly: 6370959336102.343\n",
      "Coefficient for Caters: -391957423848.0804\n",
      "Coefficient for CoatCheck: 14361667657709.436\n",
      "Coefficient for Corkage: 2783629161388.0444\n",
      "Coefficient for DogsAllowed: 7886246415926.056\n",
      "Coefficient for DriveThru: -8868523863505.703\n",
      "Coefficient for GoodForDancing: 100136710382.09349\n",
      "Coefficient for HappyHour: 3421592596805.5015\n",
      "Coefficient for HasTV: -4413213151905.58\n",
      "Coefficient for OutdoorSeating: -2256407237874.6235\n",
      "Coefficient for RestaurantsDelivery: 588613353927.5795\n",
      "Coefficient for RestaurantsReservations: -1574493120487.132\n",
      "Coefficient for RestaurantsTableService: 20142105269313.254\n",
      "Coefficient for RestaurantsTakeOut: 4508574067370.141\n",
      "Coefficient for WheelchairAccessible: -8878083100596.557\n"
     ]
    }
   ],
   "source": [
    "df = grouped_df\n",
    "\n",
    "# Convert attributes to binary matrix\n",
    "mlb = MultiLabelBinarizer()\n",
    "attribute_matrix = mlb.fit_transform(df['Business_Attributes'])\n",
    "\n",
    "# Concatenate the binary matrix with the original DataFrame\n",
    "X = pd.concat([pd.DataFrame(attribute_matrix), df['Average_Stars']], axis=1)\n",
    "X.columns = X.columns.astype(str)\n",
    "\n",
    "# Create empty dictionaries to store MSE and coefficients\n",
    "mse_dict = {}\n",
    "coef_dict = {}\n",
    "\n",
    "# Loop through each attribute\n",
    "for attribute in mlb.classes_:\n",
    "    # Use the presence of the current attribute as the independent variable\n",
    "    X[f'{attribute}_presence'] = df['Business_Attributes'].apply(lambda x: attribute in x).astype(int)\n",
    "\n",
    "    # Split data into training and testing sets\n",
    "    X_train, X_test, y_train, y_test = train_test_split(\n",
    "        X.drop('Average_Stars', axis=1), X['Average_Stars'], test_size=0.2, random_state=42\n",
    "    )\n",
    "\n",
    "    # Train linear regression model\n",
    "    model = LinearRegression()\n",
    "    model.fit(X_train, y_train)\n",
    "\n",
    "    # Make predictions\n",
    "    predictions = model.predict(X_test)\n",
    "\n",
    "    # Evaluate the model and store results\n",
    "    mse = mean_squared_error(y_test, predictions)\n",
    "    mse_dict[attribute] = mse\n",
    "    coef_dict[attribute] = model.coef_\n",
    "\n",
    "# Display MSE for each attribute\n",
    "for attribute, mse in mse_dict.items():\n",
    "    print(f'MSE for {attribute}: {mse}')\n",
    "\n",
    "# Display coefficients for each attribute\n",
    "for attribute, coef in coef_dict.items():\n",
    "    print(f'Coefficient for {attribute}: {coef[-1]}')"
   ]
  },
  {
   "cell_type": "markdown",
   "id": "fcb25901-10c8-47ed-80c3-b4f66d20bac1",
   "metadata": {},
   "source": [
    "After experimenting with various regression models, including Linear Regression, Random Forest, Decision Tree, and Gradient Boosting Regressor, to uncover a meaningful relationship between business attributes and rating stars, the results were not as conclusive as desired. The mean squared error (MSE) values were relatively high across all models, and the coefficients or feature importance scores exhibited minimal impact. While further exploration, feature engineering, or alternative machine learning models might enhance the search for a relationship, the limitations of this project's scope and data availability prevent a definitive solution at this stage."
   ]
  },
  {
   "cell_type": "markdown",
   "id": "75b36827-c5ed-4c01-991d-f0c69d577912",
   "metadata": {},
   "source": [
    "# 5. Conclusion"
   ]
  },
  {
   "cell_type": "markdown",
   "id": "75f19ab0-b985-4765-827d-278d5f2a9ca4",
   "metadata": {},
   "source": [
    "In conclusion, this project delves into the Yelp dataset, encompassing data from businesses, user reviews, and user profiles. After an initial exploration of the tables and data types, the analysis covers various aspects such as the distribution of stars, temporal trends, text analysis, review counts, geographical insights, attributes, and categories. A systematic categorization of variables sets the stage for a comprehensive examination of the dataset.\n",
    "<br>\n",
    "\n",
    "The subsequent research questions revolve around assisting business owners in identifying areas for improvement and gaining insights into their competitive landscape. The project aims to evaluate weaknesses through user reviews, conduct a competitive analysis based on location and business type, and explore the relationship between business attributes and rating stars.\n",
    "<br>\n",
    "\n",
    "Sentiment analysis is employed, incorporating aspect term extraction and classification to provide nuanced insights into customer sentiments. Two businesses, Savoy Cafe & Deli and Uncle Roccos Famous NY Pizza, are strategically selected for in-depth analysis. The sentiment analysis reveals strengths and weaknesses, guiding business owners in areas of improvement.\n",
    "<br>\n",
    "\n",
    "Competitive analysis is performed, identifying successful competitors, evaluating user engagement and ratings, comparing attributes, and uncovering positive aspects in competitors' reviews. \n",
    "<br>\n",
    "\n",
    "Finally, the project explores the relationship between business attributes and rating stars using regression models. However, the results indicate a need for further exploration, feature engineering, or alternative models to establish a conclusive relationship. The insights gained from this comprehensive analysis empower business owners to make informed decisions and enhance their operations on Yelp.\n",
    "<br>\n",
    "\n",
    "**Insights for business owner of Uncle Roccos Famous NY Pizza:**\n",
    "- To foster business growth, the owner should strategically focus on targeted advertising campaigns to enhance user engagement and encourage more customers to leave reviews. Actively promoting the restaurant will attract a larger audience, ultimately increasing in-person visits. This not only boosts the online presence but also shapes a positive perception, potentially leading to heightened foot traffic and enhanced customer loyalty.\n",
    "\n",
    "- Identifying improvement areas is crucial, and based on competitor analysis, **service** and **food** are recurrent aspects mentioned positively by customers that could be enhanced at Rocco’s. The aspect sentiment analysis indicates that Rocco’s pizzas have the potential to stand out among similar businesses.\n",
    "\n",
    "- To further improve, it's recommended to address weaknesses by conducting surveys or in-person interviews, gaining insights directly from customers. Implementing best practices from successful competitors can contribute to effective business growth. Additionally, providing outdoor seating and wheelchair accessibility would enhance the overall customer experience.\n",
    "<br>"
   ]
  }
 ],
 "metadata": {
  "kernelspec": {
   "display_name": "Python 3 (ipykernel)",
   "language": "python",
   "name": "python3"
  },
  "language_info": {
   "codemirror_mode": {
    "name": "ipython",
    "version": 3
   },
   "file_extension": ".py",
   "mimetype": "text/x-python",
   "name": "python",
   "nbconvert_exporter": "python",
   "pygments_lexer": "ipython3",
   "version": "3.11.5"
  }
 },
 "nbformat": 4,
 "nbformat_minor": 5
}
