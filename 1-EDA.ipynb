{
 "cells": [
  {
   "cell_type": "markdown",
   "id": "ab2a6068",
   "metadata": {},
   "source": [
    "# Unlocking Business Potential: Leveraging Bias-Aware Hierarchical Clustering for Actionable Insights from Yelp Data\n",
    "\n",
    "### Zeinab Gaeini, Debbie Hernandez, Harper Strickland\n",
    "\n",
    "## Part 1 - EDA"
   ]
  },
  {
   "cell_type": "markdown",
   "id": "af245226",
   "metadata": {
    "tags": []
   },
   "source": [
    "### Exploring Yelp Dataset - Business and Review Data"
   ]
  },
  {
   "cell_type": "code",
   "execution_count": 2,
   "id": "218c7ce8",
   "metadata": {
    "tags": []
   },
   "outputs": [],
   "source": [
    "import pyspark\n",
    "from pyspark.sql import SparkSession\n",
    "import pandas as pd\n",
    "import json\n",
    "from PIL import Image\n",
    "from pyspark.sql.functions import explode, from_json, col, regexp_replace, trim, lit\n",
    "from pyspark.sql.functions import lower, split, size, expr, when, count, mean\n",
    "import pyspark.sql.functions as F\n",
    "from pyspark.sql.types import IntegerType\n",
    "import matplotlib.pyplot as plt \n",
    "import geopandas as gpd\n",
    "from shapely.geometry import Point\n"
   ]
  },
  {
   "cell_type": "code",
   "execution_count": 3,
   "id": "9e488afd",
   "metadata": {
    "tags": []
   },
   "outputs": [],
   "source": [
    "# Suppress native-hadoop warning\n",
    "!sed -i '$a\\# Add the line for suppressing the NativeCodeLoader warning \\nlog4j.logger.org.apache.hadoop.util.NativeCodeLoader=ERROR,console' /$HADOOP_HOME/etc/hadoop/log4j.properties"
   ]
  },
  {
   "cell_type": "code",
   "execution_count": 3,
   "id": "75124008",
   "metadata": {},
   "outputs": [
    {
     "name": "stdout",
     "output_type": "stream",
     "text": [
      "mkdir: `/Project': File exists\n"
     ]
    }
   ],
   "source": [
    "# make a directory on hdfs\n",
    "! hdfs dfs -mkdir /Project/"
   ]
  },
  {
   "cell_type": "code",
   "execution_count": 5,
   "id": "20d311f6",
   "metadata": {
    "tags": []
   },
   "outputs": [
    {
     "name": "stdout",
     "output_type": "stream",
     "text": [
      "copyFromLocal: `/Project/yelp_academic_dataset_business.json': File exists\n",
      "copyFromLocal: `/Project/yelp_academic_dataset_review.json': File exists\n"
     ]
    }
   ],
   "source": [
    "# copy files to hdfs\n",
    "! hdfs dfs -copyFromLocal yelp_academic_dataset_business.json /Project\n",
    "! hdfs dfs -copyFromLocal yelp_academic_dataset_review.json /Project\n",
    "! hdfs dfs -copyFromLocal USZIPCodes202403.csv /Project"
   ]
  },
  {
   "cell_type": "code",
   "execution_count": 4,
   "id": "54c910d0",
   "metadata": {
    "tags": []
   },
   "outputs": [
    {
     "name": "stdout",
     "output_type": "stream",
     "text": [
      "Found 2 items\n",
      "-rw-r--r--   1 root supergroup  118863795 2024-06-03 13:46 /Project/yelp_academic_dataset_business.json\n",
      "-rw-r--r--   1 root supergroup 5341868833 2024-06-03 13:46 /Project/yelp_academic_dataset_review.json\n"
     ]
    }
   ],
   "source": [
    "! hdfs dfs -ls /Project"
   ]
  },
  {
   "cell_type": "code",
   "execution_count": 6,
   "id": "8024fd86",
   "metadata": {
    "cell_id": "457245a7-a02e-462d-a565-7f90ba2a2c51",
    "id": "eIfVaCCqInfv",
    "outputId": "a57889ab-cd7f-4b3e-c505-1eb2e36a979d",
    "tags": []
   },
   "outputs": [
    {
     "data": {
      "text/plain": [
       "'3.5.0'"
      ]
     },
     "execution_count": 6,
     "metadata": {},
     "output_type": "execute_result"
    }
   ],
   "source": [
    "# Start Spark Session\n",
    "conf = pyspark.SparkConf().setAll([\n",
    "        ('spark.master',   'local[*]'),\n",
    "        ('spark.app.name', 'EDA')])\n",
    "\n",
    "spark = SparkSession.builder.config(conf=conf).getOrCreate()\n",
    "spark.version"
   ]
  },
  {
   "cell_type": "markdown",
   "id": "85996ae6",
   "metadata": {
    "tags": []
   },
   "source": [
    "## Step 1: Exploring the dataset"
   ]
  },
  {
   "cell_type": "markdown",
   "id": "09ae8036",
   "metadata": {},
   "source": [
    "#### 1.1. Reading and Storing data\n",
    "In this step, we read each table and save them as individual dataframes."
   ]
  },
  {
   "cell_type": "markdown",
   "id": "1dfc877b",
   "metadata": {
    "tags": []
   },
   "source": [
    "### 1.1.1. Business DataFrame"
   ]
  },
  {
   "cell_type": "markdown",
   "id": "5a2d7b48",
   "metadata": {
    "tags": []
   },
   "source": [
    "**Businesses on Yelp with associated details**"
   ]
  },
  {
   "cell_type": "markdown",
   "id": "cdbd7b6f",
   "metadata": {},
   "source": [
    "**Importing data**"
   ]
  },
  {
   "cell_type": "code",
   "execution_count": 7,
   "id": "62458cec",
   "metadata": {},
   "outputs": [
    {
     "name": "stderr",
     "output_type": "stream",
     "text": [
      "                                                                                \r"
     ]
    }
   ],
   "source": [
    "businessDF = spark.read.json('hdfs:///Project/yelp_academic_dataset_business.json')"
   ]
  },
  {
   "cell_type": "code",
   "execution_count": 8,
   "id": "fc20adb2",
   "metadata": {
    "tags": []
   },
   "outputs": [
    {
     "name": "stdout",
     "output_type": "stream",
     "text": [
      "-RECORD 0--------------------------------------------------------------------------------------------------------------------------------------------------------------------------------------------------------------------------------------------------\n",
      " address      | 1616 Chapala St, Ste 2                                                                                                                                                                                                                     \n",
      " attributes   | {NULL, NULL, NULL, NULL, NULL, NULL, NULL, NULL, NULL, NULL, NULL, True, NULL, NULL, NULL, NULL, NULL, NULL, NULL, NULL, NULL, NULL, NULL, NULL, NULL, NULL, NULL, NULL, NULL, NULL, NULL, NULL, NULL, NULL, NULL, NULL, NULL, NULL, NULL} \n",
      " business_id  | Pns2l4eNsfO8kk83dixA6A                                                                                                                                                                                                                     \n",
      " categories   | Doctors, Traditional Chinese Medicine, Naturopathic/Holistic, Acupuncture, Health & Medical, Nutritionists                                                                                                                                 \n",
      " city         | Santa Barbara                                                                                                                                                                                                                              \n",
      " hours        | NULL                                                                                                                                                                                                                                       \n",
      " is_open      | 0                                                                                                                                                                                                                                          \n",
      " latitude     | 34.4266787                                                                                                                                                                                                                                 \n",
      " longitude    | -119.7111968                                                                                                                                                                                                                               \n",
      " name         | Abby Rappoport, LAC, CMQ                                                                                                                                                                                                                   \n",
      " postal_code  | 93101                                                                                                                                                                                                                                      \n",
      " review_count | 7                                                                                                                                                                                                                                          \n",
      " stars        | 5.0                                                                                                                                                                                                                                        \n",
      " state        | CA                                                                                                                                                                                                                                         \n",
      "-RECORD 1--------------------------------------------------------------------------------------------------------------------------------------------------------------------------------------------------------------------------------------------------\n",
      " address      | 87 Grasso Plaza Shopping Center                                                                                                                                                                                                            \n",
      " attributes   | {NULL, NULL, NULL, NULL, NULL, NULL, NULL, NULL, NULL, True, NULL, NULL, NULL, NULL, NULL, NULL, NULL, NULL, NULL, NULL, NULL, NULL, NULL, NULL, NULL, NULL, NULL, NULL, NULL, NULL, NULL, NULL, NULL, NULL, NULL, NULL, NULL, NULL, NULL} \n",
      " business_id  | mpf3x-BjTdTEA3yCZrAYPw                                                                                                                                                                                                                     \n",
      " categories   | Shipping Centers, Local Services, Notaries, Mailbox Centers, Printing Services                                                                                                                                                             \n",
      " city         | Affton                                                                                                                                                                                                                                     \n",
      " hours        | {8:0-18:30, 0:0-0:0, 8:0-14:0, NULL, 8:0-18:30, 8:0-18:30, 8:0-18:30}                                                                                                                                                                      \n",
      " is_open      | 1                                                                                                                                                                                                                                          \n",
      " latitude     | 38.551126                                                                                                                                                                                                                                  \n",
      " longitude    | -90.335695                                                                                                                                                                                                                                 \n",
      " name         | The UPS Store                                                                                                                                                                                                                              \n",
      " postal_code  | 63123                                                                                                                                                                                                                                      \n",
      " review_count | 15                                                                                                                                                                                                                                         \n",
      " stars        | 3.0                                                                                                                                                                                                                                        \n",
      " state        | MO                                                                                                                                                                                                                                         \n",
      "only showing top 2 rows\n",
      "\n"
     ]
    }
   ],
   "source": [
    "businessDF.show(2, truncate=False, vertical=True)"
   ]
  },
  {
   "cell_type": "markdown",
   "id": "60656d09",
   "metadata": {},
   "source": [
    "### Looking into business data"
   ]
  },
  {
   "cell_type": "code",
   "execution_count": 9,
   "id": "d0a27ad3",
   "metadata": {},
   "outputs": [],
   "source": [
    "# Define a function for counting the rows and printing schema for each dataset\n",
    "\n",
    "def basicEDA(df):\n",
    "    print(\"Rows:\", df.count())\n",
    "    print(\"\\nSchema:\")\n",
    "    df.printSchema()  # schema\n",
    "    print(\"Null Values:\")\n",
    "    \n",
    "    #count number of null values in each column of DataFrame\n",
    "    df.select([count(when(col(c).isNull(), c)).alias(c) for c in df.columns]).show(2, vertical= True, truncate=False)\n",
    "    return"
   ]
  },
  {
   "cell_type": "code",
   "execution_count": 10,
   "id": "d98a2736",
   "metadata": {},
   "outputs": [
    {
     "name": "stderr",
     "output_type": "stream",
     "text": [
      "                                                                                \r"
     ]
    },
    {
     "name": "stdout",
     "output_type": "stream",
     "text": [
      "Rows: 150346\n",
      "\n",
      "Schema:\n",
      "root\n",
      " |-- address: string (nullable = true)\n",
      " |-- attributes: struct (nullable = true)\n",
      " |    |-- AcceptsInsurance: string (nullable = true)\n",
      " |    |-- AgesAllowed: string (nullable = true)\n",
      " |    |-- Alcohol: string (nullable = true)\n",
      " |    |-- Ambience: string (nullable = true)\n",
      " |    |-- BYOB: string (nullable = true)\n",
      " |    |-- BYOBCorkage: string (nullable = true)\n",
      " |    |-- BestNights: string (nullable = true)\n",
      " |    |-- BikeParking: string (nullable = true)\n",
      " |    |-- BusinessAcceptsBitcoin: string (nullable = true)\n",
      " |    |-- BusinessAcceptsCreditCards: string (nullable = true)\n",
      " |    |-- BusinessParking: string (nullable = true)\n",
      " |    |-- ByAppointmentOnly: string (nullable = true)\n",
      " |    |-- Caters: string (nullable = true)\n",
      " |    |-- CoatCheck: string (nullable = true)\n",
      " |    |-- Corkage: string (nullable = true)\n",
      " |    |-- DietaryRestrictions: string (nullable = true)\n",
      " |    |-- DogsAllowed: string (nullable = true)\n",
      " |    |-- DriveThru: string (nullable = true)\n",
      " |    |-- GoodForDancing: string (nullable = true)\n",
      " |    |-- GoodForKids: string (nullable = true)\n",
      " |    |-- GoodForMeal: string (nullable = true)\n",
      " |    |-- HairSpecializesIn: string (nullable = true)\n",
      " |    |-- HappyHour: string (nullable = true)\n",
      " |    |-- HasTV: string (nullable = true)\n",
      " |    |-- Music: string (nullable = true)\n",
      " |    |-- NoiseLevel: string (nullable = true)\n",
      " |    |-- Open24Hours: string (nullable = true)\n",
      " |    |-- OutdoorSeating: string (nullable = true)\n",
      " |    |-- RestaurantsAttire: string (nullable = true)\n",
      " |    |-- RestaurantsCounterService: string (nullable = true)\n",
      " |    |-- RestaurantsDelivery: string (nullable = true)\n",
      " |    |-- RestaurantsGoodForGroups: string (nullable = true)\n",
      " |    |-- RestaurantsPriceRange2: string (nullable = true)\n",
      " |    |-- RestaurantsReservations: string (nullable = true)\n",
      " |    |-- RestaurantsTableService: string (nullable = true)\n",
      " |    |-- RestaurantsTakeOut: string (nullable = true)\n",
      " |    |-- Smoking: string (nullable = true)\n",
      " |    |-- WheelchairAccessible: string (nullable = true)\n",
      " |    |-- WiFi: string (nullable = true)\n",
      " |-- business_id: string (nullable = true)\n",
      " |-- categories: string (nullable = true)\n",
      " |-- city: string (nullable = true)\n",
      " |-- hours: struct (nullable = true)\n",
      " |    |-- Friday: string (nullable = true)\n",
      " |    |-- Monday: string (nullable = true)\n",
      " |    |-- Saturday: string (nullable = true)\n",
      " |    |-- Sunday: string (nullable = true)\n",
      " |    |-- Thursday: string (nullable = true)\n",
      " |    |-- Tuesday: string (nullable = true)\n",
      " |    |-- Wednesday: string (nullable = true)\n",
      " |-- is_open: long (nullable = true)\n",
      " |-- latitude: double (nullable = true)\n",
      " |-- longitude: double (nullable = true)\n",
      " |-- name: string (nullable = true)\n",
      " |-- postal_code: string (nullable = true)\n",
      " |-- review_count: long (nullable = true)\n",
      " |-- stars: double (nullable = true)\n",
      " |-- state: string (nullable = true)\n",
      "\n",
      "Null Values:\n"
     ]
    },
    {
     "name": "stderr",
     "output_type": "stream",
     "text": [
      "[Stage 5:=============================>                             (2 + 2) / 4]\r"
     ]
    },
    {
     "name": "stdout",
     "output_type": "stream",
     "text": [
      "-RECORD 0-------------\n",
      " address      | 0     \n",
      " attributes   | 13744 \n",
      " business_id  | 0     \n",
      " categories   | 103   \n",
      " city         | 0     \n",
      " hours        | 23223 \n",
      " is_open      | 0     \n",
      " latitude     | 0     \n",
      " longitude    | 0     \n",
      " name         | 0     \n",
      " postal_code  | 0     \n",
      " review_count | 0     \n",
      " stars        | 0     \n",
      " state        | 0     \n",
      "\n"
     ]
    },
    {
     "name": "stderr",
     "output_type": "stream",
     "text": [
      "                                                                                \r"
     ]
    }
   ],
   "source": [
    "basicEDA(businessDF)"
   ]
  },
  {
   "cell_type": "markdown",
   "id": "adf3b62a",
   "metadata": {},
   "source": [
    "**Now we have this information about the business dataset:**\n",
    "\n",
    "Business file contains rows of businesses\n",
    "\n",
    "- Schema:\n",
    "    - business_id\n",
    "    - name\n",
    "    - address\n",
    "    - city\n",
    "    - state\n",
    "    - postal_code\n",
    "    - lattitude\n",
    "    - longitude\n",
    "    - stars\n",
    "    - review_count\n",
    "    - is_open (0 or 1)\n",
    "    - attributes (array of text:true options)\n",
    "    - categories (text comma separated)\n",
    "    - hours"
   ]
  },
  {
   "cell_type": "markdown",
   "id": "601bba62",
   "metadata": {},
   "source": [
    "\n",
    "- We have about **150 thousand** rows of data\n",
    "- There are some null values for businesses, including attributes (9%), categories (0.06%), hours (15%) \n",
    "- Business location: address, city, state, postal_code, latitude, longitude\n",
    "- Other variables:\n",
    "    - Stars (rating from 1 to 5)\n",
    "    - Review count: number of reviews for each business\n",
    "    - Attributes: A collection of business-specific features or characteristics such as whether a business offers Wi-Fi, accepts credit cards, has outdoor seating, etc.\n",
    "    - Categories: The categorization of the business into one or more predefined groups or types such as \"Restaurants,\" \"Coffee Shops,\" \"Hair Salons,\" etc.\n",
    "    - Hours: Information about the operating hours of the business\n"
   ]
  },
  {
   "cell_type": "markdown",
   "id": "24931bb7",
   "metadata": {
    "tags": []
   },
   "source": [
    "### 1.1.2. Review DataFrame"
   ]
  },
  {
   "cell_type": "markdown",
   "id": "a2a34b1c",
   "metadata": {
    "tags": []
   },
   "source": [
    "**User-generated reviews of businesses on Yelp**"
   ]
  },
  {
   "cell_type": "markdown",
   "id": "ff7956e9",
   "metadata": {},
   "source": [
    "**Importing data**"
   ]
  },
  {
   "cell_type": "code",
   "execution_count": 8,
   "id": "08948f45",
   "metadata": {
    "tags": []
   },
   "outputs": [
    {
     "name": "stderr",
     "output_type": "stream",
     "text": [
      "                                                                                \r"
     ]
    }
   ],
   "source": [
    "reviewDF = spark.read.json('hdfs:///Project/yelp_academic_dataset_review.json')"
   ]
  },
  {
   "cell_type": "code",
   "execution_count": 12,
   "id": "f208c3db",
   "metadata": {
    "tags": []
   },
   "outputs": [
    {
     "name": "stdout",
     "output_type": "stream",
     "text": [
      "-RECORD 0------------------------------------------------------------------------------------------------------------------------------------------------------------------------------------------------------------------------------------------------------------------------------------------------------------------------------------------------------------------------------------------------------------------------------------------------------------------------------------------------------------------------------------------------------------------------------------------------------------------------------------------------------------------------------------------------------------------------------------------------------------------------------------------------------------------------------------------------------------------------\n",
      " business_id | XQfwVwDr-v0ZS3_CbbE5Xw                                                                                                                                                                                                                                                                                                                                                                                                                                                                                                                                                                                                                                                                                                                                                                                                                                            \n",
      " cool        | 0                                                                                                                                                                                                                                                                                                                                                                                                                                                                                                                                                                                                                                                                                                                                                                                                                                                                 \n",
      " date        | 2018-07-07 22:09:11                                                                                                                                                                                                                                                                                                                                                                                                                                                                                                                                                                                                                                                                                                                                                                                                                                               \n",
      " funny       | 0                                                                                                                                                                                                                                                                                                                                                                                                                                                                                                                                                                                                                                                                                                                                                                                                                                                                 \n",
      " review_id   | KU_O5udG6zpxOg-VcAEodg                                                                                                                                                                                                                                                                                                                                                                                                                                                                                                                                                                                                                                                                                                                                                                                                                                            \n",
      " stars       | 3.0                                                                                                                                                                                                                                                                                                                                                                                                                                                                                                                                                                                                                                                                                                                                                                                                                                                               \n",
      " text        | If you decide to eat here, just be aware it is going to take about 2 hours from beginning to end. We have tried it multiple times, because I want to like it! I have been to it's other locations in NJ and never had a bad experience. \\n\\nThe food is good, but it takes a very long time to come out. The waitstaff is very young, but usually pleasant. We have just had too many experiences where we spent way too long waiting. We usually opt for another diner or restaurant on the weekends, in order to be done quicker.                                                                                                                                                                                                                                                                                                                               \n",
      " useful      | 0                                                                                                                                                                                                                                                                                                                                                                                                                                                                                                                                                                                                                                                                                                                                                                                                                                                                 \n",
      " user_id     | mh_-eMZ6K5RLWhZyISBhwA                                                                                                                                                                                                                                                                                                                                                                                                                                                                                                                                                                                                                                                                                                                                                                                                                                            \n",
      "-RECORD 1------------------------------------------------------------------------------------------------------------------------------------------------------------------------------------------------------------------------------------------------------------------------------------------------------------------------------------------------------------------------------------------------------------------------------------------------------------------------------------------------------------------------------------------------------------------------------------------------------------------------------------------------------------------------------------------------------------------------------------------------------------------------------------------------------------------------------------------------------------------------\n",
      " business_id | 7ATYjTIgM3jUlt4UM3IypQ                                                                                                                                                                                                                                                                                                                                                                                                                                                                                                                                                                                                                                                                                                                                                                                                                                            \n",
      " cool        | 1                                                                                                                                                                                                                                                                                                                                                                                                                                                                                                                                                                                                                                                                                                                                                                                                                                                                 \n",
      " date        | 2012-01-03 15:28:18                                                                                                                                                                                                                                                                                                                                                                                                                                                                                                                                                                                                                                                                                                                                                                                                                                               \n",
      " funny       | 0                                                                                                                                                                                                                                                                                                                                                                                                                                                                                                                                                                                                                                                                                                                                                                                                                                                                 \n",
      " review_id   | BiTunyQ73aT9WBnpR9DZGw                                                                                                                                                                                                                                                                                                                                                                                                                                                                                                                                                                                                                                                                                                                                                                                                                                            \n",
      " stars       | 5.0                                                                                                                                                                                                                                                                                                                                                                                                                                                                                                                                                                                                                                                                                                                                                                                                                                                               \n",
      " text        | I've taken a lot of spin classes over the years, and nothing compares to the classes at Body Cycle. From the nice, clean space and amazing bikes, to the welcoming and motivating instructors, every class is a top notch work out.\\n\\nFor anyone who struggles to fit workouts in, the online scheduling system makes it easy to plan ahead (and there's no need to line up way in advanced like many gyms make you do).\\n\\nThere is no way I can write this review without giving Russell, the owner of Body Cycle, a shout out. Russell's passion for fitness and cycling is so evident, as is his desire for all of his clients to succeed. He is always dropping in to classes to check in/provide encouragement, and is open to ideas and recommendations from anyone. Russell always wears a smile on his face, even when he's kicking your butt in class! \n",
      " useful      | 1                                                                                                                                                                                                                                                                                                                                                                                                                                                                                                                                                                                                                                                                                                                                                                                                                                                                 \n",
      " user_id     | OyoGAe7OKpv6SyGZT5g77Q                                                                                                                                                                                                                                                                                                                                                                                                                                                                                                                                                                                                                                                                                                                                                                                                                                            \n",
      "only showing top 2 rows\n",
      "\n"
     ]
    }
   ],
   "source": [
    "reviewDF.show(2, vertical= True, truncate=False)"
   ]
  },
  {
   "cell_type": "markdown",
   "id": "3f261017",
   "metadata": {},
   "source": [
    "### Looking into review data"
   ]
  },
  {
   "cell_type": "code",
   "execution_count": 13,
   "id": "f4464b90",
   "metadata": {},
   "outputs": [
    {
     "name": "stderr",
     "output_type": "stream",
     "text": [
      "                                                                                \r"
     ]
    },
    {
     "name": "stdout",
     "output_type": "stream",
     "text": [
      "Rows: 6990280\n",
      "\n",
      "Schema:\n",
      "root\n",
      " |-- business_id: string (nullable = true)\n",
      " |-- cool: long (nullable = true)\n",
      " |-- date: string (nullable = true)\n",
      " |-- funny: long (nullable = true)\n",
      " |-- review_id: string (nullable = true)\n",
      " |-- stars: double (nullable = true)\n",
      " |-- text: string (nullable = true)\n",
      " |-- useful: long (nullable = true)\n",
      " |-- user_id: string (nullable = true)\n",
      "\n",
      "Null Values:\n"
     ]
    },
    {
     "name": "stderr",
     "output_type": "stream",
     "text": [
      "[Stage 13:=====================================================>  (38 + 2) / 40]\r"
     ]
    },
    {
     "name": "stdout",
     "output_type": "stream",
     "text": [
      "-RECORD 0----------\n",
      " business_id | 0   \n",
      " cool        | 0   \n",
      " date        | 0   \n",
      " funny       | 0   \n",
      " review_id   | 0   \n",
      " stars       | 0   \n",
      " text        | 0   \n",
      " useful      | 0   \n",
      " user_id     | 0   \n",
      "\n"
     ]
    },
    {
     "name": "stderr",
     "output_type": "stream",
     "text": [
      "                                                                                \r"
     ]
    }
   ],
   "source": [
    "basicEDA(reviewDF)"
   ]
  },
  {
   "cell_type": "markdown",
   "id": "e7b926f2",
   "metadata": {},
   "source": [
    "**Now we have this information about the review dataset:**\n",
    "\n",
    "Review file contains rows of reviews\n",
    "\n",
    "- Schema:\n",
    "    - review_id\n",
    "    - user_id\n",
    "    - business_id\n",
    "    - stars (1-5 integer)\n",
    "    - useful\n",
    "    - funny\n",
    "    - cool\n",
    "    - text\n",
    "    - date (as string)"
   ]
  },
  {
   "cell_type": "markdown",
   "id": "dbb2739a",
   "metadata": {},
   "source": [
    "\n",
    "- We have about **7 million** rows of data\n",
    "- Zero null values\n",
    "- String: user ID, business ID, text, date\n",
    "- Numeric: user ratings (stars), rating attributes (useful, funny, cool)\n",
    "- Text: review text\n",
    "- Date: Date and time the review was posted\n"
   ]
  },
  {
   "cell_type": "markdown",
   "id": "e9dc4585",
   "metadata": {},
   "source": [
    "## Step 2: Exploratory Data Analysis (EDA) "
   ]
  },
  {
   "cell_type": "markdown",
   "id": "f9df8ee8",
   "metadata": {},
   "source": [
    "### 2.1. Business dataset"
   ]
  },
  {
   "cell_type": "markdown",
   "id": "2cf96dca",
   "metadata": {},
   "source": [
    "#### 2.1.1. Open or Closed?"
   ]
  },
  {
   "cell_type": "code",
   "execution_count": 14,
   "id": "25dd95a6",
   "metadata": {},
   "outputs": [
    {
     "name": "stderr",
     "output_type": "stream",
     "text": [
      "                                                                                \r"
     ]
    },
    {
     "name": "stdout",
     "output_type": "stream",
     "text": [
      "79.61502135075094 percent of businesses are listed as open\n"
     ]
    }
   ],
   "source": [
    "# is_open variable is 0 (closed businesses) or 1 (open businesses) \n",
    "\n",
    "print((businessDF.filter(col('is_open') == 1).count() / businessDF.count()) * 100 , 'percent of businesses are listed as open')\n"
   ]
  },
  {
   "cell_type": "markdown",
   "id": "a65691df",
   "metadata": {},
   "source": [
    "So, about 20% of businesses listed as closed."
   ]
  },
  {
   "cell_type": "markdown",
   "id": "89216a25",
   "metadata": {},
   "source": [
    "#### 2.1.2. Geographical insights"
   ]
  },
  {
   "cell_type": "markdown",
   "id": "3ef06e21",
   "metadata": {},
   "source": [
    "Within this dataset, several variables related to the geographical location of each business, encompassing details such as address, state, city, latitude, and longitude. Let's delve into a closer examination of some of these location-based attributes."
   ]
  },
  {
   "cell_type": "markdown",
   "id": "d109cd72",
   "metadata": {},
   "source": [
    "**States**"
   ]
  },
  {
   "cell_type": "code",
   "execution_count": 15,
   "id": "d4eb4148",
   "metadata": {
    "tags": []
   },
   "outputs": [
    {
     "name": "stdout",
     "output_type": "stream",
     "text": [
      "The number of unique states: 27\n"
     ]
    }
   ],
   "source": [
    "# number of states\n",
    "print('The number of unique states:', businessDF.select(businessDF.state).distinct().count())"
   ]
  },
  {
   "cell_type": "code",
   "execution_count": 16,
   "id": "c0dd3d76",
   "metadata": {},
   "outputs": [
    {
     "name": "stderr",
     "output_type": "stream",
     "text": [
      "[Stage 28:>                                                         (0 + 4) / 4]\r"
     ]
    },
    {
     "name": "stdout",
     "output_type": "stream",
     "text": [
      "+-----+-----+\n",
      "|state|count|\n",
      "+-----+-----+\n",
      "|   PA|34039|\n",
      "|   FL|26330|\n",
      "|   TN|12056|\n",
      "|   IN|11247|\n",
      "|   MO|10913|\n",
      "|   LA| 9924|\n",
      "|   AZ| 9912|\n",
      "|   NJ| 8536|\n",
      "|   NV| 7715|\n",
      "|   AB| 5573|\n",
      "+-----+-----+\n",
      "only showing top 10 rows\n",
      "\n"
     ]
    },
    {
     "name": "stderr",
     "output_type": "stream",
     "text": [
      "                                                                                \r"
     ]
    }
   ],
   "source": [
    "# List of states with the most number of businesses\n",
    "businessDF.groupby('state').count().orderBy('count', ascending = False).show(10)"
   ]
  },
  {
   "cell_type": "markdown",
   "id": "5ef95ed8",
   "metadata": {},
   "source": [
    "**Cities**"
   ]
  },
  {
   "cell_type": "code",
   "execution_count": 17,
   "id": "f557219a",
   "metadata": {},
   "outputs": [
    {
     "name": "stderr",
     "output_type": "stream",
     "text": [
      "[Stage 31:===========================================>              (3 + 1) / 4]\r"
     ]
    },
    {
     "name": "stdout",
     "output_type": "stream",
     "text": [
      "The number of unique cities: 1416\n"
     ]
    },
    {
     "name": "stderr",
     "output_type": "stream",
     "text": [
      "                                                                                \r"
     ]
    }
   ],
   "source": [
    "# number of cities\n",
    "print('The number of unique cities:', businessDF.select(businessDF.city).distinct().count())"
   ]
  },
  {
   "cell_type": "code",
   "execution_count": 18,
   "id": "3aa1317b",
   "metadata": {
    "tags": []
   },
   "outputs": [
    {
     "name": "stdout",
     "output_type": "stream",
     "text": [
      "+-------------+-----+\n",
      "|         city|count|\n",
      "+-------------+-----+\n",
      "| Philadelphia|14569|\n",
      "|       Tucson| 9250|\n",
      "|        Tampa| 9050|\n",
      "| Indianapolis| 7540|\n",
      "|    Nashville| 6971|\n",
      "|  New Orleans| 6209|\n",
      "|         Reno| 5935|\n",
      "|     Edmonton| 5054|\n",
      "|  Saint Louis| 4827|\n",
      "|Santa Barbara| 3829|\n",
      "+-------------+-----+\n",
      "only showing top 10 rows\n",
      "\n"
     ]
    },
    {
     "name": "stderr",
     "output_type": "stream",
     "text": [
      "                                                                                \r"
     ]
    }
   ],
   "source": [
    "# List of cities with the most number of businesses\n",
    "businessDF.groupby('city').count().orderBy('count', ascending = False).show(10)"
   ]
  },
  {
   "cell_type": "markdown",
   "id": "356d741b",
   "metadata": {},
   "source": [
    "**Plots**\n",
    "\n",
    "1. Bar chart: distribution of businesses across different states\n"
   ]
  },
  {
   "cell_type": "code",
   "execution_count": 19,
   "id": "7e01007d",
   "metadata": {
    "tags": []
   },
   "outputs": [
    {
     "name": "stderr",
     "output_type": "stream",
     "text": [
      "                                                                                \r"
     ]
    },
    {
     "data": {
      "image/png": "[encoded data removed]",
      "text/plain": [
       "<Figure size 1500x500 with 1 Axes>"
      ]
     },
     "metadata": {},
     "output_type": "display_data"
    }
   ],
   "source": [
    "# Plot a bar chart to indicating the number of businesses in each state\n",
    "\n",
    "# Save data frame as Pandas df\n",
    "business = businessDF.toPandas()\n",
    "\n",
    "plt.figure(figsize=(15,5))\n",
    "business.state.value_counts().sort_index().plot.bar()\n",
    "plt.show()"
   ]
  },
  {
   "cell_type": "markdown",
   "id": "0473e853",
   "metadata": {},
   "source": [
    "2. A geographical perspective: map of the United States with marked business locations\n"
   ]
  },
  {
   "cell_type": "code",
   "execution_count": 20,
   "id": "fa8da7ed",
   "metadata": {
    "tags": []
   },
   "outputs": [],
   "source": [
    "# function to display US map and business coordinates\n",
    "def show_map(business, long_col, lat_col):\n",
    "    # Create GeoDataFrame from latitude and longitude\n",
    "    geometry = [Point(lon, lat) for lon, lat in zip(business[long_col], business[lat_col])]\n",
    "    gdf = gpd.GeoDataFrame(business, geometry=geometry, crs='EPSG:4326')\n",
    "    \n",
    "    # Load the US shapefile \n",
    "    us_map = gpd.read_file('cb_2018_us_state_500k/cb_2018_us_state_500k.shp')\n",
    "    \n",
    "    # Trim data and drop low and high longitudes for a clearer result \n",
    "    us_map['min_longitude'] = us_map.geometry.get_coordinates().reset_index().groupby('index').x.min()\n",
    "    us_map.sort_values('min_longitude').NAME.head()\n",
    "    us_map.sort_values('min_longitude').NAME.tail()\n",
    "    \n",
    "    # Plot the US map\n",
    "    fig, ax = plt.subplots(figsize=(10, 8))\n",
    "    us_map.loc[~us_map.NAME.isin(\n",
    "        ['Alaska', 'Hawaii', 'American Samoa', 'Puerto Rico',\n",
    "         'United States Virgin Islands', 'Guam',\n",
    "         'Commonwealth of the Northern Mariana Islands']\n",
    "    )].plot(ax=ax, color='grey')\n",
    "    for idx, row in us_map.iterrows():\n",
    "        plt.annotate(\n",
    "           text=row.STUSPS,\n",
    "           xy=row.geometry.representative_point().coords[:][0],\n",
    "           ha='center',\n",
    "           color='black')\n",
    "    # Plot the points on the map\n",
    "    gdf.plot(ax=ax, color='red', marker='o', markersize=50)\n",
    "    plt.xlabel('Longitude')\n",
    "    plt.ylabel('Latitude')\n",
    "    plt.title('Points on US Map')\n",
    "    plt.show()"
   ]
  },
  {
   "cell_type": "code",
   "execution_count": 21,
   "id": "1470627d",
   "metadata": {},
   "outputs": [
    {
     "data": {
      "image/png": "[encoded data removed]",
      "text/plain": [
       "<Figure size 1000x800 with 1 Axes>"
      ]
     },
     "metadata": {},
     "output_type": "display_data"
    }
   ],
   "source": [
    "show_map(business, 'longitude', 'latitude')"
   ]
  },
  {
   "cell_type": "markdown",
   "id": "6afac4b3",
   "metadata": {},
   "source": [
    "This plot demonstrates that the latitude and longitude provided by Yelp are at the state level rather than precise coordinates of business locations. To rectify this, we utilized a secondary data source file containing precise latitude and longitude coordinates based on zip codes. We then plotted the map again with accurate coordinates."
   ]
  },
  {
   "cell_type": "code",
   "execution_count": 22,
   "id": "265c4134",
   "metadata": {
    "tags": []
   },
   "outputs": [],
   "source": [
    "# Save the zipcode file as a spark df\n",
    "zip_codes = spark.read.csv('hdfs:///Project/USZIPCodes202403.csv', header = True)"
   ]
  },
  {
   "cell_type": "code",
   "execution_count": 23,
   "id": "fe5b855b",
   "metadata": {},
   "outputs": [],
   "source": [
    "# Merge the new zipcode file with business data\n",
    "business_zip = businessDF.join(zip_codes, businessDF['postal_code'] == zip_codes['Zip Code'])"
   ]
  },
  {
   "cell_type": "code",
   "execution_count": 24,
   "id": "cb87d595",
   "metadata": {},
   "outputs": [
    {
     "name": "stderr",
     "output_type": "stream",
     "text": [
      "                                                                                \r"
     ]
    }
   ],
   "source": [
    "business_new_zip = business_zip.toPandas()"
   ]
  },
  {
   "cell_type": "code",
   "execution_count": 25,
   "id": "cbf70cd4",
   "metadata": {},
   "outputs": [
    {
     "data": {
      "image/png": "[encoded data removed]",
      "text/plain": [
       "<Figure size 1000x800 with 1 Axes>"
      ]
     },
     "metadata": {},
     "output_type": "display_data"
    }
   ],
   "source": [
    "show_map(business_new_zip, 'ZipLongitude', 'ZipLatitude')"
   ]
  },
  {
   "cell_type": "markdown",
   "id": "9a782fb2",
   "metadata": {},
   "source": [
    "This map now illustrates the actual business locations from the Yelp dataset."
   ]
  },
  {
   "cell_type": "markdown",
   "id": "486484a8",
   "metadata": {},
   "source": [
    "#### 2.1.3. Attributes"
   ]
  },
  {
   "cell_type": "markdown",
   "id": "64b12f19",
   "metadata": {},
   "source": [
    "The \"attributes\" variable contains a detailed set of characteristics or features associated with each business. These attributes can include specific amenities, service options, and other qualitative aspects of the business, typically presented as a dictionary or key-value pairs.\n",
    "\n",
    "When the data is read from a JSON file, these attributes are stored as a struct variable in the Spark DataFrame. To make the attributes more accessible and readable, we flatten the struct to extract the individual attribute names and their corresponding values."
   ]
  },
  {
   "cell_type": "code",
   "execution_count": 10,
   "id": "94558f51",
   "metadata": {},
   "outputs": [
    {
     "data": {
      "text/plain": [
       "['AcceptsInsurance',\n",
       " 'AgesAllowed',\n",
       " 'Alcohol',\n",
       " 'Ambience',\n",
       " 'BYOB',\n",
       " 'BYOBCorkage',\n",
       " 'BestNights',\n",
       " 'BikeParking',\n",
       " 'BusinessAcceptsBitcoin',\n",
       " 'BusinessAcceptsCreditCards',\n",
       " 'BusinessParking',\n",
       " 'ByAppointmentOnly',\n",
       " 'Caters',\n",
       " 'CoatCheck',\n",
       " 'Corkage',\n",
       " 'DietaryRestrictions',\n",
       " 'DogsAllowed',\n",
       " 'DriveThru',\n",
       " 'GoodForDancing',\n",
       " 'GoodForKids',\n",
       " 'GoodForMeal',\n",
       " 'HairSpecializesIn',\n",
       " 'HappyHour',\n",
       " 'HasTV',\n",
       " 'Music',\n",
       " 'NoiseLevel',\n",
       " 'Open24Hours',\n",
       " 'OutdoorSeating',\n",
       " 'RestaurantsAttire',\n",
       " 'RestaurantsCounterService',\n",
       " 'RestaurantsDelivery',\n",
       " 'RestaurantsGoodForGroups',\n",
       " 'RestaurantsPriceRange2',\n",
       " 'RestaurantsReservations',\n",
       " 'RestaurantsTableService',\n",
       " 'RestaurantsTakeOut',\n",
       " 'Smoking',\n",
       " 'WheelchairAccessible',\n",
       " 'WiFi']"
      ]
     },
     "execution_count": 10,
     "metadata": {},
     "output_type": "execute_result"
    }
   ],
   "source": [
    "attribute_names = [field.name for field in businessDF.schema['attributes'].dataType]\n",
    "attribute_names"
   ]
  },
  {
   "cell_type": "code",
   "execution_count": 11,
   "id": "3a0d2e47",
   "metadata": {},
   "outputs": [
    {
     "data": {
      "text/plain": [
       "DataFrame[address: string, business_id: string, categories: string, city: string, hours: struct<Friday:string,Monday:string,Saturday:string,Sunday:string,Thursday:string,Tuesday:string,Wednesday:string>, is_open: bigint, latitude: double, longitude: double, name: string, postal_code: string, review_count: bigint, stars: double, state: string, AcceptsInsurance: string, AgesAllowed: string, Alcohol: string, Ambience: string, BYOB: string, BYOBCorkage: string, BestNights: string, BikeParking: string, BusinessAcceptsBitcoin: string, BusinessAcceptsCreditCards: string, BusinessParking: string, ByAppointmentOnly: string, Caters: string, CoatCheck: string, Corkage: string, DietaryRestrictions: string, DogsAllowed: string, DriveThru: string, GoodForDancing: string, GoodForKids: string, GoodForMeal: string, HairSpecializesIn: string, HappyHour: string, HasTV: string, Music: string, NoiseLevel: string, Open24Hours: string, OutdoorSeating: string, RestaurantsAttire: string, RestaurantsCounterService: string, RestaurantsDelivery: string, RestaurantsGoodForGroups: string, RestaurantsPriceRange2: string, RestaurantsReservations: string, RestaurantsTableService: string, RestaurantsTakeOut: string, Smoking: string, WheelchairAccessible: string, WiFi: string]"
      ]
     },
     "execution_count": 11,
     "metadata": {},
     "output_type": "execute_result"
    }
   ],
   "source": [
    "# Dataframe with all the attributes as columns\n",
    "all_businessDF = businessDF.select(businessDF.columns + [col('attributes')[field].alias(field) for field in attribute_names]).drop('attributes')\n",
    "all_businessDF.cache()"
   ]
  },
  {
   "cell_type": "code",
   "execution_count": 28,
   "id": "857d4b7c",
   "metadata": {
    "tags": []
   },
   "outputs": [
    {
     "name": "stderr",
     "output_type": "stream",
     "text": [
      "                                                                                \r"
     ]
    }
   ],
   "source": [
    "# Count the number of nulls in each value\n",
    "null_counts = [all_businessDF.select(F.sum(col(i).isNull().cast('int'))).collect() for i in attribute_names]"
   ]
  },
  {
   "cell_type": "code",
   "execution_count": 29,
   "id": "17fdb642",
   "metadata": {},
   "outputs": [],
   "source": [
    "# Count the number of not null (True) values in each column\n",
    "not_null_att = []\n",
    "for i in range(len(attribute_names)):\n",
    "    not_null_att.append(all_businessDF.count() - null_counts[i][0][0])"
   ]
  },
  {
   "cell_type": "code",
   "execution_count": 30,
   "id": "47f0253e",
   "metadata": {},
   "outputs": [],
   "source": [
    "data = zip(attribute_names, not_null_att)\n",
    "att_count = spark.createDataFrame(data, [\"attribute_names\", \"count\"])"
   ]
  },
  {
   "cell_type": "code",
   "execution_count": 31,
   "id": "1958f458",
   "metadata": {},
   "outputs": [
    {
     "name": "stderr",
     "output_type": "stream",
     "text": [
      "[Stage 279:>                                                        (0 + 4) / 4]\r"
     ]
    },
    {
     "name": "stdout",
     "output_type": "stream",
     "text": [
      "+--------------------+------+\n",
      "|     attribute_names| count|\n",
      "+--------------------+------+\n",
      "|BusinessAcceptsCr...|119765|\n",
      "|     BusinessParking| 91085|\n",
      "|RestaurantsPriceR...| 85314|\n",
      "|         BikeParking| 72638|\n",
      "|  RestaurantsTakeOut| 59857|\n",
      "|                WiFi| 56914|\n",
      "| RestaurantsDelivery| 56282|\n",
      "|         GoodForKids| 53375|\n",
      "|      OutdoorSeating| 48802|\n",
      "|RestaurantsReserv...| 45247|\n",
      "|               HasTV| 45084|\n",
      "|            Ambience| 44279|\n",
      "|RestaurantsGoodFo...| 44170|\n",
      "|             Alcohol| 43189|\n",
      "|   ByAppointmentOnly| 42339|\n",
      "|              Caters| 40127|\n",
      "|   RestaurantsAttire| 39255|\n",
      "|          NoiseLevel| 37993|\n",
      "|         GoodForMeal| 29087|\n",
      "|WheelchairAccessible| 28953|\n",
      "+--------------------+------+\n",
      "only showing top 20 rows\n",
      "\n"
     ]
    },
    {
     "name": "stderr",
     "output_type": "stream",
     "text": [
      "                                                                                \r"
     ]
    }
   ],
   "source": [
    "att_count.orderBy('count', ascending = False).show()"
   ]
  },
  {
   "cell_type": "code",
   "execution_count": 13,
   "id": "b337272b",
   "metadata": {},
   "outputs": [],
   "source": [
    "# Create a new df to see all the attributes as columns\n",
    "attributesDF = businessDF.select(businessDF.business_id, businessDF.attributes).cache()\n",
    "for i in range (39):\n",
    "    attributesDF = attributesDF.withColumn(businessDF.schema['attributes'].dataType.names[i], \n",
    "                col('attributes.{}'.format(businessDF.schema['attributes'].dataType.names[i])))\n",
    "attributesDF = attributesDF.drop('attributes')"
   ]
  },
  {
   "cell_type": "code",
   "execution_count": 14,
   "id": "6e55563b",
   "metadata": {},
   "outputs": [
    {
     "name": "stderr",
     "output_type": "stream",
     "text": [
      "                                                                                \r"
     ]
    },
    {
     "name": "stdout",
     "output_type": "stream",
     "text": [
      "-RECORD 0-----------------------------------------\n",
      " business_id                | 0.0                 \n",
      " AcceptsInsurance           | 0.9620009843959932  \n",
      " AgesAllowed                | 0.9991419791680524  \n",
      " Alcohol                    | 0.7127359557287856  \n",
      " Ambience                   | 0.7054860122650419  \n",
      " BYOB                       | 0.970394955635667   \n",
      " BYOBCorkage                | 0.9903954877416093  \n",
      " BestNights                 | 0.9621273595572879  \n",
      " BikeParking                | 0.516861107046413   \n",
      " BusinessAcceptsBitcoin     | 0.8840674178228886  \n",
      " BusinessAcceptsCreditCards | 0.20340414776582016 \n",
      " BusinessParking            | 0.3941641280779003  \n",
      " ByAppointmentOnly          | 0.7183895813656499  \n",
      " Caters                     | 0.7331023106700544  \n",
      " CoatCheck                  | 0.9628590052279409  \n",
      " Corkage                    | 0.9763678448379072  \n",
      " DietaryRestrictions        | 0.9997938089473615  \n",
      " DogsAllowed                | 0.8783871868889096  \n",
      " DriveThru                  | 0.9483857235975682  \n",
      " GoodForDancing             | 0.9692176712383436  \n",
      " GoodForKids                | 0.6449855666263153  \n",
      " GoodForMeal                | 0.8065329307065037  \n",
      " HairSpecializesIn          | 0.992916339643223   \n",
      " HappyHour                  | 0.8990927593683903  \n",
      " HasTV                      | 0.7001316962207176  \n",
      " Music                      | 0.949975390100169   \n",
      " NoiseLevel                 | 0.7472962366807231  \n",
      " Open24Hours                | 0.9997405983531321  \n",
      " OutdoorSeating             | 0.6754020725526453  \n",
      " RestaurantsAttire          | 0.7389022654410493  \n",
      " RestaurantsCounterService  | 0.9998736248387053  \n",
      " RestaurantsDelivery        | 0.6256501669482394  \n",
      " RestaurantsGoodForGroups   | 0.7062110066114163  \n",
      " RestaurantsPriceRange2     | 0.4325489204900696  \n",
      " RestaurantsReservations    | 0.6990475303632954  \n",
      " RestaurantsTableService    | 0.8670932382637383  \n",
      " RestaurantsTakeOut         | 0.6018716826520161  \n",
      " Smoking                    | 0.969623402019342   \n",
      " WheelchairAccessible       | 0.8074242081598446  \n",
      " WiFi                       | 0.6214465300041239  \n",
      "\n"
     ]
    }
   ],
   "source": [
    "# Count the number of null values in attributes df\n",
    "total_rows = attributesDF.count()\n",
    "null_percentage_df = attributesDF.select([(count(when(col(c).isNull() , c)) / total_rows).alias(c) for c in attributesDF.columns])\n",
    "\n",
    "# Show the result\n",
    "null_percentage_df.show(vertical=True)"
   ]
  },
  {
   "cell_type": "markdown",
   "id": "fc1fd418",
   "metadata": {},
   "source": [
    "columns with insignificant usage in any category:\n",
    "- AgesAllowed: 0.03% of all open businesses labeled over18 or over21\n",
    "- Open24Hours: 0.01% of all open businesses labeled true\n",
    "- RestaurantsCounterService: 0.01% of all open businesses labeled true\n",
    "- DietaryRestrictions: 0.01% of all open businesses used any available labels"
   ]
  },
  {
   "cell_type": "markdown",
   "id": "ac768f56",
   "metadata": {},
   "source": [
    "#### 2.1.4. Categories"
   ]
  },
  {
   "cell_type": "markdown",
   "id": "0cd2c87e",
   "metadata": {},
   "source": [
    "In the Yelp dataset, the \"categories\" variable typically refers to the type or genre of a business. It includes a range of business classifications, such as \"restaurants,\" \"shopping,\" \"nightlife,\" and more."
   ]
  },
  {
   "cell_type": "code",
   "execution_count": 15,
   "id": "7673b377",
   "metadata": {},
   "outputs": [
    {
     "name": "stdout",
     "output_type": "stream",
     "text": [
      "-RECORD 0----------------------------------------------------------------------------------------------------------------\n",
      " categories | Doctors, Traditional Chinese Medicine, Naturopathic/Holistic, Acupuncture, Health & Medical, Nutritionists \n",
      "-RECORD 1----------------------------------------------------------------------------------------------------------------\n",
      " categories | Shipping Centers, Local Services, Notaries, Mailbox Centers, Printing Services                             \n",
      "-RECORD 2----------------------------------------------------------------------------------------------------------------\n",
      " categories | Department Stores, Shopping, Fashion, Home & Garden, Electronics, Furniture Stores                         \n",
      "-RECORD 3----------------------------------------------------------------------------------------------------------------\n",
      " categories | Restaurants, Food, Bubble Tea, Coffee & Tea, Bakeries                                                      \n",
      "-RECORD 4----------------------------------------------------------------------------------------------------------------\n",
      " categories | Brewpubs, Breweries, Food                                                                                  \n",
      "only showing top 5 rows\n",
      "\n"
     ]
    }
   ],
   "source": [
    "businessDF.select(businessDF['categories']).show(5, vertical= True,truncate=False)"
   ]
  },
  {
   "cell_type": "code",
   "execution_count": 16,
   "id": "88eb82a0",
   "metadata": {},
   "outputs": [
    {
     "name": "stderr",
     "output_type": "stream",
     "text": [
      "[Stage 10:>                                                         (0 + 8) / 8]\r"
     ]
    },
    {
     "name": "stdout",
     "output_type": "stream",
     "text": [
      "+-------------------------+-----+\n",
      "|Category                 |count|\n",
      "+-------------------------+-----+\n",
      "|Restaurants              |52268|\n",
      "|Food                     |27781|\n",
      "|Shopping                 |24395|\n",
      "|Home Services            |14356|\n",
      "|Beauty & Spas            |14292|\n",
      "|Nightlife                |12281|\n",
      "|Health & Medical         |11890|\n",
      "|Local Services           |11198|\n",
      "|Bars                     |11065|\n",
      "|Automotive               |10773|\n",
      "|Event Planning & Services|9895 |\n",
      "|Sandwiches               |8366 |\n",
      "|American (Traditional)   |8139 |\n",
      "|Active Life              |7687 |\n",
      "|Pizza                    |7093 |\n",
      "|Coffee & Tea             |6703 |\n",
      "|Fast Food                |6472 |\n",
      "|Breakfast & Brunch       |6239 |\n",
      "|American (New)           |6097 |\n",
      "|Hotels & Travel          |5857 |\n",
      "+-------------------------+-----+\n",
      "only showing top 20 rows\n",
      "\n"
     ]
    },
    {
     "name": "stderr",
     "output_type": "stream",
     "text": [
      "                                                                                \r"
     ]
    }
   ],
   "source": [
    "# Count the number of each category\n",
    "categories = businessDF.select(split(businessDF[\"categories\"], ', ').alias('cat')).select(explode('cat').alias('Category'))\n",
    "cat_num = categories.groupBy('Category').count()\n",
    "cat_num.orderBy('count', ascending = False).show(truncate=False)"
   ]
  },
  {
   "cell_type": "code",
   "execution_count": 17,
   "id": "dceadd24",
   "metadata": {},
   "outputs": [
    {
     "data": {
      "text/plain": [
       "1311"
      ]
     },
     "execution_count": 17,
     "metadata": {},
     "output_type": "execute_result"
    }
   ],
   "source": [
    "# Count the number of unique categories\n",
    "categories = cat_num.select('Category')\n",
    "categories.count()"
   ]
  },
  {
   "cell_type": "markdown",
   "id": "b0ac76ad",
   "metadata": {},
   "source": [
    "#### Feature Density by Category"
   ]
  },
  {
   "cell_type": "markdown",
   "id": "2f1ca7f7",
   "metadata": {
    "tags": []
   },
   "source": [
    "Based on Professor Nguyen's feedback during Project Proposal, we explored which categories have least nulls in attributes columns.\n",
    "Categories with fewer nulls in attributes columns per business = higher density of features.\n",
    "These categories are better candidates for analysis."
   ]
  },
  {
   "cell_type": "code",
   "execution_count": 18,
   "id": "110d7eef",
   "metadata": {},
   "outputs": [],
   "source": [
    "# get DF with business_id and count of null attributes\n",
    "att_nulls = attributesDF.select('business_id', lit(sum(attributesDF[col].isNull().cast('int') for col in attributesDF.columns)).alias('nulls'))"
   ]
  },
  {
   "cell_type": "code",
   "execution_count": 19,
   "id": "4fbff9cb",
   "metadata": {},
   "outputs": [],
   "source": [
    "# join attribute nulls with businesses (1 row per category - exploded)\n",
    "tempdf = businessDF.select('business_id', explode(split(businessDF.categories, ', ')).alias('category'))\n",
    "densityDF = att_nulls.join(tempdf, att_nulls.business_id == tempdf.business_id, 'inner').drop(tempdf.business_id)\n"
   ]
  },
  {
   "cell_type": "code",
   "execution_count": 20,
   "id": "e183e276",
   "metadata": {},
   "outputs": [],
   "source": [
    "# get category, business count, average nulls (each business nulls are total for attribute columns)\n",
    "cat_density = densityDF.groupBy(\"category\").agg(count('business_id').alias('bus_count'), mean(\"nulls\").alias(\"avg_nulls\")) \\\n",
    "                        .orderBy('avg_nulls', ascending = True)\n",
    "# only include categories with >300 businesses\n",
    "cat_density = cat_density.where(cat_density.bus_count > 300) "
   ]
  },
  {
   "cell_type": "code",
   "execution_count": 21,
   "id": "1c7fe1fe",
   "metadata": {},
   "outputs": [
    {
     "name": "stdout",
     "output_type": "stream",
     "text": [
      "+----------------------+---------+------------------+\n",
      "|category              |bus_count|avg_nulls         |\n",
      "+----------------------+---------+------------------+\n",
      "|Gastropubs            |513      |17.341130604288498|\n",
      "|Cocktail Bars         |1718     |18.28230500582072 |\n",
      "|Tapas/Small Plates    |440      |18.895454545454545|\n",
      "|Wine Bars             |1192     |18.923657718120804|\n",
      "|Beer Bar              |870      |18.99655172413793 |\n",
      "|Sports Bars           |2110     |19.113270142180095|\n",
      "|Steakhouses           |1506     |19.52722443559097 |\n",
      "|American (New)        |6097     |19.82909627685747 |\n",
      "|Pubs                  |1821     |20.040637012630423|\n",
      "|American (Traditional)|8139     |20.20186755129623 |\n",
      "|Bars                  |11065    |20.238047898779936|\n",
      "|Comfort Food          |746      |20.447721179624665|\n",
      "|Gluten-Free           |777      |20.454311454311455|\n",
      "|Vegetarian            |1158     |20.46027633851468 |\n",
      "|Southern              |988      |20.661943319838056|\n",
      "|Nightlife             |12281    |20.89764677143555 |\n",
      "|French                |503      |20.91252485089463 |\n",
      "|Soup                  |1061     |21.045240339302545|\n",
      "|Seafood               |3539     |21.04831873410568 |\n",
      "|Salad                 |3064     |21.08812010443864 |\n",
      "+----------------------+---------+------------------+\n",
      "only showing top 20 rows\n",
      "\n"
     ]
    },
    {
     "name": "stderr",
     "output_type": "stream",
     "text": [
      "                                                                                \r"
     ]
    }
   ],
   "source": [
    "cat_density.show(truncate=False)"
   ]
  },
  {
   "cell_type": "markdown",
   "id": "13eedd6f",
   "metadata": {},
   "source": [
    "#### 2.1.5. Stars (ratings)"
   ]
  },
  {
   "cell_type": "markdown",
   "id": "2bb92436",
   "metadata": {
    "tags": []
   },
   "source": [
    "Rating in the Yelp dataset is based on stars (from 1 to 5)"
   ]
  },
  {
   "cell_type": "code",
   "execution_count": 22,
   "id": "23f3f214",
   "metadata": {
    "tags": []
   },
   "outputs": [
    {
     "name": "stdout",
     "output_type": "stream",
     "text": [
      "+-------+------------------+\n",
      "|summary|             stars|\n",
      "+-------+------------------+\n",
      "|  count|            150346|\n",
      "|   mean|3.5967235576603303|\n",
      "| stddev|0.9744207509201349|\n",
      "|    min|               1.0|\n",
      "|    max|               5.0|\n",
      "+-------+------------------+\n",
      "\n",
      "+-----------+\n",
      "|mode(stars)|\n",
      "+-----------+\n",
      "|        4.0|\n",
      "+-----------+\n",
      "\n"
     ]
    }
   ],
   "source": [
    "businessDF.select('stars').describe().show()\n",
    "businessDF.agg({\"stars\": \"mode\"}).show()"
   ]
  },
  {
   "cell_type": "code",
   "execution_count": 23,
   "id": "fe5834ed",
   "metadata": {},
   "outputs": [
    {
     "name": "stderr",
     "output_type": "stream",
     "text": [
      "                                                                                \r"
     ]
    }
   ],
   "source": [
    "business = businessDF.toPandas()"
   ]
  },
  {
   "cell_type": "code",
   "execution_count": 24,
   "id": "487e8f1d",
   "metadata": {
    "tags": []
   },
   "outputs": [
    {
     "data": {
      "image/png": "[encoded data removed]",
      "text/plain": [
       "<Figure size 800x600 with 1 Axes>"
      ]
     },
     "metadata": {},
     "output_type": "display_data"
    }
   ],
   "source": [
    "# Plot the distribution of stars\n",
    "plt.figure(figsize=(8, 6))\n",
    "business['stars'].hist(bins=17, color='blue', edgecolor='black', alpha=0.7)\n",
    "\n",
    "# Add labels and title \n",
    "plt.title('Distribution of Number of Stars')\n",
    "plt.xlabel('Stars')\n",
    "plt.ylabel('Frequency')\n",
    "plt.grid(False)\n",
    "plt.show()"
   ]
  },
  {
   "cell_type": "markdown",
   "id": "d48ed7ef",
   "metadata": {},
   "source": [
    "#### 2.1.6. Review Count"
   ]
  },
  {
   "cell_type": "code",
   "execution_count": 25,
   "id": "5f46eeac",
   "metadata": {
    "tags": []
   },
   "outputs": [
    {
     "name": "stdout",
     "output_type": "stream",
     "text": [
      "+-------+------------------+\n",
      "|summary|      review_count|\n",
      "+-------+------------------+\n",
      "|  count|            150346|\n",
      "|   mean| 44.86656113232144|\n",
      "| stddev|121.12013570117087|\n",
      "|    min|                 5|\n",
      "|    max|              7568|\n",
      "+-------+------------------+\n",
      "\n",
      "+------------------+\n",
      "|mode(review_count)|\n",
      "+------------------+\n",
      "|                 5|\n",
      "+------------------+\n",
      "\n"
     ]
    }
   ],
   "source": [
    "businessDF.select('review_count').describe().show()\n",
    "businessDF.agg({\"review_count\": \"mode\"}).show()"
   ]
  },
  {
   "cell_type": "code",
   "execution_count": 26,
   "id": "192d43d6",
   "metadata": {},
   "outputs": [
    {
     "data": {
      "image/png": "[encoded data removed]",
      "text/plain": [
       "<Figure size 800x600 with 1 Axes>"
      ]
     },
     "metadata": {},
     "output_type": "display_data"
    }
   ],
   "source": [
    "# Plot the distribution of number of reviews for each business\n",
    "plt.figure(figsize=(8, 6))\n",
    "business.loc[business.review_count < 100].review_count.hist(bins=20, color='brown', edgecolor='black', alpha=0.7)\n",
    "\n",
    "# Add labels and title \n",
    "plt.title('Distribution of Number of Reviews')\n",
    "plt.xlabel('Review_count')\n",
    "plt.ylabel('Number of Businesses')\n",
    "plt.grid(False)\n",
    "plt.show()"
   ]
  },
  {
   "cell_type": "markdown",
   "id": "0da9b1ef",
   "metadata": {},
   "source": [
    "### 2.2. Review Dataset"
   ]
  },
  {
   "cell_type": "markdown",
   "id": "e0aafb53",
   "metadata": {},
   "source": [
    "#### 2.2.1 Stars by users"
   ]
  },
  {
   "cell_type": "markdown",
   "id": "19867709",
   "metadata": {},
   "source": [
    "Review Ratings: The number of stars assigned to individual reviews by users."
   ]
  },
  {
   "cell_type": "code",
   "execution_count": 27,
   "id": "4da8fa27",
   "metadata": {},
   "outputs": [
    {
     "name": "stderr",
     "output_type": "stream",
     "text": [
      "[Stage 36:============================================>           (32 + 8) / 40]\r"
     ]
    },
    {
     "name": "stdout",
     "output_type": "stream",
     "text": [
      "+-----+-------+\n",
      "|stars|  count|\n",
      "+-----+-------+\n",
      "|  1.0|1069561|\n",
      "|  2.0| 544240|\n",
      "|  3.0| 691934|\n",
      "|  4.0|1452918|\n",
      "|  5.0|3231627|\n",
      "+-----+-------+\n",
      "\n"
     ]
    },
    {
     "name": "stderr",
     "output_type": "stream",
     "text": [
      "                                                                                \r"
     ]
    }
   ],
   "source": [
    "# get stars - number of reviews with each rating\n",
    "star_count = reviewDF.groupBy('stars').count().orderBy('stars', ascending=True)\n",
    "star_count.show()"
   ]
  },
  {
   "cell_type": "code",
   "execution_count": 28,
   "id": "d09458fa",
   "metadata": {},
   "outputs": [
    {
     "name": "stderr",
     "output_type": "stream",
     "text": [
      "                                                                                \r"
     ]
    }
   ],
   "source": [
    "# stars to pandas\n",
    "stars_pd = star_count.toPandas()\n"
   ]
  },
  {
   "cell_type": "code",
   "execution_count": 29,
   "id": "bc3eddac",
   "metadata": {},
   "outputs": [
    {
     "data": {
      "image/png": "[encoded data removed]",
      "text/plain": [
       "<Figure size 640x480 with 1 Axes>"
      ]
     },
     "metadata": {},
     "output_type": "display_data"
    }
   ],
   "source": [
    "# Bar chart for ratings (number of stars) for reviews   \n",
    "plt.bar(stars_pd['stars'], stars_pd['count'], color ='skyblue', \n",
    "        width = 0.4)\n",
    "\n",
    "# Add percentage labels on top of the bars\n",
    "values = stars_pd['count']\n",
    "total = stars_pd['count'].sum()\n",
    "percentages = [(value / total) * 100 for value in values]\n",
    "for i, value in enumerate(values):\n",
    "    plt.text(i+1, value, f'{percentages[i]:.1f}%', ha='center')\n",
    "\n",
    "# Add labels and title  \n",
    "plt.xlabel('Stars')\n",
    "plt.ylabel('Number of Reviews')\n",
    "plt.title('Number of stars for all reviews')\n",
    "plt.show()"
   ]
  },
  {
   "cell_type": "markdown",
   "id": "59e2e1d7",
   "metadata": {},
   "source": [
    "This plot reveals that a significant portion of the reviews (46.2%) received the highest rating of 5 stars."
   ]
  },
  {
   "cell_type": "markdown",
   "id": "1fba41bd",
   "metadata": {},
   "source": [
    "#### 2.2.2. Word Count"
   ]
  },
  {
   "cell_type": "markdown",
   "id": "df2a363e",
   "metadata": {},
   "source": [
    "We evaluated the review text in 2 different ways. First, we calculated the frequency of all words in the data set (all reviews combined). Second, we counted the length in words of each review.\n"
   ]
  },
  {
   "cell_type": "markdown",
   "id": "8b5736ac",
   "metadata": {},
   "source": [
    "**Counting words of all the rows of dataset**"
   ]
  },
  {
   "cell_type": "code",
   "execution_count": 30,
   "id": "eaa3215b",
   "metadata": {},
   "outputs": [],
   "source": [
    "# define a function for removing punctuations, splitting words, removing nulls and meaningless words, and counting the unique words \n",
    "def word_count(df , column, unwanted):\n",
    "    removePunctuation = df.select(trim(lower(regexp_replace(column, \"[^A-Za-z0-9 -]\", \"\"))).alias(\"sentence\"))\n",
    "    removePunctuation = removePunctuation.select(split(removePunctuation[\"sentence\"], ' ').alias('csv')).select(explode('csv').alias('word'))\n",
    "    removePunctuation = removePunctuation.filter((removePunctuation.word.isNotNull()) & ~(col('word').isin(unwanted)))\n",
    "    removePunctuation = removePunctuation.groupBy(\"word\").count().orderBy(\"count\", ascending=False)\n",
    "    return removePunctuation"
   ]
  },
  {
   "cell_type": "markdown",
   "id": "ae9de6e1",
   "metadata": {},
   "source": [
    "Note: this cell takes significant time to run:"
   ]
  },
  {
   "cell_type": "code",
   "execution_count": 31,
   "id": "054e8012",
   "metadata": {},
   "outputs": [
    {
     "name": "stderr",
     "output_type": "stream",
     "text": [
      "[Stage 55:>                                                         (0 + 8) / 9]\r"
     ]
    },
    {
     "name": "stdout",
     "output_type": "stream",
     "text": [
      "+----+--------+\n",
      "|word|count   |\n",
      "+----+--------+\n",
      "|the |36212583|\n",
      "|and |26094976|\n",
      "|a   |18765040|\n",
      "|i   |18520917|\n",
      "|to  |17695997|\n",
      "|was |13436237|\n",
      "|of  |10399233|\n",
      "|it  |8776914 |\n",
      "|is  |8654677 |\n",
      "|for |8629999 |\n",
      "|in  |8192581 |\n",
      "|my  |6927232 |\n",
      "|we  |6153178 |\n",
      "|with|6065419 |\n",
      "|that|6002934 |\n",
      "|they|5837924 |\n",
      "|this|5757091 |\n",
      "|but |5414492 |\n",
      "|on  |5101929 |\n",
      "|you |4898044 |\n",
      "+----+--------+\n",
      "only showing top 20 rows\n",
      "\n",
      "This dataset has 2859509 unique words\n"
     ]
    },
    {
     "name": "stderr",
     "output_type": "stream",
     "text": [
      "                                                                                \r"
     ]
    }
   ],
   "source": [
    "unwanted = ['']\n",
    "\n",
    "total_words = word_count(reviewDF, reviewDF.text, unwanted)\n",
    "total_wc = total_words.count()\n",
    "total_words.show(truncate = False)\n",
    "\n",
    "# number of unique categories\n",
    "print('This dataset has', total_wc, 'unique words')"
   ]
  },
  {
   "cell_type": "markdown",
   "id": "1dffda85",
   "metadata": {},
   "source": [
    "**Counting words for each review text**"
   ]
  },
  {
   "cell_type": "code",
   "execution_count": 32,
   "id": "f58504e3",
   "metadata": {},
   "outputs": [
    {
     "name": "stderr",
     "output_type": "stream",
     "text": [
      "[Stage 56:=================================================>      (35 + 5) / 40]\r"
     ]
    },
    {
     "name": "stdout",
     "output_type": "stream",
     "text": [
      "+--------------------+----------+\n",
      "|                text|word_count|\n",
      "+--------------------+----------+\n",
      "|I was in town vis...|      3079|\n",
      "|Beginning of the ...|      1904|\n",
      "|( The following r...|      1887|\n",
      "|My wife and I rec...|      1566|\n",
      "|Be very cautious ...|      1547|\n",
      "|Yelper Conan M. r...|      1539|\n",
      "|New Orleans Birth...|      1310|\n",
      "|Reason: The stron...|      1300|\n",
      "|Sorry to write th...|      1295|\n",
      "|_________________...|      1247|\n",
      "|Sweet Taste of Li...|      1234|\n",
      "|4.5 Stars\\n\\nForm...|      1199|\n",
      "|First meal back i...|      1135|\n",
      "|Well,  I never sh...|      1134|\n",
      "|MISSOURI SUCKS! T...|      1128|\n",
      "|I have been takin...|      1098|\n",
      "|My experience wit...|      1096|\n",
      "|Ugh, where do you...|      1085|\n",
      "|I LOVE  this best...|      1083|\n",
      "|Jan. 18, 2014 - I...|      1080|\n",
      "+--------------------+----------+\n",
      "only showing top 20 rows\n",
      "\n"
     ]
    },
    {
     "name": "stderr",
     "output_type": "stream",
     "text": [
      "                                                                                \r"
     ]
    }
   ],
   "source": [
    "df_with_word_count = reviewDF.withColumn(\"word_count\", size(split(reviewDF['text'], \" \")))\n",
    "\n",
    "# Show the DataFrame with the word count\n",
    "df_with_word_count = df_with_word_count.dropna().select('text', 'word_count')\n",
    "df_with_word_count.orderBy(\"word_count\", ascending=False).show()"
   ]
  },
  {
   "cell_type": "code",
   "execution_count": 34,
   "id": "28e16fbb",
   "metadata": {
    "tags": []
   },
   "outputs": [
    {
     "name": "stderr",
     "output_type": "stream",
     "text": [
      "                                                                                \r"
     ]
    },
    {
     "name": "stdout",
     "output_type": "stream",
     "text": [
      "+-------+------------------+\n",
      "|summary|        word_count|\n",
      "+-------+------------------+\n",
      "|  count|           6990280|\n",
      "|   mean|105.79662159455701|\n",
      "| stddev| 98.75492880047332|\n",
      "|    min|                 1|\n",
      "|    max|              3079|\n",
      "+-------+------------------+\n",
      "\n"
     ]
    },
    {
     "name": "stderr",
     "output_type": "stream",
     "text": [
      "[Stage 63:===================================================>    (37 + 3) / 40]\r"
     ]
    },
    {
     "name": "stdout",
     "output_type": "stream",
     "text": [
      "+----------------+\n",
      "|mode(word_count)|\n",
      "+----------------+\n",
      "|              26|\n",
      "+----------------+\n",
      "\n"
     ]
    },
    {
     "name": "stderr",
     "output_type": "stream",
     "text": [
      "                                                                                \r"
     ]
    }
   ],
   "source": [
    "df_with_word_count.select('word_count').describe().show()\n",
    "df_with_word_count.agg({\"word_count\": \"mode\"}).show()"
   ]
  },
  {
   "cell_type": "code",
   "execution_count": 35,
   "id": "8636c31c",
   "metadata": {},
   "outputs": [
    {
     "name": "stderr",
     "output_type": "stream",
     "text": [
      "[Stage 66:=================================================>      (35 + 5) / 40]\r"
     ]
    },
    {
     "name": "stdout",
     "output_type": "stream",
     "text": [
      "+-----------------------------------------------------------------------------------------------------------------------------------------------------------------------------------------------------------------------------------------------------------------------------------------------------------------------------------------------------------------------------------------------------------------------------------------------------------------------------------------------------------------------------------------------------------------------------------------------------------------------------------------------------------------------------------------------------------------------------------------------------------------------------------------------------------------------------------------------------------------------------------------------------------------------------------+----------+\n",
      "|text                                                                                                                                                                                                                                                                                                                                                                                                                                                                                                                                                                                                                                                                                                                                                                                                                                                                                                                               |word_count|\n",
      "+-----------------------------------------------------------------------------------------------------------------------------------------------------------------------------------------------------------------------------------------------------------------------------------------------------------------------------------------------------------------------------------------------------------------------------------------------------------------------------------------------------------------------------------------------------------------------------------------------------------------------------------------------------------------------------------------------------------------------------------------------------------------------------------------------------------------------------------------------------------------------------------------------------------------------------------+----------+\n",
      "|..                                                                                                                                                                                                                                                                                                                                                                                                                                                                                                                                                                                                                                                                                                                                                                                                                                                                                                                                 |1         |\n",
      "|Great                                                                                                                                                                                                                                                                                                                                                                                                                                                                                                                                                                                                                                                                                                                                                                                                                                                                                                                              |1         |\n",
      "|Closed.\\nhttp://azstarnet.com/entertainment/blogs/mr-k-s-bbq-at-river-and-stone-closes/article_18368ea8-35ba-11e3-a529-0019bb2963f4.html                                                                                                                                                                                                                                                                                                                                                                                                                                                                                                                                                                                                                                                                                                                                                                                           |1         |\n",
      "|光凭做素食就能评上费城最好的餐馆之一真是让人惊讶，去了以后简直惊叹，绝对实至名归，称为美国最好的素食餐馆都不为过，简简单单的蔬菜就能做出比肉食还要好吃的美味佳肴简直让我这个经常吃斋念佛的人谓之疯狂!                                                                                                                                                                                                                                                                                                                                                                                                                                                                                                                                                                                                                                                                                                                              |1         |\n",
      "|!!                                                                                                                                                                                                                                                                                                                                                                                                                                                                                                                                                                                                                                                                                                                                                                                                                                                                                                                                 |1         |\n",
      "|L                                                                                                                                                                                                                                                                                                                                                                                                                                                                                                                                                                                                                                                                                                                                                                                                                                                                                                                                  |1         |\n",
      "|http://www.easternstate.org/halloween/preview-video\\nhttp://www.easternstate.org/halloween/preview-video\\nhttp://www.easternstate.org/halloween/preview-video\\nhttp://www.easternstate.org/halloween/preview-video\\nhttp://www.easternstate.org/halloween/preview-video\\nhttp://www.easternstate.org/halloween/preview-video\\nhttp://www.easternstate.org/halloween/preview-video\\nhttp://www.easternstate.org/halloween/preview-video\\nhttp://www.easternstate.org/halloween/preview-video\\nhttp://www.easternstate.org/halloween/preview-video\\nhttp://www.easternstate.org/halloween/preview-video\\nhttp://www.easternstate.org/halloween/preview-video\\nhttp://www.easternstate.org/halloween/preview-video\\nhttp://www.easternstate.org/halloween/preview-video\\nhttp://www.easternstate.org/halloween/preview-video\\nhttp://www.easternstate.org/halloween/preview-video\\nhttp://www.easternstate.org/halloween/preview-video|1         |\n",
      "|#1                                                                                                                                                                                                                                                                                                                                                                                                                                                                                                                                                                                                                                                                                                                                                                                                                                                                                                                                 |1         |\n",
      "|新泽西州中部重正宗的广东美食。我每次必点的北京鸭非常非常好吃！                                                                                                                                                                                                                                                                                                                                                                                                                                                                                                                                                                                                                                                                                                                                                                                                                                                                     |1         |\n",
      "|入ると階段がありお店は地下みたいな感じです。でも、中はとってもオシャレで女の子にはもってこい！\\n\\nベーカリーもとっても美味しくて良かったのですが、、、んー、、、対応があまり良くないイメージ。英語がまだまだな私ですがこんなに困ったのはこのお店が始めて。聞き取ってくれないし、ゆっくり話したり、簡単なワードで話したりはしてくれませんでした。。。なので、星3つ...\\n\\nあとは最高！                                                                                                                                                                                                                                                                                                                                                                                                                                                                                                                                               |1         |\n",
      "|中国人最好避开这家餐厅，或者点外卖！这里的服务员特别喜欢服务外国人，对国人不睬不理，付现金还被嘲笑，时隔这么久来吃一次，不同的服务员，一样的服务质量！没错，这条评论就用中文，写给来费城玩的游客和在费城生活的中国人！                                                                                                                                                                                                                                                                                                                                                                                                                                                                                                                                                                                                                                                                                                             |1         |\n",
      "|人山人海，包括中国炒面在内的世界各地美食汇总在一起。周末的时候一家老小都会来此饕餮聚餐，实在是瘦身族人伤心地。\\n可惜吃饱了墨西哥玉米饼过来的...从独立宫步行也就五分钟到了这里...尽量选择非餐点过来，否则座位实在难找咯                                                                                                                                                                                                                                                                                                                                                                                                                                                                                                                                                                                                                                                                                                             |1         |\n",
      "|本場の韓国焼肉の味を知っている人は絶対に不満足になるので、やめましょう。焼肉はキッチンで焼かれて出てきます。それをこれでもかとテーブルについてるグリルでまた焼かれるので、食する時には肉が硬くなって、とても残念な味になります。肉のレベルも低いので、焼きすぎでは、質が悪い肉なのがバレバレ。Hマートのテイクアウトタイプの焼肉の方が全然美味しいが、正直なところです。アジア人のウエイターは無作法。アメリカ人のウエイトレスは良かったと思います。お店は新しいし、内装はとても清潔でお洒落な感じなのに残念なお店でした。コスパが最悪なので、もう二度と訪れないと思います。                                                                                                                                                                                                                                                                                                                                                        |1         |\n",
      "|请注意：食材不新鲜，餐具非常不干净，污渍明显。很明显服务员不上心，老板不在乎或不知道。餐厅里充满了浓浓的鱼腥味，非常难闻。介于火锅和烤肉的品种还不错，可以选择的种类繁多以及地理位置优越，给2星。                                                                                                                                                                                                                                                                                                                                                                                                                                                                                                                                                                                                                                                                                                                                  |1         |\n",
      "|ok                                                                                                                                                                                                                                                                                                                                                                                                                                                                                                                                                                                                                                                                                                                                                                                                                                                                                                                                 |1         |\n",
      "|https://52restaurants.wixsite.com/52restaurants52weeks/single-post/2017/09/05/G-W-Fins-LAY                                                                                                                                                                                                                                                                                                                                                                                                                                                                                                                                                                                                                                                                                                                                                                                                                                         |1         |\n",
      "|たまたま、インディアナポリスの外れに泊まる事になり、夕食に使わせてもらいました。お勧めらしい、リブステーキの8ozを頂きました。しっかりした赤身でしたが、柔らかく、とても美味しく頂きました。                                                                                                                                                                                                                                                                                                                                                                                                                                                                                                                                                                                                                                                                                                                                        |1         |\n",
      "|BLT!!!                                                                                                                                                                                                                                                                                                                                                                                                                                                                                                                                                                                                                                                                                                                                                                                                                                                                                                                             |1         |\n",
      "|这是一家很温馨的小饭馆，离学校近，虽然我们那天来吃饭的时候人不多，但是菜还是做得很地道的，不像有的中国餐馆都是美式中餐。我们三个人点了三个菜，分别是蒜蓉菜心，清蒸罗非鱼，和油泡田鸡。蒜蓉菜心不错，油泡田鸡非常好吃，但是清蒸罗非鱼味道有点老。这家店还有一个特色，墙上挂好多可以用来卖的话，吃饭以后可以欣赏一下，还是蛮不错的。                                                                                                                                                                                                                                                                                                                                                                                                                                                                                                                                                                                                 |1         |\n",
      "|很好吃的一家中餐馆，酸菜鱼很棒！川菜为主，可以要求微辣，菜量很大，而且还有混沌面。老少皆宜！老板娘人很好！应该算是Reno味道比较正宗的中餐馆了！强烈推荐来到Reno想吃中餐的一定要来这里尝尝！                                                                                                                                                                                                                                                                                                                                                                                                                                                                                                                                                                                                                                                                                                                                         |1         |\n",
      "+-----------------------------------------------------------------------------------------------------------------------------------------------------------------------------------------------------------------------------------------------------------------------------------------------------------------------------------------------------------------------------------------------------------------------------------------------------------------------------------------------------------------------------------------------------------------------------------------------------------------------------------------------------------------------------------------------------------------------------------------------------------------------------------------------------------------------------------------------------------------------------------------------------------------------------------+----------+\n",
      "only showing top 20 rows\n",
      "\n"
     ]
    },
    {
     "name": "stderr",
     "output_type": "stream",
     "text": [
      "                                                                                \r"
     ]
    }
   ],
   "source": [
    "# examples of review text listed as zero word count\n",
    "df_with_word_count.orderBy(\"word_count\", ascending=True).show(truncate=False)"
   ]
  },
  {
   "cell_type": "markdown",
   "id": "a0d64080",
   "metadata": {},
   "source": [
    "181 reviews contain only non-latin characters and/or punctuation and they are shown in word count with no words or one word. "
   ]
  },
  {
   "cell_type": "code",
   "execution_count": null,
   "id": "5094a47d",
   "metadata": {},
   "outputs": [],
   "source": [
    "spark.stop()"
   ]
  },
  {
   "cell_type": "code",
   "execution_count": null,
   "id": "c52b9ddf",
   "metadata": {},
   "outputs": [],
   "source": []
  }
 ],
 "metadata": {
  "kernelspec": {
   "display_name": "Python 3 (ipykernel)",
   "language": "python",
   "name": "python3"
  },
  "language_info": {
   "codemirror_mode": {
    "name": "ipython",
    "version": 3
   },
   "file_extension": ".py",
   "mimetype": "text/x-python",
   "name": "python",
   "nbconvert_exporter": "python",
   "pygments_lexer": "ipython3",
   "version": "3.10.12"
  }
 },
 "nbformat": 4,
 "nbformat_minor": 5
}
